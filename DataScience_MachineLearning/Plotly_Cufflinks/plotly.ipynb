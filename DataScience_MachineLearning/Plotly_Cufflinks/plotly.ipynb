{
 "cells": [
  {
   "cell_type": "code",
   "execution_count": 28,
   "metadata": {},
   "outputs": [],
   "source": [
    "import pandas as pd\n",
    "import numpy as np\n",
    "import cufflinks as cf\n",
    "from plotly.offline import download_plotlyjs, init_notebook_mode,plot,iplot\n"
   ]
  },
  {
   "cell_type": "code",
   "execution_count": 29,
   "metadata": {},
   "outputs": [
    {
     "output_type": "display_data",
     "data": {
      "text/html": "        <script type=\"text/javascript\">\n        window.PlotlyConfig = {MathJaxConfig: 'local'};\n        if (window.MathJax) {MathJax.Hub.Config({SVG: {font: \"STIX-Web\"}});}\n        if (typeof require !== 'undefined') {\n        require.undef(\"plotly\");\n        requirejs.config({\n            paths: {\n                'plotly': ['https://cdn.plot.ly/plotly-latest.min']\n            }\n        });\n        require(['plotly'], function(Plotly) {\n            window._Plotly = Plotly;\n        });\n        }\n        </script>\n        "
     },
     "metadata": {}
    },
    {
     "output_type": "display_data",
     "data": {
      "text/html": "        <script type=\"text/javascript\">\n        window.PlotlyConfig = {MathJaxConfig: 'local'};\n        if (window.MathJax) {MathJax.Hub.Config({SVG: {font: \"STIX-Web\"}});}\n        if (typeof require !== 'undefined') {\n        require.undef(\"plotly\");\n        requirejs.config({\n            paths: {\n                'plotly': ['https://cdn.plot.ly/plotly-latest.min']\n            }\n        });\n        require(['plotly'], function(Plotly) {\n            window._Plotly = Plotly;\n        });\n        }\n        </script>\n        "
     },
     "metadata": {}
    }
   ],
   "source": [
    "init_notebook_mode(connected=True)\n",
    "\n",
    "cf.go_offline()"
   ]
  },
  {
   "cell_type": "code",
   "execution_count": 30,
   "metadata": {
    "tags": []
   },
   "outputs": [
    {
     "output_type": "stream",
     "name": "stdout",
     "text": "A         B         C         D\n0 -0.209595 -0.771117  0.703787 -1.307964\n1  1.031340  1.165987  0.361516  0.223042\n2  1.169435 -0.430003 -0.257964 -1.626186\n3  1.260930 -0.006405 -0.146499  0.566634\n4  0.999140  0.325539  0.069607 -0.737530\n"
    }
   ],
   "source": [
    "df = pd.DataFrame(np.random.randn(100,4),columns='A B C D'.split())\n",
    "print(df.head())\n",
    "\n",
    "df2 = pd.DataFrame({'Category':['A','B','C'],'Values':[32,43,50]})"
   ]
  },
  {
   "cell_type": "code",
   "execution_count": 31,
   "metadata": {},
   "outputs": [
    {
     "output_type": "execute_result",
     "data": {
      "text/plain": "<matplotlib.axes._subplots.AxesSubplot at 0x26d012b1d68>"
     },
     "metadata": {},
     "execution_count": 31
    },
    {
     "output_type": "display_data",
     "data": {
      "text/plain": "<Figure size 432x288 with 1 Axes>",
      "image/svg+xml": "<?xml version=\"1.0\" encoding=\"utf-8\" standalone=\"no\"?>\r\n<!DOCTYPE svg PUBLIC \"-//W3C//DTD SVG 1.1//EN\"\r\n  \"http://www.w3.org/Graphics/SVG/1.1/DTD/svg11.dtd\">\r\n<!-- Created with matplotlib (https://matplotlib.org/) -->\r\n<svg height=\"248.518125pt\" version=\"1.1\" viewBox=\"0 0 370.942187 248.518125\" width=\"370.942187pt\" xmlns=\"http://www.w3.org/2000/svg\" xmlns:xlink=\"http://www.w3.org/1999/xlink\">\r\n <defs>\r\n  <style type=\"text/css\">\r\n*{stroke-linecap:butt;stroke-linejoin:round;}\r\n  </style>\r\n </defs>\r\n <g id=\"figure_1\">\r\n  <g id=\"patch_1\">\r\n   <path d=\"M 0 248.518125 \r\nL 370.942187 248.518125 \r\nL 370.942187 0 \r\nL 0 0 \r\nz\r\n\" style=\"fill:none;\"/>\r\n  </g>\r\n  <g id=\"axes_1\">\r\n   <g id=\"patch_2\">\r\n    <path d=\"M 28.942188 224.64 \r\nL 363.742188 224.64 \r\nL 363.742188 7.2 \r\nL 28.942188 7.2 \r\nz\r\n\" style=\"fill:#ffffff;\"/>\r\n   </g>\r\n   <g id=\"matplotlib.axis_1\">\r\n    <g id=\"xtick_1\">\r\n     <g id=\"line2d_1\">\r\n      <defs>\r\n       <path d=\"M 0 0 \r\nL 0 3.5 \r\n\" id=\"mc362b05a93\" style=\"stroke:#000000;stroke-width:0.8;\"/>\r\n      </defs>\r\n      <g>\r\n       <use style=\"stroke:#000000;stroke-width:0.8;\" x=\"44.160369\" xlink:href=\"#mc362b05a93\" y=\"224.64\"/>\r\n      </g>\r\n     </g>\r\n     <g id=\"text_1\">\r\n      <!-- 0 -->\r\n      <defs>\r\n       <path d=\"M 31.78125 66.40625 \r\nQ 24.171875 66.40625 20.328125 58.90625 \r\nQ 16.5 51.421875 16.5 36.375 \r\nQ 16.5 21.390625 20.328125 13.890625 \r\nQ 24.171875 6.390625 31.78125 6.390625 \r\nQ 39.453125 6.390625 43.28125 13.890625 \r\nQ 47.125 21.390625 47.125 36.375 \r\nQ 47.125 51.421875 43.28125 58.90625 \r\nQ 39.453125 66.40625 31.78125 66.40625 \r\nz\r\nM 31.78125 74.21875 \r\nQ 44.046875 74.21875 50.515625 64.515625 \r\nQ 56.984375 54.828125 56.984375 36.375 \r\nQ 56.984375 17.96875 50.515625 8.265625 \r\nQ 44.046875 -1.421875 31.78125 -1.421875 \r\nQ 19.53125 -1.421875 13.0625 8.265625 \r\nQ 6.59375 17.96875 6.59375 36.375 \r\nQ 6.59375 54.828125 13.0625 64.515625 \r\nQ 19.53125 74.21875 31.78125 74.21875 \r\nz\r\n\" id=\"DejaVuSans-48\"/>\r\n      </defs>\r\n      <g transform=\"translate(40.979119 239.238437)scale(0.1 -0.1)\">\r\n       <use xlink:href=\"#DejaVuSans-48\"/>\r\n      </g>\r\n     </g>\r\n    </g>\r\n    <g id=\"xtick_2\">\r\n     <g id=\"line2d_2\">\r\n      <g>\r\n       <use style=\"stroke:#000000;stroke-width:0.8;\" x=\"105.647973\" xlink:href=\"#mc362b05a93\" y=\"224.64\"/>\r\n      </g>\r\n     </g>\r\n     <g id=\"text_2\">\r\n      <!-- 20 -->\r\n      <defs>\r\n       <path d=\"M 19.1875 8.296875 \r\nL 53.609375 8.296875 \r\nL 53.609375 0 \r\nL 7.328125 0 \r\nL 7.328125 8.296875 \r\nQ 12.9375 14.109375 22.625 23.890625 \r\nQ 32.328125 33.6875 34.8125 36.53125 \r\nQ 39.546875 41.84375 41.421875 45.53125 \r\nQ 43.3125 49.21875 43.3125 52.78125 \r\nQ 43.3125 58.59375 39.234375 62.25 \r\nQ 35.15625 65.921875 28.609375 65.921875 \r\nQ 23.96875 65.921875 18.8125 64.3125 \r\nQ 13.671875 62.703125 7.8125 59.421875 \r\nL 7.8125 69.390625 \r\nQ 13.765625 71.78125 18.9375 73 \r\nQ 24.125 74.21875 28.421875 74.21875 \r\nQ 39.75 74.21875 46.484375 68.546875 \r\nQ 53.21875 62.890625 53.21875 53.421875 \r\nQ 53.21875 48.921875 51.53125 44.890625 \r\nQ 49.859375 40.875 45.40625 35.40625 \r\nQ 44.1875 33.984375 37.640625 27.21875 \r\nQ 31.109375 20.453125 19.1875 8.296875 \r\nz\r\n\" id=\"DejaVuSans-50\"/>\r\n      </defs>\r\n      <g transform=\"translate(99.285473 239.238437)scale(0.1 -0.1)\">\r\n       <use xlink:href=\"#DejaVuSans-50\"/>\r\n       <use x=\"63.623047\" xlink:href=\"#DejaVuSans-48\"/>\r\n      </g>\r\n     </g>\r\n    </g>\r\n    <g id=\"xtick_3\">\r\n     <g id=\"line2d_3\">\r\n      <g>\r\n       <use style=\"stroke:#000000;stroke-width:0.8;\" x=\"167.135576\" xlink:href=\"#mc362b05a93\" y=\"224.64\"/>\r\n      </g>\r\n     </g>\r\n     <g id=\"text_3\">\r\n      <!-- 40 -->\r\n      <defs>\r\n       <path d=\"M 37.796875 64.3125 \r\nL 12.890625 25.390625 \r\nL 37.796875 25.390625 \r\nz\r\nM 35.203125 72.90625 \r\nL 47.609375 72.90625 \r\nL 47.609375 25.390625 \r\nL 58.015625 25.390625 \r\nL 58.015625 17.1875 \r\nL 47.609375 17.1875 \r\nL 47.609375 0 \r\nL 37.796875 0 \r\nL 37.796875 17.1875 \r\nL 4.890625 17.1875 \r\nL 4.890625 26.703125 \r\nz\r\n\" id=\"DejaVuSans-52\"/>\r\n      </defs>\r\n      <g transform=\"translate(160.773076 239.238437)scale(0.1 -0.1)\">\r\n       <use xlink:href=\"#DejaVuSans-52\"/>\r\n       <use x=\"63.623047\" xlink:href=\"#DejaVuSans-48\"/>\r\n      </g>\r\n     </g>\r\n    </g>\r\n    <g id=\"xtick_4\">\r\n     <g id=\"line2d_4\">\r\n      <g>\r\n       <use style=\"stroke:#000000;stroke-width:0.8;\" x=\"228.623179\" xlink:href=\"#mc362b05a93\" y=\"224.64\"/>\r\n      </g>\r\n     </g>\r\n     <g id=\"text_4\">\r\n      <!-- 60 -->\r\n      <defs>\r\n       <path d=\"M 33.015625 40.375 \r\nQ 26.375 40.375 22.484375 35.828125 \r\nQ 18.609375 31.296875 18.609375 23.390625 \r\nQ 18.609375 15.53125 22.484375 10.953125 \r\nQ 26.375 6.390625 33.015625 6.390625 \r\nQ 39.65625 6.390625 43.53125 10.953125 \r\nQ 47.40625 15.53125 47.40625 23.390625 \r\nQ 47.40625 31.296875 43.53125 35.828125 \r\nQ 39.65625 40.375 33.015625 40.375 \r\nz\r\nM 52.59375 71.296875 \r\nL 52.59375 62.3125 \r\nQ 48.875 64.0625 45.09375 64.984375 \r\nQ 41.3125 65.921875 37.59375 65.921875 \r\nQ 27.828125 65.921875 22.671875 59.328125 \r\nQ 17.53125 52.734375 16.796875 39.40625 \r\nQ 19.671875 43.65625 24.015625 45.921875 \r\nQ 28.375 48.1875 33.59375 48.1875 \r\nQ 44.578125 48.1875 50.953125 41.515625 \r\nQ 57.328125 34.859375 57.328125 23.390625 \r\nQ 57.328125 12.15625 50.6875 5.359375 \r\nQ 44.046875 -1.421875 33.015625 -1.421875 \r\nQ 20.359375 -1.421875 13.671875 8.265625 \r\nQ 6.984375 17.96875 6.984375 36.375 \r\nQ 6.984375 53.65625 15.1875 63.9375 \r\nQ 23.390625 74.21875 37.203125 74.21875 \r\nQ 40.921875 74.21875 44.703125 73.484375 \r\nQ 48.484375 72.75 52.59375 71.296875 \r\nz\r\n\" id=\"DejaVuSans-54\"/>\r\n      </defs>\r\n      <g transform=\"translate(222.260679 239.238437)scale(0.1 -0.1)\">\r\n       <use xlink:href=\"#DejaVuSans-54\"/>\r\n       <use x=\"63.623047\" xlink:href=\"#DejaVuSans-48\"/>\r\n      </g>\r\n     </g>\r\n    </g>\r\n    <g id=\"xtick_5\">\r\n     <g id=\"line2d_5\">\r\n      <g>\r\n       <use style=\"stroke:#000000;stroke-width:0.8;\" x=\"290.110783\" xlink:href=\"#mc362b05a93\" y=\"224.64\"/>\r\n      </g>\r\n     </g>\r\n     <g id=\"text_5\">\r\n      <!-- 80 -->\r\n      <defs>\r\n       <path d=\"M 31.78125 34.625 \r\nQ 24.75 34.625 20.71875 30.859375 \r\nQ 16.703125 27.09375 16.703125 20.515625 \r\nQ 16.703125 13.921875 20.71875 10.15625 \r\nQ 24.75 6.390625 31.78125 6.390625 \r\nQ 38.8125 6.390625 42.859375 10.171875 \r\nQ 46.921875 13.96875 46.921875 20.515625 \r\nQ 46.921875 27.09375 42.890625 30.859375 \r\nQ 38.875 34.625 31.78125 34.625 \r\nz\r\nM 21.921875 38.8125 \r\nQ 15.578125 40.375 12.03125 44.71875 \r\nQ 8.5 49.078125 8.5 55.328125 \r\nQ 8.5 64.0625 14.71875 69.140625 \r\nQ 20.953125 74.21875 31.78125 74.21875 \r\nQ 42.671875 74.21875 48.875 69.140625 \r\nQ 55.078125 64.0625 55.078125 55.328125 \r\nQ 55.078125 49.078125 51.53125 44.71875 \r\nQ 48 40.375 41.703125 38.8125 \r\nQ 48.828125 37.15625 52.796875 32.3125 \r\nQ 56.78125 27.484375 56.78125 20.515625 \r\nQ 56.78125 9.90625 50.3125 4.234375 \r\nQ 43.84375 -1.421875 31.78125 -1.421875 \r\nQ 19.734375 -1.421875 13.25 4.234375 \r\nQ 6.78125 9.90625 6.78125 20.515625 \r\nQ 6.78125 27.484375 10.78125 32.3125 \r\nQ 14.796875 37.15625 21.921875 38.8125 \r\nz\r\nM 18.3125 54.390625 \r\nQ 18.3125 48.734375 21.84375 45.5625 \r\nQ 25.390625 42.390625 31.78125 42.390625 \r\nQ 38.140625 42.390625 41.71875 45.5625 \r\nQ 45.3125 48.734375 45.3125 54.390625 \r\nQ 45.3125 60.0625 41.71875 63.234375 \r\nQ 38.140625 66.40625 31.78125 66.40625 \r\nQ 25.390625 66.40625 21.84375 63.234375 \r\nQ 18.3125 60.0625 18.3125 54.390625 \r\nz\r\n\" id=\"DejaVuSans-56\"/>\r\n      </defs>\r\n      <g transform=\"translate(283.748283 239.238437)scale(0.1 -0.1)\">\r\n       <use xlink:href=\"#DejaVuSans-56\"/>\r\n       <use x=\"63.623047\" xlink:href=\"#DejaVuSans-48\"/>\r\n      </g>\r\n     </g>\r\n    </g>\r\n    <g id=\"xtick_6\">\r\n     <g id=\"line2d_6\">\r\n      <g>\r\n       <use style=\"stroke:#000000;stroke-width:0.8;\" x=\"351.598386\" xlink:href=\"#mc362b05a93\" y=\"224.64\"/>\r\n      </g>\r\n     </g>\r\n     <g id=\"text_6\">\r\n      <!-- 100 -->\r\n      <defs>\r\n       <path d=\"M 12.40625 8.296875 \r\nL 28.515625 8.296875 \r\nL 28.515625 63.921875 \r\nL 10.984375 60.40625 \r\nL 10.984375 69.390625 \r\nL 28.421875 72.90625 \r\nL 38.28125 72.90625 \r\nL 38.28125 8.296875 \r\nL 54.390625 8.296875 \r\nL 54.390625 0 \r\nL 12.40625 0 \r\nz\r\n\" id=\"DejaVuSans-49\"/>\r\n      </defs>\r\n      <g transform=\"translate(342.054636 239.238437)scale(0.1 -0.1)\">\r\n       <use xlink:href=\"#DejaVuSans-49\"/>\r\n       <use x=\"63.623047\" xlink:href=\"#DejaVuSans-48\"/>\r\n       <use x=\"127.246094\" xlink:href=\"#DejaVuSans-48\"/>\r\n      </g>\r\n     </g>\r\n    </g>\r\n   </g>\r\n   <g id=\"matplotlib.axis_2\">\r\n    <g id=\"ytick_1\">\r\n     <g id=\"line2d_7\">\r\n      <defs>\r\n       <path d=\"M 0 0 \r\nL -3.5 0 \r\n\" id=\"m4dadb9e9c0\" style=\"stroke:#000000;stroke-width:0.8;\"/>\r\n      </defs>\r\n      <g>\r\n       <use style=\"stroke:#000000;stroke-width:0.8;\" x=\"28.942188\" xlink:href=\"#m4dadb9e9c0\" y=\"222.039823\"/>\r\n      </g>\r\n     </g>\r\n     <g id=\"text_7\">\r\n      <!-- −4 -->\r\n      <defs>\r\n       <path d=\"M 10.59375 35.5 \r\nL 73.1875 35.5 \r\nL 73.1875 27.203125 \r\nL 10.59375 27.203125 \r\nz\r\n\" id=\"DejaVuSans-8722\"/>\r\n      </defs>\r\n      <g transform=\"translate(7.2 225.839042)scale(0.1 -0.1)\">\r\n       <use xlink:href=\"#DejaVuSans-8722\"/>\r\n       <use x=\"83.789062\" xlink:href=\"#DejaVuSans-52\"/>\r\n      </g>\r\n     </g>\r\n    </g>\r\n    <g id=\"ytick_2\">\r\n     <g id=\"line2d_8\">\r\n      <g>\r\n       <use style=\"stroke:#000000;stroke-width:0.8;\" x=\"28.942188\" xlink:href=\"#m4dadb9e9c0\" y=\"193.560223\"/>\r\n      </g>\r\n     </g>\r\n     <g id=\"text_8\">\r\n      <!-- −3 -->\r\n      <defs>\r\n       <path d=\"M 40.578125 39.3125 \r\nQ 47.65625 37.796875 51.625 33 \r\nQ 55.609375 28.21875 55.609375 21.1875 \r\nQ 55.609375 10.40625 48.1875 4.484375 \r\nQ 40.765625 -1.421875 27.09375 -1.421875 \r\nQ 22.515625 -1.421875 17.65625 -0.515625 \r\nQ 12.796875 0.390625 7.625 2.203125 \r\nL 7.625 11.71875 \r\nQ 11.71875 9.328125 16.59375 8.109375 \r\nQ 21.484375 6.890625 26.8125 6.890625 \r\nQ 36.078125 6.890625 40.9375 10.546875 \r\nQ 45.796875 14.203125 45.796875 21.1875 \r\nQ 45.796875 27.640625 41.28125 31.265625 \r\nQ 36.765625 34.90625 28.71875 34.90625 \r\nL 20.21875 34.90625 \r\nL 20.21875 43.015625 \r\nL 29.109375 43.015625 \r\nQ 36.375 43.015625 40.234375 45.921875 \r\nQ 44.09375 48.828125 44.09375 54.296875 \r\nQ 44.09375 59.90625 40.109375 62.90625 \r\nQ 36.140625 65.921875 28.71875 65.921875 \r\nQ 24.65625 65.921875 20.015625 65.03125 \r\nQ 15.375 64.15625 9.8125 62.3125 \r\nL 9.8125 71.09375 \r\nQ 15.4375 72.65625 20.34375 73.4375 \r\nQ 25.25 74.21875 29.59375 74.21875 \r\nQ 40.828125 74.21875 47.359375 69.109375 \r\nQ 53.90625 64.015625 53.90625 55.328125 \r\nQ 53.90625 49.265625 50.4375 45.09375 \r\nQ 46.96875 40.921875 40.578125 39.3125 \r\nz\r\n\" id=\"DejaVuSans-51\"/>\r\n      </defs>\r\n      <g transform=\"translate(7.2 197.359441)scale(0.1 -0.1)\">\r\n       <use xlink:href=\"#DejaVuSans-8722\"/>\r\n       <use x=\"83.789062\" xlink:href=\"#DejaVuSans-51\"/>\r\n      </g>\r\n     </g>\r\n    </g>\r\n    <g id=\"ytick_3\">\r\n     <g id=\"line2d_9\">\r\n      <g>\r\n       <use style=\"stroke:#000000;stroke-width:0.8;\" x=\"28.942188\" xlink:href=\"#m4dadb9e9c0\" y=\"165.080622\"/>\r\n      </g>\r\n     </g>\r\n     <g id=\"text_9\">\r\n      <!-- −2 -->\r\n      <g transform=\"translate(7.2 168.879841)scale(0.1 -0.1)\">\r\n       <use xlink:href=\"#DejaVuSans-8722\"/>\r\n       <use x=\"83.789062\" xlink:href=\"#DejaVuSans-50\"/>\r\n      </g>\r\n     </g>\r\n    </g>\r\n    <g id=\"ytick_4\">\r\n     <g id=\"line2d_10\">\r\n      <g>\r\n       <use style=\"stroke:#000000;stroke-width:0.8;\" x=\"28.942188\" xlink:href=\"#m4dadb9e9c0\" y=\"136.601022\"/>\r\n      </g>\r\n     </g>\r\n     <g id=\"text_10\">\r\n      <!-- −1 -->\r\n      <g transform=\"translate(7.2 140.400241)scale(0.1 -0.1)\">\r\n       <use xlink:href=\"#DejaVuSans-8722\"/>\r\n       <use x=\"83.789062\" xlink:href=\"#DejaVuSans-49\"/>\r\n      </g>\r\n     </g>\r\n    </g>\r\n    <g id=\"ytick_5\">\r\n     <g id=\"line2d_11\">\r\n      <g>\r\n       <use style=\"stroke:#000000;stroke-width:0.8;\" x=\"28.942188\" xlink:href=\"#m4dadb9e9c0\" y=\"108.121421\"/>\r\n      </g>\r\n     </g>\r\n     <g id=\"text_11\">\r\n      <!-- 0 -->\r\n      <g transform=\"translate(15.579688 111.92064)scale(0.1 -0.1)\">\r\n       <use xlink:href=\"#DejaVuSans-48\"/>\r\n      </g>\r\n     </g>\r\n    </g>\r\n    <g id=\"ytick_6\">\r\n     <g id=\"line2d_12\">\r\n      <g>\r\n       <use style=\"stroke:#000000;stroke-width:0.8;\" x=\"28.942188\" xlink:href=\"#m4dadb9e9c0\" y=\"79.641821\"/>\r\n      </g>\r\n     </g>\r\n     <g id=\"text_12\">\r\n      <!-- 1 -->\r\n      <g transform=\"translate(15.579688 83.44104)scale(0.1 -0.1)\">\r\n       <use xlink:href=\"#DejaVuSans-49\"/>\r\n      </g>\r\n     </g>\r\n    </g>\r\n    <g id=\"ytick_7\">\r\n     <g id=\"line2d_13\">\r\n      <g>\r\n       <use style=\"stroke:#000000;stroke-width:0.8;\" x=\"28.942188\" xlink:href=\"#m4dadb9e9c0\" y=\"51.16222\"/>\r\n      </g>\r\n     </g>\r\n     <g id=\"text_13\">\r\n      <!-- 2 -->\r\n      <g transform=\"translate(15.579688 54.961439)scale(0.1 -0.1)\">\r\n       <use xlink:href=\"#DejaVuSans-50\"/>\r\n      </g>\r\n     </g>\r\n    </g>\r\n    <g id=\"ytick_8\">\r\n     <g id=\"line2d_14\">\r\n      <g>\r\n       <use style=\"stroke:#000000;stroke-width:0.8;\" x=\"28.942188\" xlink:href=\"#m4dadb9e9c0\" y=\"22.68262\"/>\r\n      </g>\r\n     </g>\r\n     <g id=\"text_14\">\r\n      <!-- 3 -->\r\n      <g transform=\"translate(15.579688 26.481839)scale(0.1 -0.1)\">\r\n       <use xlink:href=\"#DejaVuSans-51\"/>\r\n      </g>\r\n     </g>\r\n    </g>\r\n   </g>\r\n   <g id=\"line2d_15\">\r\n    <path clip-path=\"url(#pd8275369c7)\" d=\"M 44.160369 114.090611 \r\nL 47.234749 78.749284 \r\nL 50.30913 74.816385 \r\nL 53.38351 72.21064 \r\nL 56.45789 79.666327 \r\nL 59.53227 182.313528 \r\nL 62.60665 96.093915 \r\nL 65.68103 113.697087 \r\nL 68.755411 124.016529 \r\nL 71.829791 99.185954 \r\nL 74.904171 111.238393 \r\nL 77.978551 83.942132 \r\nL 81.052931 113.602318 \r\nL 84.127311 128.745576 \r\nL 87.201692 151.912671 \r\nL 90.276072 113.227355 \r\nL 93.350452 121.376907 \r\nL 96.424832 103.981349 \r\nL 99.499212 119.818873 \r\nL 102.573592 117.147406 \r\nL 105.647973 83.79473 \r\nL 108.722353 123.533684 \r\nL 111.796733 61.055178 \r\nL 114.871113 119.429673 \r\nL 117.945493 92.351822 \r\nL 121.019873 105.408068 \r\nL 124.094254 103.951065 \r\nL 127.168634 125.074726 \r\nL 130.243014 55.744104 \r\nL 133.317394 83.629563 \r\nL 136.391774 104.01475 \r\nL 139.466154 214.756364 \r\nL 142.540535 117.04614 \r\nL 145.614915 112.872713 \r\nL 148.689295 62.017482 \r\nL 151.763675 91.012858 \r\nL 154.838055 103.796062 \r\nL 157.912435 105.868933 \r\nL 160.986816 113.682784 \r\nL 164.061196 158.588967 \r\nL 167.135576 107.824233 \r\nL 170.209956 128.014129 \r\nL 173.284336 99.620966 \r\nL 176.358716 137.525346 \r\nL 179.433097 108.554216 \r\nL 182.507477 101.01858 \r\nL 185.581857 152.577027 \r\nL 188.656237 49.017991 \r\nL 191.730617 152.262601 \r\nL 194.804997 109.479804 \r\nL 197.879378 111.838288 \r\nL 200.953758 146.397812 \r\nL 204.028138 79.182796 \r\nL 207.102518 101.69402 \r\nL 210.176898 140.806362 \r\nL 213.251278 124.86278 \r\nL 216.325659 114.912523 \r\nL 219.400039 78.250308 \r\nL 222.474419 96.243985 \r\nL 225.548799 80.804432 \r\nL 228.623179 147.889091 \r\nL 231.697559 135.09619 \r\nL 234.77194 144.601864 \r\nL 237.84632 115.592942 \r\nL 240.9207 53.355767 \r\nL 243.99508 143.761421 \r\nL 247.06946 134.70134 \r\nL 250.14384 170.07777 \r\nL 253.218221 67.642643 \r\nL 256.292601 113.335055 \r\nL 259.366981 131.267573 \r\nL 262.441361 90.434798 \r\nL 265.515741 89.143414 \r\nL 268.590121 114.381718 \r\nL 271.664502 93.220771 \r\nL 274.738882 69.847754 \r\nL 277.813262 119.677844 \r\nL 280.887642 103.824683 \r\nL 283.962022 103.975834 \r\nL 287.036402 132.453834 \r\nL 290.110783 96.901712 \r\nL 293.185163 103.366036 \r\nL 296.259543 68.082406 \r\nL 299.333923 94.969891 \r\nL 302.408303 152.255694 \r\nL 305.482683 96.51037 \r\nL 308.557064 102.387426 \r\nL 311.631444 140.277236 \r\nL 314.705824 125.991595 \r\nL 317.780204 148.325356 \r\nL 320.854584 50.362882 \r\nL 323.928964 110.101191 \r\nL 327.003345 119.38905 \r\nL 330.077725 97.705588 \r\nL 333.152105 100.900255 \r\nL 336.226485 125.00132 \r\nL 339.300865 137.078289 \r\nL 342.375245 127.254045 \r\nL 345.449626 94.405236 \r\nL 348.524006 61.069744 \r\n\" style=\"fill:none;stroke:#1f77b4;stroke-linecap:square;stroke-width:1.5;\"/>\r\n   </g>\r\n   <g id=\"line2d_16\">\r\n    <path clip-path=\"url(#pd8275369c7)\" d=\"M 44.160369 130.082526 \r\nL 47.234749 74.91459 \r\nL 50.30913 120.367739 \r\nL 53.38351 108.303846 \r\nL 56.45789 98.850195 \r\nL 59.53227 112.018855 \r\nL 62.60665 69.602688 \r\nL 65.68103 141.731272 \r\nL 68.755411 104.330574 \r\nL 71.829791 113.911747 \r\nL 74.904171 96.769856 \r\nL 77.978551 122.351873 \r\nL 81.052931 74.192748 \r\nL 84.127311 123.52864 \r\nL 87.201692 99.790234 \r\nL 90.276072 84.311903 \r\nL 93.350452 102.723561 \r\nL 96.424832 87.554085 \r\nL 99.499212 105.315391 \r\nL 102.573592 56.971775 \r\nL 105.647973 113.82262 \r\nL 108.722353 84.890059 \r\nL 111.796733 113.62767 \r\nL 114.871113 55.374583 \r\nL 117.945493 94.376379 \r\nL 121.019873 79.312811 \r\nL 124.094254 113.355486 \r\nL 127.168634 62.180159 \r\nL 130.243014 112.106545 \r\nL 133.317394 128.977298 \r\nL 136.391774 72.288866 \r\nL 139.466154 51.026025 \r\nL 142.540535 104.982893 \r\nL 145.614915 116.445367 \r\nL 148.689295 125.49597 \r\nL 151.763675 97.399936 \r\nL 154.838055 103.360034 \r\nL 157.912435 157.076641 \r\nL 160.986816 112.127972 \r\nL 164.061196 55.588786 \r\nL 167.135576 96.118954 \r\nL 170.209956 77.445382 \r\nL 173.284336 121.148868 \r\nL 176.358716 96.956948 \r\nL 179.433097 130.467381 \r\nL 182.507477 75.774195 \r\nL 185.581857 101.860413 \r\nL 188.656237 87.165042 \r\nL 191.730617 122.520988 \r\nL 194.804997 98.659287 \r\nL 197.879378 139.187745 \r\nL 200.953758 103.281818 \r\nL 204.028138 181.458459 \r\nL 207.102518 86.864275 \r\nL 210.176898 145.931649 \r\nL 213.251278 113.569826 \r\nL 216.325659 82.807296 \r\nL 219.400039 138.942718 \r\nL 222.474419 132.377276 \r\nL 225.548799 118.307646 \r\nL 228.623179 119.449215 \r\nL 231.697559 71.370467 \r\nL 234.77194 121.586604 \r\nL 237.84632 101.806808 \r\nL 240.9207 96.823721 \r\nL 243.99508 144.21342 \r\nL 247.06946 86.248606 \r\nL 250.14384 74.383968 \r\nL 253.218221 101.070492 \r\nL 256.292601 95.346353 \r\nL 259.366981 107.718237 \r\nL 262.441361 60.804655 \r\nL 265.515741 140.861497 \r\nL 268.590121 128.478225 \r\nL 271.664502 128.364271 \r\nL 274.738882 68.388521 \r\nL 277.813262 102.162091 \r\nL 280.887642 142.874585 \r\nL 283.962022 107.393068 \r\nL 287.036402 61.778694 \r\nL 290.110783 119.881788 \r\nL 293.185163 116.718479 \r\nL 296.259543 63.514904 \r\nL 299.333923 136.048292 \r\nL 302.408303 57.459075 \r\nL 305.482683 110.293677 \r\nL 308.557064 106.197241 \r\nL 311.631444 103.64057 \r\nL 314.705824 67.360758 \r\nL 317.780204 93.689418 \r\nL 320.854584 147.596678 \r\nL 323.928964 118.165568 \r\nL 327.003345 133.925007 \r\nL 330.077725 150.002364 \r\nL 333.152105 113.766622 \r\nL 336.226485 162.8807 \r\nL 339.300865 102.190982 \r\nL 342.375245 143.959933 \r\nL 345.449626 133.459841 \r\nL 348.524006 73.14713 \r\n\" style=\"fill:none;stroke:#ff7f0e;stroke-linecap:square;stroke-width:1.5;\"/>\r\n   </g>\r\n   <g id=\"line2d_17\">\r\n    <path clip-path=\"url(#pd8275369c7)\" d=\"M 44.160369 88.077843 \r\nL 47.234749 97.825577 \r\nL 50.30913 115.468121 \r\nL 53.38351 112.29364 \r\nL 56.45789 106.139038 \r\nL 59.53227 150.26541 \r\nL 62.60665 67.982795 \r\nL 65.68103 111.622376 \r\nL 68.755411 95.427814 \r\nL 71.829791 75.391544 \r\nL 74.904171 126.938954 \r\nL 77.978551 98.762645 \r\nL 81.052931 88.628954 \r\nL 84.127311 144.636724 \r\nL 87.201692 81.532767 \r\nL 90.276072 93.396772 \r\nL 93.350452 118.465932 \r\nL 96.424832 90.102582 \r\nL 99.499212 80.271715 \r\nL 102.573592 140.007691 \r\nL 105.647973 67.622735 \r\nL 108.722353 114.84154 \r\nL 111.796733 119.103825 \r\nL 114.871113 187.051728 \r\nL 117.945493 91.052336 \r\nL 121.019873 70.706293 \r\nL 124.094254 101.33981 \r\nL 127.168634 126.71188 \r\nL 130.243014 104.803486 \r\nL 133.317394 83.949636 \r\nL 136.391774 86.132198 \r\nL 139.466154 111.528996 \r\nL 142.540535 71.571995 \r\nL 145.614915 119.236579 \r\nL 148.689295 95.325698 \r\nL 151.763675 132.329672 \r\nL 154.838055 83.43462 \r\nL 157.912435 142.816344 \r\nL 160.986816 106.372392 \r\nL 164.061196 66.887225 \r\nL 167.135576 91.781306 \r\nL 170.209956 126.783971 \r\nL 173.284336 99.624278 \r\nL 176.358716 105.451908 \r\nL 179.433097 98.828465 \r\nL 182.507477 108.766518 \r\nL 185.581857 75.162254 \r\nL 188.656237 89.40198 \r\nL 191.730617 104.882948 \r\nL 194.804997 141.144958 \r\nL 197.879378 104.859321 \r\nL 200.953758 115.587519 \r\nL 204.028138 185.97495 \r\nL 207.102518 96.00136 \r\nL 210.176898 130.343783 \r\nL 213.251278 127.000144 \r\nL 216.325659 90.24832 \r\nL 219.400039 147.292092 \r\nL 222.474419 136.47923 \r\nL 225.548799 91.224718 \r\nL 228.623179 107.421133 \r\nL 231.697559 123.640519 \r\nL 234.77194 65.228423 \r\nL 237.84632 57.319824 \r\nL 240.9207 79.618036 \r\nL 243.99508 121.269892 \r\nL 247.06946 70.323914 \r\nL 250.14384 51.132806 \r\nL 253.218221 102.965326 \r\nL 256.292601 105.954899 \r\nL 259.366981 107.775392 \r\nL 262.441361 78.745031 \r\nL 265.515741 98.882586 \r\nL 268.590121 137.847186 \r\nL 271.664502 101.768158 \r\nL 274.738882 124.319561 \r\nL 277.813262 134.117402 \r\nL 280.887642 84.032029 \r\nL 283.962022 104.015957 \r\nL 287.036402 141.547101 \r\nL 290.110783 98.34897 \r\nL 293.185163 125.284202 \r\nL 296.259543 92.277768 \r\nL 299.333923 141.309942 \r\nL 302.408303 110.449135 \r\nL 305.482683 109.160551 \r\nL 308.557064 142.025754 \r\nL 311.631444 108.184129 \r\nL 314.705824 124.339287 \r\nL 317.780204 109.633127 \r\nL 320.854584 121.224308 \r\nL 323.928964 122.323101 \r\nL 327.003345 87.444692 \r\nL 330.077725 122.179511 \r\nL 333.152105 76.736997 \r\nL 336.226485 101.514454 \r\nL 339.300865 136.651505 \r\nL 342.375245 55.528594 \r\nL 345.449626 75.964715 \r\nL 348.524006 91.93794 \r\n\" style=\"fill:none;stroke:#2ca02c;stroke-linecap:square;stroke-width:1.5;\"/>\r\n   </g>\r\n   <g id=\"line2d_18\">\r\n    <path clip-path=\"url(#pd8275369c7)\" d=\"M 44.160369 145.371708 \r\nL 47.234749 101.76928 \r\nL 50.30913 154.434542 \r\nL 53.38351 91.983919 \r\nL 56.45789 129.125968 \r\nL 59.53227 108.46009 \r\nL 62.60665 123.31433 \r\nL 65.68103 133.027524 \r\nL 68.755411 89.319648 \r\nL 71.829791 121.255407 \r\nL 74.904171 139.201875 \r\nL 77.978551 106.44194 \r\nL 81.052931 96.82538 \r\nL 84.127311 113.488868 \r\nL 87.201692 108.148144 \r\nL 90.276072 135.817326 \r\nL 93.350452 123.68531 \r\nL 96.424832 148.847846 \r\nL 99.499212 168.2305 \r\nL 102.573592 146.857689 \r\nL 105.647973 90.58675 \r\nL 108.722353 24.045527 \r\nL 111.796733 97.92597 \r\nL 114.871113 145.363198 \r\nL 117.945493 115.076572 \r\nL 121.019873 120.924921 \r\nL 124.094254 77.126193 \r\nL 127.168634 101.831246 \r\nL 130.243014 109.859788 \r\nL 133.317394 163.467026 \r\nL 136.391774 92.968979 \r\nL 139.466154 68.972644 \r\nL 142.540535 104.404091 \r\nL 145.614915 118.359502 \r\nL 148.689295 34.115213 \r\nL 151.763675 93.080695 \r\nL 154.838055 116.488469 \r\nL 157.912435 142.520171 \r\nL 160.986816 152.048206 \r\nL 164.061196 107.256242 \r\nL 167.135576 68.614437 \r\nL 170.209956 97.44855 \r\nL 173.284336 116.381104 \r\nL 176.358716 112.177672 \r\nL 179.433097 63.967205 \r\nL 182.507477 110.511673 \r\nL 185.581857 138.567264 \r\nL 188.656237 114.055033 \r\nL 191.730617 110.917559 \r\nL 194.804997 99.098782 \r\nL 197.879378 79.361763 \r\nL 200.953758 83.665796 \r\nL 204.028138 120.633651 \r\nL 207.102518 85.394543 \r\nL 210.176898 156.244377 \r\nL 213.251278 94.319691 \r\nL 216.325659 152.914989 \r\nL 219.400039 118.351886 \r\nL 222.474419 71.20358 \r\nL 225.548799 100.32686 \r\nL 228.623179 17.083636 \r\nL 231.697559 116.415279 \r\nL 234.77194 80.82309 \r\nL 237.84632 144.284403 \r\nL 240.9207 87.97878 \r\nL 243.99508 114.695252 \r\nL 247.06946 114.551277 \r\nL 250.14384 72.63705 \r\nL 253.218221 138.080218 \r\nL 256.292601 110.73174 \r\nL 259.366981 127.799514 \r\nL 262.441361 108.499519 \r\nL 265.515741 90.296143 \r\nL 268.590121 87.229124 \r\nL 271.664502 100.140483 \r\nL 274.738882 94.697433 \r\nL 277.813262 89.662301 \r\nL 280.887642 141.181514 \r\nL 283.962022 110.763223 \r\nL 287.036402 144.35196 \r\nL 290.110783 125.632507 \r\nL 293.185163 61.798918 \r\nL 296.259543 130.959798 \r\nL 299.333923 111.355723 \r\nL 302.408303 44.380029 \r\nL 305.482683 110.067426 \r\nL 308.557064 52.725212 \r\nL 311.631444 76.729035 \r\nL 314.705824 112.185722 \r\nL 317.780204 115.395607 \r\nL 320.854584 114.803178 \r\nL 323.928964 106.607989 \r\nL 327.003345 127.086156 \r\nL 330.077725 68.294284 \r\nL 333.152105 123.890097 \r\nL 336.226485 105.585129 \r\nL 339.300865 118.515542 \r\nL 342.375245 113.814413 \r\nL 345.449626 103.527046 \r\nL 348.524006 89.576925 \r\n\" style=\"fill:none;stroke:#d62728;stroke-linecap:square;stroke-width:1.5;\"/>\r\n   </g>\r\n   <g id=\"patch_3\">\r\n    <path d=\"M 28.942188 224.64 \r\nL 28.942188 7.2 \r\n\" style=\"fill:none;stroke:#000000;stroke-linecap:square;stroke-linejoin:miter;stroke-width:0.8;\"/>\r\n   </g>\r\n   <g id=\"patch_4\">\r\n    <path d=\"M 363.742188 224.64 \r\nL 363.742188 7.2 \r\n\" style=\"fill:none;stroke:#000000;stroke-linecap:square;stroke-linejoin:miter;stroke-width:0.8;\"/>\r\n   </g>\r\n   <g id=\"patch_5\">\r\n    <path d=\"M 28.942188 224.64 \r\nL 363.742188 224.64 \r\n\" style=\"fill:none;stroke:#000000;stroke-linecap:square;stroke-linejoin:miter;stroke-width:0.8;\"/>\r\n   </g>\r\n   <g id=\"patch_6\">\r\n    <path d=\"M 28.942188 7.2 \r\nL 363.742188 7.2 \r\n\" style=\"fill:none;stroke:#000000;stroke-linecap:square;stroke-linejoin:miter;stroke-width:0.8;\"/>\r\n   </g>\r\n   <g id=\"legend_1\">\r\n    <g id=\"patch_7\">\r\n     <path d=\"M 35.942188 219.64 \r\nL 75.642188 219.64 \r\nQ 77.642188 219.64 77.642188 217.64 \r\nL 77.642188 159.9275 \r\nQ 77.642188 157.9275 75.642188 157.9275 \r\nL 35.942188 157.9275 \r\nQ 33.942188 157.9275 33.942188 159.9275 \r\nL 33.942188 217.64 \r\nQ 33.942188 219.64 35.942188 219.64 \r\nz\r\n\" style=\"fill:#ffffff;opacity:0.8;stroke:#cccccc;stroke-linejoin:miter;\"/>\r\n    </g>\r\n    <g id=\"line2d_19\">\r\n     <path d=\"M 37.942188 166.025937 \r\nL 57.942188 166.025937 \r\n\" style=\"fill:none;stroke:#1f77b4;stroke-linecap:square;stroke-width:1.5;\"/>\r\n    </g>\r\n    <g id=\"line2d_20\"/>\r\n    <g id=\"text_15\">\r\n     <!-- A -->\r\n     <defs>\r\n      <path d=\"M 34.1875 63.1875 \r\nL 20.796875 26.90625 \r\nL 47.609375 26.90625 \r\nz\r\nM 28.609375 72.90625 \r\nL 39.796875 72.90625 \r\nL 67.578125 0 \r\nL 57.328125 0 \r\nL 50.6875 18.703125 \r\nL 17.828125 18.703125 \r\nL 11.1875 0 \r\nL 0.78125 0 \r\nz\r\n\" id=\"DejaVuSans-65\"/>\r\n     </defs>\r\n     <g transform=\"translate(65.942188 169.525937)scale(0.1 -0.1)\">\r\n      <use xlink:href=\"#DejaVuSans-65\"/>\r\n     </g>\r\n    </g>\r\n    <g id=\"line2d_21\">\r\n     <path d=\"M 37.942188 180.704062 \r\nL 57.942188 180.704062 \r\n\" style=\"fill:none;stroke:#ff7f0e;stroke-linecap:square;stroke-width:1.5;\"/>\r\n    </g>\r\n    <g id=\"line2d_22\"/>\r\n    <g id=\"text_16\">\r\n     <!-- B -->\r\n     <defs>\r\n      <path d=\"M 19.671875 34.8125 \r\nL 19.671875 8.109375 \r\nL 35.5 8.109375 \r\nQ 43.453125 8.109375 47.28125 11.40625 \r\nQ 51.125 14.703125 51.125 21.484375 \r\nQ 51.125 28.328125 47.28125 31.5625 \r\nQ 43.453125 34.8125 35.5 34.8125 \r\nz\r\nM 19.671875 64.796875 \r\nL 19.671875 42.828125 \r\nL 34.28125 42.828125 \r\nQ 41.5 42.828125 45.03125 45.53125 \r\nQ 48.578125 48.25 48.578125 53.8125 \r\nQ 48.578125 59.328125 45.03125 62.0625 \r\nQ 41.5 64.796875 34.28125 64.796875 \r\nz\r\nM 9.8125 72.90625 \r\nL 35.015625 72.90625 \r\nQ 46.296875 72.90625 52.390625 68.21875 \r\nQ 58.5 63.53125 58.5 54.890625 \r\nQ 58.5 48.1875 55.375 44.234375 \r\nQ 52.25 40.28125 46.1875 39.3125 \r\nQ 53.46875 37.75 57.5 32.78125 \r\nQ 61.53125 27.828125 61.53125 20.40625 \r\nQ 61.53125 10.640625 54.890625 5.3125 \r\nQ 48.25 0 35.984375 0 \r\nL 9.8125 0 \r\nz\r\n\" id=\"DejaVuSans-66\"/>\r\n     </defs>\r\n     <g transform=\"translate(65.942188 184.204062)scale(0.1 -0.1)\">\r\n      <use xlink:href=\"#DejaVuSans-66\"/>\r\n     </g>\r\n    </g>\r\n    <g id=\"line2d_23\">\r\n     <path d=\"M 37.942188 195.382187 \r\nL 57.942188 195.382187 \r\n\" style=\"fill:none;stroke:#2ca02c;stroke-linecap:square;stroke-width:1.5;\"/>\r\n    </g>\r\n    <g id=\"line2d_24\"/>\r\n    <g id=\"text_17\">\r\n     <!-- C -->\r\n     <defs>\r\n      <path d=\"M 64.40625 67.28125 \r\nL 64.40625 56.890625 \r\nQ 59.421875 61.53125 53.78125 63.8125 \r\nQ 48.140625 66.109375 41.796875 66.109375 \r\nQ 29.296875 66.109375 22.65625 58.46875 \r\nQ 16.015625 50.828125 16.015625 36.375 \r\nQ 16.015625 21.96875 22.65625 14.328125 \r\nQ 29.296875 6.6875 41.796875 6.6875 \r\nQ 48.140625 6.6875 53.78125 8.984375 \r\nQ 59.421875 11.28125 64.40625 15.921875 \r\nL 64.40625 5.609375 \r\nQ 59.234375 2.09375 53.4375 0.328125 \r\nQ 47.65625 -1.421875 41.21875 -1.421875 \r\nQ 24.65625 -1.421875 15.125 8.703125 \r\nQ 5.609375 18.84375 5.609375 36.375 \r\nQ 5.609375 53.953125 15.125 64.078125 \r\nQ 24.65625 74.21875 41.21875 74.21875 \r\nQ 47.75 74.21875 53.53125 72.484375 \r\nQ 59.328125 70.75 64.40625 67.28125 \r\nz\r\n\" id=\"DejaVuSans-67\"/>\r\n     </defs>\r\n     <g transform=\"translate(65.942188 198.882187)scale(0.1 -0.1)\">\r\n      <use xlink:href=\"#DejaVuSans-67\"/>\r\n     </g>\r\n    </g>\r\n    <g id=\"line2d_25\">\r\n     <path d=\"M 37.942188 210.060312 \r\nL 57.942188 210.060312 \r\n\" style=\"fill:none;stroke:#d62728;stroke-linecap:square;stroke-width:1.5;\"/>\r\n    </g>\r\n    <g id=\"line2d_26\"/>\r\n    <g id=\"text_18\">\r\n     <!-- D -->\r\n     <defs>\r\n      <path d=\"M 19.671875 64.796875 \r\nL 19.671875 8.109375 \r\nL 31.59375 8.109375 \r\nQ 46.6875 8.109375 53.6875 14.9375 \r\nQ 60.6875 21.78125 60.6875 36.53125 \r\nQ 60.6875 51.171875 53.6875 57.984375 \r\nQ 46.6875 64.796875 31.59375 64.796875 \r\nz\r\nM 9.8125 72.90625 \r\nL 30.078125 72.90625 \r\nQ 51.265625 72.90625 61.171875 64.09375 \r\nQ 71.09375 55.28125 71.09375 36.53125 \r\nQ 71.09375 17.671875 61.125 8.828125 \r\nQ 51.171875 0 30.078125 0 \r\nL 9.8125 0 \r\nz\r\n\" id=\"DejaVuSans-68\"/>\r\n     </defs>\r\n     <g transform=\"translate(65.942188 213.560312)scale(0.1 -0.1)\">\r\n      <use xlink:href=\"#DejaVuSans-68\"/>\r\n     </g>\r\n    </g>\r\n   </g>\r\n  </g>\r\n </g>\r\n <defs>\r\n  <clipPath id=\"pd8275369c7\">\r\n   <rect height=\"217.44\" width=\"334.8\" x=\"28.942188\" y=\"7.2\"/>\r\n  </clipPath>\r\n </defs>\r\n</svg>\r\n",
      "image/png": "[encoded data removed]"
     },
     "metadata": {
      "needs_background": "light"
     }
    }
   ],
   "source": [
    "df.plot()"
   ]
  },
  {
   "cell_type": "code",
   "execution_count": 32,
   "metadata": {},
   "outputs": [
    {
     "output_type": "display_data",
     "data": {
      "application/vnd.plotly.v1+json": {
       "config": {
        "linkText": "Export to plot.ly",
        "plotlyServerURL": "https://plot.ly",
        "showLink": true
       },
       "data": [
        {
         "line": {
          "color": "rgba(255, 153, 51, 1.0)",
          "dash": "solid",
          "shape": "linear",
          "width": 1.3
         },
         "mode": "lines",
         "name": "A",
         "text": "",
         "type": "scatter",
         "x": [
          0,
          1,
          2,
          3,
          4,
          5,
          6,
          7,
          8,
          9,
          10,
          11,
          12,
          13,
          14,
          15,
          16,
          17,
          18,
          19,
          20,
          21,
          22,
          23,
          24,
          25,
          26,
          27,
          28,
          29,
          30,
          31,
          32,
          33,
          34,
          35,
          36,
          37,
          38,
          39,
          40,
          41,
          42,
          43,
          44,
          45,
          46,
          47,
          48,
          49,
          50,
          51,
          52,
          53,
          54,
          55,
          56,
          57,
          58,
          59,
          60,
          61,
          62,
          63,
          64,
          65,
          66,
          67,
          68,
          69,
          70,
          71,
          72,
          73,
          74,
          75,
          76,
          77,
          78,
          79,
          80,
          81,
          82,
          83,
          84,
          85,
          86,
          87,
          88,
          89,
          90,
          91,
          92,
          93,
          94,
          95,
          96,
          97,
          98,
          99
         ],
         "y": [
          -0.20959528449674006,
          1.0313395209143585,
          1.1694348176263178,
          1.2609299556386497,
          0.9991395033571964,
          -2.605096456045387,
          0.4223200564889698,
          -0.1957775306388394,
          -0.5581225730329871,
          0.31374974544598283,
          -0.1094457539933965,
          0.8490037964381496,
          -0.1924499072203981,
          -0.7241729098994564,
          -1.537635679731419,
          -0.17928390076971523,
          -0.4654379085350427,
          0.14536975247776704,
          -0.4107308856713606,
          -0.31692807918550775,
          0.8541795096845612,
          -0.5411685133468052,
          1.6526300592340684,
          -0.3970649611176773,
          0.5537155926901607,
          0.09527358902101514,
          0.14643308884471226,
          -0.5952788954061516,
          1.8391170023050945,
          0.8599789829121285,
          0.14419695368764932,
          -3.7442569633057623,
          -0.3133723448373529,
          -0.16683141237592103,
          1.6188408185310394,
          0.6007304465359995,
          0.15187571991871177,
          0.07909127391112418,
          -0.19527530170401872,
          -1.7720594581677191,
          0.010435130962778887,
          -0.6984897154095291,
          0.298475241933431,
          -1.0324556631267123,
          -0.015196673014035973,
          0.24940100375673913,
          -1.5609631116868825,
          2.0752899982947026,
          -1.549922714712221,
          -0.04769669077299809,
          -0.13050979544132987,
          -1.3439932523872173,
          1.0161176621283028,
          0.22568439926107195,
          -1.1476615070110796,
          -0.5878368352865394,
          -0.238454936681599,
          1.0488599753027485,
          0.41705065187638135,
          0.9591773903586256,
          -1.3963563115579891,
          -0.9471610783203869,
          -1.2809323825176724,
          -0.2623463889448773,
          1.922978320621508,
          -1.2514220434971128,
          -0.9332967715496242,
          -2.17546410153974,
          1.4213253674153281,
          -0.18306555321065304,
          -0.8127274181256211,
          0.6210277858396868,
          0.6663719720223892,
          -0.21981687046950085,
          0.5232043156578947,
          1.3438976175293194,
          -0.40577896676652975,
          0.15087073518784777,
          0.14556340277596694,
          -0.8543803927110263,
          0.3939560017804806,
          0.16697514102575836,
          1.4058840116843392,
          0.4617877536009876,
          -1.5496801935445506,
          0.40769711945908343,
          0.2013369438901281,
          -1.1290823498859064,
          -0.6274727732033917,
          -1.4116748082720443,
          2.028067036128927,
          -0.06951536570078315,
          -0.39563856362339256,
          0.36572962567951944,
          0.2535557564640945,
          -0.592701403714788,
          -1.016758229530463,
          -0.6718010025615362,
          0.4816143914592303,
          1.6521186064972615
         ]
        },
        {
         "line": {
          "color": "rgba(55, 128, 191, 1.0)",
          "dash": "solid",
          "shape": "linear",
          "width": 1.3
         },
         "mode": "lines",
         "name": "B",
         "text": "",
         "type": "scatter",
         "x": [
          0,
          1,
          2,
          3,
          4,
          5,
          6,
          7,
          8,
          9,
          10,
          11,
          12,
          13,
          14,
          15,
          16,
          17,
          18,
          19,
          20,
          21,
          22,
          23,
          24,
          25,
          26,
          27,
          28,
          29,
          30,
          31,
          32,
          33,
          34,
          35,
          36,
          37,
          38,
          39,
          40,
          41,
          42,
          43,
          44,
          45,
          46,
          47,
          48,
          49,
          50,
          51,
          52,
          53,
          54,
          55,
          56,
          57,
          58,
          59,
          60,
          61,
          62,
          63,
          64,
          65,
          66,
          67,
          68,
          69,
          70,
          71,
          72,
          73,
          74,
          75,
          76,
          77,
          78,
          79,
          80,
          81,
          82,
          83,
          84,
          85,
          86,
          87,
          88,
          89,
          90,
          91,
          92,
          93,
          94,
          95,
          96,
          97,
          98,
          99
         ],
         "y": [
          -0.7711170330140517,
          1.1659865501781457,
          -0.4300031411390618,
          -0.0064054452231869525,
          0.3255392094205599,
          -0.13685000730308322,
          1.3525025871928738,
          -1.1801377046110144,
          0.13310747475016435,
          -0.2033148557477379,
          0.3985858186894083,
          -0.49967174213299737,
          1.1913324955300733,
          -0.5409914050548899,
          0.2925317562459309,
          0.8360201107862251,
          0.18953428471715764,
          0.7221778303206465,
          0.09852772787929902,
          1.796009975727251,
          -0.200185351958104,
          0.8157193832619373,
          -0.1933400843887641,
          1.8520919325558922,
          0.48262763547424403,
          1.0115524814755976,
          -0.1837829419916532,
          1.6131287615767995,
          -0.1399290536378075,
          -0.7323092982310786,
          1.2581832153458332,
          2.004782199651357,
          0.11020269700287254,
          -0.2922774652953534,
          -0.610069945082351,
          0.376461914005928,
          0.16718587783128971,
          -1.7189573746226192,
          -0.14068140841214077,
          1.8445706571915623,
          0.42144086795796415,
          1.0771232268496644,
          -0.4574308043895199,
          0.3920164861931366,
          -0.7846303851339075,
          1.1358033661771454,
          0.21984185047724739,
          0.7358382398522556,
          -0.5056098661504937,
          0.3322425140657405,
          -1.0908272200843647,
          0.16993227135855776,
          -2.575072543504373,
          0.7463990525576297,
          -1.3276249331690786,
          -0.19130903148690143,
          0.8888511368645764,
          -1.082223619851152,
          -0.8516922366750175,
          -0.35766740349138537,
          -0.39775115576126774,
          1.2904308354025236,
          -0.4728009835926884,
          0.221724087821145,
          0.3966944648807889,
          -1.2672930011199954,
          0.7680169250563473,
          1.1846181946893646,
          0.2475782480255661,
          0.4485690766180793,
          0.014156941787666289,
          1.661426609144996,
          -1.1495974510451685,
          -0.7147854341662139,
          -0.7107841704939886,
          1.3951354540947525,
          0.20924908903456235,
          -1.220282703449926,
          0.02557457473320523,
          1.6272253233610467,
          -0.4129400171413861,
          -0.30186719992529765,
          1.5662620317015126,
          -0.9805920717199543,
          1.7788994781114258,
          -0.07627410648600412,
          0.06756344975294166,
          0.15733547861968317,
          1.4312231564245395,
          0.5067488088525609,
          -1.3860888399177342,
          -0.35267863923003084,
          -0.9060374943352678,
          -1.470559344699383,
          -0.19821908459674648,
          -1.9227544591977332,
          0.2082346343431905,
          -1.2583923667864534,
          -0.8897041886487653,
          1.228047110760627
         ]
        },
        {
         "line": {
          "color": "rgba(50, 171, 96, 1.0)",
          "dash": "solid",
          "shape": "linear",
          "width": 1.3
         },
         "mode": "lines",
         "name": "C",
         "text": "",
         "type": "scatter",
         "x": [
          0,
          1,
          2,
          3,
          4,
          5,
          6,
          7,
          8,
          9,
          10,
          11,
          12,
          13,
          14,
          15,
          16,
          17,
          18,
          19,
          20,
          21,
          22,
          23,
          24,
          25,
          26,
          27,
          28,
          29,
          30,
          31,
          32,
          33,
          34,
          35,
          36,
          37,
          38,
          39,
          40,
          41,
          42,
          43,
          44,
          45,
          46,
          47,
          48,
          49,
          50,
          51,
          52,
          53,
          54,
          55,
          56,
          57,
          58,
          59,
          60,
          61,
          62,
          63,
          64,
          65,
          66,
          67,
          68,
          69,
          70,
          71,
          72,
          73,
          74,
          75,
          76,
          77,
          78,
          79,
          80,
          81,
          82,
          83,
          84,
          85,
          86,
          87,
          88,
          89,
          90,
          91,
          92,
          93,
          94,
          95,
          96,
          97,
          98,
          99
         ],
         "y": [
          0.7037872124040211,
          0.3615164419960923,
          -0.25796356732018233,
          -0.14649850149540966,
          0.06960711828656779,
          -1.4797956295623294,
          1.4093816343792605,
          -0.12292851084529191,
          0.4457087614037588,
          1.1492393267257108,
          -0.6607372423425167,
          0.3286133234450696,
          0.6844361201743363,
          -1.2821564245328332,
          0.9336034745372883,
          0.5170244180169414,
          -0.36322526788529785,
          0.6326928489564475,
          0.9778826032160992,
          -1.1196178565981039,
          1.4220243758680577,
          -0.2359625190926601,
          -0.3856235058789063,
          -2.7714681723669736,
          0.5993442710286011,
          1.313751851859977,
          0.23812170074033143,
          -0.65276402808905,
          0.11650216296705335,
          0.848740310341407,
          0.7721043520227766,
          -0.11964967401429785,
          1.2833545963721653,
          -0.39028489654013715,
          0.44929433604559843,
          -0.8500207432254455,
          0.8668240055266053,
          -1.2182376917418116,
          0.06141342404514145,
          1.4478502562191544,
          0.5737480413240534,
          -0.6552953362360905,
          0.2983589390319965,
          0.09373422462001138,
          0.326302217729746,
          -0.022651186551612242,
          1.1572903812795914,
          0.6572929704731219,
          0.11371203404668388,
          -1.1595505702679845,
          0.11454164413476907,
          -0.2621559996633682,
          -2.733659449977352,
          0.4255699111247708,
          -0.780290504106477,
          -0.6628857830638748,
          0.6275755736024996,
          -1.3753939740673904,
          -0.9957235259791135,
          0.5932914399458847,
          0.024589120124802747,
          -0.5449197929959385,
          1.506095501044284,
          1.7837889696517968,
          1.0008351607024597,
          -0.46168031979142726,
          1.3271782726734083,
          2.001032828511582,
          0.18104520740451863,
          0.07607278043933337,
          0.012150073505268375,
          1.0314888401570066,
          0.3244018691322532,
          -1.0437563740670959,
          0.22308120034793186,
          -0.5687628668009141,
          -0.9127930415704587,
          0.8458472877920619,
          0.14415454796481716,
          -1.1736709357560084,
          0.34313864995514465,
          -0.602634191959899,
          0.5563158524785552,
          -1.165343612807023,
          -0.08173268124689238,
          -0.036486809060192464,
          -1.1904778317362985,
          -0.0022018469953823823,
          -0.5694555209780752,
          -0.05308030079432449,
          -0.46007973236753213,
          -0.4986614954268612,
          0.7260189289588955,
          -0.4936196250824067,
          1.1019966482757366,
          0.23198945850229563,
          -1.0017726051335556,
          1.8466841646874763,
          1.1291136907334574,
          0.5682481935400014
         ]
        },
        {
         "line": {
          "color": "rgba(128, 0, 128, 1.0)",
          "dash": "solid",
          "shape": "linear",
          "width": 1.3
         },
         "mode": "lines",
         "name": "D",
         "text": "",
         "type": "scatter",
         "x": [
          0,
          1,
          2,
          3,
          4,
          5,
          6,
          7,
          8,
          9,
          10,
          11,
          12,
          13,
          14,
          15,
          16,
          17,
          18,
          19,
          20,
          21,
          22,
          23,
          24,
          25,
          26,
          27,
          28,
          29,
          30,
          31,
          32,
          33,
          34,
          35,
          36,
          37,
          38,
          39,
          40,
          41,
          42,
          43,
          44,
          45,
          46,
          47,
          48,
          49,
          50,
          51,
          52,
          53,
          54,
          55,
          56,
          57,
          58,
          59,
          60,
          61,
          62,
          63,
          64,
          65,
          66,
          67,
          68,
          69,
          70,
          71,
          72,
          73,
          74,
          75,
          76,
          77,
          78,
          79,
          80,
          81,
          82,
          83,
          84,
          85,
          86,
          87,
          88,
          89,
          90,
          91,
          92,
          93,
          94,
          95,
          96,
          97,
          98,
          99
         ],
         "y": [
          -1.3079637980328176,
          0.22304179671406252,
          -1.6261857657059278,
          0.566633736372872,
          -0.7375295528108581,
          -0.011891636773831146,
          -0.5334663729786482,
          -0.8745242919479007,
          0.6601838725358815,
          -0.46117168118529,
          -1.091323363853244,
          0.058971366480316305,
          0.39663623918495505,
          -0.18846634909717566,
          -0.0009383025883428058,
          -0.9724822056607263,
          -0.5464925109530722,
          -1.4300209209976071,
          -2.110601196985954,
          -1.360140831455929,
          0.6156923193876411,
          2.952144430502897,
          0.35799135938249677,
          -1.3076649864823053,
          -0.24421516437156765,
          -0.4495674019298553,
          1.0883308746868876,
          0.22086598779162414,
          -0.06103902507281949,
          -1.9433420313160572,
          0.5320454554647426,
          1.3746252471198745,
          0.1305260543256214,
          -0.35948821874407155,
          2.5985690425949763,
          0.5281227862388681,
          -0.29379092552348296,
          -1.2078382264099154,
          -1.5423947096499546,
          0.030378907599932375,
          1.3872029083089668,
          0.3747549488569716,
          -0.2900210046765808,
          -0.14242653045860929,
          1.5503804524048688,
          -0.08392855934242163,
          -1.0690403826443478,
          -0.20834604239604584,
          -0.09818035454382804,
          0.3168105876871725,
          1.009833639624926,
          0.8587067451655745,
          -0.43934007517540874,
          0.7980055212707029,
          -1.689734238525958,
          0.48461811873357363,
          -1.572829926732365,
          -0.35922080469151785,
          1.2962907116808693,
          0.2736892788680549,
          3.1965962831799515,
          -0.2912210021565614,
          0.9585222615836765,
          -1.2697854325339617,
          0.7072656036562351,
          -0.23082594775710075,
          -0.22577058785054743,
          1.2459574919555987,
          -1.0519388128819473,
          -0.09165573316360198,
          -0.6909539481532403,
          -0.013276096848856419,
          0.6258963482059207,
          0.7335881536218917,
          0.28023350195795416,
          0.47135450155713254,
          0.6481523791535133,
          -1.1608341442253156,
          -0.09276120803432533,
          -1.2721575501285969,
          -0.61486417987658,
          1.6265152145697226,
          -0.8019205418967238,
          -0.11356554888258104,
          2.238142067136378,
          -0.06832978206592988,
          1.945118921953737,
          1.1022762120786647,
          -0.1427091716154867,
          -0.25541739714859335,
          -0.23461554130263676,
          0.0531409232553126,
          -0.6659059414090801,
          1.3984443801382258,
          -0.5536831919568412,
          0.08905645204001764,
          -0.3649672077103355,
          -0.19989719034607528,
          0.16132160822386446,
          0.6511501557245907
         ]
        }
       ],
       "layout": {
        "legend": {
         "bgcolor": "#F5F6F9",
         "font": {
          "color": "#4D5663"
         }
        },
        "paper_bgcolor": "#F5F6F9",
        "plot_bgcolor": "#F5F6F9",
        "template": {
         "data": {
          "bar": [
           {
            "error_x": {
             "color": "#2a3f5f"
            },
            "error_y": {
             "color": "#2a3f5f"
            },
            "marker": {
             "line": {
              "color": "#E5ECF6",
              "width": 0.5
             }
            },
            "type": "bar"
           }
          ],
          "barpolar": [
           {
            "marker": {
             "line": {
              "color": "#E5ECF6",
              "width": 0.5
             }
            },
            "type": "barpolar"
           }
          ],
          "carpet": [
           {
            "aaxis": {
             "endlinecolor": "#2a3f5f",
             "gridcolor": "white",
             "linecolor": "white",
             "minorgridcolor": "white",
             "startlinecolor": "#2a3f5f"
            },
            "baxis": {
             "endlinecolor": "#2a3f5f",
             "gridcolor": "white",
             "linecolor": "white",
             "minorgridcolor": "white",
             "startlinecolor": "#2a3f5f"
            },
            "type": "carpet"
           }
          ],
          "choropleth": [
           {
            "colorbar": {
             "outlinewidth": 0,
             "ticks": ""
            },
            "type": "choropleth"
           }
          ],
          "contour": [
           {
            "colorbar": {
             "outlinewidth": 0,
             "ticks": ""
            },
            "colorscale": [
             [
              0,
              "#0d0887"
             ],
             [
              0.1111111111111111,
              "#46039f"
             ],
             [
              0.2222222222222222,
              "#7201a8"
             ],
             [
              0.3333333333333333,
              "#9c179e"
             ],
             [
              0.4444444444444444,
              "#bd3786"
             ],
             [
              0.5555555555555556,
              "#d8576b"
             ],
             [
              0.6666666666666666,
              "#ed7953"
             ],
             [
              0.7777777777777778,
              "#fb9f3a"
             ],
             [
              0.8888888888888888,
              "#fdca26"
             ],
             [
              1,
              "#f0f921"
             ]
            ],
            "type": "contour"
           }
          ],
          "contourcarpet": [
           {
            "colorbar": {
             "outlinewidth": 0,
             "ticks": ""
            },
            "type": "contourcarpet"
           }
          ],
          "heatmap": [
           {
            "colorbar": {
             "outlinewidth": 0,
             "ticks": ""
            },
            "colorscale": [
             [
              0,
              "#0d0887"
             ],
             [
              0.1111111111111111,
              "#46039f"
             ],
             [
              0.2222222222222222,
              "#7201a8"
             ],
             [
              0.3333333333333333,
              "#9c179e"
             ],
             [
              0.4444444444444444,
              "#bd3786"
             ],
             [
              0.5555555555555556,
              "#d8576b"
             ],
             [
              0.6666666666666666,
              "#ed7953"
             ],
             [
              0.7777777777777778,
              "#fb9f3a"
             ],
             [
              0.8888888888888888,
              "#fdca26"
             ],
             [
              1,
              "#f0f921"
             ]
            ],
            "type": "heatmap"
           }
          ],
          "heatmapgl": [
           {
            "colorbar": {
             "outlinewidth": 0,
             "ticks": ""
            },
            "colorscale": [
             [
              0,
              "#0d0887"
             ],
             [
              0.1111111111111111,
              "#46039f"
             ],
             [
              0.2222222222222222,
              "#7201a8"
             ],
             [
              0.3333333333333333,
              "#9c179e"
             ],
             [
              0.4444444444444444,
              "#bd3786"
             ],
             [
              0.5555555555555556,
              "#d8576b"
             ],
             [
              0.6666666666666666,
              "#ed7953"
             ],
             [
              0.7777777777777778,
              "#fb9f3a"
             ],
             [
              0.8888888888888888,
              "#fdca26"
             ],
             [
              1,
              "#f0f921"
             ]
            ],
            "type": "heatmapgl"
           }
          ],
          "histogram": [
           {
            "marker": {
             "colorbar": {
              "outlinewidth": 0,
              "ticks": ""
             }
            },
            "type": "histogram"
           }
          ],
          "histogram2d": [
           {
            "colorbar": {
             "outlinewidth": 0,
             "ticks": ""
            },
            "colorscale": [
             [
              0,
              "#0d0887"
             ],
             [
              0.1111111111111111,
              "#46039f"
             ],
             [
              0.2222222222222222,
              "#7201a8"
             ],
             [
              0.3333333333333333,
              "#9c179e"
             ],
             [
              0.4444444444444444,
              "#bd3786"
             ],
             [
              0.5555555555555556,
              "#d8576b"
             ],
             [
              0.6666666666666666,
              "#ed7953"
             ],
             [
              0.7777777777777778,
              "#fb9f3a"
             ],
             [
              0.8888888888888888,
              "#fdca26"
             ],
             [
              1,
              "#f0f921"
             ]
            ],
            "type": "histogram2d"
           }
          ],
          "histogram2dcontour": [
           {
            "colorbar": {
             "outlinewidth": 0,
             "ticks": ""
            },
            "colorscale": [
             [
              0,
              "#0d0887"
             ],
             [
              0.1111111111111111,
              "#46039f"
             ],
             [
              0.2222222222222222,
              "#7201a8"
             ],
             [
              0.3333333333333333,
              "#9c179e"
             ],
             [
              0.4444444444444444,
              "#bd3786"
             ],
             [
              0.5555555555555556,
              "#d8576b"
             ],
             [
              0.6666666666666666,
              "#ed7953"
             ],
             [
              0.7777777777777778,
              "#fb9f3a"
             ],
             [
              0.8888888888888888,
              "#fdca26"
             ],
             [
              1,
              "#f0f921"
             ]
            ],
            "type": "histogram2dcontour"
           }
          ],
          "mesh3d": [
           {
            "colorbar": {
             "outlinewidth": 0,
             "ticks": ""
            },
            "type": "mesh3d"
           }
          ],
          "parcoords": [
           {
            "line": {
             "colorbar": {
              "outlinewidth": 0,
              "ticks": ""
             }
            },
            "type": "parcoords"
           }
          ],
          "pie": [
           {
            "automargin": true,
            "type": "pie"
           }
          ],
          "scatter": [
           {
            "marker": {
             "colorbar": {
              "outlinewidth": 0,
              "ticks": ""
             }
            },
            "type": "scatter"
           }
          ],
          "scatter3d": [
           {
            "line": {
             "colorbar": {
              "outlinewidth": 0,
              "ticks": ""
             }
            },
            "marker": {
             "colorbar": {
              "outlinewidth": 0,
              "ticks": ""
             }
            },
            "type": "scatter3d"
           }
          ],
          "scattercarpet": [
           {
            "marker": {
             "colorbar": {
              "outlinewidth": 0,
              "ticks": ""
             }
            },
            "type": "scattercarpet"
           }
          ],
          "scattergeo": [
           {
            "marker": {
             "colorbar": {
              "outlinewidth": 0,
              "ticks": ""
             }
            },
            "type": "scattergeo"
           }
          ],
          "scattergl": [
           {
            "marker": {
             "colorbar": {
              "outlinewidth": 0,
              "ticks": ""
             }
            },
            "type": "scattergl"
           }
          ],
          "scattermapbox": [
           {
            "marker": {
             "colorbar": {
              "outlinewidth": 0,
              "ticks": ""
             }
            },
            "type": "scattermapbox"
           }
          ],
          "scatterpolar": [
           {
            "marker": {
             "colorbar": {
              "outlinewidth": 0,
              "ticks": ""
             }
            },
            "type": "scatterpolar"
           }
          ],
          "scatterpolargl": [
           {
            "marker": {
             "colorbar": {
              "outlinewidth": 0,
              "ticks": ""
             }
            },
            "type": "scatterpolargl"
           }
          ],
          "scatterternary": [
           {
            "marker": {
             "colorbar": {
              "outlinewidth": 0,
              "ticks": ""
             }
            },
            "type": "scatterternary"
           }
          ],
          "surface": [
           {
            "colorbar": {
             "outlinewidth": 0,
             "ticks": ""
            },
            "colorscale": [
             [
              0,
              "#0d0887"
             ],
             [
              0.1111111111111111,
              "#46039f"
             ],
             [
              0.2222222222222222,
              "#7201a8"
             ],
             [
              0.3333333333333333,
              "#9c179e"
             ],
             [
              0.4444444444444444,
              "#bd3786"
             ],
             [
              0.5555555555555556,
              "#d8576b"
             ],
             [
              0.6666666666666666,
              "#ed7953"
             ],
             [
              0.7777777777777778,
              "#fb9f3a"
             ],
             [
              0.8888888888888888,
              "#fdca26"
             ],
             [
              1,
              "#f0f921"
             ]
            ],
            "type": "surface"
           }
          ],
          "table": [
           {
            "cells": {
             "fill": {
              "color": "#EBF0F8"
             },
             "line": {
              "color": "white"
             }
            },
            "header": {
             "fill": {
              "color": "#C8D4E3"
             },
             "line": {
              "color": "white"
             }
            },
            "type": "table"
           }
          ]
         },
         "layout": {
          "annotationdefaults": {
           "arrowcolor": "#2a3f5f",
           "arrowhead": 0,
           "arrowwidth": 1
          },
          "coloraxis": {
           "colorbar": {
            "outlinewidth": 0,
            "ticks": ""
           }
          },
          "colorscale": {
           "diverging": [
            [
             0,
             "#8e0152"
            ],
            [
             0.1,
             "#c51b7d"
            ],
            [
             0.2,
             "#de77ae"
            ],
            [
             0.3,
             "#f1b6da"
            ],
            [
             0.4,
             "#fde0ef"
            ],
            [
             0.5,
             "#f7f7f7"
            ],
            [
             0.6,
             "#e6f5d0"
            ],
            [
             0.7,
             "#b8e186"
            ],
            [
             0.8,
             "#7fbc41"
            ],
            [
             0.9,
             "#4d9221"
            ],
            [
             1,
             "#276419"
            ]
           ],
           "sequential": [
            [
             0,
             "#0d0887"
            ],
            [
             0.1111111111111111,
             "#46039f"
            ],
            [
             0.2222222222222222,
             "#7201a8"
            ],
            [
             0.3333333333333333,
             "#9c179e"
            ],
            [
             0.4444444444444444,
             "#bd3786"
            ],
            [
             0.5555555555555556,
             "#d8576b"
            ],
            [
             0.6666666666666666,
             "#ed7953"
            ],
            [
             0.7777777777777778,
             "#fb9f3a"
            ],
            [
             0.8888888888888888,
             "#fdca26"
            ],
            [
             1,
             "#f0f921"
            ]
           ],
           "sequentialminus": [
            [
             0,
             "#0d0887"
            ],
            [
             0.1111111111111111,
             "#46039f"
            ],
            [
             0.2222222222222222,
             "#7201a8"
            ],
            [
             0.3333333333333333,
             "#9c179e"
            ],
            [
             0.4444444444444444,
             "#bd3786"
            ],
            [
             0.5555555555555556,
             "#d8576b"
            ],
            [
             0.6666666666666666,
             "#ed7953"
            ],
            [
             0.7777777777777778,
             "#fb9f3a"
            ],
            [
             0.8888888888888888,
             "#fdca26"
            ],
            [
             1,
             "#f0f921"
            ]
           ]
          },
          "colorway": [
           "#636efa",
           "#EF553B",
           "#00cc96",
           "#ab63fa",
           "#FFA15A",
           "#19d3f3",
           "#FF6692",
           "#B6E880",
           "#FF97FF",
           "#FECB52"
          ],
          "font": {
           "color": "#2a3f5f"
          },
          "geo": {
           "bgcolor": "white",
           "lakecolor": "white",
           "landcolor": "#E5ECF6",
           "showlakes": true,
           "showland": true,
           "subunitcolor": "white"
          },
          "hoverlabel": {
           "align": "left"
          },
          "hovermode": "closest",
          "mapbox": {
           "style": "light"
          },
          "paper_bgcolor": "white",
          "plot_bgcolor": "#E5ECF6",
          "polar": {
           "angularaxis": {
            "gridcolor": "white",
            "linecolor": "white",
            "ticks": ""
           },
           "bgcolor": "#E5ECF6",
           "radialaxis": {
            "gridcolor": "white",
            "linecolor": "white",
            "ticks": ""
           }
          },
          "scene": {
           "xaxis": {
            "backgroundcolor": "#E5ECF6",
            "gridcolor": "white",
            "gridwidth": 2,
            "linecolor": "white",
            "showbackground": true,
            "ticks": "",
            "zerolinecolor": "white"
           },
           "yaxis": {
            "backgroundcolor": "#E5ECF6",
            "gridcolor": "white",
            "gridwidth": 2,
            "linecolor": "white",
            "showbackground": true,
            "ticks": "",
            "zerolinecolor": "white"
           },
           "zaxis": {
            "backgroundcolor": "#E5ECF6",
            "gridcolor": "white",
            "gridwidth": 2,
            "linecolor": "white",
            "showbackground": true,
            "ticks": "",
            "zerolinecolor": "white"
           }
          },
          "shapedefaults": {
           "line": {
            "color": "#2a3f5f"
           }
          },
          "ternary": {
           "aaxis": {
            "gridcolor": "white",
            "linecolor": "white",
            "ticks": ""
           },
           "baxis": {
            "gridcolor": "white",
            "linecolor": "white",
            "ticks": ""
           },
           "bgcolor": "#E5ECF6",
           "caxis": {
            "gridcolor": "white",
            "linecolor": "white",
            "ticks": ""
           }
          },
          "title": {
           "x": 0.05
          },
          "xaxis": {
           "automargin": true,
           "gridcolor": "white",
           "linecolor": "white",
           "ticks": "",
           "title": {
            "standoff": 15
           },
           "zerolinecolor": "white",
           "zerolinewidth": 2
          },
          "yaxis": {
           "automargin": true,
           "gridcolor": "white",
           "linecolor": "white",
           "ticks": "",
           "title": {
            "standoff": 15
           },
           "zerolinecolor": "white",
           "zerolinewidth": 2
          }
         }
        },
        "title": {
         "font": {
          "color": "#4D5663"
         }
        },
        "xaxis": {
         "gridcolor": "#E1E5ED",
         "showgrid": true,
         "tickfont": {
          "color": "#4D5663"
         },
         "title": {
          "font": {
           "color": "#4D5663"
          },
          "text": ""
         },
         "zerolinecolor": "#E1E5ED"
        },
        "yaxis": {
         "gridcolor": "#E1E5ED",
         "showgrid": true,
         "tickfont": {
          "color": "#4D5663"
         },
         "title": {
          "font": {
           "color": "#4D5663"
          },
          "text": ""
         },
         "zerolinecolor": "#E1E5ED"
        }
       }
      },
      "text/html": "<div>\n        \n        \n            <div id=\"22acb423-c172-4523-b6b5-cbbcb73019ef\" class=\"plotly-graph-div\" style=\"height:525px; width:100%;\"></div>\n            <script type=\"text/javascript\">\n                require([\"plotly\"], function(Plotly) {\n                    window.PLOTLYENV=window.PLOTLYENV || {};\n                    window.PLOTLYENV.BASE_URL='https://plot.ly';\n                    \n                if (document.getElementById(\"22acb423-c172-4523-b6b5-cbbcb73019ef\")) {\n                    Plotly.newPlot(\n                        '22acb423-c172-4523-b6b5-cbbcb73019ef',\n                        [{\"line\": {\"color\": \"rgba(255, 153, 51, 1.0)\", \"dash\": \"solid\", \"shape\": \"linear\", \"width\": 1.3}, \"mode\": \"lines\", \"name\": \"A\", \"text\": \"\", \"type\": \"scatter\", \"x\": [0, 1, 2, 3, 4, 5, 6, 7, 8, 9, 10, 11, 12, 13, 14, 15, 16, 17, 18, 19, 20, 21, 22, 23, 24, 25, 26, 27, 28, 29, 30, 31, 32, 33, 34, 35, 36, 37, 38, 39, 40, 41, 42, 43, 44, 45, 46, 47, 48, 49, 50, 51, 52, 53, 54, 55, 56, 57, 58, 59, 60, 61, 62, 63, 64, 65, 66, 67, 68, 69, 70, 71, 72, 73, 74, 75, 76, 77, 78, 79, 80, 81, 82, 83, 84, 85, 86, 87, 88, 89, 90, 91, 92, 93, 94, 95, 96, 97, 98, 99], \"y\": [-0.20959528449674006, 1.0313395209143585, 1.1694348176263178, 1.2609299556386497, 0.9991395033571964, -2.605096456045387, 0.4223200564889698, -0.1957775306388394, -0.5581225730329871, 0.31374974544598283, -0.1094457539933965, 0.8490037964381496, -0.1924499072203981, -0.7241729098994564, -1.537635679731419, -0.17928390076971523, -0.4654379085350427, 0.14536975247776704, -0.4107308856713606, -0.31692807918550775, 0.8541795096845612, -0.5411685133468052, 1.6526300592340684, -0.3970649611176773, 0.5537155926901607, 0.09527358902101514, 0.14643308884471226, -0.5952788954061516, 1.8391170023050945, 0.8599789829121285, 0.14419695368764932, -3.7442569633057623, -0.3133723448373529, -0.16683141237592103, 1.6188408185310394, 0.6007304465359995, 0.15187571991871177, 0.07909127391112418, -0.19527530170401872, -1.7720594581677191, 0.010435130962778887, -0.6984897154095291, 0.298475241933431, -1.0324556631267123, -0.015196673014035973, 0.24940100375673913, -1.5609631116868825, 2.0752899982947026, -1.549922714712221, -0.04769669077299809, -0.13050979544132987, -1.3439932523872173, 1.0161176621283028, 0.22568439926107195, -1.1476615070110796, -0.5878368352865394, -0.238454936681599, 1.0488599753027485, 0.41705065187638135, 0.9591773903586256, -1.3963563115579891, -0.9471610783203869, -1.2809323825176724, -0.2623463889448773, 1.922978320621508, -1.2514220434971128, -0.9332967715496242, -2.17546410153974, 1.4213253674153281, -0.18306555321065304, -0.8127274181256211, 0.6210277858396868, 0.6663719720223892, -0.21981687046950085, 0.5232043156578947, 1.3438976175293194, -0.40577896676652975, 0.15087073518784777, 0.14556340277596694, -0.8543803927110263, 0.3939560017804806, 0.16697514102575836, 1.4058840116843392, 0.4617877536009876, -1.5496801935445506, 0.40769711945908343, 0.2013369438901281, -1.1290823498859064, -0.6274727732033917, -1.4116748082720443, 2.028067036128927, -0.06951536570078315, -0.39563856362339256, 0.36572962567951944, 0.2535557564640945, -0.592701403714788, -1.016758229530463, -0.6718010025615362, 0.4816143914592303, 1.6521186064972615]}, {\"line\": {\"color\": \"rgba(55, 128, 191, 1.0)\", \"dash\": \"solid\", \"shape\": \"linear\", \"width\": 1.3}, \"mode\": \"lines\", \"name\": \"B\", \"text\": \"\", \"type\": \"scatter\", \"x\": [0, 1, 2, 3, 4, 5, 6, 7, 8, 9, 10, 11, 12, 13, 14, 15, 16, 17, 18, 19, 20, 21, 22, 23, 24, 25, 26, 27, 28, 29, 30, 31, 32, 33, 34, 35, 36, 37, 38, 39, 40, 41, 42, 43, 44, 45, 46, 47, 48, 49, 50, 51, 52, 53, 54, 55, 56, 57, 58, 59, 60, 61, 62, 63, 64, 65, 66, 67, 68, 69, 70, 71, 72, 73, 74, 75, 76, 77, 78, 79, 80, 81, 82, 83, 84, 85, 86, 87, 88, 89, 90, 91, 92, 93, 94, 95, 96, 97, 98, 99], \"y\": [-0.7711170330140517, 1.1659865501781457, -0.4300031411390618, -0.0064054452231869525, 0.3255392094205599, -0.13685000730308322, 1.3525025871928738, -1.1801377046110144, 0.13310747475016435, -0.2033148557477379, 0.3985858186894083, -0.49967174213299737, 1.1913324955300733, -0.5409914050548899, 0.2925317562459309, 0.8360201107862251, 0.18953428471715764, 0.7221778303206465, 0.09852772787929902, 1.796009975727251, -0.200185351958104, 0.8157193832619373, -0.1933400843887641, 1.8520919325558922, 0.48262763547424403, 1.0115524814755976, -0.1837829419916532, 1.6131287615767995, -0.1399290536378075, -0.7323092982310786, 1.2581832153458332, 2.004782199651357, 0.11020269700287254, -0.2922774652953534, -0.610069945082351, 0.376461914005928, 0.16718587783128971, -1.7189573746226192, -0.14068140841214077, 1.8445706571915623, 0.42144086795796415, 1.0771232268496644, -0.4574308043895199, 0.3920164861931366, -0.7846303851339075, 1.1358033661771454, 0.21984185047724739, 0.7358382398522556, -0.5056098661504937, 0.3322425140657405, -1.0908272200843647, 0.16993227135855776, -2.575072543504373, 0.7463990525576297, -1.3276249331690786, -0.19130903148690143, 0.8888511368645764, -1.082223619851152, -0.8516922366750175, -0.35766740349138537, -0.39775115576126774, 1.2904308354025236, -0.4728009835926884, 0.221724087821145, 0.3966944648807889, -1.2672930011199954, 0.7680169250563473, 1.1846181946893646, 0.2475782480255661, 0.4485690766180793, 0.014156941787666289, 1.661426609144996, -1.1495974510451685, -0.7147854341662139, -0.7107841704939886, 1.3951354540947525, 0.20924908903456235, -1.220282703449926, 0.02557457473320523, 1.6272253233610467, -0.4129400171413861, -0.30186719992529765, 1.5662620317015126, -0.9805920717199543, 1.7788994781114258, -0.07627410648600412, 0.06756344975294166, 0.15733547861968317, 1.4312231564245395, 0.5067488088525609, -1.3860888399177342, -0.35267863923003084, -0.9060374943352678, -1.470559344699383, -0.19821908459674648, -1.9227544591977332, 0.2082346343431905, -1.2583923667864534, -0.8897041886487653, 1.228047110760627]}, {\"line\": {\"color\": \"rgba(50, 171, 96, 1.0)\", \"dash\": \"solid\", \"shape\": \"linear\", \"width\": 1.3}, \"mode\": \"lines\", \"name\": \"C\", \"text\": \"\", \"type\": \"scatter\", \"x\": [0, 1, 2, 3, 4, 5, 6, 7, 8, 9, 10, 11, 12, 13, 14, 15, 16, 17, 18, 19, 20, 21, 22, 23, 24, 25, 26, 27, 28, 29, 30, 31, 32, 33, 34, 35, 36, 37, 38, 39, 40, 41, 42, 43, 44, 45, 46, 47, 48, 49, 50, 51, 52, 53, 54, 55, 56, 57, 58, 59, 60, 61, 62, 63, 64, 65, 66, 67, 68, 69, 70, 71, 72, 73, 74, 75, 76, 77, 78, 79, 80, 81, 82, 83, 84, 85, 86, 87, 88, 89, 90, 91, 92, 93, 94, 95, 96, 97, 98, 99], \"y\": [0.7037872124040211, 0.3615164419960923, -0.25796356732018233, -0.14649850149540966, 0.06960711828656779, -1.4797956295623294, 1.4093816343792605, -0.12292851084529191, 0.4457087614037588, 1.1492393267257108, -0.6607372423425167, 0.3286133234450696, 0.6844361201743363, -1.2821564245328332, 0.9336034745372883, 0.5170244180169414, -0.36322526788529785, 0.6326928489564475, 0.9778826032160992, -1.1196178565981039, 1.4220243758680577, -0.2359625190926601, -0.3856235058789063, -2.7714681723669736, 0.5993442710286011, 1.313751851859977, 0.23812170074033143, -0.65276402808905, 0.11650216296705335, 0.848740310341407, 0.7721043520227766, -0.11964967401429785, 1.2833545963721653, -0.39028489654013715, 0.44929433604559843, -0.8500207432254455, 0.8668240055266053, -1.2182376917418116, 0.06141342404514145, 1.4478502562191544, 0.5737480413240534, -0.6552953362360905, 0.2983589390319965, 0.09373422462001138, 0.326302217729746, -0.022651186551612242, 1.1572903812795914, 0.6572929704731219, 0.11371203404668388, -1.1595505702679845, 0.11454164413476907, -0.2621559996633682, -2.733659449977352, 0.4255699111247708, -0.780290504106477, -0.6628857830638748, 0.6275755736024996, -1.3753939740673904, -0.9957235259791135, 0.5932914399458847, 0.024589120124802747, -0.5449197929959385, 1.506095501044284, 1.7837889696517968, 1.0008351607024597, -0.46168031979142726, 1.3271782726734083, 2.001032828511582, 0.18104520740451863, 0.07607278043933337, 0.012150073505268375, 1.0314888401570066, 0.3244018691322532, -1.0437563740670959, 0.22308120034793186, -0.5687628668009141, -0.9127930415704587, 0.8458472877920619, 0.14415454796481716, -1.1736709357560084, 0.34313864995514465, -0.602634191959899, 0.5563158524785552, -1.165343612807023, -0.08173268124689238, -0.036486809060192464, -1.1904778317362985, -0.0022018469953823823, -0.5694555209780752, -0.05308030079432449, -0.46007973236753213, -0.4986614954268612, 0.7260189289588955, -0.4936196250824067, 1.1019966482757366, 0.23198945850229563, -1.0017726051335556, 1.8466841646874763, 1.1291136907334574, 0.5682481935400014]}, {\"line\": {\"color\": \"rgba(128, 0, 128, 1.0)\", \"dash\": \"solid\", \"shape\": \"linear\", \"width\": 1.3}, \"mode\": \"lines\", \"name\": \"D\", \"text\": \"\", \"type\": \"scatter\", \"x\": [0, 1, 2, 3, 4, 5, 6, 7, 8, 9, 10, 11, 12, 13, 14, 15, 16, 17, 18, 19, 20, 21, 22, 23, 24, 25, 26, 27, 28, 29, 30, 31, 32, 33, 34, 35, 36, 37, 38, 39, 40, 41, 42, 43, 44, 45, 46, 47, 48, 49, 50, 51, 52, 53, 54, 55, 56, 57, 58, 59, 60, 61, 62, 63, 64, 65, 66, 67, 68, 69, 70, 71, 72, 73, 74, 75, 76, 77, 78, 79, 80, 81, 82, 83, 84, 85, 86, 87, 88, 89, 90, 91, 92, 93, 94, 95, 96, 97, 98, 99], \"y\": [-1.3079637980328176, 0.22304179671406252, -1.6261857657059278, 0.566633736372872, -0.7375295528108581, -0.011891636773831146, -0.5334663729786482, -0.8745242919479007, 0.6601838725358815, -0.46117168118529, -1.091323363853244, 0.058971366480316305, 0.39663623918495505, -0.18846634909717566, -0.0009383025883428058, -0.9724822056607263, -0.5464925109530722, -1.4300209209976071, -2.110601196985954, -1.360140831455929, 0.6156923193876411, 2.952144430502897, 0.35799135938249677, -1.3076649864823053, -0.24421516437156765, -0.4495674019298553, 1.0883308746868876, 0.22086598779162414, -0.06103902507281949, -1.9433420313160572, 0.5320454554647426, 1.3746252471198745, 0.1305260543256214, -0.35948821874407155, 2.5985690425949763, 0.5281227862388681, -0.29379092552348296, -1.2078382264099154, -1.5423947096499546, 0.030378907599932375, 1.3872029083089668, 0.3747549488569716, -0.2900210046765808, -0.14242653045860929, 1.5503804524048688, -0.08392855934242163, -1.0690403826443478, -0.20834604239604584, -0.09818035454382804, 0.3168105876871725, 1.009833639624926, 0.8587067451655745, -0.43934007517540874, 0.7980055212707029, -1.689734238525958, 0.48461811873357363, -1.572829926732365, -0.35922080469151785, 1.2962907116808693, 0.2736892788680549, 3.1965962831799515, -0.2912210021565614, 0.9585222615836765, -1.2697854325339617, 0.7072656036562351, -0.23082594775710075, -0.22577058785054743, 1.2459574919555987, -1.0519388128819473, -0.09165573316360198, -0.6909539481532403, -0.013276096848856419, 0.6258963482059207, 0.7335881536218917, 0.28023350195795416, 0.47135450155713254, 0.6481523791535133, -1.1608341442253156, -0.09276120803432533, -1.2721575501285969, -0.61486417987658, 1.6265152145697226, -0.8019205418967238, -0.11356554888258104, 2.238142067136378, -0.06832978206592988, 1.945118921953737, 1.1022762120786647, -0.1427091716154867, -0.25541739714859335, -0.23461554130263676, 0.0531409232553126, -0.6659059414090801, 1.3984443801382258, -0.5536831919568412, 0.08905645204001764, -0.3649672077103355, -0.19989719034607528, 0.16132160822386446, 0.6511501557245907]}],\n                        {\"legend\": {\"bgcolor\": \"#F5F6F9\", \"font\": {\"color\": \"#4D5663\"}}, \"paper_bgcolor\": \"#F5F6F9\", \"plot_bgcolor\": \"#F5F6F9\", \"template\": {\"data\": {\"bar\": [{\"error_x\": {\"color\": \"#2a3f5f\"}, \"error_y\": {\"color\": \"#2a3f5f\"}, \"marker\": {\"line\": {\"color\": \"#E5ECF6\", \"width\": 0.5}}, \"type\": \"bar\"}], \"barpolar\": [{\"marker\": {\"line\": {\"color\": \"#E5ECF6\", \"width\": 0.5}}, \"type\": \"barpolar\"}], \"carpet\": [{\"aaxis\": {\"endlinecolor\": \"#2a3f5f\", \"gridcolor\": \"white\", \"linecolor\": \"white\", \"minorgridcolor\": \"white\", \"startlinecolor\": \"#2a3f5f\"}, \"baxis\": {\"endlinecolor\": \"#2a3f5f\", \"gridcolor\": \"white\", \"linecolor\": \"white\", \"minorgridcolor\": \"white\", \"startlinecolor\": \"#2a3f5f\"}, \"type\": \"carpet\"}], \"choropleth\": [{\"colorbar\": {\"outlinewidth\": 0, \"ticks\": \"\"}, \"type\": \"choropleth\"}], \"contour\": [{\"colorbar\": {\"outlinewidth\": 0, \"ticks\": \"\"}, \"colorscale\": [[0.0, \"#0d0887\"], [0.1111111111111111, \"#46039f\"], [0.2222222222222222, \"#7201a8\"], [0.3333333333333333, \"#9c179e\"], [0.4444444444444444, \"#bd3786\"], [0.5555555555555556, \"#d8576b\"], [0.6666666666666666, \"#ed7953\"], [0.7777777777777778, \"#fb9f3a\"], [0.8888888888888888, \"#fdca26\"], [1.0, \"#f0f921\"]], \"type\": \"contour\"}], \"contourcarpet\": [{\"colorbar\": {\"outlinewidth\": 0, \"ticks\": \"\"}, \"type\": \"contourcarpet\"}], \"heatmap\": [{\"colorbar\": {\"outlinewidth\": 0, \"ticks\": \"\"}, \"colorscale\": [[0.0, \"#0d0887\"], [0.1111111111111111, \"#46039f\"], [0.2222222222222222, \"#7201a8\"], [0.3333333333333333, \"#9c179e\"], [0.4444444444444444, \"#bd3786\"], [0.5555555555555556, \"#d8576b\"], [0.6666666666666666, \"#ed7953\"], [0.7777777777777778, \"#fb9f3a\"], [0.8888888888888888, \"#fdca26\"], [1.0, \"#f0f921\"]], \"type\": \"heatmap\"}], \"heatmapgl\": [{\"colorbar\": {\"outlinewidth\": 0, \"ticks\": \"\"}, \"colorscale\": [[0.0, \"#0d0887\"], [0.1111111111111111, \"#46039f\"], [0.2222222222222222, \"#7201a8\"], [0.3333333333333333, \"#9c179e\"], [0.4444444444444444, \"#bd3786\"], [0.5555555555555556, \"#d8576b\"], [0.6666666666666666, \"#ed7953\"], [0.7777777777777778, \"#fb9f3a\"], [0.8888888888888888, \"#fdca26\"], [1.0, \"#f0f921\"]], \"type\": \"heatmapgl\"}], \"histogram\": [{\"marker\": {\"colorbar\": {\"outlinewidth\": 0, \"ticks\": \"\"}}, \"type\": \"histogram\"}], \"histogram2d\": [{\"colorbar\": {\"outlinewidth\": 0, \"ticks\": \"\"}, \"colorscale\": [[0.0, \"#0d0887\"], [0.1111111111111111, \"#46039f\"], [0.2222222222222222, \"#7201a8\"], [0.3333333333333333, \"#9c179e\"], [0.4444444444444444, \"#bd3786\"], [0.5555555555555556, \"#d8576b\"], [0.6666666666666666, \"#ed7953\"], [0.7777777777777778, \"#fb9f3a\"], [0.8888888888888888, \"#fdca26\"], [1.0, \"#f0f921\"]], \"type\": \"histogram2d\"}], \"histogram2dcontour\": [{\"colorbar\": {\"outlinewidth\": 0, \"ticks\": \"\"}, \"colorscale\": [[0.0, \"#0d0887\"], [0.1111111111111111, \"#46039f\"], [0.2222222222222222, \"#7201a8\"], [0.3333333333333333, \"#9c179e\"], [0.4444444444444444, \"#bd3786\"], [0.5555555555555556, \"#d8576b\"], [0.6666666666666666, \"#ed7953\"], [0.7777777777777778, \"#fb9f3a\"], [0.8888888888888888, \"#fdca26\"], [1.0, \"#f0f921\"]], \"type\": \"histogram2dcontour\"}], \"mesh3d\": [{\"colorbar\": {\"outlinewidth\": 0, \"ticks\": \"\"}, \"type\": \"mesh3d\"}], \"parcoords\": [{\"line\": {\"colorbar\": {\"outlinewidth\": 0, \"ticks\": \"\"}}, \"type\": \"parcoords\"}], \"pie\": [{\"automargin\": true, \"type\": \"pie\"}], \"scatter\": [{\"marker\": {\"colorbar\": {\"outlinewidth\": 0, \"ticks\": \"\"}}, \"type\": \"scatter\"}], \"scatter3d\": [{\"line\": {\"colorbar\": {\"outlinewidth\": 0, \"ticks\": \"\"}}, \"marker\": {\"colorbar\": {\"outlinewidth\": 0, \"ticks\": \"\"}}, \"type\": \"scatter3d\"}], \"scattercarpet\": [{\"marker\": {\"colorbar\": {\"outlinewidth\": 0, \"ticks\": \"\"}}, \"type\": \"scattercarpet\"}], \"scattergeo\": [{\"marker\": {\"colorbar\": {\"outlinewidth\": 0, \"ticks\": \"\"}}, \"type\": \"scattergeo\"}], \"scattergl\": [{\"marker\": {\"colorbar\": {\"outlinewidth\": 0, \"ticks\": \"\"}}, \"type\": \"scattergl\"}], \"scattermapbox\": [{\"marker\": {\"colorbar\": {\"outlinewidth\": 0, \"ticks\": \"\"}}, \"type\": \"scattermapbox\"}], \"scatterpolar\": [{\"marker\": {\"colorbar\": {\"outlinewidth\": 0, \"ticks\": \"\"}}, \"type\": \"scatterpolar\"}], \"scatterpolargl\": [{\"marker\": {\"colorbar\": {\"outlinewidth\": 0, \"ticks\": \"\"}}, \"type\": \"scatterpolargl\"}], \"scatterternary\": [{\"marker\": {\"colorbar\": {\"outlinewidth\": 0, \"ticks\": \"\"}}, \"type\": \"scatterternary\"}], \"surface\": [{\"colorbar\": {\"outlinewidth\": 0, \"ticks\": \"\"}, \"colorscale\": [[0.0, \"#0d0887\"], [0.1111111111111111, \"#46039f\"], [0.2222222222222222, \"#7201a8\"], [0.3333333333333333, \"#9c179e\"], [0.4444444444444444, \"#bd3786\"], [0.5555555555555556, \"#d8576b\"], [0.6666666666666666, \"#ed7953\"], [0.7777777777777778, \"#fb9f3a\"], [0.8888888888888888, \"#fdca26\"], [1.0, \"#f0f921\"]], \"type\": \"surface\"}], \"table\": [{\"cells\": {\"fill\": {\"color\": \"#EBF0F8\"}, \"line\": {\"color\": \"white\"}}, \"header\": {\"fill\": {\"color\": \"#C8D4E3\"}, \"line\": {\"color\": \"white\"}}, \"type\": \"table\"}]}, \"layout\": {\"annotationdefaults\": {\"arrowcolor\": \"#2a3f5f\", \"arrowhead\": 0, \"arrowwidth\": 1}, \"coloraxis\": {\"colorbar\": {\"outlinewidth\": 0, \"ticks\": \"\"}}, \"colorscale\": {\"diverging\": [[0, \"#8e0152\"], [0.1, \"#c51b7d\"], [0.2, \"#de77ae\"], [0.3, \"#f1b6da\"], [0.4, \"#fde0ef\"], [0.5, \"#f7f7f7\"], [0.6, \"#e6f5d0\"], [0.7, \"#b8e186\"], [0.8, \"#7fbc41\"], [0.9, \"#4d9221\"], [1, \"#276419\"]], \"sequential\": [[0.0, \"#0d0887\"], [0.1111111111111111, \"#46039f\"], [0.2222222222222222, \"#7201a8\"], [0.3333333333333333, \"#9c179e\"], [0.4444444444444444, \"#bd3786\"], [0.5555555555555556, \"#d8576b\"], [0.6666666666666666, \"#ed7953\"], [0.7777777777777778, \"#fb9f3a\"], [0.8888888888888888, \"#fdca26\"], [1.0, \"#f0f921\"]], \"sequentialminus\": [[0.0, \"#0d0887\"], [0.1111111111111111, \"#46039f\"], [0.2222222222222222, \"#7201a8\"], [0.3333333333333333, \"#9c179e\"], [0.4444444444444444, \"#bd3786\"], [0.5555555555555556, \"#d8576b\"], [0.6666666666666666, \"#ed7953\"], [0.7777777777777778, \"#fb9f3a\"], [0.8888888888888888, \"#fdca26\"], [1.0, \"#f0f921\"]]}, \"colorway\": [\"#636efa\", \"#EF553B\", \"#00cc96\", \"#ab63fa\", \"#FFA15A\", \"#19d3f3\", \"#FF6692\", \"#B6E880\", \"#FF97FF\", \"#FECB52\"], \"font\": {\"color\": \"#2a3f5f\"}, \"geo\": {\"bgcolor\": \"white\", \"lakecolor\": \"white\", \"landcolor\": \"#E5ECF6\", \"showlakes\": true, \"showland\": true, \"subunitcolor\": \"white\"}, \"hoverlabel\": {\"align\": \"left\"}, \"hovermode\": \"closest\", \"mapbox\": {\"style\": \"light\"}, \"paper_bgcolor\": \"white\", \"plot_bgcolor\": \"#E5ECF6\", \"polar\": {\"angularaxis\": {\"gridcolor\": \"white\", \"linecolor\": \"white\", \"ticks\": \"\"}, \"bgcolor\": \"#E5ECF6\", \"radialaxis\": {\"gridcolor\": \"white\", \"linecolor\": \"white\", \"ticks\": \"\"}}, \"scene\": {\"xaxis\": {\"backgroundcolor\": \"#E5ECF6\", \"gridcolor\": \"white\", \"gridwidth\": 2, \"linecolor\": \"white\", \"showbackground\": true, \"ticks\": \"\", \"zerolinecolor\": \"white\"}, \"yaxis\": {\"backgroundcolor\": \"#E5ECF6\", \"gridcolor\": \"white\", \"gridwidth\": 2, \"linecolor\": \"white\", \"showbackground\": true, \"ticks\": \"\", \"zerolinecolor\": \"white\"}, \"zaxis\": {\"backgroundcolor\": \"#E5ECF6\", \"gridcolor\": \"white\", \"gridwidth\": 2, \"linecolor\": \"white\", \"showbackground\": true, \"ticks\": \"\", \"zerolinecolor\": \"white\"}}, \"shapedefaults\": {\"line\": {\"color\": \"#2a3f5f\"}}, \"ternary\": {\"aaxis\": {\"gridcolor\": \"white\", \"linecolor\": \"white\", \"ticks\": \"\"}, \"baxis\": {\"gridcolor\": \"white\", \"linecolor\": \"white\", \"ticks\": \"\"}, \"bgcolor\": \"#E5ECF6\", \"caxis\": {\"gridcolor\": \"white\", \"linecolor\": \"white\", \"ticks\": \"\"}}, \"title\": {\"x\": 0.05}, \"xaxis\": {\"automargin\": true, \"gridcolor\": \"white\", \"linecolor\": \"white\", \"ticks\": \"\", \"title\": {\"standoff\": 15}, \"zerolinecolor\": \"white\", \"zerolinewidth\": 2}, \"yaxis\": {\"automargin\": true, \"gridcolor\": \"white\", \"linecolor\": \"white\", \"ticks\": \"\", \"title\": {\"standoff\": 15}, \"zerolinecolor\": \"white\", \"zerolinewidth\": 2}}}, \"title\": {\"font\": {\"color\": \"#4D5663\"}}, \"xaxis\": {\"gridcolor\": \"#E1E5ED\", \"showgrid\": true, \"tickfont\": {\"color\": \"#4D5663\"}, \"title\": {\"font\": {\"color\": \"#4D5663\"}, \"text\": \"\"}, \"zerolinecolor\": \"#E1E5ED\"}, \"yaxis\": {\"gridcolor\": \"#E1E5ED\", \"showgrid\": true, \"tickfont\": {\"color\": \"#4D5663\"}, \"title\": {\"font\": {\"color\": \"#4D5663\"}, \"text\": \"\"}, \"zerolinecolor\": \"#E1E5ED\"}},\n                        {\"showLink\": true, \"linkText\": \"Export to plot.ly\", \"plotlyServerURL\": \"https://plot.ly\", \"responsive\": true}\n                    ).then(function(){\n                            \nvar gd = document.getElementById('22acb423-c172-4523-b6b5-cbbcb73019ef');\nvar x = new MutationObserver(function (mutations, observer) {{\n        var display = window.getComputedStyle(gd).display;\n        if (!display || display === 'none') {{\n            console.log([gd, 'removed!']);\n            Plotly.purge(gd);\n            observer.disconnect();\n        }}\n}});\n\n// Listen for the removal of the full notebook cells\nvar notebookContainer = gd.closest('#notebook-container');\nif (notebookContainer) {{\n    x.observe(notebookContainer, {childList: true});\n}}\n\n// Listen for the clearing of the current output cell\nvar outputEl = gd.closest('.output');\nif (outputEl) {{\n    x.observe(outputEl, {childList: true});\n}}\n\n                        })\n                };\n                });\n            </script>\n        </div>"
     },
     "metadata": {}
    }
   ],
   "source": [
    "df.iplot()"
   ]
  },
  {
   "cell_type": "code",
   "execution_count": 35,
   "metadata": {},
   "outputs": [
    {
     "output_type": "display_data",
     "data": {
      "application/vnd.plotly.v1+json": {
       "config": {
        "linkText": "Export to plot.ly",
        "plotlyServerURL": "https://plot.ly",
        "showLink": true
       },
       "data": [
        {
         "line": {
          "color": "rgba(255, 153, 51, 1.0)",
          "dash": "solid",
          "shape": "linear",
          "width": 1.3
         },
         "marker": {
          "size": 20,
          "symbol": "circle"
         },
         "mode": "markers",
         "name": "B",
         "text": "",
         "type": "scatter",
         "x": [
          -0.20959528449674006,
          1.0313395209143585,
          1.1694348176263178,
          1.2609299556386497,
          0.9991395033571964,
          -2.605096456045387,
          0.4223200564889698,
          -0.1957775306388394,
          -0.5581225730329871,
          0.31374974544598283,
          -0.1094457539933965,
          0.8490037964381496,
          -0.1924499072203981,
          -0.7241729098994564,
          -1.537635679731419,
          -0.17928390076971523,
          -0.4654379085350427,
          0.14536975247776704,
          -0.4107308856713606,
          -0.31692807918550775,
          0.8541795096845612,
          -0.5411685133468052,
          1.6526300592340684,
          -0.3970649611176773,
          0.5537155926901607,
          0.09527358902101514,
          0.14643308884471226,
          -0.5952788954061516,
          1.8391170023050945,
          0.8599789829121285,
          0.14419695368764932,
          -3.7442569633057623,
          -0.3133723448373529,
          -0.16683141237592103,
          1.6188408185310394,
          0.6007304465359995,
          0.15187571991871177,
          0.07909127391112418,
          -0.19527530170401872,
          -1.7720594581677191,
          0.010435130962778887,
          -0.6984897154095291,
          0.298475241933431,
          -1.0324556631267123,
          -0.015196673014035973,
          0.24940100375673913,
          -1.5609631116868825,
          2.0752899982947026,
          -1.549922714712221,
          -0.04769669077299809,
          -0.13050979544132987,
          -1.3439932523872173,
          1.0161176621283028,
          0.22568439926107195,
          -1.1476615070110796,
          -0.5878368352865394,
          -0.238454936681599,
          1.0488599753027485,
          0.41705065187638135,
          0.9591773903586256,
          -1.3963563115579891,
          -0.9471610783203869,
          -1.2809323825176724,
          -0.2623463889448773,
          1.922978320621508,
          -1.2514220434971128,
          -0.9332967715496242,
          -2.17546410153974,
          1.4213253674153281,
          -0.18306555321065304,
          -0.8127274181256211,
          0.6210277858396868,
          0.6663719720223892,
          -0.21981687046950085,
          0.5232043156578947,
          1.3438976175293194,
          -0.40577896676652975,
          0.15087073518784777,
          0.14556340277596694,
          -0.8543803927110263,
          0.3939560017804806,
          0.16697514102575836,
          1.4058840116843392,
          0.4617877536009876,
          -1.5496801935445506,
          0.40769711945908343,
          0.2013369438901281,
          -1.1290823498859064,
          -0.6274727732033917,
          -1.4116748082720443,
          2.028067036128927,
          -0.06951536570078315,
          -0.39563856362339256,
          0.36572962567951944,
          0.2535557564640945,
          -0.592701403714788,
          -1.016758229530463,
          -0.6718010025615362,
          0.4816143914592303,
          1.6521186064972615
         ],
         "y": [
          -0.7711170330140517,
          1.1659865501781457,
          -0.4300031411390618,
          -0.0064054452231869525,
          0.3255392094205599,
          -0.13685000730308322,
          1.3525025871928738,
          -1.1801377046110144,
          0.13310747475016435,
          -0.2033148557477379,
          0.3985858186894083,
          -0.49967174213299737,
          1.1913324955300733,
          -0.5409914050548899,
          0.2925317562459309,
          0.8360201107862251,
          0.18953428471715764,
          0.7221778303206465,
          0.09852772787929902,
          1.796009975727251,
          -0.200185351958104,
          0.8157193832619373,
          -0.1933400843887641,
          1.8520919325558922,
          0.48262763547424403,
          1.0115524814755976,
          -0.1837829419916532,
          1.6131287615767995,
          -0.1399290536378075,
          -0.7323092982310786,
          1.2581832153458332,
          2.004782199651357,
          0.11020269700287254,
          -0.2922774652953534,
          -0.610069945082351,
          0.376461914005928,
          0.16718587783128971,
          -1.7189573746226192,
          -0.14068140841214077,
          1.8445706571915623,
          0.42144086795796415,
          1.0771232268496644,
          -0.4574308043895199,
          0.3920164861931366,
          -0.7846303851339075,
          1.1358033661771454,
          0.21984185047724739,
          0.7358382398522556,
          -0.5056098661504937,
          0.3322425140657405,
          -1.0908272200843647,
          0.16993227135855776,
          -2.575072543504373,
          0.7463990525576297,
          -1.3276249331690786,
          -0.19130903148690143,
          0.8888511368645764,
          -1.082223619851152,
          -0.8516922366750175,
          -0.35766740349138537,
          -0.39775115576126774,
          1.2904308354025236,
          -0.4728009835926884,
          0.221724087821145,
          0.3966944648807889,
          -1.2672930011199954,
          0.7680169250563473,
          1.1846181946893646,
          0.2475782480255661,
          0.4485690766180793,
          0.014156941787666289,
          1.661426609144996,
          -1.1495974510451685,
          -0.7147854341662139,
          -0.7107841704939886,
          1.3951354540947525,
          0.20924908903456235,
          -1.220282703449926,
          0.02557457473320523,
          1.6272253233610467,
          -0.4129400171413861,
          -0.30186719992529765,
          1.5662620317015126,
          -0.9805920717199543,
          1.7788994781114258,
          -0.07627410648600412,
          0.06756344975294166,
          0.15733547861968317,
          1.4312231564245395,
          0.5067488088525609,
          -1.3860888399177342,
          -0.35267863923003084,
          -0.9060374943352678,
          -1.470559344699383,
          -0.19821908459674648,
          -1.9227544591977332,
          0.2082346343431905,
          -1.2583923667864534,
          -0.8897041886487653,
          1.228047110760627
         ]
        }
       ],
       "layout": {
        "legend": {
         "bgcolor": "#F5F6F9",
         "font": {
          "color": "#4D5663"
         }
        },
        "paper_bgcolor": "#F5F6F9",
        "plot_bgcolor": "#F5F6F9",
        "template": {
         "data": {
          "bar": [
           {
            "error_x": {
             "color": "#2a3f5f"
            },
            "error_y": {
             "color": "#2a3f5f"
            },
            "marker": {
             "line": {
              "color": "#E5ECF6",
              "width": 0.5
             }
            },
            "type": "bar"
           }
          ],
          "barpolar": [
           {
            "marker": {
             "line": {
              "color": "#E5ECF6",
              "width": 0.5
             }
            },
            "type": "barpolar"
           }
          ],
          "carpet": [
           {
            "aaxis": {
             "endlinecolor": "#2a3f5f",
             "gridcolor": "white",
             "linecolor": "white",
             "minorgridcolor": "white",
             "startlinecolor": "#2a3f5f"
            },
            "baxis": {
             "endlinecolor": "#2a3f5f",
             "gridcolor": "white",
             "linecolor": "white",
             "minorgridcolor": "white",
             "startlinecolor": "#2a3f5f"
            },
            "type": "carpet"
           }
          ],
          "choropleth": [
           {
            "colorbar": {
             "outlinewidth": 0,
             "ticks": ""
            },
            "type": "choropleth"
           }
          ],
          "contour": [
           {
            "colorbar": {
             "outlinewidth": 0,
             "ticks": ""
            },
            "colorscale": [
             [
              0,
              "#0d0887"
             ],
             [
              0.1111111111111111,
              "#46039f"
             ],
             [
              0.2222222222222222,
              "#7201a8"
             ],
             [
              0.3333333333333333,
              "#9c179e"
             ],
             [
              0.4444444444444444,
              "#bd3786"
             ],
             [
              0.5555555555555556,
              "#d8576b"
             ],
             [
              0.6666666666666666,
              "#ed7953"
             ],
             [
              0.7777777777777778,
              "#fb9f3a"
             ],
             [
              0.8888888888888888,
              "#fdca26"
             ],
             [
              1,
              "#f0f921"
             ]
            ],
            "type": "contour"
           }
          ],
          "contourcarpet": [
           {
            "colorbar": {
             "outlinewidth": 0,
             "ticks": ""
            },
            "type": "contourcarpet"
           }
          ],
          "heatmap": [
           {
            "colorbar": {
             "outlinewidth": 0,
             "ticks": ""
            },
            "colorscale": [
             [
              0,
              "#0d0887"
             ],
             [
              0.1111111111111111,
              "#46039f"
             ],
             [
              0.2222222222222222,
              "#7201a8"
             ],
             [
              0.3333333333333333,
              "#9c179e"
             ],
             [
              0.4444444444444444,
              "#bd3786"
             ],
             [
              0.5555555555555556,
              "#d8576b"
             ],
             [
              0.6666666666666666,
              "#ed7953"
             ],
             [
              0.7777777777777778,
              "#fb9f3a"
             ],
             [
              0.8888888888888888,
              "#fdca26"
             ],
             [
              1,
              "#f0f921"
             ]
            ],
            "type": "heatmap"
           }
          ],
          "heatmapgl": [
           {
            "colorbar": {
             "outlinewidth": 0,
             "ticks": ""
            },
            "colorscale": [
             [
              0,
              "#0d0887"
             ],
             [
              0.1111111111111111,
              "#46039f"
             ],
             [
              0.2222222222222222,
              "#7201a8"
             ],
             [
              0.3333333333333333,
              "#9c179e"
             ],
             [
              0.4444444444444444,
              "#bd3786"
             ],
             [
              0.5555555555555556,
              "#d8576b"
             ],
             [
              0.6666666666666666,
              "#ed7953"
             ],
             [
              0.7777777777777778,
              "#fb9f3a"
             ],
             [
              0.8888888888888888,
              "#fdca26"
             ],
             [
              1,
              "#f0f921"
             ]
            ],
            "type": "heatmapgl"
           }
          ],
          "histogram": [
           {
            "marker": {
             "colorbar": {
              "outlinewidth": 0,
              "ticks": ""
             }
            },
            "type": "histogram"
           }
          ],
          "histogram2d": [
           {
            "colorbar": {
             "outlinewidth": 0,
             "ticks": ""
            },
            "colorscale": [
             [
              0,
              "#0d0887"
             ],
             [
              0.1111111111111111,
              "#46039f"
             ],
             [
              0.2222222222222222,
              "#7201a8"
             ],
             [
              0.3333333333333333,
              "#9c179e"
             ],
             [
              0.4444444444444444,
              "#bd3786"
             ],
             [
              0.5555555555555556,
              "#d8576b"
             ],
             [
              0.6666666666666666,
              "#ed7953"
             ],
             [
              0.7777777777777778,
              "#fb9f3a"
             ],
             [
              0.8888888888888888,
              "#fdca26"
             ],
             [
              1,
              "#f0f921"
             ]
            ],
            "type": "histogram2d"
           }
          ],
          "histogram2dcontour": [
           {
            "colorbar": {
             "outlinewidth": 0,
             "ticks": ""
            },
            "colorscale": [
             [
              0,
              "#0d0887"
             ],
             [
              0.1111111111111111,
              "#46039f"
             ],
             [
              0.2222222222222222,
              "#7201a8"
             ],
             [
              0.3333333333333333,
              "#9c179e"
             ],
             [
              0.4444444444444444,
              "#bd3786"
             ],
             [
              0.5555555555555556,
              "#d8576b"
             ],
             [
              0.6666666666666666,
              "#ed7953"
             ],
             [
              0.7777777777777778,
              "#fb9f3a"
             ],
             [
              0.8888888888888888,
              "#fdca26"
             ],
             [
              1,
              "#f0f921"
             ]
            ],
            "type": "histogram2dcontour"
           }
          ],
          "mesh3d": [
           {
            "colorbar": {
             "outlinewidth": 0,
             "ticks": ""
            },
            "type": "mesh3d"
           }
          ],
          "parcoords": [
           {
            "line": {
             "colorbar": {
              "outlinewidth": 0,
              "ticks": ""
             }
            },
            "type": "parcoords"
           }
          ],
          "pie": [
           {
            "automargin": true,
            "type": "pie"
           }
          ],
          "scatter": [
           {
            "marker": {
             "colorbar": {
              "outlinewidth": 0,
              "ticks": ""
             }
            },
            "type": "scatter"
           }
          ],
          "scatter3d": [
           {
            "line": {
             "colorbar": {
              "outlinewidth": 0,
              "ticks": ""
             }
            },
            "marker": {
             "colorbar": {
              "outlinewidth": 0,
              "ticks": ""
             }
            },
            "type": "scatter3d"
           }
          ],
          "scattercarpet": [
           {
            "marker": {
             "colorbar": {
              "outlinewidth": 0,
              "ticks": ""
             }
            },
            "type": "scattercarpet"
           }
          ],
          "scattergeo": [
           {
            "marker": {
             "colorbar": {
              "outlinewidth": 0,
              "ticks": ""
             }
            },
            "type": "scattergeo"
           }
          ],
          "scattergl": [
           {
            "marker": {
             "colorbar": {
              "outlinewidth": 0,
              "ticks": ""
             }
            },
            "type": "scattergl"
           }
          ],
          "scattermapbox": [
           {
            "marker": {
             "colorbar": {
              "outlinewidth": 0,
              "ticks": ""
             }
            },
            "type": "scattermapbox"
           }
          ],
          "scatterpolar": [
           {
            "marker": {
             "colorbar": {
              "outlinewidth": 0,
              "ticks": ""
             }
            },
            "type": "scatterpolar"
           }
          ],
          "scatterpolargl": [
           {
            "marker": {
             "colorbar": {
              "outlinewidth": 0,
              "ticks": ""
             }
            },
            "type": "scatterpolargl"
           }
          ],
          "scatterternary": [
           {
            "marker": {
             "colorbar": {
              "outlinewidth": 0,
              "ticks": ""
             }
            },
            "type": "scatterternary"
           }
          ],
          "surface": [
           {
            "colorbar": {
             "outlinewidth": 0,
             "ticks": ""
            },
            "colorscale": [
             [
              0,
              "#0d0887"
             ],
             [
              0.1111111111111111,
              "#46039f"
             ],
             [
              0.2222222222222222,
              "#7201a8"
             ],
             [
              0.3333333333333333,
              "#9c179e"
             ],
             [
              0.4444444444444444,
              "#bd3786"
             ],
             [
              0.5555555555555556,
              "#d8576b"
             ],
             [
              0.6666666666666666,
              "#ed7953"
             ],
             [
              0.7777777777777778,
              "#fb9f3a"
             ],
             [
              0.8888888888888888,
              "#fdca26"
             ],
             [
              1,
              "#f0f921"
             ]
            ],
            "type": "surface"
           }
          ],
          "table": [
           {
            "cells": {
             "fill": {
              "color": "#EBF0F8"
             },
             "line": {
              "color": "white"
             }
            },
            "header": {
             "fill": {
              "color": "#C8D4E3"
             },
             "line": {
              "color": "white"
             }
            },
            "type": "table"
           }
          ]
         },
         "layout": {
          "annotationdefaults": {
           "arrowcolor": "#2a3f5f",
           "arrowhead": 0,
           "arrowwidth": 1
          },
          "coloraxis": {
           "colorbar": {
            "outlinewidth": 0,
            "ticks": ""
           }
          },
          "colorscale": {
           "diverging": [
            [
             0,
             "#8e0152"
            ],
            [
             0.1,
             "#c51b7d"
            ],
            [
             0.2,
             "#de77ae"
            ],
            [
             0.3,
             "#f1b6da"
            ],
            [
             0.4,
             "#fde0ef"
            ],
            [
             0.5,
             "#f7f7f7"
            ],
            [
             0.6,
             "#e6f5d0"
            ],
            [
             0.7,
             "#b8e186"
            ],
            [
             0.8,
             "#7fbc41"
            ],
            [
             0.9,
             "#4d9221"
            ],
            [
             1,
             "#276419"
            ]
           ],
           "sequential": [
            [
             0,
             "#0d0887"
            ],
            [
             0.1111111111111111,
             "#46039f"
            ],
            [
             0.2222222222222222,
             "#7201a8"
            ],
            [
             0.3333333333333333,
             "#9c179e"
            ],
            [
             0.4444444444444444,
             "#bd3786"
            ],
            [
             0.5555555555555556,
             "#d8576b"
            ],
            [
             0.6666666666666666,
             "#ed7953"
            ],
            [
             0.7777777777777778,
             "#fb9f3a"
            ],
            [
             0.8888888888888888,
             "#fdca26"
            ],
            [
             1,
             "#f0f921"
            ]
           ],
           "sequentialminus": [
            [
             0,
             "#0d0887"
            ],
            [
             0.1111111111111111,
             "#46039f"
            ],
            [
             0.2222222222222222,
             "#7201a8"
            ],
            [
             0.3333333333333333,
             "#9c179e"
            ],
            [
             0.4444444444444444,
             "#bd3786"
            ],
            [
             0.5555555555555556,
             "#d8576b"
            ],
            [
             0.6666666666666666,
             "#ed7953"
            ],
            [
             0.7777777777777778,
             "#fb9f3a"
            ],
            [
             0.8888888888888888,
             "#fdca26"
            ],
            [
             1,
             "#f0f921"
            ]
           ]
          },
          "colorway": [
           "#636efa",
           "#EF553B",
           "#00cc96",
           "#ab63fa",
           "#FFA15A",
           "#19d3f3",
           "#FF6692",
           "#B6E880",
           "#FF97FF",
           "#FECB52"
          ],
          "font": {
           "color": "#2a3f5f"
          },
          "geo": {
           "bgcolor": "white",
           "lakecolor": "white",
           "landcolor": "#E5ECF6",
           "showlakes": true,
           "showland": true,
           "subunitcolor": "white"
          },
          "hoverlabel": {
           "align": "left"
          },
          "hovermode": "closest",
          "mapbox": {
           "style": "light"
          },
          "paper_bgcolor": "white",
          "plot_bgcolor": "#E5ECF6",
          "polar": {
           "angularaxis": {
            "gridcolor": "white",
            "linecolor": "white",
            "ticks": ""
           },
           "bgcolor": "#E5ECF6",
           "radialaxis": {
            "gridcolor": "white",
            "linecolor": "white",
            "ticks": ""
           }
          },
          "scene": {
           "xaxis": {
            "backgroundcolor": "#E5ECF6",
            "gridcolor": "white",
            "gridwidth": 2,
            "linecolor": "white",
            "showbackground": true,
            "ticks": "",
            "zerolinecolor": "white"
           },
           "yaxis": {
            "backgroundcolor": "#E5ECF6",
            "gridcolor": "white",
            "gridwidth": 2,
            "linecolor": "white",
            "showbackground": true,
            "ticks": "",
            "zerolinecolor": "white"
           },
           "zaxis": {
            "backgroundcolor": "#E5ECF6",
            "gridcolor": "white",
            "gridwidth": 2,
            "linecolor": "white",
            "showbackground": true,
            "ticks": "",
            "zerolinecolor": "white"
           }
          },
          "shapedefaults": {
           "line": {
            "color": "#2a3f5f"
           }
          },
          "ternary": {
           "aaxis": {
            "gridcolor": "white",
            "linecolor": "white",
            "ticks": ""
           },
           "baxis": {
            "gridcolor": "white",
            "linecolor": "white",
            "ticks": ""
           },
           "bgcolor": "#E5ECF6",
           "caxis": {
            "gridcolor": "white",
            "linecolor": "white",
            "ticks": ""
           }
          },
          "title": {
           "x": 0.05
          },
          "xaxis": {
           "automargin": true,
           "gridcolor": "white",
           "linecolor": "white",
           "ticks": "",
           "title": {
            "standoff": 15
           },
           "zerolinecolor": "white",
           "zerolinewidth": 2
          },
          "yaxis": {
           "automargin": true,
           "gridcolor": "white",
           "linecolor": "white",
           "ticks": "",
           "title": {
            "standoff": 15
           },
           "zerolinecolor": "white",
           "zerolinewidth": 2
          }
         }
        },
        "title": {
         "font": {
          "color": "#4D5663"
         }
        },
        "xaxis": {
         "gridcolor": "#E1E5ED",
         "showgrid": true,
         "tickfont": {
          "color": "#4D5663"
         },
         "title": {
          "font": {
           "color": "#4D5663"
          },
          "text": ""
         },
         "zerolinecolor": "#E1E5ED"
        },
        "yaxis": {
         "gridcolor": "#E1E5ED",
         "showgrid": true,
         "tickfont": {
          "color": "#4D5663"
         },
         "title": {
          "font": {
           "color": "#4D5663"
          },
          "text": ""
         },
         "zerolinecolor": "#E1E5ED"
        }
       }
      },
      "text/html": "<div>\n        \n        \n            <div id=\"343bcd09-163b-417a-8e10-7fa7dfd591df\" class=\"plotly-graph-div\" style=\"height:525px; width:100%;\"></div>\n            <script type=\"text/javascript\">\n                require([\"plotly\"], function(Plotly) {\n                    window.PLOTLYENV=window.PLOTLYENV || {};\n                    window.PLOTLYENV.BASE_URL='https://plot.ly';\n                    \n                if (document.getElementById(\"343bcd09-163b-417a-8e10-7fa7dfd591df\")) {\n                    Plotly.newPlot(\n                        '343bcd09-163b-417a-8e10-7fa7dfd591df',\n                        [{\"line\": {\"color\": \"rgba(255, 153, 51, 1.0)\", \"dash\": \"solid\", \"shape\": \"linear\", \"width\": 1.3}, \"marker\": {\"size\": 20, \"symbol\": \"circle\"}, \"mode\": \"markers\", \"name\": \"B\", \"text\": \"\", \"type\": \"scatter\", \"x\": [-0.20959528449674006, 1.0313395209143585, 1.1694348176263178, 1.2609299556386497, 0.9991395033571964, -2.605096456045387, 0.4223200564889698, -0.1957775306388394, -0.5581225730329871, 0.31374974544598283, -0.1094457539933965, 0.8490037964381496, -0.1924499072203981, -0.7241729098994564, -1.537635679731419, -0.17928390076971523, -0.4654379085350427, 0.14536975247776704, -0.4107308856713606, -0.31692807918550775, 0.8541795096845612, -0.5411685133468052, 1.6526300592340684, -0.3970649611176773, 0.5537155926901607, 0.09527358902101514, 0.14643308884471226, -0.5952788954061516, 1.8391170023050945, 0.8599789829121285, 0.14419695368764932, -3.7442569633057623, -0.3133723448373529, -0.16683141237592103, 1.6188408185310394, 0.6007304465359995, 0.15187571991871177, 0.07909127391112418, -0.19527530170401872, -1.7720594581677191, 0.010435130962778887, -0.6984897154095291, 0.298475241933431, -1.0324556631267123, -0.015196673014035973, 0.24940100375673913, -1.5609631116868825, 2.0752899982947026, -1.549922714712221, -0.04769669077299809, -0.13050979544132987, -1.3439932523872173, 1.0161176621283028, 0.22568439926107195, -1.1476615070110796, -0.5878368352865394, -0.238454936681599, 1.0488599753027485, 0.41705065187638135, 0.9591773903586256, -1.3963563115579891, -0.9471610783203869, -1.2809323825176724, -0.2623463889448773, 1.922978320621508, -1.2514220434971128, -0.9332967715496242, -2.17546410153974, 1.4213253674153281, -0.18306555321065304, -0.8127274181256211, 0.6210277858396868, 0.6663719720223892, -0.21981687046950085, 0.5232043156578947, 1.3438976175293194, -0.40577896676652975, 0.15087073518784777, 0.14556340277596694, -0.8543803927110263, 0.3939560017804806, 0.16697514102575836, 1.4058840116843392, 0.4617877536009876, -1.5496801935445506, 0.40769711945908343, 0.2013369438901281, -1.1290823498859064, -0.6274727732033917, -1.4116748082720443, 2.028067036128927, -0.06951536570078315, -0.39563856362339256, 0.36572962567951944, 0.2535557564640945, -0.592701403714788, -1.016758229530463, -0.6718010025615362, 0.4816143914592303, 1.6521186064972615], \"y\": [-0.7711170330140517, 1.1659865501781457, -0.4300031411390618, -0.0064054452231869525, 0.3255392094205599, -0.13685000730308322, 1.3525025871928738, -1.1801377046110144, 0.13310747475016435, -0.2033148557477379, 0.3985858186894083, -0.49967174213299737, 1.1913324955300733, -0.5409914050548899, 0.2925317562459309, 0.8360201107862251, 0.18953428471715764, 0.7221778303206465, 0.09852772787929902, 1.796009975727251, -0.200185351958104, 0.8157193832619373, -0.1933400843887641, 1.8520919325558922, 0.48262763547424403, 1.0115524814755976, -0.1837829419916532, 1.6131287615767995, -0.1399290536378075, -0.7323092982310786, 1.2581832153458332, 2.004782199651357, 0.11020269700287254, -0.2922774652953534, -0.610069945082351, 0.376461914005928, 0.16718587783128971, -1.7189573746226192, -0.14068140841214077, 1.8445706571915623, 0.42144086795796415, 1.0771232268496644, -0.4574308043895199, 0.3920164861931366, -0.7846303851339075, 1.1358033661771454, 0.21984185047724739, 0.7358382398522556, -0.5056098661504937, 0.3322425140657405, -1.0908272200843647, 0.16993227135855776, -2.575072543504373, 0.7463990525576297, -1.3276249331690786, -0.19130903148690143, 0.8888511368645764, -1.082223619851152, -0.8516922366750175, -0.35766740349138537, -0.39775115576126774, 1.2904308354025236, -0.4728009835926884, 0.221724087821145, 0.3966944648807889, -1.2672930011199954, 0.7680169250563473, 1.1846181946893646, 0.2475782480255661, 0.4485690766180793, 0.014156941787666289, 1.661426609144996, -1.1495974510451685, -0.7147854341662139, -0.7107841704939886, 1.3951354540947525, 0.20924908903456235, -1.220282703449926, 0.02557457473320523, 1.6272253233610467, -0.4129400171413861, -0.30186719992529765, 1.5662620317015126, -0.9805920717199543, 1.7788994781114258, -0.07627410648600412, 0.06756344975294166, 0.15733547861968317, 1.4312231564245395, 0.5067488088525609, -1.3860888399177342, -0.35267863923003084, -0.9060374943352678, -1.470559344699383, -0.19821908459674648, -1.9227544591977332, 0.2082346343431905, -1.2583923667864534, -0.8897041886487653, 1.228047110760627]}],\n                        {\"legend\": {\"bgcolor\": \"#F5F6F9\", \"font\": {\"color\": \"#4D5663\"}}, \"paper_bgcolor\": \"#F5F6F9\", \"plot_bgcolor\": \"#F5F6F9\", \"template\": {\"data\": {\"bar\": [{\"error_x\": {\"color\": \"#2a3f5f\"}, \"error_y\": {\"color\": \"#2a3f5f\"}, \"marker\": {\"line\": {\"color\": \"#E5ECF6\", \"width\": 0.5}}, \"type\": \"bar\"}], \"barpolar\": [{\"marker\": {\"line\": {\"color\": \"#E5ECF6\", \"width\": 0.5}}, \"type\": \"barpolar\"}], \"carpet\": [{\"aaxis\": {\"endlinecolor\": \"#2a3f5f\", \"gridcolor\": \"white\", \"linecolor\": \"white\", \"minorgridcolor\": \"white\", \"startlinecolor\": \"#2a3f5f\"}, \"baxis\": {\"endlinecolor\": \"#2a3f5f\", \"gridcolor\": \"white\", \"linecolor\": \"white\", \"minorgridcolor\": \"white\", \"startlinecolor\": \"#2a3f5f\"}, \"type\": \"carpet\"}], \"choropleth\": [{\"colorbar\": {\"outlinewidth\": 0, \"ticks\": \"\"}, \"type\": \"choropleth\"}], \"contour\": [{\"colorbar\": {\"outlinewidth\": 0, \"ticks\": \"\"}, \"colorscale\": [[0.0, \"#0d0887\"], [0.1111111111111111, \"#46039f\"], [0.2222222222222222, \"#7201a8\"], [0.3333333333333333, \"#9c179e\"], [0.4444444444444444, \"#bd3786\"], [0.5555555555555556, \"#d8576b\"], [0.6666666666666666, \"#ed7953\"], [0.7777777777777778, \"#fb9f3a\"], [0.8888888888888888, \"#fdca26\"], [1.0, \"#f0f921\"]], \"type\": \"contour\"}], \"contourcarpet\": [{\"colorbar\": {\"outlinewidth\": 0, \"ticks\": \"\"}, \"type\": \"contourcarpet\"}], \"heatmap\": [{\"colorbar\": {\"outlinewidth\": 0, \"ticks\": \"\"}, \"colorscale\": [[0.0, \"#0d0887\"], [0.1111111111111111, \"#46039f\"], [0.2222222222222222, \"#7201a8\"], [0.3333333333333333, \"#9c179e\"], [0.4444444444444444, \"#bd3786\"], [0.5555555555555556, \"#d8576b\"], [0.6666666666666666, \"#ed7953\"], [0.7777777777777778, \"#fb9f3a\"], [0.8888888888888888, \"#fdca26\"], [1.0, \"#f0f921\"]], \"type\": \"heatmap\"}], \"heatmapgl\": [{\"colorbar\": {\"outlinewidth\": 0, \"ticks\": \"\"}, \"colorscale\": [[0.0, \"#0d0887\"], [0.1111111111111111, \"#46039f\"], [0.2222222222222222, \"#7201a8\"], [0.3333333333333333, \"#9c179e\"], [0.4444444444444444, \"#bd3786\"], [0.5555555555555556, \"#d8576b\"], [0.6666666666666666, \"#ed7953\"], [0.7777777777777778, \"#fb9f3a\"], [0.8888888888888888, \"#fdca26\"], [1.0, \"#f0f921\"]], \"type\": \"heatmapgl\"}], \"histogram\": [{\"marker\": {\"colorbar\": {\"outlinewidth\": 0, \"ticks\": \"\"}}, \"type\": \"histogram\"}], \"histogram2d\": [{\"colorbar\": {\"outlinewidth\": 0, \"ticks\": \"\"}, \"colorscale\": [[0.0, \"#0d0887\"], [0.1111111111111111, \"#46039f\"], [0.2222222222222222, \"#7201a8\"], [0.3333333333333333, \"#9c179e\"], [0.4444444444444444, \"#bd3786\"], [0.5555555555555556, \"#d8576b\"], [0.6666666666666666, \"#ed7953\"], [0.7777777777777778, \"#fb9f3a\"], [0.8888888888888888, \"#fdca26\"], [1.0, \"#f0f921\"]], \"type\": \"histogram2d\"}], \"histogram2dcontour\": [{\"colorbar\": {\"outlinewidth\": 0, \"ticks\": \"\"}, \"colorscale\": [[0.0, \"#0d0887\"], [0.1111111111111111, \"#46039f\"], [0.2222222222222222, \"#7201a8\"], [0.3333333333333333, \"#9c179e\"], [0.4444444444444444, \"#bd3786\"], [0.5555555555555556, \"#d8576b\"], [0.6666666666666666, \"#ed7953\"], [0.7777777777777778, \"#fb9f3a\"], [0.8888888888888888, \"#fdca26\"], [1.0, \"#f0f921\"]], \"type\": \"histogram2dcontour\"}], \"mesh3d\": [{\"colorbar\": {\"outlinewidth\": 0, \"ticks\": \"\"}, \"type\": \"mesh3d\"}], \"parcoords\": [{\"line\": {\"colorbar\": {\"outlinewidth\": 0, \"ticks\": \"\"}}, \"type\": \"parcoords\"}], \"pie\": [{\"automargin\": true, \"type\": \"pie\"}], \"scatter\": [{\"marker\": {\"colorbar\": {\"outlinewidth\": 0, \"ticks\": \"\"}}, \"type\": \"scatter\"}], \"scatter3d\": [{\"line\": {\"colorbar\": {\"outlinewidth\": 0, \"ticks\": \"\"}}, \"marker\": {\"colorbar\": {\"outlinewidth\": 0, \"ticks\": \"\"}}, \"type\": \"scatter3d\"}], \"scattercarpet\": [{\"marker\": {\"colorbar\": {\"outlinewidth\": 0, \"ticks\": \"\"}}, \"type\": \"scattercarpet\"}], \"scattergeo\": [{\"marker\": {\"colorbar\": {\"outlinewidth\": 0, \"ticks\": \"\"}}, \"type\": \"scattergeo\"}], \"scattergl\": [{\"marker\": {\"colorbar\": {\"outlinewidth\": 0, \"ticks\": \"\"}}, \"type\": \"scattergl\"}], \"scattermapbox\": [{\"marker\": {\"colorbar\": {\"outlinewidth\": 0, \"ticks\": \"\"}}, \"type\": \"scattermapbox\"}], \"scatterpolar\": [{\"marker\": {\"colorbar\": {\"outlinewidth\": 0, \"ticks\": \"\"}}, \"type\": \"scatterpolar\"}], \"scatterpolargl\": [{\"marker\": {\"colorbar\": {\"outlinewidth\": 0, \"ticks\": \"\"}}, \"type\": \"scatterpolargl\"}], \"scatterternary\": [{\"marker\": {\"colorbar\": {\"outlinewidth\": 0, \"ticks\": \"\"}}, \"type\": \"scatterternary\"}], \"surface\": [{\"colorbar\": {\"outlinewidth\": 0, \"ticks\": \"\"}, \"colorscale\": [[0.0, \"#0d0887\"], [0.1111111111111111, \"#46039f\"], [0.2222222222222222, \"#7201a8\"], [0.3333333333333333, \"#9c179e\"], [0.4444444444444444, \"#bd3786\"], [0.5555555555555556, \"#d8576b\"], [0.6666666666666666, \"#ed7953\"], [0.7777777777777778, \"#fb9f3a\"], [0.8888888888888888, \"#fdca26\"], [1.0, \"#f0f921\"]], \"type\": \"surface\"}], \"table\": [{\"cells\": {\"fill\": {\"color\": \"#EBF0F8\"}, \"line\": {\"color\": \"white\"}}, \"header\": {\"fill\": {\"color\": \"#C8D4E3\"}, \"line\": {\"color\": \"white\"}}, \"type\": \"table\"}]}, \"layout\": {\"annotationdefaults\": {\"arrowcolor\": \"#2a3f5f\", \"arrowhead\": 0, \"arrowwidth\": 1}, \"coloraxis\": {\"colorbar\": {\"outlinewidth\": 0, \"ticks\": \"\"}}, \"colorscale\": {\"diverging\": [[0, \"#8e0152\"], [0.1, \"#c51b7d\"], [0.2, \"#de77ae\"], [0.3, \"#f1b6da\"], [0.4, \"#fde0ef\"], [0.5, \"#f7f7f7\"], [0.6, \"#e6f5d0\"], [0.7, \"#b8e186\"], [0.8, \"#7fbc41\"], [0.9, \"#4d9221\"], [1, \"#276419\"]], \"sequential\": [[0.0, \"#0d0887\"], [0.1111111111111111, \"#46039f\"], [0.2222222222222222, \"#7201a8\"], [0.3333333333333333, \"#9c179e\"], [0.4444444444444444, \"#bd3786\"], [0.5555555555555556, \"#d8576b\"], [0.6666666666666666, \"#ed7953\"], [0.7777777777777778, \"#fb9f3a\"], [0.8888888888888888, \"#fdca26\"], [1.0, \"#f0f921\"]], \"sequentialminus\": [[0.0, \"#0d0887\"], [0.1111111111111111, \"#46039f\"], [0.2222222222222222, \"#7201a8\"], [0.3333333333333333, \"#9c179e\"], [0.4444444444444444, \"#bd3786\"], [0.5555555555555556, \"#d8576b\"], [0.6666666666666666, \"#ed7953\"], [0.7777777777777778, \"#fb9f3a\"], [0.8888888888888888, \"#fdca26\"], [1.0, \"#f0f921\"]]}, \"colorway\": [\"#636efa\", \"#EF553B\", \"#00cc96\", \"#ab63fa\", \"#FFA15A\", \"#19d3f3\", \"#FF6692\", \"#B6E880\", \"#FF97FF\", \"#FECB52\"], \"font\": {\"color\": \"#2a3f5f\"}, \"geo\": {\"bgcolor\": \"white\", \"lakecolor\": \"white\", \"landcolor\": \"#E5ECF6\", \"showlakes\": true, \"showland\": true, \"subunitcolor\": \"white\"}, \"hoverlabel\": {\"align\": \"left\"}, \"hovermode\": \"closest\", \"mapbox\": {\"style\": \"light\"}, \"paper_bgcolor\": \"white\", \"plot_bgcolor\": \"#E5ECF6\", \"polar\": {\"angularaxis\": {\"gridcolor\": \"white\", \"linecolor\": \"white\", \"ticks\": \"\"}, \"bgcolor\": \"#E5ECF6\", \"radialaxis\": {\"gridcolor\": \"white\", \"linecolor\": \"white\", \"ticks\": \"\"}}, \"scene\": {\"xaxis\": {\"backgroundcolor\": \"#E5ECF6\", \"gridcolor\": \"white\", \"gridwidth\": 2, \"linecolor\": \"white\", \"showbackground\": true, \"ticks\": \"\", \"zerolinecolor\": \"white\"}, \"yaxis\": {\"backgroundcolor\": \"#E5ECF6\", \"gridcolor\": \"white\", \"gridwidth\": 2, \"linecolor\": \"white\", \"showbackground\": true, \"ticks\": \"\", \"zerolinecolor\": \"white\"}, \"zaxis\": {\"backgroundcolor\": \"#E5ECF6\", \"gridcolor\": \"white\", \"gridwidth\": 2, \"linecolor\": \"white\", \"showbackground\": true, \"ticks\": \"\", \"zerolinecolor\": \"white\"}}, \"shapedefaults\": {\"line\": {\"color\": \"#2a3f5f\"}}, \"ternary\": {\"aaxis\": {\"gridcolor\": \"white\", \"linecolor\": \"white\", \"ticks\": \"\"}, \"baxis\": {\"gridcolor\": \"white\", \"linecolor\": \"white\", \"ticks\": \"\"}, \"bgcolor\": \"#E5ECF6\", \"caxis\": {\"gridcolor\": \"white\", \"linecolor\": \"white\", \"ticks\": \"\"}}, \"title\": {\"x\": 0.05}, \"xaxis\": {\"automargin\": true, \"gridcolor\": \"white\", \"linecolor\": \"white\", \"ticks\": \"\", \"title\": {\"standoff\": 15}, \"zerolinecolor\": \"white\", \"zerolinewidth\": 2}, \"yaxis\": {\"automargin\": true, \"gridcolor\": \"white\", \"linecolor\": \"white\", \"ticks\": \"\", \"title\": {\"standoff\": 15}, \"zerolinecolor\": \"white\", \"zerolinewidth\": 2}}}, \"title\": {\"font\": {\"color\": \"#4D5663\"}}, \"xaxis\": {\"gridcolor\": \"#E1E5ED\", \"showgrid\": true, \"tickfont\": {\"color\": \"#4D5663\"}, \"title\": {\"font\": {\"color\": \"#4D5663\"}, \"text\": \"\"}, \"zerolinecolor\": \"#E1E5ED\"}, \"yaxis\": {\"gridcolor\": \"#E1E5ED\", \"showgrid\": true, \"tickfont\": {\"color\": \"#4D5663\"}, \"title\": {\"font\": {\"color\": \"#4D5663\"}, \"text\": \"\"}, \"zerolinecolor\": \"#E1E5ED\"}},\n                        {\"showLink\": true, \"linkText\": \"Export to plot.ly\", \"plotlyServerURL\": \"https://plot.ly\", \"responsive\": true}\n                    ).then(function(){\n                            \nvar gd = document.getElementById('343bcd09-163b-417a-8e10-7fa7dfd591df');\nvar x = new MutationObserver(function (mutations, observer) {{\n        var display = window.getComputedStyle(gd).display;\n        if (!display || display === 'none') {{\n            console.log([gd, 'removed!']);\n            Plotly.purge(gd);\n            observer.disconnect();\n        }}\n}});\n\n// Listen for the removal of the full notebook cells\nvar notebookContainer = gd.closest('#notebook-container');\nif (notebookContainer) {{\n    x.observe(notebookContainer, {childList: true});\n}}\n\n// Listen for the clearing of the current output cell\nvar outputEl = gd.closest('.output');\nif (outputEl) {{\n    x.observe(outputEl, {childList: true});\n}}\n\n                        })\n                };\n                });\n            </script>\n        </div>"
     },
     "metadata": {}
    }
   ],
   "source": [
    "# other plot types\n",
    "df.iplot(kind='scatter',x='A',y='B',mode='markers',size=20)"
   ]
  },
  {
   "cell_type": "code",
   "execution_count": 36,
   "metadata": {},
   "outputs": [
    {
     "output_type": "display_data",
     "data": {
      "application/vnd.plotly.v1+json": {
       "config": {
        "linkText": "Export to plot.ly",
        "plotlyServerURL": "https://plot.ly",
        "showLink": true
       },
       "data": [
        {
         "marker": {
          "color": "rgba(255, 153, 51, 0.6)",
          "line": {
           "color": "rgba(255, 153, 51, 1.0)",
           "width": 1
          }
         },
         "name": "Values",
         "orientation": "v",
         "text": "",
         "type": "bar",
         "x": [
          "A",
          "B",
          "C"
         ],
         "y": [
          32,
          43,
          50
         ]
        }
       ],
       "layout": {
        "legend": {
         "bgcolor": "#F5F6F9",
         "font": {
          "color": "#4D5663"
         }
        },
        "paper_bgcolor": "#F5F6F9",
        "plot_bgcolor": "#F5F6F9",
        "template": {
         "data": {
          "bar": [
           {
            "error_x": {
             "color": "#2a3f5f"
            },
            "error_y": {
             "color": "#2a3f5f"
            },
            "marker": {
             "line": {
              "color": "#E5ECF6",
              "width": 0.5
             }
            },
            "type": "bar"
           }
          ],
          "barpolar": [
           {
            "marker": {
             "line": {
              "color": "#E5ECF6",
              "width": 0.5
             }
            },
            "type": "barpolar"
           }
          ],
          "carpet": [
           {
            "aaxis": {
             "endlinecolor": "#2a3f5f",
             "gridcolor": "white",
             "linecolor": "white",
             "minorgridcolor": "white",
             "startlinecolor": "#2a3f5f"
            },
            "baxis": {
             "endlinecolor": "#2a3f5f",
             "gridcolor": "white",
             "linecolor": "white",
             "minorgridcolor": "white",
             "startlinecolor": "#2a3f5f"
            },
            "type": "carpet"
           }
          ],
          "choropleth": [
           {
            "colorbar": {
             "outlinewidth": 0,
             "ticks": ""
            },
            "type": "choropleth"
           }
          ],
          "contour": [
           {
            "colorbar": {
             "outlinewidth": 0,
             "ticks": ""
            },
            "colorscale": [
             [
              0,
              "#0d0887"
             ],
             [
              0.1111111111111111,
              "#46039f"
             ],
             [
              0.2222222222222222,
              "#7201a8"
             ],
             [
              0.3333333333333333,
              "#9c179e"
             ],
             [
              0.4444444444444444,
              "#bd3786"
             ],
             [
              0.5555555555555556,
              "#d8576b"
             ],
             [
              0.6666666666666666,
              "#ed7953"
             ],
             [
              0.7777777777777778,
              "#fb9f3a"
             ],
             [
              0.8888888888888888,
              "#fdca26"
             ],
             [
              1,
              "#f0f921"
             ]
            ],
            "type": "contour"
           }
          ],
          "contourcarpet": [
           {
            "colorbar": {
             "outlinewidth": 0,
             "ticks": ""
            },
            "type": "contourcarpet"
           }
          ],
          "heatmap": [
           {
            "colorbar": {
             "outlinewidth": 0,
             "ticks": ""
            },
            "colorscale": [
             [
              0,
              "#0d0887"
             ],
             [
              0.1111111111111111,
              "#46039f"
             ],
             [
              0.2222222222222222,
              "#7201a8"
             ],
             [
              0.3333333333333333,
              "#9c179e"
             ],
             [
              0.4444444444444444,
              "#bd3786"
             ],
             [
              0.5555555555555556,
              "#d8576b"
             ],
             [
              0.6666666666666666,
              "#ed7953"
             ],
             [
              0.7777777777777778,
              "#fb9f3a"
             ],
             [
              0.8888888888888888,
              "#fdca26"
             ],
             [
              1,
              "#f0f921"
             ]
            ],
            "type": "heatmap"
           }
          ],
          "heatmapgl": [
           {
            "colorbar": {
             "outlinewidth": 0,
             "ticks": ""
            },
            "colorscale": [
             [
              0,
              "#0d0887"
             ],
             [
              0.1111111111111111,
              "#46039f"
             ],
             [
              0.2222222222222222,
              "#7201a8"
             ],
             [
              0.3333333333333333,
              "#9c179e"
             ],
             [
              0.4444444444444444,
              "#bd3786"
             ],
             [
              0.5555555555555556,
              "#d8576b"
             ],
             [
              0.6666666666666666,
              "#ed7953"
             ],
             [
              0.7777777777777778,
              "#fb9f3a"
             ],
             [
              0.8888888888888888,
              "#fdca26"
             ],
             [
              1,
              "#f0f921"
             ]
            ],
            "type": "heatmapgl"
           }
          ],
          "histogram": [
           {
            "marker": {
             "colorbar": {
              "outlinewidth": 0,
              "ticks": ""
             }
            },
            "type": "histogram"
           }
          ],
          "histogram2d": [
           {
            "colorbar": {
             "outlinewidth": 0,
             "ticks": ""
            },
            "colorscale": [
             [
              0,
              "#0d0887"
             ],
             [
              0.1111111111111111,
              "#46039f"
             ],
             [
              0.2222222222222222,
              "#7201a8"
             ],
             [
              0.3333333333333333,
              "#9c179e"
             ],
             [
              0.4444444444444444,
              "#bd3786"
             ],
             [
              0.5555555555555556,
              "#d8576b"
             ],
             [
              0.6666666666666666,
              "#ed7953"
             ],
             [
              0.7777777777777778,
              "#fb9f3a"
             ],
             [
              0.8888888888888888,
              "#fdca26"
             ],
             [
              1,
              "#f0f921"
             ]
            ],
            "type": "histogram2d"
           }
          ],
          "histogram2dcontour": [
           {
            "colorbar": {
             "outlinewidth": 0,
             "ticks": ""
            },
            "colorscale": [
             [
              0,
              "#0d0887"
             ],
             [
              0.1111111111111111,
              "#46039f"
             ],
             [
              0.2222222222222222,
              "#7201a8"
             ],
             [
              0.3333333333333333,
              "#9c179e"
             ],
             [
              0.4444444444444444,
              "#bd3786"
             ],
             [
              0.5555555555555556,
              "#d8576b"
             ],
             [
              0.6666666666666666,
              "#ed7953"
             ],
             [
              0.7777777777777778,
              "#fb9f3a"
             ],
             [
              0.8888888888888888,
              "#fdca26"
             ],
             [
              1,
              "#f0f921"
             ]
            ],
            "type": "histogram2dcontour"
           }
          ],
          "mesh3d": [
           {
            "colorbar": {
             "outlinewidth": 0,
             "ticks": ""
            },
            "type": "mesh3d"
           }
          ],
          "parcoords": [
           {
            "line": {
             "colorbar": {
              "outlinewidth": 0,
              "ticks": ""
             }
            },
            "type": "parcoords"
           }
          ],
          "pie": [
           {
            "automargin": true,
            "type": "pie"
           }
          ],
          "scatter": [
           {
            "marker": {
             "colorbar": {
              "outlinewidth": 0,
              "ticks": ""
             }
            },
            "type": "scatter"
           }
          ],
          "scatter3d": [
           {
            "line": {
             "colorbar": {
              "outlinewidth": 0,
              "ticks": ""
             }
            },
            "marker": {
             "colorbar": {
              "outlinewidth": 0,
              "ticks": ""
             }
            },
            "type": "scatter3d"
           }
          ],
          "scattercarpet": [
           {
            "marker": {
             "colorbar": {
              "outlinewidth": 0,
              "ticks": ""
             }
            },
            "type": "scattercarpet"
           }
          ],
          "scattergeo": [
           {
            "marker": {
             "colorbar": {
              "outlinewidth": 0,
              "ticks": ""
             }
            },
            "type": "scattergeo"
           }
          ],
          "scattergl": [
           {
            "marker": {
             "colorbar": {
              "outlinewidth": 0,
              "ticks": ""
             }
            },
            "type": "scattergl"
           }
          ],
          "scattermapbox": [
           {
            "marker": {
             "colorbar": {
              "outlinewidth": 0,
              "ticks": ""
             }
            },
            "type": "scattermapbox"
           }
          ],
          "scatterpolar": [
           {
            "marker": {
             "colorbar": {
              "outlinewidth": 0,
              "ticks": ""
             }
            },
            "type": "scatterpolar"
           }
          ],
          "scatterpolargl": [
           {
            "marker": {
             "colorbar": {
              "outlinewidth": 0,
              "ticks": ""
             }
            },
            "type": "scatterpolargl"
           }
          ],
          "scatterternary": [
           {
            "marker": {
             "colorbar": {
              "outlinewidth": 0,
              "ticks": ""
             }
            },
            "type": "scatterternary"
           }
          ],
          "surface": [
           {
            "colorbar": {
             "outlinewidth": 0,
             "ticks": ""
            },
            "colorscale": [
             [
              0,
              "#0d0887"
             ],
             [
              0.1111111111111111,
              "#46039f"
             ],
             [
              0.2222222222222222,
              "#7201a8"
             ],
             [
              0.3333333333333333,
              "#9c179e"
             ],
             [
              0.4444444444444444,
              "#bd3786"
             ],
             [
              0.5555555555555556,
              "#d8576b"
             ],
             [
              0.6666666666666666,
              "#ed7953"
             ],
             [
              0.7777777777777778,
              "#fb9f3a"
             ],
             [
              0.8888888888888888,
              "#fdca26"
             ],
             [
              1,
              "#f0f921"
             ]
            ],
            "type": "surface"
           }
          ],
          "table": [
           {
            "cells": {
             "fill": {
              "color": "#EBF0F8"
             },
             "line": {
              "color": "white"
             }
            },
            "header": {
             "fill": {
              "color": "#C8D4E3"
             },
             "line": {
              "color": "white"
             }
            },
            "type": "table"
           }
          ]
         },
         "layout": {
          "annotationdefaults": {
           "arrowcolor": "#2a3f5f",
           "arrowhead": 0,
           "arrowwidth": 1
          },
          "coloraxis": {
           "colorbar": {
            "outlinewidth": 0,
            "ticks": ""
           }
          },
          "colorscale": {
           "diverging": [
            [
             0,
             "#8e0152"
            ],
            [
             0.1,
             "#c51b7d"
            ],
            [
             0.2,
             "#de77ae"
            ],
            [
             0.3,
             "#f1b6da"
            ],
            [
             0.4,
             "#fde0ef"
            ],
            [
             0.5,
             "#f7f7f7"
            ],
            [
             0.6,
             "#e6f5d0"
            ],
            [
             0.7,
             "#b8e186"
            ],
            [
             0.8,
             "#7fbc41"
            ],
            [
             0.9,
             "#4d9221"
            ],
            [
             1,
             "#276419"
            ]
           ],
           "sequential": [
            [
             0,
             "#0d0887"
            ],
            [
             0.1111111111111111,
             "#46039f"
            ],
            [
             0.2222222222222222,
             "#7201a8"
            ],
            [
             0.3333333333333333,
             "#9c179e"
            ],
            [
             0.4444444444444444,
             "#bd3786"
            ],
            [
             0.5555555555555556,
             "#d8576b"
            ],
            [
             0.6666666666666666,
             "#ed7953"
            ],
            [
             0.7777777777777778,
             "#fb9f3a"
            ],
            [
             0.8888888888888888,
             "#fdca26"
            ],
            [
             1,
             "#f0f921"
            ]
           ],
           "sequentialminus": [
            [
             0,
             "#0d0887"
            ],
            [
             0.1111111111111111,
             "#46039f"
            ],
            [
             0.2222222222222222,
             "#7201a8"
            ],
            [
             0.3333333333333333,
             "#9c179e"
            ],
            [
             0.4444444444444444,
             "#bd3786"
            ],
            [
             0.5555555555555556,
             "#d8576b"
            ],
            [
             0.6666666666666666,
             "#ed7953"
            ],
            [
             0.7777777777777778,
             "#fb9f3a"
            ],
            [
             0.8888888888888888,
             "#fdca26"
            ],
            [
             1,
             "#f0f921"
            ]
           ]
          },
          "colorway": [
           "#636efa",
           "#EF553B",
           "#00cc96",
           "#ab63fa",
           "#FFA15A",
           "#19d3f3",
           "#FF6692",
           "#B6E880",
           "#FF97FF",
           "#FECB52"
          ],
          "font": {
           "color": "#2a3f5f"
          },
          "geo": {
           "bgcolor": "white",
           "lakecolor": "white",
           "landcolor": "#E5ECF6",
           "showlakes": true,
           "showland": true,
           "subunitcolor": "white"
          },
          "hoverlabel": {
           "align": "left"
          },
          "hovermode": "closest",
          "mapbox": {
           "style": "light"
          },
          "paper_bgcolor": "white",
          "plot_bgcolor": "#E5ECF6",
          "polar": {
           "angularaxis": {
            "gridcolor": "white",
            "linecolor": "white",
            "ticks": ""
           },
           "bgcolor": "#E5ECF6",
           "radialaxis": {
            "gridcolor": "white",
            "linecolor": "white",
            "ticks": ""
           }
          },
          "scene": {
           "xaxis": {
            "backgroundcolor": "#E5ECF6",
            "gridcolor": "white",
            "gridwidth": 2,
            "linecolor": "white",
            "showbackground": true,
            "ticks": "",
            "zerolinecolor": "white"
           },
           "yaxis": {
            "backgroundcolor": "#E5ECF6",
            "gridcolor": "white",
            "gridwidth": 2,
            "linecolor": "white",
            "showbackground": true,
            "ticks": "",
            "zerolinecolor": "white"
           },
           "zaxis": {
            "backgroundcolor": "#E5ECF6",
            "gridcolor": "white",
            "gridwidth": 2,
            "linecolor": "white",
            "showbackground": true,
            "ticks": "",
            "zerolinecolor": "white"
           }
          },
          "shapedefaults": {
           "line": {
            "color": "#2a3f5f"
           }
          },
          "ternary": {
           "aaxis": {
            "gridcolor": "white",
            "linecolor": "white",
            "ticks": ""
           },
           "baxis": {
            "gridcolor": "white",
            "linecolor": "white",
            "ticks": ""
           },
           "bgcolor": "#E5ECF6",
           "caxis": {
            "gridcolor": "white",
            "linecolor": "white",
            "ticks": ""
           }
          },
          "title": {
           "x": 0.05
          },
          "xaxis": {
           "automargin": true,
           "gridcolor": "white",
           "linecolor": "white",
           "ticks": "",
           "title": {
            "standoff": 15
           },
           "zerolinecolor": "white",
           "zerolinewidth": 2
          },
          "yaxis": {
           "automargin": true,
           "gridcolor": "white",
           "linecolor": "white",
           "ticks": "",
           "title": {
            "standoff": 15
           },
           "zerolinecolor": "white",
           "zerolinewidth": 2
          }
         }
        },
        "title": {
         "font": {
          "color": "#4D5663"
         }
        },
        "xaxis": {
         "gridcolor": "#E1E5ED",
         "showgrid": true,
         "tickfont": {
          "color": "#4D5663"
         },
         "title": {
          "font": {
           "color": "#4D5663"
          },
          "text": ""
         },
         "zerolinecolor": "#E1E5ED"
        },
        "yaxis": {
         "gridcolor": "#E1E5ED",
         "showgrid": true,
         "tickfont": {
          "color": "#4D5663"
         },
         "title": {
          "font": {
           "color": "#4D5663"
          },
          "text": ""
         },
         "zerolinecolor": "#E1E5ED"
        }
       }
      },
      "text/html": "<div>\n        \n        \n            <div id=\"52f34de3-5b81-44d0-93ea-960fa0578ac2\" class=\"plotly-graph-div\" style=\"height:525px; width:100%;\"></div>\n            <script type=\"text/javascript\">\n                require([\"plotly\"], function(Plotly) {\n                    window.PLOTLYENV=window.PLOTLYENV || {};\n                    window.PLOTLYENV.BASE_URL='https://plot.ly';\n                    \n                if (document.getElementById(\"52f34de3-5b81-44d0-93ea-960fa0578ac2\")) {\n                    Plotly.newPlot(\n                        '52f34de3-5b81-44d0-93ea-960fa0578ac2',\n                        [{\"marker\": {\"color\": \"rgba(255, 153, 51, 0.6)\", \"line\": {\"color\": \"rgba(255, 153, 51, 1.0)\", \"width\": 1}}, \"name\": \"Values\", \"orientation\": \"v\", \"text\": \"\", \"type\": \"bar\", \"x\": [\"A\", \"B\", \"C\"], \"y\": [32, 43, 50]}],\n                        {\"legend\": {\"bgcolor\": \"#F5F6F9\", \"font\": {\"color\": \"#4D5663\"}}, \"paper_bgcolor\": \"#F5F6F9\", \"plot_bgcolor\": \"#F5F6F9\", \"template\": {\"data\": {\"bar\": [{\"error_x\": {\"color\": \"#2a3f5f\"}, \"error_y\": {\"color\": \"#2a3f5f\"}, \"marker\": {\"line\": {\"color\": \"#E5ECF6\", \"width\": 0.5}}, \"type\": \"bar\"}], \"barpolar\": [{\"marker\": {\"line\": {\"color\": \"#E5ECF6\", \"width\": 0.5}}, \"type\": \"barpolar\"}], \"carpet\": [{\"aaxis\": {\"endlinecolor\": \"#2a3f5f\", \"gridcolor\": \"white\", \"linecolor\": \"white\", \"minorgridcolor\": \"white\", \"startlinecolor\": \"#2a3f5f\"}, \"baxis\": {\"endlinecolor\": \"#2a3f5f\", \"gridcolor\": \"white\", \"linecolor\": \"white\", \"minorgridcolor\": \"white\", \"startlinecolor\": \"#2a3f5f\"}, \"type\": \"carpet\"}], \"choropleth\": [{\"colorbar\": {\"outlinewidth\": 0, \"ticks\": \"\"}, \"type\": \"choropleth\"}], \"contour\": [{\"colorbar\": {\"outlinewidth\": 0, \"ticks\": \"\"}, \"colorscale\": [[0.0, \"#0d0887\"], [0.1111111111111111, \"#46039f\"], [0.2222222222222222, \"#7201a8\"], [0.3333333333333333, \"#9c179e\"], [0.4444444444444444, \"#bd3786\"], [0.5555555555555556, \"#d8576b\"], [0.6666666666666666, \"#ed7953\"], [0.7777777777777778, \"#fb9f3a\"], [0.8888888888888888, \"#fdca26\"], [1.0, \"#f0f921\"]], \"type\": \"contour\"}], \"contourcarpet\": [{\"colorbar\": {\"outlinewidth\": 0, \"ticks\": \"\"}, \"type\": \"contourcarpet\"}], \"heatmap\": [{\"colorbar\": {\"outlinewidth\": 0, \"ticks\": \"\"}, \"colorscale\": [[0.0, \"#0d0887\"], [0.1111111111111111, \"#46039f\"], [0.2222222222222222, \"#7201a8\"], [0.3333333333333333, \"#9c179e\"], [0.4444444444444444, \"#bd3786\"], [0.5555555555555556, \"#d8576b\"], [0.6666666666666666, \"#ed7953\"], [0.7777777777777778, \"#fb9f3a\"], [0.8888888888888888, \"#fdca26\"], [1.0, \"#f0f921\"]], \"type\": \"heatmap\"}], \"heatmapgl\": [{\"colorbar\": {\"outlinewidth\": 0, \"ticks\": \"\"}, \"colorscale\": [[0.0, \"#0d0887\"], [0.1111111111111111, \"#46039f\"], [0.2222222222222222, \"#7201a8\"], [0.3333333333333333, \"#9c179e\"], [0.4444444444444444, \"#bd3786\"], [0.5555555555555556, \"#d8576b\"], [0.6666666666666666, \"#ed7953\"], [0.7777777777777778, \"#fb9f3a\"], [0.8888888888888888, \"#fdca26\"], [1.0, \"#f0f921\"]], \"type\": \"heatmapgl\"}], \"histogram\": [{\"marker\": {\"colorbar\": {\"outlinewidth\": 0, \"ticks\": \"\"}}, \"type\": \"histogram\"}], \"histogram2d\": [{\"colorbar\": {\"outlinewidth\": 0, \"ticks\": \"\"}, \"colorscale\": [[0.0, \"#0d0887\"], [0.1111111111111111, \"#46039f\"], [0.2222222222222222, \"#7201a8\"], [0.3333333333333333, \"#9c179e\"], [0.4444444444444444, \"#bd3786\"], [0.5555555555555556, \"#d8576b\"], [0.6666666666666666, \"#ed7953\"], [0.7777777777777778, \"#fb9f3a\"], [0.8888888888888888, \"#fdca26\"], [1.0, \"#f0f921\"]], \"type\": \"histogram2d\"}], \"histogram2dcontour\": [{\"colorbar\": {\"outlinewidth\": 0, \"ticks\": \"\"}, \"colorscale\": [[0.0, \"#0d0887\"], [0.1111111111111111, \"#46039f\"], [0.2222222222222222, \"#7201a8\"], [0.3333333333333333, \"#9c179e\"], [0.4444444444444444, \"#bd3786\"], [0.5555555555555556, \"#d8576b\"], [0.6666666666666666, \"#ed7953\"], [0.7777777777777778, \"#fb9f3a\"], [0.8888888888888888, \"#fdca26\"], [1.0, \"#f0f921\"]], \"type\": \"histogram2dcontour\"}], \"mesh3d\": [{\"colorbar\": {\"outlinewidth\": 0, \"ticks\": \"\"}, \"type\": \"mesh3d\"}], \"parcoords\": [{\"line\": {\"colorbar\": {\"outlinewidth\": 0, \"ticks\": \"\"}}, \"type\": \"parcoords\"}], \"pie\": [{\"automargin\": true, \"type\": \"pie\"}], \"scatter\": [{\"marker\": {\"colorbar\": {\"outlinewidth\": 0, \"ticks\": \"\"}}, \"type\": \"scatter\"}], \"scatter3d\": [{\"line\": {\"colorbar\": {\"outlinewidth\": 0, \"ticks\": \"\"}}, \"marker\": {\"colorbar\": {\"outlinewidth\": 0, \"ticks\": \"\"}}, \"type\": \"scatter3d\"}], \"scattercarpet\": [{\"marker\": {\"colorbar\": {\"outlinewidth\": 0, \"ticks\": \"\"}}, \"type\": \"scattercarpet\"}], \"scattergeo\": [{\"marker\": {\"colorbar\": {\"outlinewidth\": 0, \"ticks\": \"\"}}, \"type\": \"scattergeo\"}], \"scattergl\": [{\"marker\": {\"colorbar\": {\"outlinewidth\": 0, \"ticks\": \"\"}}, \"type\": \"scattergl\"}], \"scattermapbox\": [{\"marker\": {\"colorbar\": {\"outlinewidth\": 0, \"ticks\": \"\"}}, \"type\": \"scattermapbox\"}], \"scatterpolar\": [{\"marker\": {\"colorbar\": {\"outlinewidth\": 0, \"ticks\": \"\"}}, \"type\": \"scatterpolar\"}], \"scatterpolargl\": [{\"marker\": {\"colorbar\": {\"outlinewidth\": 0, \"ticks\": \"\"}}, \"type\": \"scatterpolargl\"}], \"scatterternary\": [{\"marker\": {\"colorbar\": {\"outlinewidth\": 0, \"ticks\": \"\"}}, \"type\": \"scatterternary\"}], \"surface\": [{\"colorbar\": {\"outlinewidth\": 0, \"ticks\": \"\"}, \"colorscale\": [[0.0, \"#0d0887\"], [0.1111111111111111, \"#46039f\"], [0.2222222222222222, \"#7201a8\"], [0.3333333333333333, \"#9c179e\"], [0.4444444444444444, \"#bd3786\"], [0.5555555555555556, \"#d8576b\"], [0.6666666666666666, \"#ed7953\"], [0.7777777777777778, \"#fb9f3a\"], [0.8888888888888888, \"#fdca26\"], [1.0, \"#f0f921\"]], \"type\": \"surface\"}], \"table\": [{\"cells\": {\"fill\": {\"color\": \"#EBF0F8\"}, \"line\": {\"color\": \"white\"}}, \"header\": {\"fill\": {\"color\": \"#C8D4E3\"}, \"line\": {\"color\": \"white\"}}, \"type\": \"table\"}]}, \"layout\": {\"annotationdefaults\": {\"arrowcolor\": \"#2a3f5f\", \"arrowhead\": 0, \"arrowwidth\": 1}, \"coloraxis\": {\"colorbar\": {\"outlinewidth\": 0, \"ticks\": \"\"}}, \"colorscale\": {\"diverging\": [[0, \"#8e0152\"], [0.1, \"#c51b7d\"], [0.2, \"#de77ae\"], [0.3, \"#f1b6da\"], [0.4, \"#fde0ef\"], [0.5, \"#f7f7f7\"], [0.6, \"#e6f5d0\"], [0.7, \"#b8e186\"], [0.8, \"#7fbc41\"], [0.9, \"#4d9221\"], [1, \"#276419\"]], \"sequential\": [[0.0, \"#0d0887\"], [0.1111111111111111, \"#46039f\"], [0.2222222222222222, \"#7201a8\"], [0.3333333333333333, \"#9c179e\"], [0.4444444444444444, \"#bd3786\"], [0.5555555555555556, \"#d8576b\"], [0.6666666666666666, \"#ed7953\"], [0.7777777777777778, \"#fb9f3a\"], [0.8888888888888888, \"#fdca26\"], [1.0, \"#f0f921\"]], \"sequentialminus\": [[0.0, \"#0d0887\"], [0.1111111111111111, \"#46039f\"], [0.2222222222222222, \"#7201a8\"], [0.3333333333333333, \"#9c179e\"], [0.4444444444444444, \"#bd3786\"], [0.5555555555555556, \"#d8576b\"], [0.6666666666666666, \"#ed7953\"], [0.7777777777777778, \"#fb9f3a\"], [0.8888888888888888, \"#fdca26\"], [1.0, \"#f0f921\"]]}, \"colorway\": [\"#636efa\", \"#EF553B\", \"#00cc96\", \"#ab63fa\", \"#FFA15A\", \"#19d3f3\", \"#FF6692\", \"#B6E880\", \"#FF97FF\", \"#FECB52\"], \"font\": {\"color\": \"#2a3f5f\"}, \"geo\": {\"bgcolor\": \"white\", \"lakecolor\": \"white\", \"landcolor\": \"#E5ECF6\", \"showlakes\": true, \"showland\": true, \"subunitcolor\": \"white\"}, \"hoverlabel\": {\"align\": \"left\"}, \"hovermode\": \"closest\", \"mapbox\": {\"style\": \"light\"}, \"paper_bgcolor\": \"white\", \"plot_bgcolor\": \"#E5ECF6\", \"polar\": {\"angularaxis\": {\"gridcolor\": \"white\", \"linecolor\": \"white\", \"ticks\": \"\"}, \"bgcolor\": \"#E5ECF6\", \"radialaxis\": {\"gridcolor\": \"white\", \"linecolor\": \"white\", \"ticks\": \"\"}}, \"scene\": {\"xaxis\": {\"backgroundcolor\": \"#E5ECF6\", \"gridcolor\": \"white\", \"gridwidth\": 2, \"linecolor\": \"white\", \"showbackground\": true, \"ticks\": \"\", \"zerolinecolor\": \"white\"}, \"yaxis\": {\"backgroundcolor\": \"#E5ECF6\", \"gridcolor\": \"white\", \"gridwidth\": 2, \"linecolor\": \"white\", \"showbackground\": true, \"ticks\": \"\", \"zerolinecolor\": \"white\"}, \"zaxis\": {\"backgroundcolor\": \"#E5ECF6\", \"gridcolor\": \"white\", \"gridwidth\": 2, \"linecolor\": \"white\", \"showbackground\": true, \"ticks\": \"\", \"zerolinecolor\": \"white\"}}, \"shapedefaults\": {\"line\": {\"color\": \"#2a3f5f\"}}, \"ternary\": {\"aaxis\": {\"gridcolor\": \"white\", \"linecolor\": \"white\", \"ticks\": \"\"}, \"baxis\": {\"gridcolor\": \"white\", \"linecolor\": \"white\", \"ticks\": \"\"}, \"bgcolor\": \"#E5ECF6\", \"caxis\": {\"gridcolor\": \"white\", \"linecolor\": \"white\", \"ticks\": \"\"}}, \"title\": {\"x\": 0.05}, \"xaxis\": {\"automargin\": true, \"gridcolor\": \"white\", \"linecolor\": \"white\", \"ticks\": \"\", \"title\": {\"standoff\": 15}, \"zerolinecolor\": \"white\", \"zerolinewidth\": 2}, \"yaxis\": {\"automargin\": true, \"gridcolor\": \"white\", \"linecolor\": \"white\", \"ticks\": \"\", \"title\": {\"standoff\": 15}, \"zerolinecolor\": \"white\", \"zerolinewidth\": 2}}}, \"title\": {\"font\": {\"color\": \"#4D5663\"}}, \"xaxis\": {\"gridcolor\": \"#E1E5ED\", \"showgrid\": true, \"tickfont\": {\"color\": \"#4D5663\"}, \"title\": {\"font\": {\"color\": \"#4D5663\"}, \"text\": \"\"}, \"zerolinecolor\": \"#E1E5ED\"}, \"yaxis\": {\"gridcolor\": \"#E1E5ED\", \"showgrid\": true, \"tickfont\": {\"color\": \"#4D5663\"}, \"title\": {\"font\": {\"color\": \"#4D5663\"}, \"text\": \"\"}, \"zerolinecolor\": \"#E1E5ED\"}},\n                        {\"showLink\": true, \"linkText\": \"Export to plot.ly\", \"plotlyServerURL\": \"https://plot.ly\", \"responsive\": true}\n                    ).then(function(){\n                            \nvar gd = document.getElementById('52f34de3-5b81-44d0-93ea-960fa0578ac2');\nvar x = new MutationObserver(function (mutations, observer) {{\n        var display = window.getComputedStyle(gd).display;\n        if (!display || display === 'none') {{\n            console.log([gd, 'removed!']);\n            Plotly.purge(gd);\n            observer.disconnect();\n        }}\n}});\n\n// Listen for the removal of the full notebook cells\nvar notebookContainer = gd.closest('#notebook-container');\nif (notebookContainer) {{\n    x.observe(notebookContainer, {childList: true});\n}}\n\n// Listen for the clearing of the current output cell\nvar outputEl = gd.closest('.output');\nif (outputEl) {{\n    x.observe(outputEl, {childList: true});\n}}\n\n                        })\n                };\n                });\n            </script>\n        </div>"
     },
     "metadata": {}
    }
   ],
   "source": [
    "# bar plot \n",
    "df2.iplot(kind='bar',x='Category',y='Values')"
   ]
  },
  {
   "cell_type": "code",
   "execution_count": 40,
   "metadata": {},
   "outputs": [
    {
     "output_type": "display_data",
     "data": {
      "application/vnd.plotly.v1+json": {
       "config": {
        "linkText": "Export to plot.ly",
        "plotlyServerURL": "https://plot.ly",
        "showLink": true
       },
       "data": [
        {
         "marker": {
          "color": "rgba(255, 153, 51, 0.6)",
          "line": {
           "color": "rgba(255, 153, 51, 1.0)",
           "width": 1
          }
         },
         "name": "None",
         "orientation": "v",
         "text": "",
         "type": "bar",
         "x": [
          "A",
          "B",
          "C",
          "D"
         ],
         "y": [
          -6.068435040001203,
          9.299050548285402,
          8.033833404459882,
          1.795121301318361
         ]
        }
       ],
       "layout": {
        "legend": {
         "bgcolor": "#F5F6F9",
         "font": {
          "color": "#4D5663"
         }
        },
        "paper_bgcolor": "#F5F6F9",
        "plot_bgcolor": "#F5F6F9",
        "template": {
         "data": {
          "bar": [
           {
            "error_x": {
             "color": "#2a3f5f"
            },
            "error_y": {
             "color": "#2a3f5f"
            },
            "marker": {
             "line": {
              "color": "#E5ECF6",
              "width": 0.5
             }
            },
            "type": "bar"
           }
          ],
          "barpolar": [
           {
            "marker": {
             "line": {
              "color": "#E5ECF6",
              "width": 0.5
             }
            },
            "type": "barpolar"
           }
          ],
          "carpet": [
           {
            "aaxis": {
             "endlinecolor": "#2a3f5f",
             "gridcolor": "white",
             "linecolor": "white",
             "minorgridcolor": "white",
             "startlinecolor": "#2a3f5f"
            },
            "baxis": {
             "endlinecolor": "#2a3f5f",
             "gridcolor": "white",
             "linecolor": "white",
             "minorgridcolor": "white",
             "startlinecolor": "#2a3f5f"
            },
            "type": "carpet"
           }
          ],
          "choropleth": [
           {
            "colorbar": {
             "outlinewidth": 0,
             "ticks": ""
            },
            "type": "choropleth"
           }
          ],
          "contour": [
           {
            "colorbar": {
             "outlinewidth": 0,
             "ticks": ""
            },
            "colorscale": [
             [
              0,
              "#0d0887"
             ],
             [
              0.1111111111111111,
              "#46039f"
             ],
             [
              0.2222222222222222,
              "#7201a8"
             ],
             [
              0.3333333333333333,
              "#9c179e"
             ],
             [
              0.4444444444444444,
              "#bd3786"
             ],
             [
              0.5555555555555556,
              "#d8576b"
             ],
             [
              0.6666666666666666,
              "#ed7953"
             ],
             [
              0.7777777777777778,
              "#fb9f3a"
             ],
             [
              0.8888888888888888,
              "#fdca26"
             ],
             [
              1,
              "#f0f921"
             ]
            ],
            "type": "contour"
           }
          ],
          "contourcarpet": [
           {
            "colorbar": {
             "outlinewidth": 0,
             "ticks": ""
            },
            "type": "contourcarpet"
           }
          ],
          "heatmap": [
           {
            "colorbar": {
             "outlinewidth": 0,
             "ticks": ""
            },
            "colorscale": [
             [
              0,
              "#0d0887"
             ],
             [
              0.1111111111111111,
              "#46039f"
             ],
             [
              0.2222222222222222,
              "#7201a8"
             ],
             [
              0.3333333333333333,
              "#9c179e"
             ],
             [
              0.4444444444444444,
              "#bd3786"
             ],
             [
              0.5555555555555556,
              "#d8576b"
             ],
             [
              0.6666666666666666,
              "#ed7953"
             ],
             [
              0.7777777777777778,
              "#fb9f3a"
             ],
             [
              0.8888888888888888,
              "#fdca26"
             ],
             [
              1,
              "#f0f921"
             ]
            ],
            "type": "heatmap"
           }
          ],
          "heatmapgl": [
           {
            "colorbar": {
             "outlinewidth": 0,
             "ticks": ""
            },
            "colorscale": [
             [
              0,
              "#0d0887"
             ],
             [
              0.1111111111111111,
              "#46039f"
             ],
             [
              0.2222222222222222,
              "#7201a8"
             ],
             [
              0.3333333333333333,
              "#9c179e"
             ],
             [
              0.4444444444444444,
              "#bd3786"
             ],
             [
              0.5555555555555556,
              "#d8576b"
             ],
             [
              0.6666666666666666,
              "#ed7953"
             ],
             [
              0.7777777777777778,
              "#fb9f3a"
             ],
             [
              0.8888888888888888,
              "#fdca26"
             ],
             [
              1,
              "#f0f921"
             ]
            ],
            "type": "heatmapgl"
           }
          ],
          "histogram": [
           {
            "marker": {
             "colorbar": {
              "outlinewidth": 0,
              "ticks": ""
             }
            },
            "type": "histogram"
           }
          ],
          "histogram2d": [
           {
            "colorbar": {
             "outlinewidth": 0,
             "ticks": ""
            },
            "colorscale": [
             [
              0,
              "#0d0887"
             ],
             [
              0.1111111111111111,
              "#46039f"
             ],
             [
              0.2222222222222222,
              "#7201a8"
             ],
             [
              0.3333333333333333,
              "#9c179e"
             ],
             [
              0.4444444444444444,
              "#bd3786"
             ],
             [
              0.5555555555555556,
              "#d8576b"
             ],
             [
              0.6666666666666666,
              "#ed7953"
             ],
             [
              0.7777777777777778,
              "#fb9f3a"
             ],
             [
              0.8888888888888888,
              "#fdca26"
             ],
             [
              1,
              "#f0f921"
             ]
            ],
            "type": "histogram2d"
           }
          ],
          "histogram2dcontour": [
           {
            "colorbar": {
             "outlinewidth": 0,
             "ticks": ""
            },
            "colorscale": [
             [
              0,
              "#0d0887"
             ],
             [
              0.1111111111111111,
              "#46039f"
             ],
             [
              0.2222222222222222,
              "#7201a8"
             ],
             [
              0.3333333333333333,
              "#9c179e"
             ],
             [
              0.4444444444444444,
              "#bd3786"
             ],
             [
              0.5555555555555556,
              "#d8576b"
             ],
             [
              0.6666666666666666,
              "#ed7953"
             ],
             [
              0.7777777777777778,
              "#fb9f3a"
             ],
             [
              0.8888888888888888,
              "#fdca26"
             ],
             [
              1,
              "#f0f921"
             ]
            ],
            "type": "histogram2dcontour"
           }
          ],
          "mesh3d": [
           {
            "colorbar": {
             "outlinewidth": 0,
             "ticks": ""
            },
            "type": "mesh3d"
           }
          ],
          "parcoords": [
           {
            "line": {
             "colorbar": {
              "outlinewidth": 0,
              "ticks": ""
             }
            },
            "type": "parcoords"
           }
          ],
          "pie": [
           {
            "automargin": true,
            "type": "pie"
           }
          ],
          "scatter": [
           {
            "marker": {
             "colorbar": {
              "outlinewidth": 0,
              "ticks": ""
             }
            },
            "type": "scatter"
           }
          ],
          "scatter3d": [
           {
            "line": {
             "colorbar": {
              "outlinewidth": 0,
              "ticks": ""
             }
            },
            "marker": {
             "colorbar": {
              "outlinewidth": 0,
              "ticks": ""
             }
            },
            "type": "scatter3d"
           }
          ],
          "scattercarpet": [
           {
            "marker": {
             "colorbar": {
              "outlinewidth": 0,
              "ticks": ""
             }
            },
            "type": "scattercarpet"
           }
          ],
          "scattergeo": [
           {
            "marker": {
             "colorbar": {
              "outlinewidth": 0,
              "ticks": ""
             }
            },
            "type": "scattergeo"
           }
          ],
          "scattergl": [
           {
            "marker": {
             "colorbar": {
              "outlinewidth": 0,
              "ticks": ""
             }
            },
            "type": "scattergl"
           }
          ],
          "scattermapbox": [
           {
            "marker": {
             "colorbar": {
              "outlinewidth": 0,
              "ticks": ""
             }
            },
            "type": "scattermapbox"
           }
          ],
          "scatterpolar": [
           {
            "marker": {
             "colorbar": {
              "outlinewidth": 0,
              "ticks": ""
             }
            },
            "type": "scatterpolar"
           }
          ],
          "scatterpolargl": [
           {
            "marker": {
             "colorbar": {
              "outlinewidth": 0,
              "ticks": ""
             }
            },
            "type": "scatterpolargl"
           }
          ],
          "scatterternary": [
           {
            "marker": {
             "colorbar": {
              "outlinewidth": 0,
              "ticks": ""
             }
            },
            "type": "scatterternary"
           }
          ],
          "surface": [
           {
            "colorbar": {
             "outlinewidth": 0,
             "ticks": ""
            },
            "colorscale": [
             [
              0,
              "#0d0887"
             ],
             [
              0.1111111111111111,
              "#46039f"
             ],
             [
              0.2222222222222222,
              "#7201a8"
             ],
             [
              0.3333333333333333,
              "#9c179e"
             ],
             [
              0.4444444444444444,
              "#bd3786"
             ],
             [
              0.5555555555555556,
              "#d8576b"
             ],
             [
              0.6666666666666666,
              "#ed7953"
             ],
             [
              0.7777777777777778,
              "#fb9f3a"
             ],
             [
              0.8888888888888888,
              "#fdca26"
             ],
             [
              1,
              "#f0f921"
             ]
            ],
            "type": "surface"
           }
          ],
          "table": [
           {
            "cells": {
             "fill": {
              "color": "#EBF0F8"
             },
             "line": {
              "color": "white"
             }
            },
            "header": {
             "fill": {
              "color": "#C8D4E3"
             },
             "line": {
              "color": "white"
             }
            },
            "type": "table"
           }
          ]
         },
         "layout": {
          "annotationdefaults": {
           "arrowcolor": "#2a3f5f",
           "arrowhead": 0,
           "arrowwidth": 1
          },
          "coloraxis": {
           "colorbar": {
            "outlinewidth": 0,
            "ticks": ""
           }
          },
          "colorscale": {
           "diverging": [
            [
             0,
             "#8e0152"
            ],
            [
             0.1,
             "#c51b7d"
            ],
            [
             0.2,
             "#de77ae"
            ],
            [
             0.3,
             "#f1b6da"
            ],
            [
             0.4,
             "#fde0ef"
            ],
            [
             0.5,
             "#f7f7f7"
            ],
            [
             0.6,
             "#e6f5d0"
            ],
            [
             0.7,
             "#b8e186"
            ],
            [
             0.8,
             "#7fbc41"
            ],
            [
             0.9,
             "#4d9221"
            ],
            [
             1,
             "#276419"
            ]
           ],
           "sequential": [
            [
             0,
             "#0d0887"
            ],
            [
             0.1111111111111111,
             "#46039f"
            ],
            [
             0.2222222222222222,
             "#7201a8"
            ],
            [
             0.3333333333333333,
             "#9c179e"
            ],
            [
             0.4444444444444444,
             "#bd3786"
            ],
            [
             0.5555555555555556,
             "#d8576b"
            ],
            [
             0.6666666666666666,
             "#ed7953"
            ],
            [
             0.7777777777777778,
             "#fb9f3a"
            ],
            [
             0.8888888888888888,
             "#fdca26"
            ],
            [
             1,
             "#f0f921"
            ]
           ],
           "sequentialminus": [
            [
             0,
             "#0d0887"
            ],
            [
             0.1111111111111111,
             "#46039f"
            ],
            [
             0.2222222222222222,
             "#7201a8"
            ],
            [
             0.3333333333333333,
             "#9c179e"
            ],
            [
             0.4444444444444444,
             "#bd3786"
            ],
            [
             0.5555555555555556,
             "#d8576b"
            ],
            [
             0.6666666666666666,
             "#ed7953"
            ],
            [
             0.7777777777777778,
             "#fb9f3a"
            ],
            [
             0.8888888888888888,
             "#fdca26"
            ],
            [
             1,
             "#f0f921"
            ]
           ]
          },
          "colorway": [
           "#636efa",
           "#EF553B",
           "#00cc96",
           "#ab63fa",
           "#FFA15A",
           "#19d3f3",
           "#FF6692",
           "#B6E880",
           "#FF97FF",
           "#FECB52"
          ],
          "font": {
           "color": "#2a3f5f"
          },
          "geo": {
           "bgcolor": "white",
           "lakecolor": "white",
           "landcolor": "#E5ECF6",
           "showlakes": true,
           "showland": true,
           "subunitcolor": "white"
          },
          "hoverlabel": {
           "align": "left"
          },
          "hovermode": "closest",
          "mapbox": {
           "style": "light"
          },
          "paper_bgcolor": "white",
          "plot_bgcolor": "#E5ECF6",
          "polar": {
           "angularaxis": {
            "gridcolor": "white",
            "linecolor": "white",
            "ticks": ""
           },
           "bgcolor": "#E5ECF6",
           "radialaxis": {
            "gridcolor": "white",
            "linecolor": "white",
            "ticks": ""
           }
          },
          "scene": {
           "xaxis": {
            "backgroundcolor": "#E5ECF6",
            "gridcolor": "white",
            "gridwidth": 2,
            "linecolor": "white",
            "showbackground": true,
            "ticks": "",
            "zerolinecolor": "white"
           },
           "yaxis": {
            "backgroundcolor": "#E5ECF6",
            "gridcolor": "white",
            "gridwidth": 2,
            "linecolor": "white",
            "showbackground": true,
            "ticks": "",
            "zerolinecolor": "white"
           },
           "zaxis": {
            "backgroundcolor": "#E5ECF6",
            "gridcolor": "white",
            "gridwidth": 2,
            "linecolor": "white",
            "showbackground": true,
            "ticks": "",
            "zerolinecolor": "white"
           }
          },
          "shapedefaults": {
           "line": {
            "color": "#2a3f5f"
           }
          },
          "ternary": {
           "aaxis": {
            "gridcolor": "white",
            "linecolor": "white",
            "ticks": ""
           },
           "baxis": {
            "gridcolor": "white",
            "linecolor": "white",
            "ticks": ""
           },
           "bgcolor": "#E5ECF6",
           "caxis": {
            "gridcolor": "white",
            "linecolor": "white",
            "ticks": ""
           }
          },
          "title": {
           "x": 0.05
          },
          "xaxis": {
           "automargin": true,
           "gridcolor": "white",
           "linecolor": "white",
           "ticks": "",
           "title": {
            "standoff": 15
           },
           "zerolinecolor": "white",
           "zerolinewidth": 2
          },
          "yaxis": {
           "automargin": true,
           "gridcolor": "white",
           "linecolor": "white",
           "ticks": "",
           "title": {
            "standoff": 15
           },
           "zerolinecolor": "white",
           "zerolinewidth": 2
          }
         }
        },
        "title": {
         "font": {
          "color": "#4D5663"
         }
        },
        "xaxis": {
         "gridcolor": "#E1E5ED",
         "showgrid": true,
         "tickfont": {
          "color": "#4D5663"
         },
         "title": {
          "font": {
           "color": "#4D5663"
          },
          "text": ""
         },
         "zerolinecolor": "#E1E5ED"
        },
        "yaxis": {
         "gridcolor": "#E1E5ED",
         "showgrid": true,
         "tickfont": {
          "color": "#4D5663"
         },
         "title": {
          "font": {
           "color": "#4D5663"
          },
          "text": ""
         },
         "zerolinecolor": "#E1E5ED"
        }
       }
      },
      "text/html": "<div>\n        \n        \n            <div id=\"c8c2f6c6-8058-4be8-9c1d-c79d968b9199\" class=\"plotly-graph-div\" style=\"height:525px; width:100%;\"></div>\n            <script type=\"text/javascript\">\n                require([\"plotly\"], function(Plotly) {\n                    window.PLOTLYENV=window.PLOTLYENV || {};\n                    window.PLOTLYENV.BASE_URL='https://plot.ly';\n                    \n                if (document.getElementById(\"c8c2f6c6-8058-4be8-9c1d-c79d968b9199\")) {\n                    Plotly.newPlot(\n                        'c8c2f6c6-8058-4be8-9c1d-c79d968b9199',\n                        [{\"marker\": {\"color\": \"rgba(255, 153, 51, 0.6)\", \"line\": {\"color\": \"rgba(255, 153, 51, 1.0)\", \"width\": 1}}, \"name\": \"None\", \"orientation\": \"v\", \"text\": \"\", \"type\": \"bar\", \"x\": [\"A\", \"B\", \"C\", \"D\"], \"y\": [-6.068435040001203, 9.299050548285402, 8.033833404459882, 1.795121301318361]}],\n                        {\"legend\": {\"bgcolor\": \"#F5F6F9\", \"font\": {\"color\": \"#4D5663\"}}, \"paper_bgcolor\": \"#F5F6F9\", \"plot_bgcolor\": \"#F5F6F9\", \"template\": {\"data\": {\"bar\": [{\"error_x\": {\"color\": \"#2a3f5f\"}, \"error_y\": {\"color\": \"#2a3f5f\"}, \"marker\": {\"line\": {\"color\": \"#E5ECF6\", \"width\": 0.5}}, \"type\": \"bar\"}], \"barpolar\": [{\"marker\": {\"line\": {\"color\": \"#E5ECF6\", \"width\": 0.5}}, \"type\": \"barpolar\"}], \"carpet\": [{\"aaxis\": {\"endlinecolor\": \"#2a3f5f\", \"gridcolor\": \"white\", \"linecolor\": \"white\", \"minorgridcolor\": \"white\", \"startlinecolor\": \"#2a3f5f\"}, \"baxis\": {\"endlinecolor\": \"#2a3f5f\", \"gridcolor\": \"white\", \"linecolor\": \"white\", \"minorgridcolor\": \"white\", \"startlinecolor\": \"#2a3f5f\"}, \"type\": \"carpet\"}], \"choropleth\": [{\"colorbar\": {\"outlinewidth\": 0, \"ticks\": \"\"}, \"type\": \"choropleth\"}], \"contour\": [{\"colorbar\": {\"outlinewidth\": 0, \"ticks\": \"\"}, \"colorscale\": [[0.0, \"#0d0887\"], [0.1111111111111111, \"#46039f\"], [0.2222222222222222, \"#7201a8\"], [0.3333333333333333, \"#9c179e\"], [0.4444444444444444, \"#bd3786\"], [0.5555555555555556, \"#d8576b\"], [0.6666666666666666, \"#ed7953\"], [0.7777777777777778, \"#fb9f3a\"], [0.8888888888888888, \"#fdca26\"], [1.0, \"#f0f921\"]], \"type\": \"contour\"}], \"contourcarpet\": [{\"colorbar\": {\"outlinewidth\": 0, \"ticks\": \"\"}, \"type\": \"contourcarpet\"}], \"heatmap\": [{\"colorbar\": {\"outlinewidth\": 0, \"ticks\": \"\"}, \"colorscale\": [[0.0, \"#0d0887\"], [0.1111111111111111, \"#46039f\"], [0.2222222222222222, \"#7201a8\"], [0.3333333333333333, \"#9c179e\"], [0.4444444444444444, \"#bd3786\"], [0.5555555555555556, \"#d8576b\"], [0.6666666666666666, \"#ed7953\"], [0.7777777777777778, \"#fb9f3a\"], [0.8888888888888888, \"#fdca26\"], [1.0, \"#f0f921\"]], \"type\": \"heatmap\"}], \"heatmapgl\": [{\"colorbar\": {\"outlinewidth\": 0, \"ticks\": \"\"}, \"colorscale\": [[0.0, \"#0d0887\"], [0.1111111111111111, \"#46039f\"], [0.2222222222222222, \"#7201a8\"], [0.3333333333333333, \"#9c179e\"], [0.4444444444444444, \"#bd3786\"], [0.5555555555555556, \"#d8576b\"], [0.6666666666666666, \"#ed7953\"], [0.7777777777777778, \"#fb9f3a\"], [0.8888888888888888, \"#fdca26\"], [1.0, \"#f0f921\"]], \"type\": \"heatmapgl\"}], \"histogram\": [{\"marker\": {\"colorbar\": {\"outlinewidth\": 0, \"ticks\": \"\"}}, \"type\": \"histogram\"}], \"histogram2d\": [{\"colorbar\": {\"outlinewidth\": 0, \"ticks\": \"\"}, \"colorscale\": [[0.0, \"#0d0887\"], [0.1111111111111111, \"#46039f\"], [0.2222222222222222, \"#7201a8\"], [0.3333333333333333, \"#9c179e\"], [0.4444444444444444, \"#bd3786\"], [0.5555555555555556, \"#d8576b\"], [0.6666666666666666, \"#ed7953\"], [0.7777777777777778, \"#fb9f3a\"], [0.8888888888888888, \"#fdca26\"], [1.0, \"#f0f921\"]], \"type\": \"histogram2d\"}], \"histogram2dcontour\": [{\"colorbar\": {\"outlinewidth\": 0, \"ticks\": \"\"}, \"colorscale\": [[0.0, \"#0d0887\"], [0.1111111111111111, \"#46039f\"], [0.2222222222222222, \"#7201a8\"], [0.3333333333333333, \"#9c179e\"], [0.4444444444444444, \"#bd3786\"], [0.5555555555555556, \"#d8576b\"], [0.6666666666666666, \"#ed7953\"], [0.7777777777777778, \"#fb9f3a\"], [0.8888888888888888, \"#fdca26\"], [1.0, \"#f0f921\"]], \"type\": \"histogram2dcontour\"}], \"mesh3d\": [{\"colorbar\": {\"outlinewidth\": 0, \"ticks\": \"\"}, \"type\": \"mesh3d\"}], \"parcoords\": [{\"line\": {\"colorbar\": {\"outlinewidth\": 0, \"ticks\": \"\"}}, \"type\": \"parcoords\"}], \"pie\": [{\"automargin\": true, \"type\": \"pie\"}], \"scatter\": [{\"marker\": {\"colorbar\": {\"outlinewidth\": 0, \"ticks\": \"\"}}, \"type\": \"scatter\"}], \"scatter3d\": [{\"line\": {\"colorbar\": {\"outlinewidth\": 0, \"ticks\": \"\"}}, \"marker\": {\"colorbar\": {\"outlinewidth\": 0, \"ticks\": \"\"}}, \"type\": \"scatter3d\"}], \"scattercarpet\": [{\"marker\": {\"colorbar\": {\"outlinewidth\": 0, \"ticks\": \"\"}}, \"type\": \"scattercarpet\"}], \"scattergeo\": [{\"marker\": {\"colorbar\": {\"outlinewidth\": 0, \"ticks\": \"\"}}, \"type\": \"scattergeo\"}], \"scattergl\": [{\"marker\": {\"colorbar\": {\"outlinewidth\": 0, \"ticks\": \"\"}}, \"type\": \"scattergl\"}], \"scattermapbox\": [{\"marker\": {\"colorbar\": {\"outlinewidth\": 0, \"ticks\": \"\"}}, \"type\": \"scattermapbox\"}], \"scatterpolar\": [{\"marker\": {\"colorbar\": {\"outlinewidth\": 0, \"ticks\": \"\"}}, \"type\": \"scatterpolar\"}], \"scatterpolargl\": [{\"marker\": {\"colorbar\": {\"outlinewidth\": 0, \"ticks\": \"\"}}, \"type\": \"scatterpolargl\"}], \"scatterternary\": [{\"marker\": {\"colorbar\": {\"outlinewidth\": 0, \"ticks\": \"\"}}, \"type\": \"scatterternary\"}], \"surface\": [{\"colorbar\": {\"outlinewidth\": 0, \"ticks\": \"\"}, \"colorscale\": [[0.0, \"#0d0887\"], [0.1111111111111111, \"#46039f\"], [0.2222222222222222, \"#7201a8\"], [0.3333333333333333, \"#9c179e\"], [0.4444444444444444, \"#bd3786\"], [0.5555555555555556, \"#d8576b\"], [0.6666666666666666, \"#ed7953\"], [0.7777777777777778, \"#fb9f3a\"], [0.8888888888888888, \"#fdca26\"], [1.0, \"#f0f921\"]], \"type\": \"surface\"}], \"table\": [{\"cells\": {\"fill\": {\"color\": \"#EBF0F8\"}, \"line\": {\"color\": \"white\"}}, \"header\": {\"fill\": {\"color\": \"#C8D4E3\"}, \"line\": {\"color\": \"white\"}}, \"type\": \"table\"}]}, \"layout\": {\"annotationdefaults\": {\"arrowcolor\": \"#2a3f5f\", \"arrowhead\": 0, \"arrowwidth\": 1}, \"coloraxis\": {\"colorbar\": {\"outlinewidth\": 0, \"ticks\": \"\"}}, \"colorscale\": {\"diverging\": [[0, \"#8e0152\"], [0.1, \"#c51b7d\"], [0.2, \"#de77ae\"], [0.3, \"#f1b6da\"], [0.4, \"#fde0ef\"], [0.5, \"#f7f7f7\"], [0.6, \"#e6f5d0\"], [0.7, \"#b8e186\"], [0.8, \"#7fbc41\"], [0.9, \"#4d9221\"], [1, \"#276419\"]], \"sequential\": [[0.0, \"#0d0887\"], [0.1111111111111111, \"#46039f\"], [0.2222222222222222, \"#7201a8\"], [0.3333333333333333, \"#9c179e\"], [0.4444444444444444, \"#bd3786\"], [0.5555555555555556, \"#d8576b\"], [0.6666666666666666, \"#ed7953\"], [0.7777777777777778, \"#fb9f3a\"], [0.8888888888888888, \"#fdca26\"], [1.0, \"#f0f921\"]], \"sequentialminus\": [[0.0, \"#0d0887\"], [0.1111111111111111, \"#46039f\"], [0.2222222222222222, \"#7201a8\"], [0.3333333333333333, \"#9c179e\"], [0.4444444444444444, \"#bd3786\"], [0.5555555555555556, \"#d8576b\"], [0.6666666666666666, \"#ed7953\"], [0.7777777777777778, \"#fb9f3a\"], [0.8888888888888888, \"#fdca26\"], [1.0, \"#f0f921\"]]}, \"colorway\": [\"#636efa\", \"#EF553B\", \"#00cc96\", \"#ab63fa\", \"#FFA15A\", \"#19d3f3\", \"#FF6692\", \"#B6E880\", \"#FF97FF\", \"#FECB52\"], \"font\": {\"color\": \"#2a3f5f\"}, \"geo\": {\"bgcolor\": \"white\", \"lakecolor\": \"white\", \"landcolor\": \"#E5ECF6\", \"showlakes\": true, \"showland\": true, \"subunitcolor\": \"white\"}, \"hoverlabel\": {\"align\": \"left\"}, \"hovermode\": \"closest\", \"mapbox\": {\"style\": \"light\"}, \"paper_bgcolor\": \"white\", \"plot_bgcolor\": \"#E5ECF6\", \"polar\": {\"angularaxis\": {\"gridcolor\": \"white\", \"linecolor\": \"white\", \"ticks\": \"\"}, \"bgcolor\": \"#E5ECF6\", \"radialaxis\": {\"gridcolor\": \"white\", \"linecolor\": \"white\", \"ticks\": \"\"}}, \"scene\": {\"xaxis\": {\"backgroundcolor\": \"#E5ECF6\", \"gridcolor\": \"white\", \"gridwidth\": 2, \"linecolor\": \"white\", \"showbackground\": true, \"ticks\": \"\", \"zerolinecolor\": \"white\"}, \"yaxis\": {\"backgroundcolor\": \"#E5ECF6\", \"gridcolor\": \"white\", \"gridwidth\": 2, \"linecolor\": \"white\", \"showbackground\": true, \"ticks\": \"\", \"zerolinecolor\": \"white\"}, \"zaxis\": {\"backgroundcolor\": \"#E5ECF6\", \"gridcolor\": \"white\", \"gridwidth\": 2, \"linecolor\": \"white\", \"showbackground\": true, \"ticks\": \"\", \"zerolinecolor\": \"white\"}}, \"shapedefaults\": {\"line\": {\"color\": \"#2a3f5f\"}}, \"ternary\": {\"aaxis\": {\"gridcolor\": \"white\", \"linecolor\": \"white\", \"ticks\": \"\"}, \"baxis\": {\"gridcolor\": \"white\", \"linecolor\": \"white\", \"ticks\": \"\"}, \"bgcolor\": \"#E5ECF6\", \"caxis\": {\"gridcolor\": \"white\", \"linecolor\": \"white\", \"ticks\": \"\"}}, \"title\": {\"x\": 0.05}, \"xaxis\": {\"automargin\": true, \"gridcolor\": \"white\", \"linecolor\": \"white\", \"ticks\": \"\", \"title\": {\"standoff\": 15}, \"zerolinecolor\": \"white\", \"zerolinewidth\": 2}, \"yaxis\": {\"automargin\": true, \"gridcolor\": \"white\", \"linecolor\": \"white\", \"ticks\": \"\", \"title\": {\"standoff\": 15}, \"zerolinecolor\": \"white\", \"zerolinewidth\": 2}}}, \"title\": {\"font\": {\"color\": \"#4D5663\"}}, \"xaxis\": {\"gridcolor\": \"#E1E5ED\", \"showgrid\": true, \"tickfont\": {\"color\": \"#4D5663\"}, \"title\": {\"font\": {\"color\": \"#4D5663\"}, \"text\": \"\"}, \"zerolinecolor\": \"#E1E5ED\"}, \"yaxis\": {\"gridcolor\": \"#E1E5ED\", \"showgrid\": true, \"tickfont\": {\"color\": \"#4D5663\"}, \"title\": {\"font\": {\"color\": \"#4D5663\"}, \"text\": \"\"}, \"zerolinecolor\": \"#E1E5ED\"}},\n                        {\"showLink\": true, \"linkText\": \"Export to plot.ly\", \"plotlyServerURL\": \"https://plot.ly\", \"responsive\": true}\n                    ).then(function(){\n                            \nvar gd = document.getElementById('c8c2f6c6-8058-4be8-9c1d-c79d968b9199');\nvar x = new MutationObserver(function (mutations, observer) {{\n        var display = window.getComputedStyle(gd).display;\n        if (!display || display === 'none') {{\n            console.log([gd, 'removed!']);\n            Plotly.purge(gd);\n            observer.disconnect();\n        }}\n}});\n\n// Listen for the removal of the full notebook cells\nvar notebookContainer = gd.closest('#notebook-container');\nif (notebookContainer) {{\n    x.observe(notebookContainer, {childList: true});\n}}\n\n// Listen for the clearing of the current output cell\nvar outputEl = gd.closest('.output');\nif (outputEl) {{\n    x.observe(outputEl, {childList: true});\n}}\n\n                        })\n                };\n                });\n            </script>\n        </div>"
     },
     "metadata": {}
    }
   ],
   "source": [
    "# groupby to aggregate data\n",
    "# bar plot becomes better when aggregating data with it\n",
    "df.sum().iplot(kind='bar')"
   ]
  },
  {
   "cell_type": "code",
   "execution_count": 41,
   "metadata": {},
   "outputs": [
    {
     "output_type": "display_data",
     "data": {
      "application/vnd.plotly.v1+json": {
       "config": {
        "linkText": "Export to plot.ly",
        "plotlyServerURL": "https://plot.ly",
        "showLink": true
       },
       "data": [
        {
         "boxpoints": false,
         "line": {
          "width": 1.3
         },
         "marker": {
          "color": "rgba(255, 153, 51, 1.0)"
         },
         "name": "A",
         "orientation": "v",
         "type": "box",
         "y": [
          -0.20959528449674006,
          1.0313395209143585,
          1.1694348176263178,
          1.2609299556386497,
          0.9991395033571964,
          -2.605096456045387,
          0.4223200564889698,
          -0.1957775306388394,
          -0.5581225730329871,
          0.31374974544598283,
          -0.1094457539933965,
          0.8490037964381496,
          -0.1924499072203981,
          -0.7241729098994564,
          -1.537635679731419,
          -0.17928390076971523,
          -0.4654379085350427,
          0.14536975247776704,
          -0.4107308856713606,
          -0.31692807918550775,
          0.8541795096845612,
          -0.5411685133468052,
          1.6526300592340684,
          -0.3970649611176773,
          0.5537155926901607,
          0.09527358902101514,
          0.14643308884471226,
          -0.5952788954061516,
          1.8391170023050945,
          0.8599789829121285,
          0.14419695368764932,
          -3.7442569633057623,
          -0.3133723448373529,
          -0.16683141237592103,
          1.6188408185310394,
          0.6007304465359995,
          0.15187571991871177,
          0.07909127391112418,
          -0.19527530170401872,
          -1.7720594581677191,
          0.010435130962778887,
          -0.6984897154095291,
          0.298475241933431,
          -1.0324556631267123,
          -0.015196673014035973,
          0.24940100375673913,
          -1.5609631116868825,
          2.0752899982947026,
          -1.549922714712221,
          -0.04769669077299809,
          -0.13050979544132987,
          -1.3439932523872173,
          1.0161176621283028,
          0.22568439926107195,
          -1.1476615070110796,
          -0.5878368352865394,
          -0.238454936681599,
          1.0488599753027485,
          0.41705065187638135,
          0.9591773903586256,
          -1.3963563115579891,
          -0.9471610783203869,
          -1.2809323825176724,
          -0.2623463889448773,
          1.922978320621508,
          -1.2514220434971128,
          -0.9332967715496242,
          -2.17546410153974,
          1.4213253674153281,
          -0.18306555321065304,
          -0.8127274181256211,
          0.6210277858396868,
          0.6663719720223892,
          -0.21981687046950085,
          0.5232043156578947,
          1.3438976175293194,
          -0.40577896676652975,
          0.15087073518784777,
          0.14556340277596694,
          -0.8543803927110263,
          0.3939560017804806,
          0.16697514102575836,
          1.4058840116843392,
          0.4617877536009876,
          -1.5496801935445506,
          0.40769711945908343,
          0.2013369438901281,
          -1.1290823498859064,
          -0.6274727732033917,
          -1.4116748082720443,
          2.028067036128927,
          -0.06951536570078315,
          -0.39563856362339256,
          0.36572962567951944,
          0.2535557564640945,
          -0.592701403714788,
          -1.016758229530463,
          -0.6718010025615362,
          0.4816143914592303,
          1.6521186064972615
         ]
        },
        {
         "boxpoints": false,
         "line": {
          "width": 1.3
         },
         "marker": {
          "color": "rgba(55, 128, 191, 1.0)"
         },
         "name": "B",
         "orientation": "v",
         "type": "box",
         "y": [
          -0.7711170330140517,
          1.1659865501781457,
          -0.4300031411390618,
          -0.0064054452231869525,
          0.3255392094205599,
          -0.13685000730308322,
          1.3525025871928738,
          -1.1801377046110144,
          0.13310747475016435,
          -0.2033148557477379,
          0.3985858186894083,
          -0.49967174213299737,
          1.1913324955300733,
          -0.5409914050548899,
          0.2925317562459309,
          0.8360201107862251,
          0.18953428471715764,
          0.7221778303206465,
          0.09852772787929902,
          1.796009975727251,
          -0.200185351958104,
          0.8157193832619373,
          -0.1933400843887641,
          1.8520919325558922,
          0.48262763547424403,
          1.0115524814755976,
          -0.1837829419916532,
          1.6131287615767995,
          -0.1399290536378075,
          -0.7323092982310786,
          1.2581832153458332,
          2.004782199651357,
          0.11020269700287254,
          -0.2922774652953534,
          -0.610069945082351,
          0.376461914005928,
          0.16718587783128971,
          -1.7189573746226192,
          -0.14068140841214077,
          1.8445706571915623,
          0.42144086795796415,
          1.0771232268496644,
          -0.4574308043895199,
          0.3920164861931366,
          -0.7846303851339075,
          1.1358033661771454,
          0.21984185047724739,
          0.7358382398522556,
          -0.5056098661504937,
          0.3322425140657405,
          -1.0908272200843647,
          0.16993227135855776,
          -2.575072543504373,
          0.7463990525576297,
          -1.3276249331690786,
          -0.19130903148690143,
          0.8888511368645764,
          -1.082223619851152,
          -0.8516922366750175,
          -0.35766740349138537,
          -0.39775115576126774,
          1.2904308354025236,
          -0.4728009835926884,
          0.221724087821145,
          0.3966944648807889,
          -1.2672930011199954,
          0.7680169250563473,
          1.1846181946893646,
          0.2475782480255661,
          0.4485690766180793,
          0.014156941787666289,
          1.661426609144996,
          -1.1495974510451685,
          -0.7147854341662139,
          -0.7107841704939886,
          1.3951354540947525,
          0.20924908903456235,
          -1.220282703449926,
          0.02557457473320523,
          1.6272253233610467,
          -0.4129400171413861,
          -0.30186719992529765,
          1.5662620317015126,
          -0.9805920717199543,
          1.7788994781114258,
          -0.07627410648600412,
          0.06756344975294166,
          0.15733547861968317,
          1.4312231564245395,
          0.5067488088525609,
          -1.3860888399177342,
          -0.35267863923003084,
          -0.9060374943352678,
          -1.470559344699383,
          -0.19821908459674648,
          -1.9227544591977332,
          0.2082346343431905,
          -1.2583923667864534,
          -0.8897041886487653,
          1.228047110760627
         ]
        },
        {
         "boxpoints": false,
         "line": {
          "width": 1.3
         },
         "marker": {
          "color": "rgba(50, 171, 96, 1.0)"
         },
         "name": "C",
         "orientation": "v",
         "type": "box",
         "y": [
          0.7037872124040211,
          0.3615164419960923,
          -0.25796356732018233,
          -0.14649850149540966,
          0.06960711828656779,
          -1.4797956295623294,
          1.4093816343792605,
          -0.12292851084529191,
          0.4457087614037588,
          1.1492393267257108,
          -0.6607372423425167,
          0.3286133234450696,
          0.6844361201743363,
          -1.2821564245328332,
          0.9336034745372883,
          0.5170244180169414,
          -0.36322526788529785,
          0.6326928489564475,
          0.9778826032160992,
          -1.1196178565981039,
          1.4220243758680577,
          -0.2359625190926601,
          -0.3856235058789063,
          -2.7714681723669736,
          0.5993442710286011,
          1.313751851859977,
          0.23812170074033143,
          -0.65276402808905,
          0.11650216296705335,
          0.848740310341407,
          0.7721043520227766,
          -0.11964967401429785,
          1.2833545963721653,
          -0.39028489654013715,
          0.44929433604559843,
          -0.8500207432254455,
          0.8668240055266053,
          -1.2182376917418116,
          0.06141342404514145,
          1.4478502562191544,
          0.5737480413240534,
          -0.6552953362360905,
          0.2983589390319965,
          0.09373422462001138,
          0.326302217729746,
          -0.022651186551612242,
          1.1572903812795914,
          0.6572929704731219,
          0.11371203404668388,
          -1.1595505702679845,
          0.11454164413476907,
          -0.2621559996633682,
          -2.733659449977352,
          0.4255699111247708,
          -0.780290504106477,
          -0.6628857830638748,
          0.6275755736024996,
          -1.3753939740673904,
          -0.9957235259791135,
          0.5932914399458847,
          0.024589120124802747,
          -0.5449197929959385,
          1.506095501044284,
          1.7837889696517968,
          1.0008351607024597,
          -0.46168031979142726,
          1.3271782726734083,
          2.001032828511582,
          0.18104520740451863,
          0.07607278043933337,
          0.012150073505268375,
          1.0314888401570066,
          0.3244018691322532,
          -1.0437563740670959,
          0.22308120034793186,
          -0.5687628668009141,
          -0.9127930415704587,
          0.8458472877920619,
          0.14415454796481716,
          -1.1736709357560084,
          0.34313864995514465,
          -0.602634191959899,
          0.5563158524785552,
          -1.165343612807023,
          -0.08173268124689238,
          -0.036486809060192464,
          -1.1904778317362985,
          -0.0022018469953823823,
          -0.5694555209780752,
          -0.05308030079432449,
          -0.46007973236753213,
          -0.4986614954268612,
          0.7260189289588955,
          -0.4936196250824067,
          1.1019966482757366,
          0.23198945850229563,
          -1.0017726051335556,
          1.8466841646874763,
          1.1291136907334574,
          0.5682481935400014
         ]
        },
        {
         "boxpoints": false,
         "line": {
          "width": 1.3
         },
         "marker": {
          "color": "rgba(128, 0, 128, 1.0)"
         },
         "name": "D",
         "orientation": "v",
         "type": "box",
         "y": [
          -1.3079637980328176,
          0.22304179671406252,
          -1.6261857657059278,
          0.566633736372872,
          -0.7375295528108581,
          -0.011891636773831146,
          -0.5334663729786482,
          -0.8745242919479007,
          0.6601838725358815,
          -0.46117168118529,
          -1.091323363853244,
          0.058971366480316305,
          0.39663623918495505,
          -0.18846634909717566,
          -0.0009383025883428058,
          -0.9724822056607263,
          -0.5464925109530722,
          -1.4300209209976071,
          -2.110601196985954,
          -1.360140831455929,
          0.6156923193876411,
          2.952144430502897,
          0.35799135938249677,
          -1.3076649864823053,
          -0.24421516437156765,
          -0.4495674019298553,
          1.0883308746868876,
          0.22086598779162414,
          -0.06103902507281949,
          -1.9433420313160572,
          0.5320454554647426,
          1.3746252471198745,
          0.1305260543256214,
          -0.35948821874407155,
          2.5985690425949763,
          0.5281227862388681,
          -0.29379092552348296,
          -1.2078382264099154,
          -1.5423947096499546,
          0.030378907599932375,
          1.3872029083089668,
          0.3747549488569716,
          -0.2900210046765808,
          -0.14242653045860929,
          1.5503804524048688,
          -0.08392855934242163,
          -1.0690403826443478,
          -0.20834604239604584,
          -0.09818035454382804,
          0.3168105876871725,
          1.009833639624926,
          0.8587067451655745,
          -0.43934007517540874,
          0.7980055212707029,
          -1.689734238525958,
          0.48461811873357363,
          -1.572829926732365,
          -0.35922080469151785,
          1.2962907116808693,
          0.2736892788680549,
          3.1965962831799515,
          -0.2912210021565614,
          0.9585222615836765,
          -1.2697854325339617,
          0.7072656036562351,
          -0.23082594775710075,
          -0.22577058785054743,
          1.2459574919555987,
          -1.0519388128819473,
          -0.09165573316360198,
          -0.6909539481532403,
          -0.013276096848856419,
          0.6258963482059207,
          0.7335881536218917,
          0.28023350195795416,
          0.47135450155713254,
          0.6481523791535133,
          -1.1608341442253156,
          -0.09276120803432533,
          -1.2721575501285969,
          -0.61486417987658,
          1.6265152145697226,
          -0.8019205418967238,
          -0.11356554888258104,
          2.238142067136378,
          -0.06832978206592988,
          1.945118921953737,
          1.1022762120786647,
          -0.1427091716154867,
          -0.25541739714859335,
          -0.23461554130263676,
          0.0531409232553126,
          -0.6659059414090801,
          1.3984443801382258,
          -0.5536831919568412,
          0.08905645204001764,
          -0.3649672077103355,
          -0.19989719034607528,
          0.16132160822386446,
          0.6511501557245907
         ]
        }
       ],
       "layout": {
        "legend": {
         "bgcolor": "#F5F6F9",
         "font": {
          "color": "#4D5663"
         }
        },
        "paper_bgcolor": "#F5F6F9",
        "plot_bgcolor": "#F5F6F9",
        "template": {
         "data": {
          "bar": [
           {
            "error_x": {
             "color": "#2a3f5f"
            },
            "error_y": {
             "color": "#2a3f5f"
            },
            "marker": {
             "line": {
              "color": "#E5ECF6",
              "width": 0.5
             }
            },
            "type": "bar"
           }
          ],
          "barpolar": [
           {
            "marker": {
             "line": {
              "color": "#E5ECF6",
              "width": 0.5
             }
            },
            "type": "barpolar"
           }
          ],
          "carpet": [
           {
            "aaxis": {
             "endlinecolor": "#2a3f5f",
             "gridcolor": "white",
             "linecolor": "white",
             "minorgridcolor": "white",
             "startlinecolor": "#2a3f5f"
            },
            "baxis": {
             "endlinecolor": "#2a3f5f",
             "gridcolor": "white",
             "linecolor": "white",
             "minorgridcolor": "white",
             "startlinecolor": "#2a3f5f"
            },
            "type": "carpet"
           }
          ],
          "choropleth": [
           {
            "colorbar": {
             "outlinewidth": 0,
             "ticks": ""
            },
            "type": "choropleth"
           }
          ],
          "contour": [
           {
            "colorbar": {
             "outlinewidth": 0,
             "ticks": ""
            },
            "colorscale": [
             [
              0,
              "#0d0887"
             ],
             [
              0.1111111111111111,
              "#46039f"
             ],
             [
              0.2222222222222222,
              "#7201a8"
             ],
             [
              0.3333333333333333,
              "#9c179e"
             ],
             [
              0.4444444444444444,
              "#bd3786"
             ],
             [
              0.5555555555555556,
              "#d8576b"
             ],
             [
              0.6666666666666666,
              "#ed7953"
             ],
             [
              0.7777777777777778,
              "#fb9f3a"
             ],
             [
              0.8888888888888888,
              "#fdca26"
             ],
             [
              1,
              "#f0f921"
             ]
            ],
            "type": "contour"
           }
          ],
          "contourcarpet": [
           {
            "colorbar": {
             "outlinewidth": 0,
             "ticks": ""
            },
            "type": "contourcarpet"
           }
          ],
          "heatmap": [
           {
            "colorbar": {
             "outlinewidth": 0,
             "ticks": ""
            },
            "colorscale": [
             [
              0,
              "#0d0887"
             ],
             [
              0.1111111111111111,
              "#46039f"
             ],
             [
              0.2222222222222222,
              "#7201a8"
             ],
             [
              0.3333333333333333,
              "#9c179e"
             ],
             [
              0.4444444444444444,
              "#bd3786"
             ],
             [
              0.5555555555555556,
              "#d8576b"
             ],
             [
              0.6666666666666666,
              "#ed7953"
             ],
             [
              0.7777777777777778,
              "#fb9f3a"
             ],
             [
              0.8888888888888888,
              "#fdca26"
             ],
             [
              1,
              "#f0f921"
             ]
            ],
            "type": "heatmap"
           }
          ],
          "heatmapgl": [
           {
            "colorbar": {
             "outlinewidth": 0,
             "ticks": ""
            },
            "colorscale": [
             [
              0,
              "#0d0887"
             ],
             [
              0.1111111111111111,
              "#46039f"
             ],
             [
              0.2222222222222222,
              "#7201a8"
             ],
             [
              0.3333333333333333,
              "#9c179e"
             ],
             [
              0.4444444444444444,
              "#bd3786"
             ],
             [
              0.5555555555555556,
              "#d8576b"
             ],
             [
              0.6666666666666666,
              "#ed7953"
             ],
             [
              0.7777777777777778,
              "#fb9f3a"
             ],
             [
              0.8888888888888888,
              "#fdca26"
             ],
             [
              1,
              "#f0f921"
             ]
            ],
            "type": "heatmapgl"
           }
          ],
          "histogram": [
           {
            "marker": {
             "colorbar": {
              "outlinewidth": 0,
              "ticks": ""
             }
            },
            "type": "histogram"
           }
          ],
          "histogram2d": [
           {
            "colorbar": {
             "outlinewidth": 0,
             "ticks": ""
            },
            "colorscale": [
             [
              0,
              "#0d0887"
             ],
             [
              0.1111111111111111,
              "#46039f"
             ],
             [
              0.2222222222222222,
              "#7201a8"
             ],
             [
              0.3333333333333333,
              "#9c179e"
             ],
             [
              0.4444444444444444,
              "#bd3786"
             ],
             [
              0.5555555555555556,
              "#d8576b"
             ],
             [
              0.6666666666666666,
              "#ed7953"
             ],
             [
              0.7777777777777778,
              "#fb9f3a"
             ],
             [
              0.8888888888888888,
              "#fdca26"
             ],
             [
              1,
              "#f0f921"
             ]
            ],
            "type": "histogram2d"
           }
          ],
          "histogram2dcontour": [
           {
            "colorbar": {
             "outlinewidth": 0,
             "ticks": ""
            },
            "colorscale": [
             [
              0,
              "#0d0887"
             ],
             [
              0.1111111111111111,
              "#46039f"
             ],
             [
              0.2222222222222222,
              "#7201a8"
             ],
             [
              0.3333333333333333,
              "#9c179e"
             ],
             [
              0.4444444444444444,
              "#bd3786"
             ],
             [
              0.5555555555555556,
              "#d8576b"
             ],
             [
              0.6666666666666666,
              "#ed7953"
             ],
             [
              0.7777777777777778,
              "#fb9f3a"
             ],
             [
              0.8888888888888888,
              "#fdca26"
             ],
             [
              1,
              "#f0f921"
             ]
            ],
            "type": "histogram2dcontour"
           }
          ],
          "mesh3d": [
           {
            "colorbar": {
             "outlinewidth": 0,
             "ticks": ""
            },
            "type": "mesh3d"
           }
          ],
          "parcoords": [
           {
            "line": {
             "colorbar": {
              "outlinewidth": 0,
              "ticks": ""
             }
            },
            "type": "parcoords"
           }
          ],
          "pie": [
           {
            "automargin": true,
            "type": "pie"
           }
          ],
          "scatter": [
           {
            "marker": {
             "colorbar": {
              "outlinewidth": 0,
              "ticks": ""
             }
            },
            "type": "scatter"
           }
          ],
          "scatter3d": [
           {
            "line": {
             "colorbar": {
              "outlinewidth": 0,
              "ticks": ""
             }
            },
            "marker": {
             "colorbar": {
              "outlinewidth": 0,
              "ticks": ""
             }
            },
            "type": "scatter3d"
           }
          ],
          "scattercarpet": [
           {
            "marker": {
             "colorbar": {
              "outlinewidth": 0,
              "ticks": ""
             }
            },
            "type": "scattercarpet"
           }
          ],
          "scattergeo": [
           {
            "marker": {
             "colorbar": {
              "outlinewidth": 0,
              "ticks": ""
             }
            },
            "type": "scattergeo"
           }
          ],
          "scattergl": [
           {
            "marker": {
             "colorbar": {
              "outlinewidth": 0,
              "ticks": ""
             }
            },
            "type": "scattergl"
           }
          ],
          "scattermapbox": [
           {
            "marker": {
             "colorbar": {
              "outlinewidth": 0,
              "ticks": ""
             }
            },
            "type": "scattermapbox"
           }
          ],
          "scatterpolar": [
           {
            "marker": {
             "colorbar": {
              "outlinewidth": 0,
              "ticks": ""
             }
            },
            "type": "scatterpolar"
           }
          ],
          "scatterpolargl": [
           {
            "marker": {
             "colorbar": {
              "outlinewidth": 0,
              "ticks": ""
             }
            },
            "type": "scatterpolargl"
           }
          ],
          "scatterternary": [
           {
            "marker": {
             "colorbar": {
              "outlinewidth": 0,
              "ticks": ""
             }
            },
            "type": "scatterternary"
           }
          ],
          "surface": [
           {
            "colorbar": {
             "outlinewidth": 0,
             "ticks": ""
            },
            "colorscale": [
             [
              0,
              "#0d0887"
             ],
             [
              0.1111111111111111,
              "#46039f"
             ],
             [
              0.2222222222222222,
              "#7201a8"
             ],
             [
              0.3333333333333333,
              "#9c179e"
             ],
             [
              0.4444444444444444,
              "#bd3786"
             ],
             [
              0.5555555555555556,
              "#d8576b"
             ],
             [
              0.6666666666666666,
              "#ed7953"
             ],
             [
              0.7777777777777778,
              "#fb9f3a"
             ],
             [
              0.8888888888888888,
              "#fdca26"
             ],
             [
              1,
              "#f0f921"
             ]
            ],
            "type": "surface"
           }
          ],
          "table": [
           {
            "cells": {
             "fill": {
              "color": "#EBF0F8"
             },
             "line": {
              "color": "white"
             }
            },
            "header": {
             "fill": {
              "color": "#C8D4E3"
             },
             "line": {
              "color": "white"
             }
            },
            "type": "table"
           }
          ]
         },
         "layout": {
          "annotationdefaults": {
           "arrowcolor": "#2a3f5f",
           "arrowhead": 0,
           "arrowwidth": 1
          },
          "coloraxis": {
           "colorbar": {
            "outlinewidth": 0,
            "ticks": ""
           }
          },
          "colorscale": {
           "diverging": [
            [
             0,
             "#8e0152"
            ],
            [
             0.1,
             "#c51b7d"
            ],
            [
             0.2,
             "#de77ae"
            ],
            [
             0.3,
             "#f1b6da"
            ],
            [
             0.4,
             "#fde0ef"
            ],
            [
             0.5,
             "#f7f7f7"
            ],
            [
             0.6,
             "#e6f5d0"
            ],
            [
             0.7,
             "#b8e186"
            ],
            [
             0.8,
             "#7fbc41"
            ],
            [
             0.9,
             "#4d9221"
            ],
            [
             1,
             "#276419"
            ]
           ],
           "sequential": [
            [
             0,
             "#0d0887"
            ],
            [
             0.1111111111111111,
             "#46039f"
            ],
            [
             0.2222222222222222,
             "#7201a8"
            ],
            [
             0.3333333333333333,
             "#9c179e"
            ],
            [
             0.4444444444444444,
             "#bd3786"
            ],
            [
             0.5555555555555556,
             "#d8576b"
            ],
            [
             0.6666666666666666,
             "#ed7953"
            ],
            [
             0.7777777777777778,
             "#fb9f3a"
            ],
            [
             0.8888888888888888,
             "#fdca26"
            ],
            [
             1,
             "#f0f921"
            ]
           ],
           "sequentialminus": [
            [
             0,
             "#0d0887"
            ],
            [
             0.1111111111111111,
             "#46039f"
            ],
            [
             0.2222222222222222,
             "#7201a8"
            ],
            [
             0.3333333333333333,
             "#9c179e"
            ],
            [
             0.4444444444444444,
             "#bd3786"
            ],
            [
             0.5555555555555556,
             "#d8576b"
            ],
            [
             0.6666666666666666,
             "#ed7953"
            ],
            [
             0.7777777777777778,
             "#fb9f3a"
            ],
            [
             0.8888888888888888,
             "#fdca26"
            ],
            [
             1,
             "#f0f921"
            ]
           ]
          },
          "colorway": [
           "#636efa",
           "#EF553B",
           "#00cc96",
           "#ab63fa",
           "#FFA15A",
           "#19d3f3",
           "#FF6692",
           "#B6E880",
           "#FF97FF",
           "#FECB52"
          ],
          "font": {
           "color": "#2a3f5f"
          },
          "geo": {
           "bgcolor": "white",
           "lakecolor": "white",
           "landcolor": "#E5ECF6",
           "showlakes": true,
           "showland": true,
           "subunitcolor": "white"
          },
          "hoverlabel": {
           "align": "left"
          },
          "hovermode": "closest",
          "mapbox": {
           "style": "light"
          },
          "paper_bgcolor": "white",
          "plot_bgcolor": "#E5ECF6",
          "polar": {
           "angularaxis": {
            "gridcolor": "white",
            "linecolor": "white",
            "ticks": ""
           },
           "bgcolor": "#E5ECF6",
           "radialaxis": {
            "gridcolor": "white",
            "linecolor": "white",
            "ticks": ""
           }
          },
          "scene": {
           "xaxis": {
            "backgroundcolor": "#E5ECF6",
            "gridcolor": "white",
            "gridwidth": 2,
            "linecolor": "white",
            "showbackground": true,
            "ticks": "",
            "zerolinecolor": "white"
           },
           "yaxis": {
            "backgroundcolor": "#E5ECF6",
            "gridcolor": "white",
            "gridwidth": 2,
            "linecolor": "white",
            "showbackground": true,
            "ticks": "",
            "zerolinecolor": "white"
           },
           "zaxis": {
            "backgroundcolor": "#E5ECF6",
            "gridcolor": "white",
            "gridwidth": 2,
            "linecolor": "white",
            "showbackground": true,
            "ticks": "",
            "zerolinecolor": "white"
           }
          },
          "shapedefaults": {
           "line": {
            "color": "#2a3f5f"
           }
          },
          "ternary": {
           "aaxis": {
            "gridcolor": "white",
            "linecolor": "white",
            "ticks": ""
           },
           "baxis": {
            "gridcolor": "white",
            "linecolor": "white",
            "ticks": ""
           },
           "bgcolor": "#E5ECF6",
           "caxis": {
            "gridcolor": "white",
            "linecolor": "white",
            "ticks": ""
           }
          },
          "title": {
           "x": 0.05
          },
          "xaxis": {
           "automargin": true,
           "gridcolor": "white",
           "linecolor": "white",
           "ticks": "",
           "title": {
            "standoff": 15
           },
           "zerolinecolor": "white",
           "zerolinewidth": 2
          },
          "yaxis": {
           "automargin": true,
           "gridcolor": "white",
           "linecolor": "white",
           "ticks": "",
           "title": {
            "standoff": 15
           },
           "zerolinecolor": "white",
           "zerolinewidth": 2
          }
         }
        },
        "title": {
         "font": {
          "color": "#4D5663"
         }
        },
        "xaxis": {
         "gridcolor": "#E1E5ED",
         "showgrid": true,
         "tickfont": {
          "color": "#4D5663"
         },
         "title": {
          "font": {
           "color": "#4D5663"
          },
          "text": ""
         },
         "zerolinecolor": "#E1E5ED"
        },
        "yaxis": {
         "gridcolor": "#E1E5ED",
         "showgrid": true,
         "tickfont": {
          "color": "#4D5663"
         },
         "title": {
          "font": {
           "color": "#4D5663"
          },
          "text": ""
         },
         "zerolinecolor": "#E1E5ED"
        }
       }
      },
      "text/html": "<div>\n        \n        \n            <div id=\"118a9586-b577-48e4-a1ad-9b93f2b06f99\" class=\"plotly-graph-div\" style=\"height:525px; width:100%;\"></div>\n            <script type=\"text/javascript\">\n                require([\"plotly\"], function(Plotly) {\n                    window.PLOTLYENV=window.PLOTLYENV || {};\n                    window.PLOTLYENV.BASE_URL='https://plot.ly';\n                    \n                if (document.getElementById(\"118a9586-b577-48e4-a1ad-9b93f2b06f99\")) {\n                    Plotly.newPlot(\n                        '118a9586-b577-48e4-a1ad-9b93f2b06f99',\n                        [{\"boxpoints\": false, \"line\": {\"width\": 1.3}, \"marker\": {\"color\": \"rgba(255, 153, 51, 1.0)\"}, \"name\": \"A\", \"orientation\": \"v\", \"type\": \"box\", \"y\": [-0.20959528449674006, 1.0313395209143585, 1.1694348176263178, 1.2609299556386497, 0.9991395033571964, -2.605096456045387, 0.4223200564889698, -0.1957775306388394, -0.5581225730329871, 0.31374974544598283, -0.1094457539933965, 0.8490037964381496, -0.1924499072203981, -0.7241729098994564, -1.537635679731419, -0.17928390076971523, -0.4654379085350427, 0.14536975247776704, -0.4107308856713606, -0.31692807918550775, 0.8541795096845612, -0.5411685133468052, 1.6526300592340684, -0.3970649611176773, 0.5537155926901607, 0.09527358902101514, 0.14643308884471226, -0.5952788954061516, 1.8391170023050945, 0.8599789829121285, 0.14419695368764932, -3.7442569633057623, -0.3133723448373529, -0.16683141237592103, 1.6188408185310394, 0.6007304465359995, 0.15187571991871177, 0.07909127391112418, -0.19527530170401872, -1.7720594581677191, 0.010435130962778887, -0.6984897154095291, 0.298475241933431, -1.0324556631267123, -0.015196673014035973, 0.24940100375673913, -1.5609631116868825, 2.0752899982947026, -1.549922714712221, -0.04769669077299809, -0.13050979544132987, -1.3439932523872173, 1.0161176621283028, 0.22568439926107195, -1.1476615070110796, -0.5878368352865394, -0.238454936681599, 1.0488599753027485, 0.41705065187638135, 0.9591773903586256, -1.3963563115579891, -0.9471610783203869, -1.2809323825176724, -0.2623463889448773, 1.922978320621508, -1.2514220434971128, -0.9332967715496242, -2.17546410153974, 1.4213253674153281, -0.18306555321065304, -0.8127274181256211, 0.6210277858396868, 0.6663719720223892, -0.21981687046950085, 0.5232043156578947, 1.3438976175293194, -0.40577896676652975, 0.15087073518784777, 0.14556340277596694, -0.8543803927110263, 0.3939560017804806, 0.16697514102575836, 1.4058840116843392, 0.4617877536009876, -1.5496801935445506, 0.40769711945908343, 0.2013369438901281, -1.1290823498859064, -0.6274727732033917, -1.4116748082720443, 2.028067036128927, -0.06951536570078315, -0.39563856362339256, 0.36572962567951944, 0.2535557564640945, -0.592701403714788, -1.016758229530463, -0.6718010025615362, 0.4816143914592303, 1.6521186064972615]}, {\"boxpoints\": false, \"line\": {\"width\": 1.3}, \"marker\": {\"color\": \"rgba(55, 128, 191, 1.0)\"}, \"name\": \"B\", \"orientation\": \"v\", \"type\": \"box\", \"y\": [-0.7711170330140517, 1.1659865501781457, -0.4300031411390618, -0.0064054452231869525, 0.3255392094205599, -0.13685000730308322, 1.3525025871928738, -1.1801377046110144, 0.13310747475016435, -0.2033148557477379, 0.3985858186894083, -0.49967174213299737, 1.1913324955300733, -0.5409914050548899, 0.2925317562459309, 0.8360201107862251, 0.18953428471715764, 0.7221778303206465, 0.09852772787929902, 1.796009975727251, -0.200185351958104, 0.8157193832619373, -0.1933400843887641, 1.8520919325558922, 0.48262763547424403, 1.0115524814755976, -0.1837829419916532, 1.6131287615767995, -0.1399290536378075, -0.7323092982310786, 1.2581832153458332, 2.004782199651357, 0.11020269700287254, -0.2922774652953534, -0.610069945082351, 0.376461914005928, 0.16718587783128971, -1.7189573746226192, -0.14068140841214077, 1.8445706571915623, 0.42144086795796415, 1.0771232268496644, -0.4574308043895199, 0.3920164861931366, -0.7846303851339075, 1.1358033661771454, 0.21984185047724739, 0.7358382398522556, -0.5056098661504937, 0.3322425140657405, -1.0908272200843647, 0.16993227135855776, -2.575072543504373, 0.7463990525576297, -1.3276249331690786, -0.19130903148690143, 0.8888511368645764, -1.082223619851152, -0.8516922366750175, -0.35766740349138537, -0.39775115576126774, 1.2904308354025236, -0.4728009835926884, 0.221724087821145, 0.3966944648807889, -1.2672930011199954, 0.7680169250563473, 1.1846181946893646, 0.2475782480255661, 0.4485690766180793, 0.014156941787666289, 1.661426609144996, -1.1495974510451685, -0.7147854341662139, -0.7107841704939886, 1.3951354540947525, 0.20924908903456235, -1.220282703449926, 0.02557457473320523, 1.6272253233610467, -0.4129400171413861, -0.30186719992529765, 1.5662620317015126, -0.9805920717199543, 1.7788994781114258, -0.07627410648600412, 0.06756344975294166, 0.15733547861968317, 1.4312231564245395, 0.5067488088525609, -1.3860888399177342, -0.35267863923003084, -0.9060374943352678, -1.470559344699383, -0.19821908459674648, -1.9227544591977332, 0.2082346343431905, -1.2583923667864534, -0.8897041886487653, 1.228047110760627]}, {\"boxpoints\": false, \"line\": {\"width\": 1.3}, \"marker\": {\"color\": \"rgba(50, 171, 96, 1.0)\"}, \"name\": \"C\", \"orientation\": \"v\", \"type\": \"box\", \"y\": [0.7037872124040211, 0.3615164419960923, -0.25796356732018233, -0.14649850149540966, 0.06960711828656779, -1.4797956295623294, 1.4093816343792605, -0.12292851084529191, 0.4457087614037588, 1.1492393267257108, -0.6607372423425167, 0.3286133234450696, 0.6844361201743363, -1.2821564245328332, 0.9336034745372883, 0.5170244180169414, -0.36322526788529785, 0.6326928489564475, 0.9778826032160992, -1.1196178565981039, 1.4220243758680577, -0.2359625190926601, -0.3856235058789063, -2.7714681723669736, 0.5993442710286011, 1.313751851859977, 0.23812170074033143, -0.65276402808905, 0.11650216296705335, 0.848740310341407, 0.7721043520227766, -0.11964967401429785, 1.2833545963721653, -0.39028489654013715, 0.44929433604559843, -0.8500207432254455, 0.8668240055266053, -1.2182376917418116, 0.06141342404514145, 1.4478502562191544, 0.5737480413240534, -0.6552953362360905, 0.2983589390319965, 0.09373422462001138, 0.326302217729746, -0.022651186551612242, 1.1572903812795914, 0.6572929704731219, 0.11371203404668388, -1.1595505702679845, 0.11454164413476907, -0.2621559996633682, -2.733659449977352, 0.4255699111247708, -0.780290504106477, -0.6628857830638748, 0.6275755736024996, -1.3753939740673904, -0.9957235259791135, 0.5932914399458847, 0.024589120124802747, -0.5449197929959385, 1.506095501044284, 1.7837889696517968, 1.0008351607024597, -0.46168031979142726, 1.3271782726734083, 2.001032828511582, 0.18104520740451863, 0.07607278043933337, 0.012150073505268375, 1.0314888401570066, 0.3244018691322532, -1.0437563740670959, 0.22308120034793186, -0.5687628668009141, -0.9127930415704587, 0.8458472877920619, 0.14415454796481716, -1.1736709357560084, 0.34313864995514465, -0.602634191959899, 0.5563158524785552, -1.165343612807023, -0.08173268124689238, -0.036486809060192464, -1.1904778317362985, -0.0022018469953823823, -0.5694555209780752, -0.05308030079432449, -0.46007973236753213, -0.4986614954268612, 0.7260189289588955, -0.4936196250824067, 1.1019966482757366, 0.23198945850229563, -1.0017726051335556, 1.8466841646874763, 1.1291136907334574, 0.5682481935400014]}, {\"boxpoints\": false, \"line\": {\"width\": 1.3}, \"marker\": {\"color\": \"rgba(128, 0, 128, 1.0)\"}, \"name\": \"D\", \"orientation\": \"v\", \"type\": \"box\", \"y\": [-1.3079637980328176, 0.22304179671406252, -1.6261857657059278, 0.566633736372872, -0.7375295528108581, -0.011891636773831146, -0.5334663729786482, -0.8745242919479007, 0.6601838725358815, -0.46117168118529, -1.091323363853244, 0.058971366480316305, 0.39663623918495505, -0.18846634909717566, -0.0009383025883428058, -0.9724822056607263, -0.5464925109530722, -1.4300209209976071, -2.110601196985954, -1.360140831455929, 0.6156923193876411, 2.952144430502897, 0.35799135938249677, -1.3076649864823053, -0.24421516437156765, -0.4495674019298553, 1.0883308746868876, 0.22086598779162414, -0.06103902507281949, -1.9433420313160572, 0.5320454554647426, 1.3746252471198745, 0.1305260543256214, -0.35948821874407155, 2.5985690425949763, 0.5281227862388681, -0.29379092552348296, -1.2078382264099154, -1.5423947096499546, 0.030378907599932375, 1.3872029083089668, 0.3747549488569716, -0.2900210046765808, -0.14242653045860929, 1.5503804524048688, -0.08392855934242163, -1.0690403826443478, -0.20834604239604584, -0.09818035454382804, 0.3168105876871725, 1.009833639624926, 0.8587067451655745, -0.43934007517540874, 0.7980055212707029, -1.689734238525958, 0.48461811873357363, -1.572829926732365, -0.35922080469151785, 1.2962907116808693, 0.2736892788680549, 3.1965962831799515, -0.2912210021565614, 0.9585222615836765, -1.2697854325339617, 0.7072656036562351, -0.23082594775710075, -0.22577058785054743, 1.2459574919555987, -1.0519388128819473, -0.09165573316360198, -0.6909539481532403, -0.013276096848856419, 0.6258963482059207, 0.7335881536218917, 0.28023350195795416, 0.47135450155713254, 0.6481523791535133, -1.1608341442253156, -0.09276120803432533, -1.2721575501285969, -0.61486417987658, 1.6265152145697226, -0.8019205418967238, -0.11356554888258104, 2.238142067136378, -0.06832978206592988, 1.945118921953737, 1.1022762120786647, -0.1427091716154867, -0.25541739714859335, -0.23461554130263676, 0.0531409232553126, -0.6659059414090801, 1.3984443801382258, -0.5536831919568412, 0.08905645204001764, -0.3649672077103355, -0.19989719034607528, 0.16132160822386446, 0.6511501557245907]}],\n                        {\"legend\": {\"bgcolor\": \"#F5F6F9\", \"font\": {\"color\": \"#4D5663\"}}, \"paper_bgcolor\": \"#F5F6F9\", \"plot_bgcolor\": \"#F5F6F9\", \"template\": {\"data\": {\"bar\": [{\"error_x\": {\"color\": \"#2a3f5f\"}, \"error_y\": {\"color\": \"#2a3f5f\"}, \"marker\": {\"line\": {\"color\": \"#E5ECF6\", \"width\": 0.5}}, \"type\": \"bar\"}], \"barpolar\": [{\"marker\": {\"line\": {\"color\": \"#E5ECF6\", \"width\": 0.5}}, \"type\": \"barpolar\"}], \"carpet\": [{\"aaxis\": {\"endlinecolor\": \"#2a3f5f\", \"gridcolor\": \"white\", \"linecolor\": \"white\", \"minorgridcolor\": \"white\", \"startlinecolor\": \"#2a3f5f\"}, \"baxis\": {\"endlinecolor\": \"#2a3f5f\", \"gridcolor\": \"white\", \"linecolor\": \"white\", \"minorgridcolor\": \"white\", \"startlinecolor\": \"#2a3f5f\"}, \"type\": \"carpet\"}], \"choropleth\": [{\"colorbar\": {\"outlinewidth\": 0, \"ticks\": \"\"}, \"type\": \"choropleth\"}], \"contour\": [{\"colorbar\": {\"outlinewidth\": 0, \"ticks\": \"\"}, \"colorscale\": [[0.0, \"#0d0887\"], [0.1111111111111111, \"#46039f\"], [0.2222222222222222, \"#7201a8\"], [0.3333333333333333, \"#9c179e\"], [0.4444444444444444, \"#bd3786\"], [0.5555555555555556, \"#d8576b\"], [0.6666666666666666, \"#ed7953\"], [0.7777777777777778, \"#fb9f3a\"], [0.8888888888888888, \"#fdca26\"], [1.0, \"#f0f921\"]], \"type\": \"contour\"}], \"contourcarpet\": [{\"colorbar\": {\"outlinewidth\": 0, \"ticks\": \"\"}, \"type\": \"contourcarpet\"}], \"heatmap\": [{\"colorbar\": {\"outlinewidth\": 0, \"ticks\": \"\"}, \"colorscale\": [[0.0, \"#0d0887\"], [0.1111111111111111, \"#46039f\"], [0.2222222222222222, \"#7201a8\"], [0.3333333333333333, \"#9c179e\"], [0.4444444444444444, \"#bd3786\"], [0.5555555555555556, \"#d8576b\"], [0.6666666666666666, \"#ed7953\"], [0.7777777777777778, \"#fb9f3a\"], [0.8888888888888888, \"#fdca26\"], [1.0, \"#f0f921\"]], \"type\": \"heatmap\"}], \"heatmapgl\": [{\"colorbar\": {\"outlinewidth\": 0, \"ticks\": \"\"}, \"colorscale\": [[0.0, \"#0d0887\"], [0.1111111111111111, \"#46039f\"], [0.2222222222222222, \"#7201a8\"], [0.3333333333333333, \"#9c179e\"], [0.4444444444444444, \"#bd3786\"], [0.5555555555555556, \"#d8576b\"], [0.6666666666666666, \"#ed7953\"], [0.7777777777777778, \"#fb9f3a\"], [0.8888888888888888, \"#fdca26\"], [1.0, \"#f0f921\"]], \"type\": \"heatmapgl\"}], \"histogram\": [{\"marker\": {\"colorbar\": {\"outlinewidth\": 0, \"ticks\": \"\"}}, \"type\": \"histogram\"}], \"histogram2d\": [{\"colorbar\": {\"outlinewidth\": 0, \"ticks\": \"\"}, \"colorscale\": [[0.0, \"#0d0887\"], [0.1111111111111111, \"#46039f\"], [0.2222222222222222, \"#7201a8\"], [0.3333333333333333, \"#9c179e\"], [0.4444444444444444, \"#bd3786\"], [0.5555555555555556, \"#d8576b\"], [0.6666666666666666, \"#ed7953\"], [0.7777777777777778, \"#fb9f3a\"], [0.8888888888888888, \"#fdca26\"], [1.0, \"#f0f921\"]], \"type\": \"histogram2d\"}], \"histogram2dcontour\": [{\"colorbar\": {\"outlinewidth\": 0, \"ticks\": \"\"}, \"colorscale\": [[0.0, \"#0d0887\"], [0.1111111111111111, \"#46039f\"], [0.2222222222222222, \"#7201a8\"], [0.3333333333333333, \"#9c179e\"], [0.4444444444444444, \"#bd3786\"], [0.5555555555555556, \"#d8576b\"], [0.6666666666666666, \"#ed7953\"], [0.7777777777777778, \"#fb9f3a\"], [0.8888888888888888, \"#fdca26\"], [1.0, \"#f0f921\"]], \"type\": \"histogram2dcontour\"}], \"mesh3d\": [{\"colorbar\": {\"outlinewidth\": 0, \"ticks\": \"\"}, \"type\": \"mesh3d\"}], \"parcoords\": [{\"line\": {\"colorbar\": {\"outlinewidth\": 0, \"ticks\": \"\"}}, \"type\": \"parcoords\"}], \"pie\": [{\"automargin\": true, \"type\": \"pie\"}], \"scatter\": [{\"marker\": {\"colorbar\": {\"outlinewidth\": 0, \"ticks\": \"\"}}, \"type\": \"scatter\"}], \"scatter3d\": [{\"line\": {\"colorbar\": {\"outlinewidth\": 0, \"ticks\": \"\"}}, \"marker\": {\"colorbar\": {\"outlinewidth\": 0, \"ticks\": \"\"}}, \"type\": \"scatter3d\"}], \"scattercarpet\": [{\"marker\": {\"colorbar\": {\"outlinewidth\": 0, \"ticks\": \"\"}}, \"type\": \"scattercarpet\"}], \"scattergeo\": [{\"marker\": {\"colorbar\": {\"outlinewidth\": 0, \"ticks\": \"\"}}, \"type\": \"scattergeo\"}], \"scattergl\": [{\"marker\": {\"colorbar\": {\"outlinewidth\": 0, \"ticks\": \"\"}}, \"type\": \"scattergl\"}], \"scattermapbox\": [{\"marker\": {\"colorbar\": {\"outlinewidth\": 0, \"ticks\": \"\"}}, \"type\": \"scattermapbox\"}], \"scatterpolar\": [{\"marker\": {\"colorbar\": {\"outlinewidth\": 0, \"ticks\": \"\"}}, \"type\": \"scatterpolar\"}], \"scatterpolargl\": [{\"marker\": {\"colorbar\": {\"outlinewidth\": 0, \"ticks\": \"\"}}, \"type\": \"scatterpolargl\"}], \"scatterternary\": [{\"marker\": {\"colorbar\": {\"outlinewidth\": 0, \"ticks\": \"\"}}, \"type\": \"scatterternary\"}], \"surface\": [{\"colorbar\": {\"outlinewidth\": 0, \"ticks\": \"\"}, \"colorscale\": [[0.0, \"#0d0887\"], [0.1111111111111111, \"#46039f\"], [0.2222222222222222, \"#7201a8\"], [0.3333333333333333, \"#9c179e\"], [0.4444444444444444, \"#bd3786\"], [0.5555555555555556, \"#d8576b\"], [0.6666666666666666, \"#ed7953\"], [0.7777777777777778, \"#fb9f3a\"], [0.8888888888888888, \"#fdca26\"], [1.0, \"#f0f921\"]], \"type\": \"surface\"}], \"table\": [{\"cells\": {\"fill\": {\"color\": \"#EBF0F8\"}, \"line\": {\"color\": \"white\"}}, \"header\": {\"fill\": {\"color\": \"#C8D4E3\"}, \"line\": {\"color\": \"white\"}}, \"type\": \"table\"}]}, \"layout\": {\"annotationdefaults\": {\"arrowcolor\": \"#2a3f5f\", \"arrowhead\": 0, \"arrowwidth\": 1}, \"coloraxis\": {\"colorbar\": {\"outlinewidth\": 0, \"ticks\": \"\"}}, \"colorscale\": {\"diverging\": [[0, \"#8e0152\"], [0.1, \"#c51b7d\"], [0.2, \"#de77ae\"], [0.3, \"#f1b6da\"], [0.4, \"#fde0ef\"], [0.5, \"#f7f7f7\"], [0.6, \"#e6f5d0\"], [0.7, \"#b8e186\"], [0.8, \"#7fbc41\"], [0.9, \"#4d9221\"], [1, \"#276419\"]], \"sequential\": [[0.0, \"#0d0887\"], [0.1111111111111111, \"#46039f\"], [0.2222222222222222, \"#7201a8\"], [0.3333333333333333, \"#9c179e\"], [0.4444444444444444, \"#bd3786\"], [0.5555555555555556, \"#d8576b\"], [0.6666666666666666, \"#ed7953\"], [0.7777777777777778, \"#fb9f3a\"], [0.8888888888888888, \"#fdca26\"], [1.0, \"#f0f921\"]], \"sequentialminus\": [[0.0, \"#0d0887\"], [0.1111111111111111, \"#46039f\"], [0.2222222222222222, \"#7201a8\"], [0.3333333333333333, \"#9c179e\"], [0.4444444444444444, \"#bd3786\"], [0.5555555555555556, \"#d8576b\"], [0.6666666666666666, \"#ed7953\"], [0.7777777777777778, \"#fb9f3a\"], [0.8888888888888888, \"#fdca26\"], [1.0, \"#f0f921\"]]}, \"colorway\": [\"#636efa\", \"#EF553B\", \"#00cc96\", \"#ab63fa\", \"#FFA15A\", \"#19d3f3\", \"#FF6692\", \"#B6E880\", \"#FF97FF\", \"#FECB52\"], \"font\": {\"color\": \"#2a3f5f\"}, \"geo\": {\"bgcolor\": \"white\", \"lakecolor\": \"white\", \"landcolor\": \"#E5ECF6\", \"showlakes\": true, \"showland\": true, \"subunitcolor\": \"white\"}, \"hoverlabel\": {\"align\": \"left\"}, \"hovermode\": \"closest\", \"mapbox\": {\"style\": \"light\"}, \"paper_bgcolor\": \"white\", \"plot_bgcolor\": \"#E5ECF6\", \"polar\": {\"angularaxis\": {\"gridcolor\": \"white\", \"linecolor\": \"white\", \"ticks\": \"\"}, \"bgcolor\": \"#E5ECF6\", \"radialaxis\": {\"gridcolor\": \"white\", \"linecolor\": \"white\", \"ticks\": \"\"}}, \"scene\": {\"xaxis\": {\"backgroundcolor\": \"#E5ECF6\", \"gridcolor\": \"white\", \"gridwidth\": 2, \"linecolor\": \"white\", \"showbackground\": true, \"ticks\": \"\", \"zerolinecolor\": \"white\"}, \"yaxis\": {\"backgroundcolor\": \"#E5ECF6\", \"gridcolor\": \"white\", \"gridwidth\": 2, \"linecolor\": \"white\", \"showbackground\": true, \"ticks\": \"\", \"zerolinecolor\": \"white\"}, \"zaxis\": {\"backgroundcolor\": \"#E5ECF6\", \"gridcolor\": \"white\", \"gridwidth\": 2, \"linecolor\": \"white\", \"showbackground\": true, \"ticks\": \"\", \"zerolinecolor\": \"white\"}}, \"shapedefaults\": {\"line\": {\"color\": \"#2a3f5f\"}}, \"ternary\": {\"aaxis\": {\"gridcolor\": \"white\", \"linecolor\": \"white\", \"ticks\": \"\"}, \"baxis\": {\"gridcolor\": \"white\", \"linecolor\": \"white\", \"ticks\": \"\"}, \"bgcolor\": \"#E5ECF6\", \"caxis\": {\"gridcolor\": \"white\", \"linecolor\": \"white\", \"ticks\": \"\"}}, \"title\": {\"x\": 0.05}, \"xaxis\": {\"automargin\": true, \"gridcolor\": \"white\", \"linecolor\": \"white\", \"ticks\": \"\", \"title\": {\"standoff\": 15}, \"zerolinecolor\": \"white\", \"zerolinewidth\": 2}, \"yaxis\": {\"automargin\": true, \"gridcolor\": \"white\", \"linecolor\": \"white\", \"ticks\": \"\", \"title\": {\"standoff\": 15}, \"zerolinecolor\": \"white\", \"zerolinewidth\": 2}}}, \"title\": {\"font\": {\"color\": \"#4D5663\"}}, \"xaxis\": {\"gridcolor\": \"#E1E5ED\", \"showgrid\": true, \"tickfont\": {\"color\": \"#4D5663\"}, \"title\": {\"font\": {\"color\": \"#4D5663\"}, \"text\": \"\"}, \"zerolinecolor\": \"#E1E5ED\"}, \"yaxis\": {\"gridcolor\": \"#E1E5ED\", \"showgrid\": true, \"tickfont\": {\"color\": \"#4D5663\"}, \"title\": {\"font\": {\"color\": \"#4D5663\"}, \"text\": \"\"}, \"zerolinecolor\": \"#E1E5ED\"}},\n                        {\"showLink\": true, \"linkText\": \"Export to plot.ly\", \"plotlyServerURL\": \"https://plot.ly\", \"responsive\": true}\n                    ).then(function(){\n                            \nvar gd = document.getElementById('118a9586-b577-48e4-a1ad-9b93f2b06f99');\nvar x = new MutationObserver(function (mutations, observer) {{\n        var display = window.getComputedStyle(gd).display;\n        if (!display || display === 'none') {{\n            console.log([gd, 'removed!']);\n            Plotly.purge(gd);\n            observer.disconnect();\n        }}\n}});\n\n// Listen for the removal of the full notebook cells\nvar notebookContainer = gd.closest('#notebook-container');\nif (notebookContainer) {{\n    x.observe(notebookContainer, {childList: true});\n}}\n\n// Listen for the clearing of the current output cell\nvar outputEl = gd.closest('.output');\nif (outputEl) {{\n    x.observe(outputEl, {childList: true});\n}}\n\n                        })\n                };\n                });\n            </script>\n        </div>"
     },
     "metadata": {}
    }
   ],
   "source": [
    "# box plots\n",
    "df.iplot(kind='box')"
   ]
  },
  {
   "cell_type": "code",
   "execution_count": 45,
   "metadata": {},
   "outputs": [
    {
     "output_type": "display_data",
     "data": {
      "application/vnd.plotly.v1+json": {
       "config": {
        "linkText": "Export to plot.ly",
        "plotlyServerURL": "https://plot.ly",
        "showLink": true
       },
       "data": [
        {
         "colorscale": [
          [
           0,
           "rgb(165,0,38)"
          ],
          [
           0.1,
           "rgb(215,48,39)"
          ],
          [
           0.2,
           "rgb(244,109,67)"
          ],
          [
           0.3,
           "rgb(253,174,97)"
          ],
          [
           0.4,
           "rgb(254,224,144)"
          ],
          [
           0.5,
           "rgb(255,255,191)"
          ],
          [
           0.6,
           "rgb(224,243,248)"
          ],
          [
           0.7,
           "rgb(171,217,233)"
          ],
          [
           0.8,
           "rgb(116,173,209)"
          ],
          [
           0.9,
           "rgb(69,117,180)"
          ],
          [
           1,
           "rgb(49,54,149)"
          ]
         ],
         "type": "surface",
         "x": [
          0,
          1,
          2,
          3,
          4
         ],
         "y": [
          "x",
          "y",
          "z"
         ],
         "z": [
          [
           1,
           2,
           3,
           4,
           5
          ],
          [
           10,
           20,
           30,
           20,
           10
          ],
          [
           5,
           4,
           3,
           2,
           1
          ]
         ]
        }
       ],
       "layout": {
        "legend": {
         "bgcolor": "#F5F6F9",
         "font": {
          "color": "#4D5663"
         }
        },
        "paper_bgcolor": "#F5F6F9",
        "plot_bgcolor": "#F5F6F9",
        "template": {
         "data": {
          "bar": [
           {
            "error_x": {
             "color": "#2a3f5f"
            },
            "error_y": {
             "color": "#2a3f5f"
            },
            "marker": {
             "line": {
              "color": "#E5ECF6",
              "width": 0.5
             }
            },
            "type": "bar"
           }
          ],
          "barpolar": [
           {
            "marker": {
             "line": {
              "color": "#E5ECF6",
              "width": 0.5
             }
            },
            "type": "barpolar"
           }
          ],
          "carpet": [
           {
            "aaxis": {
             "endlinecolor": "#2a3f5f",
             "gridcolor": "white",
             "linecolor": "white",
             "minorgridcolor": "white",
             "startlinecolor": "#2a3f5f"
            },
            "baxis": {
             "endlinecolor": "#2a3f5f",
             "gridcolor": "white",
             "linecolor": "white",
             "minorgridcolor": "white",
             "startlinecolor": "#2a3f5f"
            },
            "type": "carpet"
           }
          ],
          "choropleth": [
           {
            "colorbar": {
             "outlinewidth": 0,
             "ticks": ""
            },
            "type": "choropleth"
           }
          ],
          "contour": [
           {
            "colorbar": {
             "outlinewidth": 0,
             "ticks": ""
            },
            "colorscale": [
             [
              0,
              "#0d0887"
             ],
             [
              0.1111111111111111,
              "#46039f"
             ],
             [
              0.2222222222222222,
              "#7201a8"
             ],
             [
              0.3333333333333333,
              "#9c179e"
             ],
             [
              0.4444444444444444,
              "#bd3786"
             ],
             [
              0.5555555555555556,
              "#d8576b"
             ],
             [
              0.6666666666666666,
              "#ed7953"
             ],
             [
              0.7777777777777778,
              "#fb9f3a"
             ],
             [
              0.8888888888888888,
              "#fdca26"
             ],
             [
              1,
              "#f0f921"
             ]
            ],
            "type": "contour"
           }
          ],
          "contourcarpet": [
           {
            "colorbar": {
             "outlinewidth": 0,
             "ticks": ""
            },
            "type": "contourcarpet"
           }
          ],
          "heatmap": [
           {
            "colorbar": {
             "outlinewidth": 0,
             "ticks": ""
            },
            "colorscale": [
             [
              0,
              "#0d0887"
             ],
             [
              0.1111111111111111,
              "#46039f"
             ],
             [
              0.2222222222222222,
              "#7201a8"
             ],
             [
              0.3333333333333333,
              "#9c179e"
             ],
             [
              0.4444444444444444,
              "#bd3786"
             ],
             [
              0.5555555555555556,
              "#d8576b"
             ],
             [
              0.6666666666666666,
              "#ed7953"
             ],
             [
              0.7777777777777778,
              "#fb9f3a"
             ],
             [
              0.8888888888888888,
              "#fdca26"
             ],
             [
              1,
              "#f0f921"
             ]
            ],
            "type": "heatmap"
           }
          ],
          "heatmapgl": [
           {
            "colorbar": {
             "outlinewidth": 0,
             "ticks": ""
            },
            "colorscale": [
             [
              0,
              "#0d0887"
             ],
             [
              0.1111111111111111,
              "#46039f"
             ],
             [
              0.2222222222222222,
              "#7201a8"
             ],
             [
              0.3333333333333333,
              "#9c179e"
             ],
             [
              0.4444444444444444,
              "#bd3786"
             ],
             [
              0.5555555555555556,
              "#d8576b"
             ],
             [
              0.6666666666666666,
              "#ed7953"
             ],
             [
              0.7777777777777778,
              "#fb9f3a"
             ],
             [
              0.8888888888888888,
              "#fdca26"
             ],
             [
              1,
              "#f0f921"
             ]
            ],
            "type": "heatmapgl"
           }
          ],
          "histogram": [
           {
            "marker": {
             "colorbar": {
              "outlinewidth": 0,
              "ticks": ""
             }
            },
            "type": "histogram"
           }
          ],
          "histogram2d": [
           {
            "colorbar": {
             "outlinewidth": 0,
             "ticks": ""
            },
            "colorscale": [
             [
              0,
              "#0d0887"
             ],
             [
              0.1111111111111111,
              "#46039f"
             ],
             [
              0.2222222222222222,
              "#7201a8"
             ],
             [
              0.3333333333333333,
              "#9c179e"
             ],
             [
              0.4444444444444444,
              "#bd3786"
             ],
             [
              0.5555555555555556,
              "#d8576b"
             ],
             [
              0.6666666666666666,
              "#ed7953"
             ],
             [
              0.7777777777777778,
              "#fb9f3a"
             ],
             [
              0.8888888888888888,
              "#fdca26"
             ],
             [
              1,
              "#f0f921"
             ]
            ],
            "type": "histogram2d"
           }
          ],
          "histogram2dcontour": [
           {
            "colorbar": {
             "outlinewidth": 0,
             "ticks": ""
            },
            "colorscale": [
             [
              0,
              "#0d0887"
             ],
             [
              0.1111111111111111,
              "#46039f"
             ],
             [
              0.2222222222222222,
              "#7201a8"
             ],
             [
              0.3333333333333333,
              "#9c179e"
             ],
             [
              0.4444444444444444,
              "#bd3786"
             ],
             [
              0.5555555555555556,
              "#d8576b"
             ],
             [
              0.6666666666666666,
              "#ed7953"
             ],
             [
              0.7777777777777778,
              "#fb9f3a"
             ],
             [
              0.8888888888888888,
              "#fdca26"
             ],
             [
              1,
              "#f0f921"
             ]
            ],
            "type": "histogram2dcontour"
           }
          ],
          "mesh3d": [
           {
            "colorbar": {
             "outlinewidth": 0,
             "ticks": ""
            },
            "type": "mesh3d"
           }
          ],
          "parcoords": [
           {
            "line": {
             "colorbar": {
              "outlinewidth": 0,
              "ticks": ""
             }
            },
            "type": "parcoords"
           }
          ],
          "pie": [
           {
            "automargin": true,
            "type": "pie"
           }
          ],
          "scatter": [
           {
            "marker": {
             "colorbar": {
              "outlinewidth": 0,
              "ticks": ""
             }
            },
            "type": "scatter"
           }
          ],
          "scatter3d": [
           {
            "line": {
             "colorbar": {
              "outlinewidth": 0,
              "ticks": ""
             }
            },
            "marker": {
             "colorbar": {
              "outlinewidth": 0,
              "ticks": ""
             }
            },
            "type": "scatter3d"
           }
          ],
          "scattercarpet": [
           {
            "marker": {
             "colorbar": {
              "outlinewidth": 0,
              "ticks": ""
             }
            },
            "type": "scattercarpet"
           }
          ],
          "scattergeo": [
           {
            "marker": {
             "colorbar": {
              "outlinewidth": 0,
              "ticks": ""
             }
            },
            "type": "scattergeo"
           }
          ],
          "scattergl": [
           {
            "marker": {
             "colorbar": {
              "outlinewidth": 0,
              "ticks": ""
             }
            },
            "type": "scattergl"
           }
          ],
          "scattermapbox": [
           {
            "marker": {
             "colorbar": {
              "outlinewidth": 0,
              "ticks": ""
             }
            },
            "type": "scattermapbox"
           }
          ],
          "scatterpolar": [
           {
            "marker": {
             "colorbar": {
              "outlinewidth": 0,
              "ticks": ""
             }
            },
            "type": "scatterpolar"
           }
          ],
          "scatterpolargl": [
           {
            "marker": {
             "colorbar": {
              "outlinewidth": 0,
              "ticks": ""
             }
            },
            "type": "scatterpolargl"
           }
          ],
          "scatterternary": [
           {
            "marker": {
             "colorbar": {
              "outlinewidth": 0,
              "ticks": ""
             }
            },
            "type": "scatterternary"
           }
          ],
          "surface": [
           {
            "colorbar": {
             "outlinewidth": 0,
             "ticks": ""
            },
            "colorscale": [
             [
              0,
              "#0d0887"
             ],
             [
              0.1111111111111111,
              "#46039f"
             ],
             [
              0.2222222222222222,
              "#7201a8"
             ],
             [
              0.3333333333333333,
              "#9c179e"
             ],
             [
              0.4444444444444444,
              "#bd3786"
             ],
             [
              0.5555555555555556,
              "#d8576b"
             ],
             [
              0.6666666666666666,
              "#ed7953"
             ],
             [
              0.7777777777777778,
              "#fb9f3a"
             ],
             [
              0.8888888888888888,
              "#fdca26"
             ],
             [
              1,
              "#f0f921"
             ]
            ],
            "type": "surface"
           }
          ],
          "table": [
           {
            "cells": {
             "fill": {
              "color": "#EBF0F8"
             },
             "line": {
              "color": "white"
             }
            },
            "header": {
             "fill": {
              "color": "#C8D4E3"
             },
             "line": {
              "color": "white"
             }
            },
            "type": "table"
           }
          ]
         },
         "layout": {
          "annotationdefaults": {
           "arrowcolor": "#2a3f5f",
           "arrowhead": 0,
           "arrowwidth": 1
          },
          "coloraxis": {
           "colorbar": {
            "outlinewidth": 0,
            "ticks": ""
           }
          },
          "colorscale": {
           "diverging": [
            [
             0,
             "#8e0152"
            ],
            [
             0.1,
             "#c51b7d"
            ],
            [
             0.2,
             "#de77ae"
            ],
            [
             0.3,
             "#f1b6da"
            ],
            [
             0.4,
             "#fde0ef"
            ],
            [
             0.5,
             "#f7f7f7"
            ],
            [
             0.6,
             "#e6f5d0"
            ],
            [
             0.7,
             "#b8e186"
            ],
            [
             0.8,
             "#7fbc41"
            ],
            [
             0.9,
             "#4d9221"
            ],
            [
             1,
             "#276419"
            ]
           ],
           "sequential": [
            [
             0,
             "#0d0887"
            ],
            [
             0.1111111111111111,
             "#46039f"
            ],
            [
             0.2222222222222222,
             "#7201a8"
            ],
            [
             0.3333333333333333,
             "#9c179e"
            ],
            [
             0.4444444444444444,
             "#bd3786"
            ],
            [
             0.5555555555555556,
             "#d8576b"
            ],
            [
             0.6666666666666666,
             "#ed7953"
            ],
            [
             0.7777777777777778,
             "#fb9f3a"
            ],
            [
             0.8888888888888888,
             "#fdca26"
            ],
            [
             1,
             "#f0f921"
            ]
           ],
           "sequentialminus": [
            [
             0,
             "#0d0887"
            ],
            [
             0.1111111111111111,
             "#46039f"
            ],
            [
             0.2222222222222222,
             "#7201a8"
            ],
            [
             0.3333333333333333,
             "#9c179e"
            ],
            [
             0.4444444444444444,
             "#bd3786"
            ],
            [
             0.5555555555555556,
             "#d8576b"
            ],
            [
             0.6666666666666666,
             "#ed7953"
            ],
            [
             0.7777777777777778,
             "#fb9f3a"
            ],
            [
             0.8888888888888888,
             "#fdca26"
            ],
            [
             1,
             "#f0f921"
            ]
           ]
          },
          "colorway": [
           "#636efa",
           "#EF553B",
           "#00cc96",
           "#ab63fa",
           "#FFA15A",
           "#19d3f3",
           "#FF6692",
           "#B6E880",
           "#FF97FF",
           "#FECB52"
          ],
          "font": {
           "color": "#2a3f5f"
          },
          "geo": {
           "bgcolor": "white",
           "lakecolor": "white",
           "landcolor": "#E5ECF6",
           "showlakes": true,
           "showland": true,
           "subunitcolor": "white"
          },
          "hoverlabel": {
           "align": "left"
          },
          "hovermode": "closest",
          "mapbox": {
           "style": "light"
          },
          "paper_bgcolor": "white",
          "plot_bgcolor": "#E5ECF6",
          "polar": {
           "angularaxis": {
            "gridcolor": "white",
            "linecolor": "white",
            "ticks": ""
           },
           "bgcolor": "#E5ECF6",
           "radialaxis": {
            "gridcolor": "white",
            "linecolor": "white",
            "ticks": ""
           }
          },
          "scene": {
           "xaxis": {
            "backgroundcolor": "#E5ECF6",
            "gridcolor": "white",
            "gridwidth": 2,
            "linecolor": "white",
            "showbackground": true,
            "ticks": "",
            "zerolinecolor": "white"
           },
           "yaxis": {
            "backgroundcolor": "#E5ECF6",
            "gridcolor": "white",
            "gridwidth": 2,
            "linecolor": "white",
            "showbackground": true,
            "ticks": "",
            "zerolinecolor": "white"
           },
           "zaxis": {
            "backgroundcolor": "#E5ECF6",
            "gridcolor": "white",
            "gridwidth": 2,
            "linecolor": "white",
            "showbackground": true,
            "ticks": "",
            "zerolinecolor": "white"
           }
          },
          "shapedefaults": {
           "line": {
            "color": "#2a3f5f"
           }
          },
          "ternary": {
           "aaxis": {
            "gridcolor": "white",
            "linecolor": "white",
            "ticks": ""
           },
           "baxis": {
            "gridcolor": "white",
            "linecolor": "white",
            "ticks": ""
           },
           "bgcolor": "#E5ECF6",
           "caxis": {
            "gridcolor": "white",
            "linecolor": "white",
            "ticks": ""
           }
          },
          "title": {
           "x": 0.05
          },
          "xaxis": {
           "automargin": true,
           "gridcolor": "white",
           "linecolor": "white",
           "ticks": "",
           "title": {
            "standoff": 15
           },
           "zerolinecolor": "white",
           "zerolinewidth": 2
          },
          "yaxis": {
           "automargin": true,
           "gridcolor": "white",
           "linecolor": "white",
           "ticks": "",
           "title": {
            "standoff": 15
           },
           "zerolinecolor": "white",
           "zerolinewidth": 2
          }
         }
        },
        "title": {
         "font": {
          "color": "#4D5663"
         }
        },
        "xaxis": {
         "gridcolor": "#E1E5ED",
         "showgrid": true,
         "tickfont": {
          "color": "#4D5663"
         },
         "title": {
          "font": {
           "color": "#4D5663"
          },
          "text": ""
         },
         "zerolinecolor": "#E1E5ED"
        },
        "yaxis": {
         "gridcolor": "#E1E5ED",
         "showgrid": true,
         "tickfont": {
          "color": "#4D5663"
         },
         "title": {
          "font": {
           "color": "#4D5663"
          },
          "text": ""
         },
         "zerolinecolor": "#E1E5ED"
        }
       }
      },
      "text/html": "<div>\n        \n        \n            <div id=\"a277486d-d047-4d36-b465-bb7b050e2aa2\" class=\"plotly-graph-div\" style=\"height:525px; width:100%;\"></div>\n            <script type=\"text/javascript\">\n                require([\"plotly\"], function(Plotly) {\n                    window.PLOTLYENV=window.PLOTLYENV || {};\n                    window.PLOTLYENV.BASE_URL='https://plot.ly';\n                    \n                if (document.getElementById(\"a277486d-d047-4d36-b465-bb7b050e2aa2\")) {\n                    Plotly.newPlot(\n                        'a277486d-d047-4d36-b465-bb7b050e2aa2',\n                        [{\"colorscale\": [[0.0, \"rgb(165,0,38)\"], [0.1, \"rgb(215,48,39)\"], [0.2, \"rgb(244,109,67)\"], [0.3, \"rgb(253,174,97)\"], [0.4, \"rgb(254,224,144)\"], [0.5, \"rgb(255,255,191)\"], [0.6, \"rgb(224,243,248)\"], [0.7, \"rgb(171,217,233)\"], [0.8, \"rgb(116,173,209)\"], [0.9, \"rgb(69,117,180)\"], [1.0, \"rgb(49,54,149)\"]], \"type\": \"surface\", \"x\": [0, 1, 2, 3, 4], \"y\": [\"x\", \"y\", \"z\"], \"z\": [[1, 2, 3, 4, 5], [10, 20, 30, 20, 10], [5, 4, 3, 2, 1]]}],\n                        {\"legend\": {\"bgcolor\": \"#F5F6F9\", \"font\": {\"color\": \"#4D5663\"}}, \"paper_bgcolor\": \"#F5F6F9\", \"plot_bgcolor\": \"#F5F6F9\", \"template\": {\"data\": {\"bar\": [{\"error_x\": {\"color\": \"#2a3f5f\"}, \"error_y\": {\"color\": \"#2a3f5f\"}, \"marker\": {\"line\": {\"color\": \"#E5ECF6\", \"width\": 0.5}}, \"type\": \"bar\"}], \"barpolar\": [{\"marker\": {\"line\": {\"color\": \"#E5ECF6\", \"width\": 0.5}}, \"type\": \"barpolar\"}], \"carpet\": [{\"aaxis\": {\"endlinecolor\": \"#2a3f5f\", \"gridcolor\": \"white\", \"linecolor\": \"white\", \"minorgridcolor\": \"white\", \"startlinecolor\": \"#2a3f5f\"}, \"baxis\": {\"endlinecolor\": \"#2a3f5f\", \"gridcolor\": \"white\", \"linecolor\": \"white\", \"minorgridcolor\": \"white\", \"startlinecolor\": \"#2a3f5f\"}, \"type\": \"carpet\"}], \"choropleth\": [{\"colorbar\": {\"outlinewidth\": 0, \"ticks\": \"\"}, \"type\": \"choropleth\"}], \"contour\": [{\"colorbar\": {\"outlinewidth\": 0, \"ticks\": \"\"}, \"colorscale\": [[0.0, \"#0d0887\"], [0.1111111111111111, \"#46039f\"], [0.2222222222222222, \"#7201a8\"], [0.3333333333333333, \"#9c179e\"], [0.4444444444444444, \"#bd3786\"], [0.5555555555555556, \"#d8576b\"], [0.6666666666666666, \"#ed7953\"], [0.7777777777777778, \"#fb9f3a\"], [0.8888888888888888, \"#fdca26\"], [1.0, \"#f0f921\"]], \"type\": \"contour\"}], \"contourcarpet\": [{\"colorbar\": {\"outlinewidth\": 0, \"ticks\": \"\"}, \"type\": \"contourcarpet\"}], \"heatmap\": [{\"colorbar\": {\"outlinewidth\": 0, \"ticks\": \"\"}, \"colorscale\": [[0.0, \"#0d0887\"], [0.1111111111111111, \"#46039f\"], [0.2222222222222222, \"#7201a8\"], [0.3333333333333333, \"#9c179e\"], [0.4444444444444444, \"#bd3786\"], [0.5555555555555556, \"#d8576b\"], [0.6666666666666666, \"#ed7953\"], [0.7777777777777778, \"#fb9f3a\"], [0.8888888888888888, \"#fdca26\"], [1.0, \"#f0f921\"]], \"type\": \"heatmap\"}], \"heatmapgl\": [{\"colorbar\": {\"outlinewidth\": 0, \"ticks\": \"\"}, \"colorscale\": [[0.0, \"#0d0887\"], [0.1111111111111111, \"#46039f\"], [0.2222222222222222, \"#7201a8\"], [0.3333333333333333, \"#9c179e\"], [0.4444444444444444, \"#bd3786\"], [0.5555555555555556, \"#d8576b\"], [0.6666666666666666, \"#ed7953\"], [0.7777777777777778, \"#fb9f3a\"], [0.8888888888888888, \"#fdca26\"], [1.0, \"#f0f921\"]], \"type\": \"heatmapgl\"}], \"histogram\": [{\"marker\": {\"colorbar\": {\"outlinewidth\": 0, \"ticks\": \"\"}}, \"type\": \"histogram\"}], \"histogram2d\": [{\"colorbar\": {\"outlinewidth\": 0, \"ticks\": \"\"}, \"colorscale\": [[0.0, \"#0d0887\"], [0.1111111111111111, \"#46039f\"], [0.2222222222222222, \"#7201a8\"], [0.3333333333333333, \"#9c179e\"], [0.4444444444444444, \"#bd3786\"], [0.5555555555555556, \"#d8576b\"], [0.6666666666666666, \"#ed7953\"], [0.7777777777777778, \"#fb9f3a\"], [0.8888888888888888, \"#fdca26\"], [1.0, \"#f0f921\"]], \"type\": \"histogram2d\"}], \"histogram2dcontour\": [{\"colorbar\": {\"outlinewidth\": 0, \"ticks\": \"\"}, \"colorscale\": [[0.0, \"#0d0887\"], [0.1111111111111111, \"#46039f\"], [0.2222222222222222, \"#7201a8\"], [0.3333333333333333, \"#9c179e\"], [0.4444444444444444, \"#bd3786\"], [0.5555555555555556, \"#d8576b\"], [0.6666666666666666, \"#ed7953\"], [0.7777777777777778, \"#fb9f3a\"], [0.8888888888888888, \"#fdca26\"], [1.0, \"#f0f921\"]], \"type\": \"histogram2dcontour\"}], \"mesh3d\": [{\"colorbar\": {\"outlinewidth\": 0, \"ticks\": \"\"}, \"type\": \"mesh3d\"}], \"parcoords\": [{\"line\": {\"colorbar\": {\"outlinewidth\": 0, \"ticks\": \"\"}}, \"type\": \"parcoords\"}], \"pie\": [{\"automargin\": true, \"type\": \"pie\"}], \"scatter\": [{\"marker\": {\"colorbar\": {\"outlinewidth\": 0, \"ticks\": \"\"}}, \"type\": \"scatter\"}], \"scatter3d\": [{\"line\": {\"colorbar\": {\"outlinewidth\": 0, \"ticks\": \"\"}}, \"marker\": {\"colorbar\": {\"outlinewidth\": 0, \"ticks\": \"\"}}, \"type\": \"scatter3d\"}], \"scattercarpet\": [{\"marker\": {\"colorbar\": {\"outlinewidth\": 0, \"ticks\": \"\"}}, \"type\": \"scattercarpet\"}], \"scattergeo\": [{\"marker\": {\"colorbar\": {\"outlinewidth\": 0, \"ticks\": \"\"}}, \"type\": \"scattergeo\"}], \"scattergl\": [{\"marker\": {\"colorbar\": {\"outlinewidth\": 0, \"ticks\": \"\"}}, \"type\": \"scattergl\"}], \"scattermapbox\": [{\"marker\": {\"colorbar\": {\"outlinewidth\": 0, \"ticks\": \"\"}}, \"type\": \"scattermapbox\"}], \"scatterpolar\": [{\"marker\": {\"colorbar\": {\"outlinewidth\": 0, \"ticks\": \"\"}}, \"type\": \"scatterpolar\"}], \"scatterpolargl\": [{\"marker\": {\"colorbar\": {\"outlinewidth\": 0, \"ticks\": \"\"}}, \"type\": \"scatterpolargl\"}], \"scatterternary\": [{\"marker\": {\"colorbar\": {\"outlinewidth\": 0, \"ticks\": \"\"}}, \"type\": \"scatterternary\"}], \"surface\": [{\"colorbar\": {\"outlinewidth\": 0, \"ticks\": \"\"}, \"colorscale\": [[0.0, \"#0d0887\"], [0.1111111111111111, \"#46039f\"], [0.2222222222222222, \"#7201a8\"], [0.3333333333333333, \"#9c179e\"], [0.4444444444444444, \"#bd3786\"], [0.5555555555555556, \"#d8576b\"], [0.6666666666666666, \"#ed7953\"], [0.7777777777777778, \"#fb9f3a\"], [0.8888888888888888, \"#fdca26\"], [1.0, \"#f0f921\"]], \"type\": \"surface\"}], \"table\": [{\"cells\": {\"fill\": {\"color\": \"#EBF0F8\"}, \"line\": {\"color\": \"white\"}}, \"header\": {\"fill\": {\"color\": \"#C8D4E3\"}, \"line\": {\"color\": \"white\"}}, \"type\": \"table\"}]}, \"layout\": {\"annotationdefaults\": {\"arrowcolor\": \"#2a3f5f\", \"arrowhead\": 0, \"arrowwidth\": 1}, \"coloraxis\": {\"colorbar\": {\"outlinewidth\": 0, \"ticks\": \"\"}}, \"colorscale\": {\"diverging\": [[0, \"#8e0152\"], [0.1, \"#c51b7d\"], [0.2, \"#de77ae\"], [0.3, \"#f1b6da\"], [0.4, \"#fde0ef\"], [0.5, \"#f7f7f7\"], [0.6, \"#e6f5d0\"], [0.7, \"#b8e186\"], [0.8, \"#7fbc41\"], [0.9, \"#4d9221\"], [1, \"#276419\"]], \"sequential\": [[0.0, \"#0d0887\"], [0.1111111111111111, \"#46039f\"], [0.2222222222222222, \"#7201a8\"], [0.3333333333333333, \"#9c179e\"], [0.4444444444444444, \"#bd3786\"], [0.5555555555555556, \"#d8576b\"], [0.6666666666666666, \"#ed7953\"], [0.7777777777777778, \"#fb9f3a\"], [0.8888888888888888, \"#fdca26\"], [1.0, \"#f0f921\"]], \"sequentialminus\": [[0.0, \"#0d0887\"], [0.1111111111111111, \"#46039f\"], [0.2222222222222222, \"#7201a8\"], [0.3333333333333333, \"#9c179e\"], [0.4444444444444444, \"#bd3786\"], [0.5555555555555556, \"#d8576b\"], [0.6666666666666666, \"#ed7953\"], [0.7777777777777778, \"#fb9f3a\"], [0.8888888888888888, \"#fdca26\"], [1.0, \"#f0f921\"]]}, \"colorway\": [\"#636efa\", \"#EF553B\", \"#00cc96\", \"#ab63fa\", \"#FFA15A\", \"#19d3f3\", \"#FF6692\", \"#B6E880\", \"#FF97FF\", \"#FECB52\"], \"font\": {\"color\": \"#2a3f5f\"}, \"geo\": {\"bgcolor\": \"white\", \"lakecolor\": \"white\", \"landcolor\": \"#E5ECF6\", \"showlakes\": true, \"showland\": true, \"subunitcolor\": \"white\"}, \"hoverlabel\": {\"align\": \"left\"}, \"hovermode\": \"closest\", \"mapbox\": {\"style\": \"light\"}, \"paper_bgcolor\": \"white\", \"plot_bgcolor\": \"#E5ECF6\", \"polar\": {\"angularaxis\": {\"gridcolor\": \"white\", \"linecolor\": \"white\", \"ticks\": \"\"}, \"bgcolor\": \"#E5ECF6\", \"radialaxis\": {\"gridcolor\": \"white\", \"linecolor\": \"white\", \"ticks\": \"\"}}, \"scene\": {\"xaxis\": {\"backgroundcolor\": \"#E5ECF6\", \"gridcolor\": \"white\", \"gridwidth\": 2, \"linecolor\": \"white\", \"showbackground\": true, \"ticks\": \"\", \"zerolinecolor\": \"white\"}, \"yaxis\": {\"backgroundcolor\": \"#E5ECF6\", \"gridcolor\": \"white\", \"gridwidth\": 2, \"linecolor\": \"white\", \"showbackground\": true, \"ticks\": \"\", \"zerolinecolor\": \"white\"}, \"zaxis\": {\"backgroundcolor\": \"#E5ECF6\", \"gridcolor\": \"white\", \"gridwidth\": 2, \"linecolor\": \"white\", \"showbackground\": true, \"ticks\": \"\", \"zerolinecolor\": \"white\"}}, \"shapedefaults\": {\"line\": {\"color\": \"#2a3f5f\"}}, \"ternary\": {\"aaxis\": {\"gridcolor\": \"white\", \"linecolor\": \"white\", \"ticks\": \"\"}, \"baxis\": {\"gridcolor\": \"white\", \"linecolor\": \"white\", \"ticks\": \"\"}, \"bgcolor\": \"#E5ECF6\", \"caxis\": {\"gridcolor\": \"white\", \"linecolor\": \"white\", \"ticks\": \"\"}}, \"title\": {\"x\": 0.05}, \"xaxis\": {\"automargin\": true, \"gridcolor\": \"white\", \"linecolor\": \"white\", \"ticks\": \"\", \"title\": {\"standoff\": 15}, \"zerolinecolor\": \"white\", \"zerolinewidth\": 2}, \"yaxis\": {\"automargin\": true, \"gridcolor\": \"white\", \"linecolor\": \"white\", \"ticks\": \"\", \"title\": {\"standoff\": 15}, \"zerolinecolor\": \"white\", \"zerolinewidth\": 2}}}, \"title\": {\"font\": {\"color\": \"#4D5663\"}}, \"xaxis\": {\"gridcolor\": \"#E1E5ED\", \"showgrid\": true, \"tickfont\": {\"color\": \"#4D5663\"}, \"title\": {\"font\": {\"color\": \"#4D5663\"}, \"text\": \"\"}, \"zerolinecolor\": \"#E1E5ED\"}, \"yaxis\": {\"gridcolor\": \"#E1E5ED\", \"showgrid\": true, \"tickfont\": {\"color\": \"#4D5663\"}, \"title\": {\"font\": {\"color\": \"#4D5663\"}, \"text\": \"\"}, \"zerolinecolor\": \"#E1E5ED\"}},\n                        {\"showLink\": true, \"linkText\": \"Export to plot.ly\", \"plotlyServerURL\": \"https://plot.ly\", \"responsive\": true}\n                    ).then(function(){\n                            \nvar gd = document.getElementById('a277486d-d047-4d36-b465-bb7b050e2aa2');\nvar x = new MutationObserver(function (mutations, observer) {{\n        var display = window.getComputedStyle(gd).display;\n        if (!display || display === 'none') {{\n            console.log([gd, 'removed!']);\n            Plotly.purge(gd);\n            observer.disconnect();\n        }}\n}});\n\n// Listen for the removal of the full notebook cells\nvar notebookContainer = gd.closest('#notebook-container');\nif (notebookContainer) {{\n    x.observe(notebookContainer, {childList: true});\n}}\n\n// Listen for the clearing of the current output cell\nvar outputEl = gd.closest('.output');\nif (outputEl) {{\n    x.observe(outputEl, {childList: true});\n}}\n\n                        })\n                };\n                });\n            </script>\n        </div>"
     },
     "metadata": {}
    }
   ],
   "source": [
    "df3 = pd.DataFrame({'x':[1,2,3,4,5],'y':[10,20,30,20,10],'z':[5,4,3,2,1]})\n",
    "df3.iplot(kind='surface',colorscale='rdylbu')"
   ]
  },
  {
   "cell_type": "code",
   "execution_count": 48,
   "metadata": {},
   "outputs": [
    {
     "output_type": "display_data",
     "data": {
      "application/vnd.plotly.v1+json": {
       "config": {
        "linkText": "Export to plot.ly",
        "plotlyServerURL": "https://plot.ly",
        "showLink": true
       },
       "data": [
        {
         "histfunc": "count",
         "histnorm": "",
         "marker": {
          "color": "rgba(255, 153, 51, 1.0)",
          "line": {
           "color": "#4D5663",
           "width": 1.3
          }
         },
         "name": "A",
         "opacity": 0.8,
         "orientation": "v",
         "type": "histogram",
         "x": [
          -0.20959528449674006,
          1.0313395209143585,
          1.1694348176263178,
          1.2609299556386497,
          0.9991395033571964,
          -2.605096456045387,
          0.4223200564889698,
          -0.1957775306388394,
          -0.5581225730329871,
          0.31374974544598283,
          -0.1094457539933965,
          0.8490037964381496,
          -0.1924499072203981,
          -0.7241729098994564,
          -1.537635679731419,
          -0.17928390076971523,
          -0.4654379085350427,
          0.14536975247776704,
          -0.4107308856713606,
          -0.31692807918550775,
          0.8541795096845612,
          -0.5411685133468052,
          1.6526300592340684,
          -0.3970649611176773,
          0.5537155926901607,
          0.09527358902101514,
          0.14643308884471226,
          -0.5952788954061516,
          1.8391170023050945,
          0.8599789829121285,
          0.14419695368764932,
          -3.7442569633057623,
          -0.3133723448373529,
          -0.16683141237592103,
          1.6188408185310394,
          0.6007304465359995,
          0.15187571991871177,
          0.07909127391112418,
          -0.19527530170401872,
          -1.7720594581677191,
          0.010435130962778887,
          -0.6984897154095291,
          0.298475241933431,
          -1.0324556631267123,
          -0.015196673014035973,
          0.24940100375673913,
          -1.5609631116868825,
          2.0752899982947026,
          -1.549922714712221,
          -0.04769669077299809,
          -0.13050979544132987,
          -1.3439932523872173,
          1.0161176621283028,
          0.22568439926107195,
          -1.1476615070110796,
          -0.5878368352865394,
          -0.238454936681599,
          1.0488599753027485,
          0.41705065187638135,
          0.9591773903586256,
          -1.3963563115579891,
          -0.9471610783203869,
          -1.2809323825176724,
          -0.2623463889448773,
          1.922978320621508,
          -1.2514220434971128,
          -0.9332967715496242,
          -2.17546410153974,
          1.4213253674153281,
          -0.18306555321065304,
          -0.8127274181256211,
          0.6210277858396868,
          0.6663719720223892,
          -0.21981687046950085,
          0.5232043156578947,
          1.3438976175293194,
          -0.40577896676652975,
          0.15087073518784777,
          0.14556340277596694,
          -0.8543803927110263,
          0.3939560017804806,
          0.16697514102575836,
          1.4058840116843392,
          0.4617877536009876,
          -1.5496801935445506,
          0.40769711945908343,
          0.2013369438901281,
          -1.1290823498859064,
          -0.6274727732033917,
          -1.4116748082720443,
          2.028067036128927,
          -0.06951536570078315,
          -0.39563856362339256,
          0.36572962567951944,
          0.2535557564640945,
          -0.592701403714788,
          -1.016758229530463,
          -0.6718010025615362,
          0.4816143914592303,
          1.6521186064972615
         ]
        }
       ],
       "layout": {
        "barmode": "overlay",
        "legend": {
         "bgcolor": "#F5F6F9",
         "font": {
          "color": "#4D5663"
         }
        },
        "paper_bgcolor": "#F5F6F9",
        "plot_bgcolor": "#F5F6F9",
        "template": {
         "data": {
          "bar": [
           {
            "error_x": {
             "color": "#2a3f5f"
            },
            "error_y": {
             "color": "#2a3f5f"
            },
            "marker": {
             "line": {
              "color": "#E5ECF6",
              "width": 0.5
             }
            },
            "type": "bar"
           }
          ],
          "barpolar": [
           {
            "marker": {
             "line": {
              "color": "#E5ECF6",
              "width": 0.5
             }
            },
            "type": "barpolar"
           }
          ],
          "carpet": [
           {
            "aaxis": {
             "endlinecolor": "#2a3f5f",
             "gridcolor": "white",
             "linecolor": "white",
             "minorgridcolor": "white",
             "startlinecolor": "#2a3f5f"
            },
            "baxis": {
             "endlinecolor": "#2a3f5f",
             "gridcolor": "white",
             "linecolor": "white",
             "minorgridcolor": "white",
             "startlinecolor": "#2a3f5f"
            },
            "type": "carpet"
           }
          ],
          "choropleth": [
           {
            "colorbar": {
             "outlinewidth": 0,
             "ticks": ""
            },
            "type": "choropleth"
           }
          ],
          "contour": [
           {
            "colorbar": {
             "outlinewidth": 0,
             "ticks": ""
            },
            "colorscale": [
             [
              0,
              "#0d0887"
             ],
             [
              0.1111111111111111,
              "#46039f"
             ],
             [
              0.2222222222222222,
              "#7201a8"
             ],
             [
              0.3333333333333333,
              "#9c179e"
             ],
             [
              0.4444444444444444,
              "#bd3786"
             ],
             [
              0.5555555555555556,
              "#d8576b"
             ],
             [
              0.6666666666666666,
              "#ed7953"
             ],
             [
              0.7777777777777778,
              "#fb9f3a"
             ],
             [
              0.8888888888888888,
              "#fdca26"
             ],
             [
              1,
              "#f0f921"
             ]
            ],
            "type": "contour"
           }
          ],
          "contourcarpet": [
           {
            "colorbar": {
             "outlinewidth": 0,
             "ticks": ""
            },
            "type": "contourcarpet"
           }
          ],
          "heatmap": [
           {
            "colorbar": {
             "outlinewidth": 0,
             "ticks": ""
            },
            "colorscale": [
             [
              0,
              "#0d0887"
             ],
             [
              0.1111111111111111,
              "#46039f"
             ],
             [
              0.2222222222222222,
              "#7201a8"
             ],
             [
              0.3333333333333333,
              "#9c179e"
             ],
             [
              0.4444444444444444,
              "#bd3786"
             ],
             [
              0.5555555555555556,
              "#d8576b"
             ],
             [
              0.6666666666666666,
              "#ed7953"
             ],
             [
              0.7777777777777778,
              "#fb9f3a"
             ],
             [
              0.8888888888888888,
              "#fdca26"
             ],
             [
              1,
              "#f0f921"
             ]
            ],
            "type": "heatmap"
           }
          ],
          "heatmapgl": [
           {
            "colorbar": {
             "outlinewidth": 0,
             "ticks": ""
            },
            "colorscale": [
             [
              0,
              "#0d0887"
             ],
             [
              0.1111111111111111,
              "#46039f"
             ],
             [
              0.2222222222222222,
              "#7201a8"
             ],
             [
              0.3333333333333333,
              "#9c179e"
             ],
             [
              0.4444444444444444,
              "#bd3786"
             ],
             [
              0.5555555555555556,
              "#d8576b"
             ],
             [
              0.6666666666666666,
              "#ed7953"
             ],
             [
              0.7777777777777778,
              "#fb9f3a"
             ],
             [
              0.8888888888888888,
              "#fdca26"
             ],
             [
              1,
              "#f0f921"
             ]
            ],
            "type": "heatmapgl"
           }
          ],
          "histogram": [
           {
            "marker": {
             "colorbar": {
              "outlinewidth": 0,
              "ticks": ""
             }
            },
            "type": "histogram"
           }
          ],
          "histogram2d": [
           {
            "colorbar": {
             "outlinewidth": 0,
             "ticks": ""
            },
            "colorscale": [
             [
              0,
              "#0d0887"
             ],
             [
              0.1111111111111111,
              "#46039f"
             ],
             [
              0.2222222222222222,
              "#7201a8"
             ],
             [
              0.3333333333333333,
              "#9c179e"
             ],
             [
              0.4444444444444444,
              "#bd3786"
             ],
             [
              0.5555555555555556,
              "#d8576b"
             ],
             [
              0.6666666666666666,
              "#ed7953"
             ],
             [
              0.7777777777777778,
              "#fb9f3a"
             ],
             [
              0.8888888888888888,
              "#fdca26"
             ],
             [
              1,
              "#f0f921"
             ]
            ],
            "type": "histogram2d"
           }
          ],
          "histogram2dcontour": [
           {
            "colorbar": {
             "outlinewidth": 0,
             "ticks": ""
            },
            "colorscale": [
             [
              0,
              "#0d0887"
             ],
             [
              0.1111111111111111,
              "#46039f"
             ],
             [
              0.2222222222222222,
              "#7201a8"
             ],
             [
              0.3333333333333333,
              "#9c179e"
             ],
             [
              0.4444444444444444,
              "#bd3786"
             ],
             [
              0.5555555555555556,
              "#d8576b"
             ],
             [
              0.6666666666666666,
              "#ed7953"
             ],
             [
              0.7777777777777778,
              "#fb9f3a"
             ],
             [
              0.8888888888888888,
              "#fdca26"
             ],
             [
              1,
              "#f0f921"
             ]
            ],
            "type": "histogram2dcontour"
           }
          ],
          "mesh3d": [
           {
            "colorbar": {
             "outlinewidth": 0,
             "ticks": ""
            },
            "type": "mesh3d"
           }
          ],
          "parcoords": [
           {
            "line": {
             "colorbar": {
              "outlinewidth": 0,
              "ticks": ""
             }
            },
            "type": "parcoords"
           }
          ],
          "pie": [
           {
            "automargin": true,
            "type": "pie"
           }
          ],
          "scatter": [
           {
            "marker": {
             "colorbar": {
              "outlinewidth": 0,
              "ticks": ""
             }
            },
            "type": "scatter"
           }
          ],
          "scatter3d": [
           {
            "line": {
             "colorbar": {
              "outlinewidth": 0,
              "ticks": ""
             }
            },
            "marker": {
             "colorbar": {
              "outlinewidth": 0,
              "ticks": ""
             }
            },
            "type": "scatter3d"
           }
          ],
          "scattercarpet": [
           {
            "marker": {
             "colorbar": {
              "outlinewidth": 0,
              "ticks": ""
             }
            },
            "type": "scattercarpet"
           }
          ],
          "scattergeo": [
           {
            "marker": {
             "colorbar": {
              "outlinewidth": 0,
              "ticks": ""
             }
            },
            "type": "scattergeo"
           }
          ],
          "scattergl": [
           {
            "marker": {
             "colorbar": {
              "outlinewidth": 0,
              "ticks": ""
             }
            },
            "type": "scattergl"
           }
          ],
          "scattermapbox": [
           {
            "marker": {
             "colorbar": {
              "outlinewidth": 0,
              "ticks": ""
             }
            },
            "type": "scattermapbox"
           }
          ],
          "scatterpolar": [
           {
            "marker": {
             "colorbar": {
              "outlinewidth": 0,
              "ticks": ""
             }
            },
            "type": "scatterpolar"
           }
          ],
          "scatterpolargl": [
           {
            "marker": {
             "colorbar": {
              "outlinewidth": 0,
              "ticks": ""
             }
            },
            "type": "scatterpolargl"
           }
          ],
          "scatterternary": [
           {
            "marker": {
             "colorbar": {
              "outlinewidth": 0,
              "ticks": ""
             }
            },
            "type": "scatterternary"
           }
          ],
          "surface": [
           {
            "colorbar": {
             "outlinewidth": 0,
             "ticks": ""
            },
            "colorscale": [
             [
              0,
              "#0d0887"
             ],
             [
              0.1111111111111111,
              "#46039f"
             ],
             [
              0.2222222222222222,
              "#7201a8"
             ],
             [
              0.3333333333333333,
              "#9c179e"
             ],
             [
              0.4444444444444444,
              "#bd3786"
             ],
             [
              0.5555555555555556,
              "#d8576b"
             ],
             [
              0.6666666666666666,
              "#ed7953"
             ],
             [
              0.7777777777777778,
              "#fb9f3a"
             ],
             [
              0.8888888888888888,
              "#fdca26"
             ],
             [
              1,
              "#f0f921"
             ]
            ],
            "type": "surface"
           }
          ],
          "table": [
           {
            "cells": {
             "fill": {
              "color": "#EBF0F8"
             },
             "line": {
              "color": "white"
             }
            },
            "header": {
             "fill": {
              "color": "#C8D4E3"
             },
             "line": {
              "color": "white"
             }
            },
            "type": "table"
           }
          ]
         },
         "layout": {
          "annotationdefaults": {
           "arrowcolor": "#2a3f5f",
           "arrowhead": 0,
           "arrowwidth": 1
          },
          "coloraxis": {
           "colorbar": {
            "outlinewidth": 0,
            "ticks": ""
           }
          },
          "colorscale": {
           "diverging": [
            [
             0,
             "#8e0152"
            ],
            [
             0.1,
             "#c51b7d"
            ],
            [
             0.2,
             "#de77ae"
            ],
            [
             0.3,
             "#f1b6da"
            ],
            [
             0.4,
             "#fde0ef"
            ],
            [
             0.5,
             "#f7f7f7"
            ],
            [
             0.6,
             "#e6f5d0"
            ],
            [
             0.7,
             "#b8e186"
            ],
            [
             0.8,
             "#7fbc41"
            ],
            [
             0.9,
             "#4d9221"
            ],
            [
             1,
             "#276419"
            ]
           ],
           "sequential": [
            [
             0,
             "#0d0887"
            ],
            [
             0.1111111111111111,
             "#46039f"
            ],
            [
             0.2222222222222222,
             "#7201a8"
            ],
            [
             0.3333333333333333,
             "#9c179e"
            ],
            [
             0.4444444444444444,
             "#bd3786"
            ],
            [
             0.5555555555555556,
             "#d8576b"
            ],
            [
             0.6666666666666666,
             "#ed7953"
            ],
            [
             0.7777777777777778,
             "#fb9f3a"
            ],
            [
             0.8888888888888888,
             "#fdca26"
            ],
            [
             1,
             "#f0f921"
            ]
           ],
           "sequentialminus": [
            [
             0,
             "#0d0887"
            ],
            [
             0.1111111111111111,
             "#46039f"
            ],
            [
             0.2222222222222222,
             "#7201a8"
            ],
            [
             0.3333333333333333,
             "#9c179e"
            ],
            [
             0.4444444444444444,
             "#bd3786"
            ],
            [
             0.5555555555555556,
             "#d8576b"
            ],
            [
             0.6666666666666666,
             "#ed7953"
            ],
            [
             0.7777777777777778,
             "#fb9f3a"
            ],
            [
             0.8888888888888888,
             "#fdca26"
            ],
            [
             1,
             "#f0f921"
            ]
           ]
          },
          "colorway": [
           "#636efa",
           "#EF553B",
           "#00cc96",
           "#ab63fa",
           "#FFA15A",
           "#19d3f3",
           "#FF6692",
           "#B6E880",
           "#FF97FF",
           "#FECB52"
          ],
          "font": {
           "color": "#2a3f5f"
          },
          "geo": {
           "bgcolor": "white",
           "lakecolor": "white",
           "landcolor": "#E5ECF6",
           "showlakes": true,
           "showland": true,
           "subunitcolor": "white"
          },
          "hoverlabel": {
           "align": "left"
          },
          "hovermode": "closest",
          "mapbox": {
           "style": "light"
          },
          "paper_bgcolor": "white",
          "plot_bgcolor": "#E5ECF6",
          "polar": {
           "angularaxis": {
            "gridcolor": "white",
            "linecolor": "white",
            "ticks": ""
           },
           "bgcolor": "#E5ECF6",
           "radialaxis": {
            "gridcolor": "white",
            "linecolor": "white",
            "ticks": ""
           }
          },
          "scene": {
           "xaxis": {
            "backgroundcolor": "#E5ECF6",
            "gridcolor": "white",
            "gridwidth": 2,
            "linecolor": "white",
            "showbackground": true,
            "ticks": "",
            "zerolinecolor": "white"
           },
           "yaxis": {
            "backgroundcolor": "#E5ECF6",
            "gridcolor": "white",
            "gridwidth": 2,
            "linecolor": "white",
            "showbackground": true,
            "ticks": "",
            "zerolinecolor": "white"
           },
           "zaxis": {
            "backgroundcolor": "#E5ECF6",
            "gridcolor": "white",
            "gridwidth": 2,
            "linecolor": "white",
            "showbackground": true,
            "ticks": "",
            "zerolinecolor": "white"
           }
          },
          "shapedefaults": {
           "line": {
            "color": "#2a3f5f"
           }
          },
          "ternary": {
           "aaxis": {
            "gridcolor": "white",
            "linecolor": "white",
            "ticks": ""
           },
           "baxis": {
            "gridcolor": "white",
            "linecolor": "white",
            "ticks": ""
           },
           "bgcolor": "#E5ECF6",
           "caxis": {
            "gridcolor": "white",
            "linecolor": "white",
            "ticks": ""
           }
          },
          "title": {
           "x": 0.05
          },
          "xaxis": {
           "automargin": true,
           "gridcolor": "white",
           "linecolor": "white",
           "ticks": "",
           "title": {
            "standoff": 15
           },
           "zerolinecolor": "white",
           "zerolinewidth": 2
          },
          "yaxis": {
           "automargin": true,
           "gridcolor": "white",
           "linecolor": "white",
           "ticks": "",
           "title": {
            "standoff": 15
           },
           "zerolinecolor": "white",
           "zerolinewidth": 2
          }
         }
        },
        "title": {
         "font": {
          "color": "#4D5663"
         }
        },
        "xaxis": {
         "gridcolor": "#E1E5ED",
         "showgrid": true,
         "tickfont": {
          "color": "#4D5663"
         },
         "title": {
          "font": {
           "color": "#4D5663"
          },
          "text": ""
         },
         "zerolinecolor": "#E1E5ED"
        },
        "yaxis": {
         "gridcolor": "#E1E5ED",
         "showgrid": true,
         "tickfont": {
          "color": "#4D5663"
         },
         "title": {
          "font": {
           "color": "#4D5663"
          },
          "text": ""
         },
         "zerolinecolor": "#E1E5ED"
        }
       }
      },
      "text/html": "<div>\n        \n        \n            <div id=\"5f9561b0-59a9-411e-a744-bd7dd20ec3c5\" class=\"plotly-graph-div\" style=\"height:525px; width:100%;\"></div>\n            <script type=\"text/javascript\">\n                require([\"plotly\"], function(Plotly) {\n                    window.PLOTLYENV=window.PLOTLYENV || {};\n                    window.PLOTLYENV.BASE_URL='https://plot.ly';\n                    \n                if (document.getElementById(\"5f9561b0-59a9-411e-a744-bd7dd20ec3c5\")) {\n                    Plotly.newPlot(\n                        '5f9561b0-59a9-411e-a744-bd7dd20ec3c5',\n                        [{\"histfunc\": \"count\", \"histnorm\": \"\", \"marker\": {\"color\": \"rgba(255, 153, 51, 1.0)\", \"line\": {\"color\": \"#4D5663\", \"width\": 1.3}}, \"name\": \"A\", \"opacity\": 0.8, \"orientation\": \"v\", \"type\": \"histogram\", \"x\": [-0.20959528449674006, 1.0313395209143585, 1.1694348176263178, 1.2609299556386497, 0.9991395033571964, -2.605096456045387, 0.4223200564889698, -0.1957775306388394, -0.5581225730329871, 0.31374974544598283, -0.1094457539933965, 0.8490037964381496, -0.1924499072203981, -0.7241729098994564, -1.537635679731419, -0.17928390076971523, -0.4654379085350427, 0.14536975247776704, -0.4107308856713606, -0.31692807918550775, 0.8541795096845612, -0.5411685133468052, 1.6526300592340684, -0.3970649611176773, 0.5537155926901607, 0.09527358902101514, 0.14643308884471226, -0.5952788954061516, 1.8391170023050945, 0.8599789829121285, 0.14419695368764932, -3.7442569633057623, -0.3133723448373529, -0.16683141237592103, 1.6188408185310394, 0.6007304465359995, 0.15187571991871177, 0.07909127391112418, -0.19527530170401872, -1.7720594581677191, 0.010435130962778887, -0.6984897154095291, 0.298475241933431, -1.0324556631267123, -0.015196673014035973, 0.24940100375673913, -1.5609631116868825, 2.0752899982947026, -1.549922714712221, -0.04769669077299809, -0.13050979544132987, -1.3439932523872173, 1.0161176621283028, 0.22568439926107195, -1.1476615070110796, -0.5878368352865394, -0.238454936681599, 1.0488599753027485, 0.41705065187638135, 0.9591773903586256, -1.3963563115579891, -0.9471610783203869, -1.2809323825176724, -0.2623463889448773, 1.922978320621508, -1.2514220434971128, -0.9332967715496242, -2.17546410153974, 1.4213253674153281, -0.18306555321065304, -0.8127274181256211, 0.6210277858396868, 0.6663719720223892, -0.21981687046950085, 0.5232043156578947, 1.3438976175293194, -0.40577896676652975, 0.15087073518784777, 0.14556340277596694, -0.8543803927110263, 0.3939560017804806, 0.16697514102575836, 1.4058840116843392, 0.4617877536009876, -1.5496801935445506, 0.40769711945908343, 0.2013369438901281, -1.1290823498859064, -0.6274727732033917, -1.4116748082720443, 2.028067036128927, -0.06951536570078315, -0.39563856362339256, 0.36572962567951944, 0.2535557564640945, -0.592701403714788, -1.016758229530463, -0.6718010025615362, 0.4816143914592303, 1.6521186064972615]}],\n                        {\"barmode\": \"overlay\", \"legend\": {\"bgcolor\": \"#F5F6F9\", \"font\": {\"color\": \"#4D5663\"}}, \"paper_bgcolor\": \"#F5F6F9\", \"plot_bgcolor\": \"#F5F6F9\", \"template\": {\"data\": {\"bar\": [{\"error_x\": {\"color\": \"#2a3f5f\"}, \"error_y\": {\"color\": \"#2a3f5f\"}, \"marker\": {\"line\": {\"color\": \"#E5ECF6\", \"width\": 0.5}}, \"type\": \"bar\"}], \"barpolar\": [{\"marker\": {\"line\": {\"color\": \"#E5ECF6\", \"width\": 0.5}}, \"type\": \"barpolar\"}], \"carpet\": [{\"aaxis\": {\"endlinecolor\": \"#2a3f5f\", \"gridcolor\": \"white\", \"linecolor\": \"white\", \"minorgridcolor\": \"white\", \"startlinecolor\": \"#2a3f5f\"}, \"baxis\": {\"endlinecolor\": \"#2a3f5f\", \"gridcolor\": \"white\", \"linecolor\": \"white\", \"minorgridcolor\": \"white\", \"startlinecolor\": \"#2a3f5f\"}, \"type\": \"carpet\"}], \"choropleth\": [{\"colorbar\": {\"outlinewidth\": 0, \"ticks\": \"\"}, \"type\": \"choropleth\"}], \"contour\": [{\"colorbar\": {\"outlinewidth\": 0, \"ticks\": \"\"}, \"colorscale\": [[0.0, \"#0d0887\"], [0.1111111111111111, \"#46039f\"], [0.2222222222222222, \"#7201a8\"], [0.3333333333333333, \"#9c179e\"], [0.4444444444444444, \"#bd3786\"], [0.5555555555555556, \"#d8576b\"], [0.6666666666666666, \"#ed7953\"], [0.7777777777777778, \"#fb9f3a\"], [0.8888888888888888, \"#fdca26\"], [1.0, \"#f0f921\"]], \"type\": \"contour\"}], \"contourcarpet\": [{\"colorbar\": {\"outlinewidth\": 0, \"ticks\": \"\"}, \"type\": \"contourcarpet\"}], \"heatmap\": [{\"colorbar\": {\"outlinewidth\": 0, \"ticks\": \"\"}, \"colorscale\": [[0.0, \"#0d0887\"], [0.1111111111111111, \"#46039f\"], [0.2222222222222222, \"#7201a8\"], [0.3333333333333333, \"#9c179e\"], [0.4444444444444444, \"#bd3786\"], [0.5555555555555556, \"#d8576b\"], [0.6666666666666666, \"#ed7953\"], [0.7777777777777778, \"#fb9f3a\"], [0.8888888888888888, \"#fdca26\"], [1.0, \"#f0f921\"]], \"type\": \"heatmap\"}], \"heatmapgl\": [{\"colorbar\": {\"outlinewidth\": 0, \"ticks\": \"\"}, \"colorscale\": [[0.0, \"#0d0887\"], [0.1111111111111111, \"#46039f\"], [0.2222222222222222, \"#7201a8\"], [0.3333333333333333, \"#9c179e\"], [0.4444444444444444, \"#bd3786\"], [0.5555555555555556, \"#d8576b\"], [0.6666666666666666, \"#ed7953\"], [0.7777777777777778, \"#fb9f3a\"], [0.8888888888888888, \"#fdca26\"], [1.0, \"#f0f921\"]], \"type\": \"heatmapgl\"}], \"histogram\": [{\"marker\": {\"colorbar\": {\"outlinewidth\": 0, \"ticks\": \"\"}}, \"type\": \"histogram\"}], \"histogram2d\": [{\"colorbar\": {\"outlinewidth\": 0, \"ticks\": \"\"}, \"colorscale\": [[0.0, \"#0d0887\"], [0.1111111111111111, \"#46039f\"], [0.2222222222222222, \"#7201a8\"], [0.3333333333333333, \"#9c179e\"], [0.4444444444444444, \"#bd3786\"], [0.5555555555555556, \"#d8576b\"], [0.6666666666666666, \"#ed7953\"], [0.7777777777777778, \"#fb9f3a\"], [0.8888888888888888, \"#fdca26\"], [1.0, \"#f0f921\"]], \"type\": \"histogram2d\"}], \"histogram2dcontour\": [{\"colorbar\": {\"outlinewidth\": 0, \"ticks\": \"\"}, \"colorscale\": [[0.0, \"#0d0887\"], [0.1111111111111111, \"#46039f\"], [0.2222222222222222, \"#7201a8\"], [0.3333333333333333, \"#9c179e\"], [0.4444444444444444, \"#bd3786\"], [0.5555555555555556, \"#d8576b\"], [0.6666666666666666, \"#ed7953\"], [0.7777777777777778, \"#fb9f3a\"], [0.8888888888888888, \"#fdca26\"], [1.0, \"#f0f921\"]], \"type\": \"histogram2dcontour\"}], \"mesh3d\": [{\"colorbar\": {\"outlinewidth\": 0, \"ticks\": \"\"}, \"type\": \"mesh3d\"}], \"parcoords\": [{\"line\": {\"colorbar\": {\"outlinewidth\": 0, \"ticks\": \"\"}}, \"type\": \"parcoords\"}], \"pie\": [{\"automargin\": true, \"type\": \"pie\"}], \"scatter\": [{\"marker\": {\"colorbar\": {\"outlinewidth\": 0, \"ticks\": \"\"}}, \"type\": \"scatter\"}], \"scatter3d\": [{\"line\": {\"colorbar\": {\"outlinewidth\": 0, \"ticks\": \"\"}}, \"marker\": {\"colorbar\": {\"outlinewidth\": 0, \"ticks\": \"\"}}, \"type\": \"scatter3d\"}], \"scattercarpet\": [{\"marker\": {\"colorbar\": {\"outlinewidth\": 0, \"ticks\": \"\"}}, \"type\": \"scattercarpet\"}], \"scattergeo\": [{\"marker\": {\"colorbar\": {\"outlinewidth\": 0, \"ticks\": \"\"}}, \"type\": \"scattergeo\"}], \"scattergl\": [{\"marker\": {\"colorbar\": {\"outlinewidth\": 0, \"ticks\": \"\"}}, \"type\": \"scattergl\"}], \"scattermapbox\": [{\"marker\": {\"colorbar\": {\"outlinewidth\": 0, \"ticks\": \"\"}}, \"type\": \"scattermapbox\"}], \"scatterpolar\": [{\"marker\": {\"colorbar\": {\"outlinewidth\": 0, \"ticks\": \"\"}}, \"type\": \"scatterpolar\"}], \"scatterpolargl\": [{\"marker\": {\"colorbar\": {\"outlinewidth\": 0, \"ticks\": \"\"}}, \"type\": \"scatterpolargl\"}], \"scatterternary\": [{\"marker\": {\"colorbar\": {\"outlinewidth\": 0, \"ticks\": \"\"}}, \"type\": \"scatterternary\"}], \"surface\": [{\"colorbar\": {\"outlinewidth\": 0, \"ticks\": \"\"}, \"colorscale\": [[0.0, \"#0d0887\"], [0.1111111111111111, \"#46039f\"], [0.2222222222222222, \"#7201a8\"], [0.3333333333333333, \"#9c179e\"], [0.4444444444444444, \"#bd3786\"], [0.5555555555555556, \"#d8576b\"], [0.6666666666666666, \"#ed7953\"], [0.7777777777777778, \"#fb9f3a\"], [0.8888888888888888, \"#fdca26\"], [1.0, \"#f0f921\"]], \"type\": \"surface\"}], \"table\": [{\"cells\": {\"fill\": {\"color\": \"#EBF0F8\"}, \"line\": {\"color\": \"white\"}}, \"header\": {\"fill\": {\"color\": \"#C8D4E3\"}, \"line\": {\"color\": \"white\"}}, \"type\": \"table\"}]}, \"layout\": {\"annotationdefaults\": {\"arrowcolor\": \"#2a3f5f\", \"arrowhead\": 0, \"arrowwidth\": 1}, \"coloraxis\": {\"colorbar\": {\"outlinewidth\": 0, \"ticks\": \"\"}}, \"colorscale\": {\"diverging\": [[0, \"#8e0152\"], [0.1, \"#c51b7d\"], [0.2, \"#de77ae\"], [0.3, \"#f1b6da\"], [0.4, \"#fde0ef\"], [0.5, \"#f7f7f7\"], [0.6, \"#e6f5d0\"], [0.7, \"#b8e186\"], [0.8, \"#7fbc41\"], [0.9, \"#4d9221\"], [1, \"#276419\"]], \"sequential\": [[0.0, \"#0d0887\"], [0.1111111111111111, \"#46039f\"], [0.2222222222222222, \"#7201a8\"], [0.3333333333333333, \"#9c179e\"], [0.4444444444444444, \"#bd3786\"], [0.5555555555555556, \"#d8576b\"], [0.6666666666666666, \"#ed7953\"], [0.7777777777777778, \"#fb9f3a\"], [0.8888888888888888, \"#fdca26\"], [1.0, \"#f0f921\"]], \"sequentialminus\": [[0.0, \"#0d0887\"], [0.1111111111111111, \"#46039f\"], [0.2222222222222222, \"#7201a8\"], [0.3333333333333333, \"#9c179e\"], [0.4444444444444444, \"#bd3786\"], [0.5555555555555556, \"#d8576b\"], [0.6666666666666666, \"#ed7953\"], [0.7777777777777778, \"#fb9f3a\"], [0.8888888888888888, \"#fdca26\"], [1.0, \"#f0f921\"]]}, \"colorway\": [\"#636efa\", \"#EF553B\", \"#00cc96\", \"#ab63fa\", \"#FFA15A\", \"#19d3f3\", \"#FF6692\", \"#B6E880\", \"#FF97FF\", \"#FECB52\"], \"font\": {\"color\": \"#2a3f5f\"}, \"geo\": {\"bgcolor\": \"white\", \"lakecolor\": \"white\", \"landcolor\": \"#E5ECF6\", \"showlakes\": true, \"showland\": true, \"subunitcolor\": \"white\"}, \"hoverlabel\": {\"align\": \"left\"}, \"hovermode\": \"closest\", \"mapbox\": {\"style\": \"light\"}, \"paper_bgcolor\": \"white\", \"plot_bgcolor\": \"#E5ECF6\", \"polar\": {\"angularaxis\": {\"gridcolor\": \"white\", \"linecolor\": \"white\", \"ticks\": \"\"}, \"bgcolor\": \"#E5ECF6\", \"radialaxis\": {\"gridcolor\": \"white\", \"linecolor\": \"white\", \"ticks\": \"\"}}, \"scene\": {\"xaxis\": {\"backgroundcolor\": \"#E5ECF6\", \"gridcolor\": \"white\", \"gridwidth\": 2, \"linecolor\": \"white\", \"showbackground\": true, \"ticks\": \"\", \"zerolinecolor\": \"white\"}, \"yaxis\": {\"backgroundcolor\": \"#E5ECF6\", \"gridcolor\": \"white\", \"gridwidth\": 2, \"linecolor\": \"white\", \"showbackground\": true, \"ticks\": \"\", \"zerolinecolor\": \"white\"}, \"zaxis\": {\"backgroundcolor\": \"#E5ECF6\", \"gridcolor\": \"white\", \"gridwidth\": 2, \"linecolor\": \"white\", \"showbackground\": true, \"ticks\": \"\", \"zerolinecolor\": \"white\"}}, \"shapedefaults\": {\"line\": {\"color\": \"#2a3f5f\"}}, \"ternary\": {\"aaxis\": {\"gridcolor\": \"white\", \"linecolor\": \"white\", \"ticks\": \"\"}, \"baxis\": {\"gridcolor\": \"white\", \"linecolor\": \"white\", \"ticks\": \"\"}, \"bgcolor\": \"#E5ECF6\", \"caxis\": {\"gridcolor\": \"white\", \"linecolor\": \"white\", \"ticks\": \"\"}}, \"title\": {\"x\": 0.05}, \"xaxis\": {\"automargin\": true, \"gridcolor\": \"white\", \"linecolor\": \"white\", \"ticks\": \"\", \"title\": {\"standoff\": 15}, \"zerolinecolor\": \"white\", \"zerolinewidth\": 2}, \"yaxis\": {\"automargin\": true, \"gridcolor\": \"white\", \"linecolor\": \"white\", \"ticks\": \"\", \"title\": {\"standoff\": 15}, \"zerolinecolor\": \"white\", \"zerolinewidth\": 2}}}, \"title\": {\"font\": {\"color\": \"#4D5663\"}}, \"xaxis\": {\"gridcolor\": \"#E1E5ED\", \"showgrid\": true, \"tickfont\": {\"color\": \"#4D5663\"}, \"title\": {\"font\": {\"color\": \"#4D5663\"}, \"text\": \"\"}, \"zerolinecolor\": \"#E1E5ED\"}, \"yaxis\": {\"gridcolor\": \"#E1E5ED\", \"showgrid\": true, \"tickfont\": {\"color\": \"#4D5663\"}, \"title\": {\"font\": {\"color\": \"#4D5663\"}, \"text\": \"\"}, \"zerolinecolor\": \"#E1E5ED\"}},\n                        {\"showLink\": true, \"linkText\": \"Export to plot.ly\", \"plotlyServerURL\": \"https://plot.ly\", \"responsive\": true}\n                    ).then(function(){\n                            \nvar gd = document.getElementById('5f9561b0-59a9-411e-a744-bd7dd20ec3c5');\nvar x = new MutationObserver(function (mutations, observer) {{\n        var display = window.getComputedStyle(gd).display;\n        if (!display || display === 'none') {{\n            console.log([gd, 'removed!']);\n            Plotly.purge(gd);\n            observer.disconnect();\n        }}\n}});\n\n// Listen for the removal of the full notebook cells\nvar notebookContainer = gd.closest('#notebook-container');\nif (notebookContainer) {{\n    x.observe(notebookContainer, {childList: true});\n}}\n\n// Listen for the clearing of the current output cell\nvar outputEl = gd.closest('.output');\nif (outputEl) {{\n    x.observe(outputEl, {childList: true});\n}}\n\n                        })\n                };\n                });\n            </script>\n        </div>"
     },
     "metadata": {}
    }
   ],
   "source": [
    "# histogram\n",
    "df['A'].iplot(kind='hist')"
   ]
  },
  {
   "cell_type": "code",
   "execution_count": 49,
   "metadata": {},
   "outputs": [
    {
     "output_type": "display_data",
     "data": {
      "application/vnd.plotly.v1+json": {
       "config": {
        "linkText": "Export to plot.ly",
        "plotlyServerURL": "https://plot.ly",
        "showLink": true
       },
       "data": [
        {
         "histfunc": "count",
         "histnorm": "",
         "marker": {
          "color": "rgba(255, 153, 51, 1.0)",
          "line": {
           "color": "#4D5663",
           "width": 1.3
          }
         },
         "name": "A",
         "opacity": 0.8,
         "orientation": "v",
         "type": "histogram",
         "x": [
          -0.20959528449674006,
          1.0313395209143585,
          1.1694348176263178,
          1.2609299556386497,
          0.9991395033571964,
          -2.605096456045387,
          0.4223200564889698,
          -0.1957775306388394,
          -0.5581225730329871,
          0.31374974544598283,
          -0.1094457539933965,
          0.8490037964381496,
          -0.1924499072203981,
          -0.7241729098994564,
          -1.537635679731419,
          -0.17928390076971523,
          -0.4654379085350427,
          0.14536975247776704,
          -0.4107308856713606,
          -0.31692807918550775,
          0.8541795096845612,
          -0.5411685133468052,
          1.6526300592340684,
          -0.3970649611176773,
          0.5537155926901607,
          0.09527358902101514,
          0.14643308884471226,
          -0.5952788954061516,
          1.8391170023050945,
          0.8599789829121285,
          0.14419695368764932,
          -3.7442569633057623,
          -0.3133723448373529,
          -0.16683141237592103,
          1.6188408185310394,
          0.6007304465359995,
          0.15187571991871177,
          0.07909127391112418,
          -0.19527530170401872,
          -1.7720594581677191,
          0.010435130962778887,
          -0.6984897154095291,
          0.298475241933431,
          -1.0324556631267123,
          -0.015196673014035973,
          0.24940100375673913,
          -1.5609631116868825,
          2.0752899982947026,
          -1.549922714712221,
          -0.04769669077299809,
          -0.13050979544132987,
          -1.3439932523872173,
          1.0161176621283028,
          0.22568439926107195,
          -1.1476615070110796,
          -0.5878368352865394,
          -0.238454936681599,
          1.0488599753027485,
          0.41705065187638135,
          0.9591773903586256,
          -1.3963563115579891,
          -0.9471610783203869,
          -1.2809323825176724,
          -0.2623463889448773,
          1.922978320621508,
          -1.2514220434971128,
          -0.9332967715496242,
          -2.17546410153974,
          1.4213253674153281,
          -0.18306555321065304,
          -0.8127274181256211,
          0.6210277858396868,
          0.6663719720223892,
          -0.21981687046950085,
          0.5232043156578947,
          1.3438976175293194,
          -0.40577896676652975,
          0.15087073518784777,
          0.14556340277596694,
          -0.8543803927110263,
          0.3939560017804806,
          0.16697514102575836,
          1.4058840116843392,
          0.4617877536009876,
          -1.5496801935445506,
          0.40769711945908343,
          0.2013369438901281,
          -1.1290823498859064,
          -0.6274727732033917,
          -1.4116748082720443,
          2.028067036128927,
          -0.06951536570078315,
          -0.39563856362339256,
          0.36572962567951944,
          0.2535557564640945,
          -0.592701403714788,
          -1.016758229530463,
          -0.6718010025615362,
          0.4816143914592303,
          1.6521186064972615
         ]
        },
        {
         "histfunc": "count",
         "histnorm": "",
         "marker": {
          "color": "rgba(55, 128, 191, 1.0)",
          "line": {
           "color": "#4D5663",
           "width": 1.3
          }
         },
         "name": "B",
         "opacity": 0.8,
         "orientation": "v",
         "type": "histogram",
         "x": [
          -0.7711170330140517,
          1.1659865501781457,
          -0.4300031411390618,
          -0.0064054452231869525,
          0.3255392094205599,
          -0.13685000730308322,
          1.3525025871928738,
          -1.1801377046110144,
          0.13310747475016435,
          -0.2033148557477379,
          0.3985858186894083,
          -0.49967174213299737,
          1.1913324955300733,
          -0.5409914050548899,
          0.2925317562459309,
          0.8360201107862251,
          0.18953428471715764,
          0.7221778303206465,
          0.09852772787929902,
          1.796009975727251,
          -0.200185351958104,
          0.8157193832619373,
          -0.1933400843887641,
          1.8520919325558922,
          0.48262763547424403,
          1.0115524814755976,
          -0.1837829419916532,
          1.6131287615767995,
          -0.1399290536378075,
          -0.7323092982310786,
          1.2581832153458332,
          2.004782199651357,
          0.11020269700287254,
          -0.2922774652953534,
          -0.610069945082351,
          0.376461914005928,
          0.16718587783128971,
          -1.7189573746226192,
          -0.14068140841214077,
          1.8445706571915623,
          0.42144086795796415,
          1.0771232268496644,
          -0.4574308043895199,
          0.3920164861931366,
          -0.7846303851339075,
          1.1358033661771454,
          0.21984185047724739,
          0.7358382398522556,
          -0.5056098661504937,
          0.3322425140657405,
          -1.0908272200843647,
          0.16993227135855776,
          -2.575072543504373,
          0.7463990525576297,
          -1.3276249331690786,
          -0.19130903148690143,
          0.8888511368645764,
          -1.082223619851152,
          -0.8516922366750175,
          -0.35766740349138537,
          -0.39775115576126774,
          1.2904308354025236,
          -0.4728009835926884,
          0.221724087821145,
          0.3966944648807889,
          -1.2672930011199954,
          0.7680169250563473,
          1.1846181946893646,
          0.2475782480255661,
          0.4485690766180793,
          0.014156941787666289,
          1.661426609144996,
          -1.1495974510451685,
          -0.7147854341662139,
          -0.7107841704939886,
          1.3951354540947525,
          0.20924908903456235,
          -1.220282703449926,
          0.02557457473320523,
          1.6272253233610467,
          -0.4129400171413861,
          -0.30186719992529765,
          1.5662620317015126,
          -0.9805920717199543,
          1.7788994781114258,
          -0.07627410648600412,
          0.06756344975294166,
          0.15733547861968317,
          1.4312231564245395,
          0.5067488088525609,
          -1.3860888399177342,
          -0.35267863923003084,
          -0.9060374943352678,
          -1.470559344699383,
          -0.19821908459674648,
          -1.9227544591977332,
          0.2082346343431905,
          -1.2583923667864534,
          -0.8897041886487653,
          1.228047110760627
         ]
        },
        {
         "histfunc": "count",
         "histnorm": "",
         "marker": {
          "color": "rgba(50, 171, 96, 1.0)",
          "line": {
           "color": "#4D5663",
           "width": 1.3
          }
         },
         "name": "C",
         "opacity": 0.8,
         "orientation": "v",
         "type": "histogram",
         "x": [
          0.7037872124040211,
          0.3615164419960923,
          -0.25796356732018233,
          -0.14649850149540966,
          0.06960711828656779,
          -1.4797956295623294,
          1.4093816343792605,
          -0.12292851084529191,
          0.4457087614037588,
          1.1492393267257108,
          -0.6607372423425167,
          0.3286133234450696,
          0.6844361201743363,
          -1.2821564245328332,
          0.9336034745372883,
          0.5170244180169414,
          -0.36322526788529785,
          0.6326928489564475,
          0.9778826032160992,
          -1.1196178565981039,
          1.4220243758680577,
          -0.2359625190926601,
          -0.3856235058789063,
          -2.7714681723669736,
          0.5993442710286011,
          1.313751851859977,
          0.23812170074033143,
          -0.65276402808905,
          0.11650216296705335,
          0.848740310341407,
          0.7721043520227766,
          -0.11964967401429785,
          1.2833545963721653,
          -0.39028489654013715,
          0.44929433604559843,
          -0.8500207432254455,
          0.8668240055266053,
          -1.2182376917418116,
          0.06141342404514145,
          1.4478502562191544,
          0.5737480413240534,
          -0.6552953362360905,
          0.2983589390319965,
          0.09373422462001138,
          0.326302217729746,
          -0.022651186551612242,
          1.1572903812795914,
          0.6572929704731219,
          0.11371203404668388,
          -1.1595505702679845,
          0.11454164413476907,
          -0.2621559996633682,
          -2.733659449977352,
          0.4255699111247708,
          -0.780290504106477,
          -0.6628857830638748,
          0.6275755736024996,
          -1.3753939740673904,
          -0.9957235259791135,
          0.5932914399458847,
          0.024589120124802747,
          -0.5449197929959385,
          1.506095501044284,
          1.7837889696517968,
          1.0008351607024597,
          -0.46168031979142726,
          1.3271782726734083,
          2.001032828511582,
          0.18104520740451863,
          0.07607278043933337,
          0.012150073505268375,
          1.0314888401570066,
          0.3244018691322532,
          -1.0437563740670959,
          0.22308120034793186,
          -0.5687628668009141,
          -0.9127930415704587,
          0.8458472877920619,
          0.14415454796481716,
          -1.1736709357560084,
          0.34313864995514465,
          -0.602634191959899,
          0.5563158524785552,
          -1.165343612807023,
          -0.08173268124689238,
          -0.036486809060192464,
          -1.1904778317362985,
          -0.0022018469953823823,
          -0.5694555209780752,
          -0.05308030079432449,
          -0.46007973236753213,
          -0.4986614954268612,
          0.7260189289588955,
          -0.4936196250824067,
          1.1019966482757366,
          0.23198945850229563,
          -1.0017726051335556,
          1.8466841646874763,
          1.1291136907334574,
          0.5682481935400014
         ]
        },
        {
         "histfunc": "count",
         "histnorm": "",
         "marker": {
          "color": "rgba(128, 0, 128, 1.0)",
          "line": {
           "color": "#4D5663",
           "width": 1.3
          }
         },
         "name": "D",
         "opacity": 0.8,
         "orientation": "v",
         "type": "histogram",
         "x": [
          -1.3079637980328176,
          0.22304179671406252,
          -1.6261857657059278,
          0.566633736372872,
          -0.7375295528108581,
          -0.011891636773831146,
          -0.5334663729786482,
          -0.8745242919479007,
          0.6601838725358815,
          -0.46117168118529,
          -1.091323363853244,
          0.058971366480316305,
          0.39663623918495505,
          -0.18846634909717566,
          -0.0009383025883428058,
          -0.9724822056607263,
          -0.5464925109530722,
          -1.4300209209976071,
          -2.110601196985954,
          -1.360140831455929,
          0.6156923193876411,
          2.952144430502897,
          0.35799135938249677,
          -1.3076649864823053,
          -0.24421516437156765,
          -0.4495674019298553,
          1.0883308746868876,
          0.22086598779162414,
          -0.06103902507281949,
          -1.9433420313160572,
          0.5320454554647426,
          1.3746252471198745,
          0.1305260543256214,
          -0.35948821874407155,
          2.5985690425949763,
          0.5281227862388681,
          -0.29379092552348296,
          -1.2078382264099154,
          -1.5423947096499546,
          0.030378907599932375,
          1.3872029083089668,
          0.3747549488569716,
          -0.2900210046765808,
          -0.14242653045860929,
          1.5503804524048688,
          -0.08392855934242163,
          -1.0690403826443478,
          -0.20834604239604584,
          -0.09818035454382804,
          0.3168105876871725,
          1.009833639624926,
          0.8587067451655745,
          -0.43934007517540874,
          0.7980055212707029,
          -1.689734238525958,
          0.48461811873357363,
          -1.572829926732365,
          -0.35922080469151785,
          1.2962907116808693,
          0.2736892788680549,
          3.1965962831799515,
          -0.2912210021565614,
          0.9585222615836765,
          -1.2697854325339617,
          0.7072656036562351,
          -0.23082594775710075,
          -0.22577058785054743,
          1.2459574919555987,
          -1.0519388128819473,
          -0.09165573316360198,
          -0.6909539481532403,
          -0.013276096848856419,
          0.6258963482059207,
          0.7335881536218917,
          0.28023350195795416,
          0.47135450155713254,
          0.6481523791535133,
          -1.1608341442253156,
          -0.09276120803432533,
          -1.2721575501285969,
          -0.61486417987658,
          1.6265152145697226,
          -0.8019205418967238,
          -0.11356554888258104,
          2.238142067136378,
          -0.06832978206592988,
          1.945118921953737,
          1.1022762120786647,
          -0.1427091716154867,
          -0.25541739714859335,
          -0.23461554130263676,
          0.0531409232553126,
          -0.6659059414090801,
          1.3984443801382258,
          -0.5536831919568412,
          0.08905645204001764,
          -0.3649672077103355,
          -0.19989719034607528,
          0.16132160822386446,
          0.6511501557245907
         ]
        }
       ],
       "layout": {
        "barmode": "overlay",
        "legend": {
         "bgcolor": "#F5F6F9",
         "font": {
          "color": "#4D5663"
         }
        },
        "paper_bgcolor": "#F5F6F9",
        "plot_bgcolor": "#F5F6F9",
        "template": {
         "data": {
          "bar": [
           {
            "error_x": {
             "color": "#2a3f5f"
            },
            "error_y": {
             "color": "#2a3f5f"
            },
            "marker": {
             "line": {
              "color": "#E5ECF6",
              "width": 0.5
             }
            },
            "type": "bar"
           }
          ],
          "barpolar": [
           {
            "marker": {
             "line": {
              "color": "#E5ECF6",
              "width": 0.5
             }
            },
            "type": "barpolar"
           }
          ],
          "carpet": [
           {
            "aaxis": {
             "endlinecolor": "#2a3f5f",
             "gridcolor": "white",
             "linecolor": "white",
             "minorgridcolor": "white",
             "startlinecolor": "#2a3f5f"
            },
            "baxis": {
             "endlinecolor": "#2a3f5f",
             "gridcolor": "white",
             "linecolor": "white",
             "minorgridcolor": "white",
             "startlinecolor": "#2a3f5f"
            },
            "type": "carpet"
           }
          ],
          "choropleth": [
           {
            "colorbar": {
             "outlinewidth": 0,
             "ticks": ""
            },
            "type": "choropleth"
           }
          ],
          "contour": [
           {
            "colorbar": {
             "outlinewidth": 0,
             "ticks": ""
            },
            "colorscale": [
             [
              0,
              "#0d0887"
             ],
             [
              0.1111111111111111,
              "#46039f"
             ],
             [
              0.2222222222222222,
              "#7201a8"
             ],
             [
              0.3333333333333333,
              "#9c179e"
             ],
             [
              0.4444444444444444,
              "#bd3786"
             ],
             [
              0.5555555555555556,
              "#d8576b"
             ],
             [
              0.6666666666666666,
              "#ed7953"
             ],
             [
              0.7777777777777778,
              "#fb9f3a"
             ],
             [
              0.8888888888888888,
              "#fdca26"
             ],
             [
              1,
              "#f0f921"
             ]
            ],
            "type": "contour"
           }
          ],
          "contourcarpet": [
           {
            "colorbar": {
             "outlinewidth": 0,
             "ticks": ""
            },
            "type": "contourcarpet"
           }
          ],
          "heatmap": [
           {
            "colorbar": {
             "outlinewidth": 0,
             "ticks": ""
            },
            "colorscale": [
             [
              0,
              "#0d0887"
             ],
             [
              0.1111111111111111,
              "#46039f"
             ],
             [
              0.2222222222222222,
              "#7201a8"
             ],
             [
              0.3333333333333333,
              "#9c179e"
             ],
             [
              0.4444444444444444,
              "#bd3786"
             ],
             [
              0.5555555555555556,
              "#d8576b"
             ],
             [
              0.6666666666666666,
              "#ed7953"
             ],
             [
              0.7777777777777778,
              "#fb9f3a"
             ],
             [
              0.8888888888888888,
              "#fdca26"
             ],
             [
              1,
              "#f0f921"
             ]
            ],
            "type": "heatmap"
           }
          ],
          "heatmapgl": [
           {
            "colorbar": {
             "outlinewidth": 0,
             "ticks": ""
            },
            "colorscale": [
             [
              0,
              "#0d0887"
             ],
             [
              0.1111111111111111,
              "#46039f"
             ],
             [
              0.2222222222222222,
              "#7201a8"
             ],
             [
              0.3333333333333333,
              "#9c179e"
             ],
             [
              0.4444444444444444,
              "#bd3786"
             ],
             [
              0.5555555555555556,
              "#d8576b"
             ],
             [
              0.6666666666666666,
              "#ed7953"
             ],
             [
              0.7777777777777778,
              "#fb9f3a"
             ],
             [
              0.8888888888888888,
              "#fdca26"
             ],
             [
              1,
              "#f0f921"
             ]
            ],
            "type": "heatmapgl"
           }
          ],
          "histogram": [
           {
            "marker": {
             "colorbar": {
              "outlinewidth": 0,
              "ticks": ""
             }
            },
            "type": "histogram"
           }
          ],
          "histogram2d": [
           {
            "colorbar": {
             "outlinewidth": 0,
             "ticks": ""
            },
            "colorscale": [
             [
              0,
              "#0d0887"
             ],
             [
              0.1111111111111111,
              "#46039f"
             ],
             [
              0.2222222222222222,
              "#7201a8"
             ],
             [
              0.3333333333333333,
              "#9c179e"
             ],
             [
              0.4444444444444444,
              "#bd3786"
             ],
             [
              0.5555555555555556,
              "#d8576b"
             ],
             [
              0.6666666666666666,
              "#ed7953"
             ],
             [
              0.7777777777777778,
              "#fb9f3a"
             ],
             [
              0.8888888888888888,
              "#fdca26"
             ],
             [
              1,
              "#f0f921"
             ]
            ],
            "type": "histogram2d"
           }
          ],
          "histogram2dcontour": [
           {
            "colorbar": {
             "outlinewidth": 0,
             "ticks": ""
            },
            "colorscale": [
             [
              0,
              "#0d0887"
             ],
             [
              0.1111111111111111,
              "#46039f"
             ],
             [
              0.2222222222222222,
              "#7201a8"
             ],
             [
              0.3333333333333333,
              "#9c179e"
             ],
             [
              0.4444444444444444,
              "#bd3786"
             ],
             [
              0.5555555555555556,
              "#d8576b"
             ],
             [
              0.6666666666666666,
              "#ed7953"
             ],
             [
              0.7777777777777778,
              "#fb9f3a"
             ],
             [
              0.8888888888888888,
              "#fdca26"
             ],
             [
              1,
              "#f0f921"
             ]
            ],
            "type": "histogram2dcontour"
           }
          ],
          "mesh3d": [
           {
            "colorbar": {
             "outlinewidth": 0,
             "ticks": ""
            },
            "type": "mesh3d"
           }
          ],
          "parcoords": [
           {
            "line": {
             "colorbar": {
              "outlinewidth": 0,
              "ticks": ""
             }
            },
            "type": "parcoords"
           }
          ],
          "pie": [
           {
            "automargin": true,
            "type": "pie"
           }
          ],
          "scatter": [
           {
            "marker": {
             "colorbar": {
              "outlinewidth": 0,
              "ticks": ""
             }
            },
            "type": "scatter"
           }
          ],
          "scatter3d": [
           {
            "line": {
             "colorbar": {
              "outlinewidth": 0,
              "ticks": ""
             }
            },
            "marker": {
             "colorbar": {
              "outlinewidth": 0,
              "ticks": ""
             }
            },
            "type": "scatter3d"
           }
          ],
          "scattercarpet": [
           {
            "marker": {
             "colorbar": {
              "outlinewidth": 0,
              "ticks": ""
             }
            },
            "type": "scattercarpet"
           }
          ],
          "scattergeo": [
           {
            "marker": {
             "colorbar": {
              "outlinewidth": 0,
              "ticks": ""
             }
            },
            "type": "scattergeo"
           }
          ],
          "scattergl": [
           {
            "marker": {
             "colorbar": {
              "outlinewidth": 0,
              "ticks": ""
             }
            },
            "type": "scattergl"
           }
          ],
          "scattermapbox": [
           {
            "marker": {
             "colorbar": {
              "outlinewidth": 0,
              "ticks": ""
             }
            },
            "type": "scattermapbox"
           }
          ],
          "scatterpolar": [
           {
            "marker": {
             "colorbar": {
              "outlinewidth": 0,
              "ticks": ""
             }
            },
            "type": "scatterpolar"
           }
          ],
          "scatterpolargl": [
           {
            "marker": {
             "colorbar": {
              "outlinewidth": 0,
              "ticks": ""
             }
            },
            "type": "scatterpolargl"
           }
          ],
          "scatterternary": [
           {
            "marker": {
             "colorbar": {
              "outlinewidth": 0,
              "ticks": ""
             }
            },
            "type": "scatterternary"
           }
          ],
          "surface": [
           {
            "colorbar": {
             "outlinewidth": 0,
             "ticks": ""
            },
            "colorscale": [
             [
              0,
              "#0d0887"
             ],
             [
              0.1111111111111111,
              "#46039f"
             ],
             [
              0.2222222222222222,
              "#7201a8"
             ],
             [
              0.3333333333333333,
              "#9c179e"
             ],
             [
              0.4444444444444444,
              "#bd3786"
             ],
             [
              0.5555555555555556,
              "#d8576b"
             ],
             [
              0.6666666666666666,
              "#ed7953"
             ],
             [
              0.7777777777777778,
              "#fb9f3a"
             ],
             [
              0.8888888888888888,
              "#fdca26"
             ],
             [
              1,
              "#f0f921"
             ]
            ],
            "type": "surface"
           }
          ],
          "table": [
           {
            "cells": {
             "fill": {
              "color": "#EBF0F8"
             },
             "line": {
              "color": "white"
             }
            },
            "header": {
             "fill": {
              "color": "#C8D4E3"
             },
             "line": {
              "color": "white"
             }
            },
            "type": "table"
           }
          ]
         },
         "layout": {
          "annotationdefaults": {
           "arrowcolor": "#2a3f5f",
           "arrowhead": 0,
           "arrowwidth": 1
          },
          "coloraxis": {
           "colorbar": {
            "outlinewidth": 0,
            "ticks": ""
           }
          },
          "colorscale": {
           "diverging": [
            [
             0,
             "#8e0152"
            ],
            [
             0.1,
             "#c51b7d"
            ],
            [
             0.2,
             "#de77ae"
            ],
            [
             0.3,
             "#f1b6da"
            ],
            [
             0.4,
             "#fde0ef"
            ],
            [
             0.5,
             "#f7f7f7"
            ],
            [
             0.6,
             "#e6f5d0"
            ],
            [
             0.7,
             "#b8e186"
            ],
            [
             0.8,
             "#7fbc41"
            ],
            [
             0.9,
             "#4d9221"
            ],
            [
             1,
             "#276419"
            ]
           ],
           "sequential": [
            [
             0,
             "#0d0887"
            ],
            [
             0.1111111111111111,
             "#46039f"
            ],
            [
             0.2222222222222222,
             "#7201a8"
            ],
            [
             0.3333333333333333,
             "#9c179e"
            ],
            [
             0.4444444444444444,
             "#bd3786"
            ],
            [
             0.5555555555555556,
             "#d8576b"
            ],
            [
             0.6666666666666666,
             "#ed7953"
            ],
            [
             0.7777777777777778,
             "#fb9f3a"
            ],
            [
             0.8888888888888888,
             "#fdca26"
            ],
            [
             1,
             "#f0f921"
            ]
           ],
           "sequentialminus": [
            [
             0,
             "#0d0887"
            ],
            [
             0.1111111111111111,
             "#46039f"
            ],
            [
             0.2222222222222222,
             "#7201a8"
            ],
            [
             0.3333333333333333,
             "#9c179e"
            ],
            [
             0.4444444444444444,
             "#bd3786"
            ],
            [
             0.5555555555555556,
             "#d8576b"
            ],
            [
             0.6666666666666666,
             "#ed7953"
            ],
            [
             0.7777777777777778,
             "#fb9f3a"
            ],
            [
             0.8888888888888888,
             "#fdca26"
            ],
            [
             1,
             "#f0f921"
            ]
           ]
          },
          "colorway": [
           "#636efa",
           "#EF553B",
           "#00cc96",
           "#ab63fa",
           "#FFA15A",
           "#19d3f3",
           "#FF6692",
           "#B6E880",
           "#FF97FF",
           "#FECB52"
          ],
          "font": {
           "color": "#2a3f5f"
          },
          "geo": {
           "bgcolor": "white",
           "lakecolor": "white",
           "landcolor": "#E5ECF6",
           "showlakes": true,
           "showland": true,
           "subunitcolor": "white"
          },
          "hoverlabel": {
           "align": "left"
          },
          "hovermode": "closest",
          "mapbox": {
           "style": "light"
          },
          "paper_bgcolor": "white",
          "plot_bgcolor": "#E5ECF6",
          "polar": {
           "angularaxis": {
            "gridcolor": "white",
            "linecolor": "white",
            "ticks": ""
           },
           "bgcolor": "#E5ECF6",
           "radialaxis": {
            "gridcolor": "white",
            "linecolor": "white",
            "ticks": ""
           }
          },
          "scene": {
           "xaxis": {
            "backgroundcolor": "#E5ECF6",
            "gridcolor": "white",
            "gridwidth": 2,
            "linecolor": "white",
            "showbackground": true,
            "ticks": "",
            "zerolinecolor": "white"
           },
           "yaxis": {
            "backgroundcolor": "#E5ECF6",
            "gridcolor": "white",
            "gridwidth": 2,
            "linecolor": "white",
            "showbackground": true,
            "ticks": "",
            "zerolinecolor": "white"
           },
           "zaxis": {
            "backgroundcolor": "#E5ECF6",
            "gridcolor": "white",
            "gridwidth": 2,
            "linecolor": "white",
            "showbackground": true,
            "ticks": "",
            "zerolinecolor": "white"
           }
          },
          "shapedefaults": {
           "line": {
            "color": "#2a3f5f"
           }
          },
          "ternary": {
           "aaxis": {
            "gridcolor": "white",
            "linecolor": "white",
            "ticks": ""
           },
           "baxis": {
            "gridcolor": "white",
            "linecolor": "white",
            "ticks": ""
           },
           "bgcolor": "#E5ECF6",
           "caxis": {
            "gridcolor": "white",
            "linecolor": "white",
            "ticks": ""
           }
          },
          "title": {
           "x": 0.05
          },
          "xaxis": {
           "automargin": true,
           "gridcolor": "white",
           "linecolor": "white",
           "ticks": "",
           "title": {
            "standoff": 15
           },
           "zerolinecolor": "white",
           "zerolinewidth": 2
          },
          "yaxis": {
           "automargin": true,
           "gridcolor": "white",
           "linecolor": "white",
           "ticks": "",
           "title": {
            "standoff": 15
           },
           "zerolinecolor": "white",
           "zerolinewidth": 2
          }
         }
        },
        "title": {
         "font": {
          "color": "#4D5663"
         }
        },
        "xaxis": {
         "gridcolor": "#E1E5ED",
         "showgrid": true,
         "tickfont": {
          "color": "#4D5663"
         },
         "title": {
          "font": {
           "color": "#4D5663"
          },
          "text": ""
         },
         "zerolinecolor": "#E1E5ED"
        },
        "yaxis": {
         "gridcolor": "#E1E5ED",
         "showgrid": true,
         "tickfont": {
          "color": "#4D5663"
         },
         "title": {
          "font": {
           "color": "#4D5663"
          },
          "text": ""
         },
         "zerolinecolor": "#E1E5ED"
        }
       }
      },
      "text/html": "<div>\n        \n        \n            <div id=\"32b024df-f70b-4c10-99a2-7baba049f0c4\" class=\"plotly-graph-div\" style=\"height:525px; width:100%;\"></div>\n            <script type=\"text/javascript\">\n                require([\"plotly\"], function(Plotly) {\n                    window.PLOTLYENV=window.PLOTLYENV || {};\n                    window.PLOTLYENV.BASE_URL='https://plot.ly';\n                    \n                if (document.getElementById(\"32b024df-f70b-4c10-99a2-7baba049f0c4\")) {\n                    Plotly.newPlot(\n                        '32b024df-f70b-4c10-99a2-7baba049f0c4',\n                        [{\"histfunc\": \"count\", \"histnorm\": \"\", \"marker\": {\"color\": \"rgba(255, 153, 51, 1.0)\", \"line\": {\"color\": \"#4D5663\", \"width\": 1.3}}, \"name\": \"A\", \"opacity\": 0.8, \"orientation\": \"v\", \"type\": \"histogram\", \"x\": [-0.20959528449674006, 1.0313395209143585, 1.1694348176263178, 1.2609299556386497, 0.9991395033571964, -2.605096456045387, 0.4223200564889698, -0.1957775306388394, -0.5581225730329871, 0.31374974544598283, -0.1094457539933965, 0.8490037964381496, -0.1924499072203981, -0.7241729098994564, -1.537635679731419, -0.17928390076971523, -0.4654379085350427, 0.14536975247776704, -0.4107308856713606, -0.31692807918550775, 0.8541795096845612, -0.5411685133468052, 1.6526300592340684, -0.3970649611176773, 0.5537155926901607, 0.09527358902101514, 0.14643308884471226, -0.5952788954061516, 1.8391170023050945, 0.8599789829121285, 0.14419695368764932, -3.7442569633057623, -0.3133723448373529, -0.16683141237592103, 1.6188408185310394, 0.6007304465359995, 0.15187571991871177, 0.07909127391112418, -0.19527530170401872, -1.7720594581677191, 0.010435130962778887, -0.6984897154095291, 0.298475241933431, -1.0324556631267123, -0.015196673014035973, 0.24940100375673913, -1.5609631116868825, 2.0752899982947026, -1.549922714712221, -0.04769669077299809, -0.13050979544132987, -1.3439932523872173, 1.0161176621283028, 0.22568439926107195, -1.1476615070110796, -0.5878368352865394, -0.238454936681599, 1.0488599753027485, 0.41705065187638135, 0.9591773903586256, -1.3963563115579891, -0.9471610783203869, -1.2809323825176724, -0.2623463889448773, 1.922978320621508, -1.2514220434971128, -0.9332967715496242, -2.17546410153974, 1.4213253674153281, -0.18306555321065304, -0.8127274181256211, 0.6210277858396868, 0.6663719720223892, -0.21981687046950085, 0.5232043156578947, 1.3438976175293194, -0.40577896676652975, 0.15087073518784777, 0.14556340277596694, -0.8543803927110263, 0.3939560017804806, 0.16697514102575836, 1.4058840116843392, 0.4617877536009876, -1.5496801935445506, 0.40769711945908343, 0.2013369438901281, -1.1290823498859064, -0.6274727732033917, -1.4116748082720443, 2.028067036128927, -0.06951536570078315, -0.39563856362339256, 0.36572962567951944, 0.2535557564640945, -0.592701403714788, -1.016758229530463, -0.6718010025615362, 0.4816143914592303, 1.6521186064972615]}, {\"histfunc\": \"count\", \"histnorm\": \"\", \"marker\": {\"color\": \"rgba(55, 128, 191, 1.0)\", \"line\": {\"color\": \"#4D5663\", \"width\": 1.3}}, \"name\": \"B\", \"opacity\": 0.8, \"orientation\": \"v\", \"type\": \"histogram\", \"x\": [-0.7711170330140517, 1.1659865501781457, -0.4300031411390618, -0.0064054452231869525, 0.3255392094205599, -0.13685000730308322, 1.3525025871928738, -1.1801377046110144, 0.13310747475016435, -0.2033148557477379, 0.3985858186894083, -0.49967174213299737, 1.1913324955300733, -0.5409914050548899, 0.2925317562459309, 0.8360201107862251, 0.18953428471715764, 0.7221778303206465, 0.09852772787929902, 1.796009975727251, -0.200185351958104, 0.8157193832619373, -0.1933400843887641, 1.8520919325558922, 0.48262763547424403, 1.0115524814755976, -0.1837829419916532, 1.6131287615767995, -0.1399290536378075, -0.7323092982310786, 1.2581832153458332, 2.004782199651357, 0.11020269700287254, -0.2922774652953534, -0.610069945082351, 0.376461914005928, 0.16718587783128971, -1.7189573746226192, -0.14068140841214077, 1.8445706571915623, 0.42144086795796415, 1.0771232268496644, -0.4574308043895199, 0.3920164861931366, -0.7846303851339075, 1.1358033661771454, 0.21984185047724739, 0.7358382398522556, -0.5056098661504937, 0.3322425140657405, -1.0908272200843647, 0.16993227135855776, -2.575072543504373, 0.7463990525576297, -1.3276249331690786, -0.19130903148690143, 0.8888511368645764, -1.082223619851152, -0.8516922366750175, -0.35766740349138537, -0.39775115576126774, 1.2904308354025236, -0.4728009835926884, 0.221724087821145, 0.3966944648807889, -1.2672930011199954, 0.7680169250563473, 1.1846181946893646, 0.2475782480255661, 0.4485690766180793, 0.014156941787666289, 1.661426609144996, -1.1495974510451685, -0.7147854341662139, -0.7107841704939886, 1.3951354540947525, 0.20924908903456235, -1.220282703449926, 0.02557457473320523, 1.6272253233610467, -0.4129400171413861, -0.30186719992529765, 1.5662620317015126, -0.9805920717199543, 1.7788994781114258, -0.07627410648600412, 0.06756344975294166, 0.15733547861968317, 1.4312231564245395, 0.5067488088525609, -1.3860888399177342, -0.35267863923003084, -0.9060374943352678, -1.470559344699383, -0.19821908459674648, -1.9227544591977332, 0.2082346343431905, -1.2583923667864534, -0.8897041886487653, 1.228047110760627]}, {\"histfunc\": \"count\", \"histnorm\": \"\", \"marker\": {\"color\": \"rgba(50, 171, 96, 1.0)\", \"line\": {\"color\": \"#4D5663\", \"width\": 1.3}}, \"name\": \"C\", \"opacity\": 0.8, \"orientation\": \"v\", \"type\": \"histogram\", \"x\": [0.7037872124040211, 0.3615164419960923, -0.25796356732018233, -0.14649850149540966, 0.06960711828656779, -1.4797956295623294, 1.4093816343792605, -0.12292851084529191, 0.4457087614037588, 1.1492393267257108, -0.6607372423425167, 0.3286133234450696, 0.6844361201743363, -1.2821564245328332, 0.9336034745372883, 0.5170244180169414, -0.36322526788529785, 0.6326928489564475, 0.9778826032160992, -1.1196178565981039, 1.4220243758680577, -0.2359625190926601, -0.3856235058789063, -2.7714681723669736, 0.5993442710286011, 1.313751851859977, 0.23812170074033143, -0.65276402808905, 0.11650216296705335, 0.848740310341407, 0.7721043520227766, -0.11964967401429785, 1.2833545963721653, -0.39028489654013715, 0.44929433604559843, -0.8500207432254455, 0.8668240055266053, -1.2182376917418116, 0.06141342404514145, 1.4478502562191544, 0.5737480413240534, -0.6552953362360905, 0.2983589390319965, 0.09373422462001138, 0.326302217729746, -0.022651186551612242, 1.1572903812795914, 0.6572929704731219, 0.11371203404668388, -1.1595505702679845, 0.11454164413476907, -0.2621559996633682, -2.733659449977352, 0.4255699111247708, -0.780290504106477, -0.6628857830638748, 0.6275755736024996, -1.3753939740673904, -0.9957235259791135, 0.5932914399458847, 0.024589120124802747, -0.5449197929959385, 1.506095501044284, 1.7837889696517968, 1.0008351607024597, -0.46168031979142726, 1.3271782726734083, 2.001032828511582, 0.18104520740451863, 0.07607278043933337, 0.012150073505268375, 1.0314888401570066, 0.3244018691322532, -1.0437563740670959, 0.22308120034793186, -0.5687628668009141, -0.9127930415704587, 0.8458472877920619, 0.14415454796481716, -1.1736709357560084, 0.34313864995514465, -0.602634191959899, 0.5563158524785552, -1.165343612807023, -0.08173268124689238, -0.036486809060192464, -1.1904778317362985, -0.0022018469953823823, -0.5694555209780752, -0.05308030079432449, -0.46007973236753213, -0.4986614954268612, 0.7260189289588955, -0.4936196250824067, 1.1019966482757366, 0.23198945850229563, -1.0017726051335556, 1.8466841646874763, 1.1291136907334574, 0.5682481935400014]}, {\"histfunc\": \"count\", \"histnorm\": \"\", \"marker\": {\"color\": \"rgba(128, 0, 128, 1.0)\", \"line\": {\"color\": \"#4D5663\", \"width\": 1.3}}, \"name\": \"D\", \"opacity\": 0.8, \"orientation\": \"v\", \"type\": \"histogram\", \"x\": [-1.3079637980328176, 0.22304179671406252, -1.6261857657059278, 0.566633736372872, -0.7375295528108581, -0.011891636773831146, -0.5334663729786482, -0.8745242919479007, 0.6601838725358815, -0.46117168118529, -1.091323363853244, 0.058971366480316305, 0.39663623918495505, -0.18846634909717566, -0.0009383025883428058, -0.9724822056607263, -0.5464925109530722, -1.4300209209976071, -2.110601196985954, -1.360140831455929, 0.6156923193876411, 2.952144430502897, 0.35799135938249677, -1.3076649864823053, -0.24421516437156765, -0.4495674019298553, 1.0883308746868876, 0.22086598779162414, -0.06103902507281949, -1.9433420313160572, 0.5320454554647426, 1.3746252471198745, 0.1305260543256214, -0.35948821874407155, 2.5985690425949763, 0.5281227862388681, -0.29379092552348296, -1.2078382264099154, -1.5423947096499546, 0.030378907599932375, 1.3872029083089668, 0.3747549488569716, -0.2900210046765808, -0.14242653045860929, 1.5503804524048688, -0.08392855934242163, -1.0690403826443478, -0.20834604239604584, -0.09818035454382804, 0.3168105876871725, 1.009833639624926, 0.8587067451655745, -0.43934007517540874, 0.7980055212707029, -1.689734238525958, 0.48461811873357363, -1.572829926732365, -0.35922080469151785, 1.2962907116808693, 0.2736892788680549, 3.1965962831799515, -0.2912210021565614, 0.9585222615836765, -1.2697854325339617, 0.7072656036562351, -0.23082594775710075, -0.22577058785054743, 1.2459574919555987, -1.0519388128819473, -0.09165573316360198, -0.6909539481532403, -0.013276096848856419, 0.6258963482059207, 0.7335881536218917, 0.28023350195795416, 0.47135450155713254, 0.6481523791535133, -1.1608341442253156, -0.09276120803432533, -1.2721575501285969, -0.61486417987658, 1.6265152145697226, -0.8019205418967238, -0.11356554888258104, 2.238142067136378, -0.06832978206592988, 1.945118921953737, 1.1022762120786647, -0.1427091716154867, -0.25541739714859335, -0.23461554130263676, 0.0531409232553126, -0.6659059414090801, 1.3984443801382258, -0.5536831919568412, 0.08905645204001764, -0.3649672077103355, -0.19989719034607528, 0.16132160822386446, 0.6511501557245907]}],\n                        {\"barmode\": \"overlay\", \"legend\": {\"bgcolor\": \"#F5F6F9\", \"font\": {\"color\": \"#4D5663\"}}, \"paper_bgcolor\": \"#F5F6F9\", \"plot_bgcolor\": \"#F5F6F9\", \"template\": {\"data\": {\"bar\": [{\"error_x\": {\"color\": \"#2a3f5f\"}, \"error_y\": {\"color\": \"#2a3f5f\"}, \"marker\": {\"line\": {\"color\": \"#E5ECF6\", \"width\": 0.5}}, \"type\": \"bar\"}], \"barpolar\": [{\"marker\": {\"line\": {\"color\": \"#E5ECF6\", \"width\": 0.5}}, \"type\": \"barpolar\"}], \"carpet\": [{\"aaxis\": {\"endlinecolor\": \"#2a3f5f\", \"gridcolor\": \"white\", \"linecolor\": \"white\", \"minorgridcolor\": \"white\", \"startlinecolor\": \"#2a3f5f\"}, \"baxis\": {\"endlinecolor\": \"#2a3f5f\", \"gridcolor\": \"white\", \"linecolor\": \"white\", \"minorgridcolor\": \"white\", \"startlinecolor\": \"#2a3f5f\"}, \"type\": \"carpet\"}], \"choropleth\": [{\"colorbar\": {\"outlinewidth\": 0, \"ticks\": \"\"}, \"type\": \"choropleth\"}], \"contour\": [{\"colorbar\": {\"outlinewidth\": 0, \"ticks\": \"\"}, \"colorscale\": [[0.0, \"#0d0887\"], [0.1111111111111111, \"#46039f\"], [0.2222222222222222, \"#7201a8\"], [0.3333333333333333, \"#9c179e\"], [0.4444444444444444, \"#bd3786\"], [0.5555555555555556, \"#d8576b\"], [0.6666666666666666, \"#ed7953\"], [0.7777777777777778, \"#fb9f3a\"], [0.8888888888888888, \"#fdca26\"], [1.0, \"#f0f921\"]], \"type\": \"contour\"}], \"contourcarpet\": [{\"colorbar\": {\"outlinewidth\": 0, \"ticks\": \"\"}, \"type\": \"contourcarpet\"}], \"heatmap\": [{\"colorbar\": {\"outlinewidth\": 0, \"ticks\": \"\"}, \"colorscale\": [[0.0, \"#0d0887\"], [0.1111111111111111, \"#46039f\"], [0.2222222222222222, \"#7201a8\"], [0.3333333333333333, \"#9c179e\"], [0.4444444444444444, \"#bd3786\"], [0.5555555555555556, \"#d8576b\"], [0.6666666666666666, \"#ed7953\"], [0.7777777777777778, \"#fb9f3a\"], [0.8888888888888888, \"#fdca26\"], [1.0, \"#f0f921\"]], \"type\": \"heatmap\"}], \"heatmapgl\": [{\"colorbar\": {\"outlinewidth\": 0, \"ticks\": \"\"}, \"colorscale\": [[0.0, \"#0d0887\"], [0.1111111111111111, \"#46039f\"], [0.2222222222222222, \"#7201a8\"], [0.3333333333333333, \"#9c179e\"], [0.4444444444444444, \"#bd3786\"], [0.5555555555555556, \"#d8576b\"], [0.6666666666666666, \"#ed7953\"], [0.7777777777777778, \"#fb9f3a\"], [0.8888888888888888, \"#fdca26\"], [1.0, \"#f0f921\"]], \"type\": \"heatmapgl\"}], \"histogram\": [{\"marker\": {\"colorbar\": {\"outlinewidth\": 0, \"ticks\": \"\"}}, \"type\": \"histogram\"}], \"histogram2d\": [{\"colorbar\": {\"outlinewidth\": 0, \"ticks\": \"\"}, \"colorscale\": [[0.0, \"#0d0887\"], [0.1111111111111111, \"#46039f\"], [0.2222222222222222, \"#7201a8\"], [0.3333333333333333, \"#9c179e\"], [0.4444444444444444, \"#bd3786\"], [0.5555555555555556, \"#d8576b\"], [0.6666666666666666, \"#ed7953\"], [0.7777777777777778, \"#fb9f3a\"], [0.8888888888888888, \"#fdca26\"], [1.0, \"#f0f921\"]], \"type\": \"histogram2d\"}], \"histogram2dcontour\": [{\"colorbar\": {\"outlinewidth\": 0, \"ticks\": \"\"}, \"colorscale\": [[0.0, \"#0d0887\"], [0.1111111111111111, \"#46039f\"], [0.2222222222222222, \"#7201a8\"], [0.3333333333333333, \"#9c179e\"], [0.4444444444444444, \"#bd3786\"], [0.5555555555555556, \"#d8576b\"], [0.6666666666666666, \"#ed7953\"], [0.7777777777777778, \"#fb9f3a\"], [0.8888888888888888, \"#fdca26\"], [1.0, \"#f0f921\"]], \"type\": \"histogram2dcontour\"}], \"mesh3d\": [{\"colorbar\": {\"outlinewidth\": 0, \"ticks\": \"\"}, \"type\": \"mesh3d\"}], \"parcoords\": [{\"line\": {\"colorbar\": {\"outlinewidth\": 0, \"ticks\": \"\"}}, \"type\": \"parcoords\"}], \"pie\": [{\"automargin\": true, \"type\": \"pie\"}], \"scatter\": [{\"marker\": {\"colorbar\": {\"outlinewidth\": 0, \"ticks\": \"\"}}, \"type\": \"scatter\"}], \"scatter3d\": [{\"line\": {\"colorbar\": {\"outlinewidth\": 0, \"ticks\": \"\"}}, \"marker\": {\"colorbar\": {\"outlinewidth\": 0, \"ticks\": \"\"}}, \"type\": \"scatter3d\"}], \"scattercarpet\": [{\"marker\": {\"colorbar\": {\"outlinewidth\": 0, \"ticks\": \"\"}}, \"type\": \"scattercarpet\"}], \"scattergeo\": [{\"marker\": {\"colorbar\": {\"outlinewidth\": 0, \"ticks\": \"\"}}, \"type\": \"scattergeo\"}], \"scattergl\": [{\"marker\": {\"colorbar\": {\"outlinewidth\": 0, \"ticks\": \"\"}}, \"type\": \"scattergl\"}], \"scattermapbox\": [{\"marker\": {\"colorbar\": {\"outlinewidth\": 0, \"ticks\": \"\"}}, \"type\": \"scattermapbox\"}], \"scatterpolar\": [{\"marker\": {\"colorbar\": {\"outlinewidth\": 0, \"ticks\": \"\"}}, \"type\": \"scatterpolar\"}], \"scatterpolargl\": [{\"marker\": {\"colorbar\": {\"outlinewidth\": 0, \"ticks\": \"\"}}, \"type\": \"scatterpolargl\"}], \"scatterternary\": [{\"marker\": {\"colorbar\": {\"outlinewidth\": 0, \"ticks\": \"\"}}, \"type\": \"scatterternary\"}], \"surface\": [{\"colorbar\": {\"outlinewidth\": 0, \"ticks\": \"\"}, \"colorscale\": [[0.0, \"#0d0887\"], [0.1111111111111111, \"#46039f\"], [0.2222222222222222, \"#7201a8\"], [0.3333333333333333, \"#9c179e\"], [0.4444444444444444, \"#bd3786\"], [0.5555555555555556, \"#d8576b\"], [0.6666666666666666, \"#ed7953\"], [0.7777777777777778, \"#fb9f3a\"], [0.8888888888888888, \"#fdca26\"], [1.0, \"#f0f921\"]], \"type\": \"surface\"}], \"table\": [{\"cells\": {\"fill\": {\"color\": \"#EBF0F8\"}, \"line\": {\"color\": \"white\"}}, \"header\": {\"fill\": {\"color\": \"#C8D4E3\"}, \"line\": {\"color\": \"white\"}}, \"type\": \"table\"}]}, \"layout\": {\"annotationdefaults\": {\"arrowcolor\": \"#2a3f5f\", \"arrowhead\": 0, \"arrowwidth\": 1}, \"coloraxis\": {\"colorbar\": {\"outlinewidth\": 0, \"ticks\": \"\"}}, \"colorscale\": {\"diverging\": [[0, \"#8e0152\"], [0.1, \"#c51b7d\"], [0.2, \"#de77ae\"], [0.3, \"#f1b6da\"], [0.4, \"#fde0ef\"], [0.5, \"#f7f7f7\"], [0.6, \"#e6f5d0\"], [0.7, \"#b8e186\"], [0.8, \"#7fbc41\"], [0.9, \"#4d9221\"], [1, \"#276419\"]], \"sequential\": [[0.0, \"#0d0887\"], [0.1111111111111111, \"#46039f\"], [0.2222222222222222, \"#7201a8\"], [0.3333333333333333, \"#9c179e\"], [0.4444444444444444, \"#bd3786\"], [0.5555555555555556, \"#d8576b\"], [0.6666666666666666, \"#ed7953\"], [0.7777777777777778, \"#fb9f3a\"], [0.8888888888888888, \"#fdca26\"], [1.0, \"#f0f921\"]], \"sequentialminus\": [[0.0, \"#0d0887\"], [0.1111111111111111, \"#46039f\"], [0.2222222222222222, \"#7201a8\"], [0.3333333333333333, \"#9c179e\"], [0.4444444444444444, \"#bd3786\"], [0.5555555555555556, \"#d8576b\"], [0.6666666666666666, \"#ed7953\"], [0.7777777777777778, \"#fb9f3a\"], [0.8888888888888888, \"#fdca26\"], [1.0, \"#f0f921\"]]}, \"colorway\": [\"#636efa\", \"#EF553B\", \"#00cc96\", \"#ab63fa\", \"#FFA15A\", \"#19d3f3\", \"#FF6692\", \"#B6E880\", \"#FF97FF\", \"#FECB52\"], \"font\": {\"color\": \"#2a3f5f\"}, \"geo\": {\"bgcolor\": \"white\", \"lakecolor\": \"white\", \"landcolor\": \"#E5ECF6\", \"showlakes\": true, \"showland\": true, \"subunitcolor\": \"white\"}, \"hoverlabel\": {\"align\": \"left\"}, \"hovermode\": \"closest\", \"mapbox\": {\"style\": \"light\"}, \"paper_bgcolor\": \"white\", \"plot_bgcolor\": \"#E5ECF6\", \"polar\": {\"angularaxis\": {\"gridcolor\": \"white\", \"linecolor\": \"white\", \"ticks\": \"\"}, \"bgcolor\": \"#E5ECF6\", \"radialaxis\": {\"gridcolor\": \"white\", \"linecolor\": \"white\", \"ticks\": \"\"}}, \"scene\": {\"xaxis\": {\"backgroundcolor\": \"#E5ECF6\", \"gridcolor\": \"white\", \"gridwidth\": 2, \"linecolor\": \"white\", \"showbackground\": true, \"ticks\": \"\", \"zerolinecolor\": \"white\"}, \"yaxis\": {\"backgroundcolor\": \"#E5ECF6\", \"gridcolor\": \"white\", \"gridwidth\": 2, \"linecolor\": \"white\", \"showbackground\": true, \"ticks\": \"\", \"zerolinecolor\": \"white\"}, \"zaxis\": {\"backgroundcolor\": \"#E5ECF6\", \"gridcolor\": \"white\", \"gridwidth\": 2, \"linecolor\": \"white\", \"showbackground\": true, \"ticks\": \"\", \"zerolinecolor\": \"white\"}}, \"shapedefaults\": {\"line\": {\"color\": \"#2a3f5f\"}}, \"ternary\": {\"aaxis\": {\"gridcolor\": \"white\", \"linecolor\": \"white\", \"ticks\": \"\"}, \"baxis\": {\"gridcolor\": \"white\", \"linecolor\": \"white\", \"ticks\": \"\"}, \"bgcolor\": \"#E5ECF6\", \"caxis\": {\"gridcolor\": \"white\", \"linecolor\": \"white\", \"ticks\": \"\"}}, \"title\": {\"x\": 0.05}, \"xaxis\": {\"automargin\": true, \"gridcolor\": \"white\", \"linecolor\": \"white\", \"ticks\": \"\", \"title\": {\"standoff\": 15}, \"zerolinecolor\": \"white\", \"zerolinewidth\": 2}, \"yaxis\": {\"automargin\": true, \"gridcolor\": \"white\", \"linecolor\": \"white\", \"ticks\": \"\", \"title\": {\"standoff\": 15}, \"zerolinecolor\": \"white\", \"zerolinewidth\": 2}}}, \"title\": {\"font\": {\"color\": \"#4D5663\"}}, \"xaxis\": {\"gridcolor\": \"#E1E5ED\", \"showgrid\": true, \"tickfont\": {\"color\": \"#4D5663\"}, \"title\": {\"font\": {\"color\": \"#4D5663\"}, \"text\": \"\"}, \"zerolinecolor\": \"#E1E5ED\"}, \"yaxis\": {\"gridcolor\": \"#E1E5ED\", \"showgrid\": true, \"tickfont\": {\"color\": \"#4D5663\"}, \"title\": {\"font\": {\"color\": \"#4D5663\"}, \"text\": \"\"}, \"zerolinecolor\": \"#E1E5ED\"}},\n                        {\"showLink\": true, \"linkText\": \"Export to plot.ly\", \"plotlyServerURL\": \"https://plot.ly\", \"responsive\": true}\n                    ).then(function(){\n                            \nvar gd = document.getElementById('32b024df-f70b-4c10-99a2-7baba049f0c4');\nvar x = new MutationObserver(function (mutations, observer) {{\n        var display = window.getComputedStyle(gd).display;\n        if (!display || display === 'none') {{\n            console.log([gd, 'removed!']);\n            Plotly.purge(gd);\n            observer.disconnect();\n        }}\n}});\n\n// Listen for the removal of the full notebook cells\nvar notebookContainer = gd.closest('#notebook-container');\nif (notebookContainer) {{\n    x.observe(notebookContainer, {childList: true});\n}}\n\n// Listen for the clearing of the current output cell\nvar outputEl = gd.closest('.output');\nif (outputEl) {{\n    x.observe(outputEl, {childList: true});\n}}\n\n                        })\n                };\n                });\n            </script>\n        </div>"
     },
     "metadata": {}
    }
   ],
   "source": [
    "# histogra for whole dataframe\n",
    "df.iplot(kind='hist')"
   ]
  },
  {
   "cell_type": "code",
   "execution_count": 51,
   "metadata": {},
   "outputs": [
    {
     "output_type": "display_data",
     "data": {
      "application/vnd.plotly.v1+json": {
       "config": {
        "linkText": "Export to plot.ly",
        "plotlyServerURL": "https://plot.ly",
        "showLink": true
       },
       "data": [
        {
         "line": {
          "color": "rgba(255, 153, 51, 1.0)",
          "dash": "solid",
          "shape": "linear",
          "width": 1.3
         },
         "mode": "lines",
         "name": "A",
         "text": "",
         "type": "scatter",
         "x": [
          0,
          1,
          2,
          3,
          4,
          5,
          6,
          7,
          8,
          9,
          10,
          11,
          12,
          13,
          14,
          15,
          16,
          17,
          18,
          19,
          20,
          21,
          22,
          23,
          24,
          25,
          26,
          27,
          28,
          29,
          30,
          31,
          32,
          33,
          34,
          35,
          36,
          37,
          38,
          39,
          40,
          41,
          42,
          43,
          44,
          45,
          46,
          47,
          48,
          49,
          50,
          51,
          52,
          53,
          54,
          55,
          56,
          57,
          58,
          59,
          60,
          61,
          62,
          63,
          64,
          65,
          66,
          67,
          68,
          69,
          70,
          71,
          72,
          73,
          74,
          75,
          76,
          77,
          78,
          79,
          80,
          81,
          82,
          83,
          84,
          85,
          86,
          87,
          88,
          89,
          90,
          91,
          92,
          93,
          94,
          95,
          96,
          97,
          98,
          99
         ],
         "y": [
          -0.20959528449674006,
          1.0313395209143585,
          1.1694348176263178,
          1.2609299556386497,
          0.9991395033571964,
          -2.605096456045387,
          0.4223200564889698,
          -0.1957775306388394,
          -0.5581225730329871,
          0.31374974544598283,
          -0.1094457539933965,
          0.8490037964381496,
          -0.1924499072203981,
          -0.7241729098994564,
          -1.537635679731419,
          -0.17928390076971523,
          -0.4654379085350427,
          0.14536975247776704,
          -0.4107308856713606,
          -0.31692807918550775,
          0.8541795096845612,
          -0.5411685133468052,
          1.6526300592340684,
          -0.3970649611176773,
          0.5537155926901607,
          0.09527358902101514,
          0.14643308884471226,
          -0.5952788954061516,
          1.8391170023050945,
          0.8599789829121285,
          0.14419695368764932,
          -3.7442569633057623,
          -0.3133723448373529,
          -0.16683141237592103,
          1.6188408185310394,
          0.6007304465359995,
          0.15187571991871177,
          0.07909127391112418,
          -0.19527530170401872,
          -1.7720594581677191,
          0.010435130962778887,
          -0.6984897154095291,
          0.298475241933431,
          -1.0324556631267123,
          -0.015196673014035973,
          0.24940100375673913,
          -1.5609631116868825,
          2.0752899982947026,
          -1.549922714712221,
          -0.04769669077299809,
          -0.13050979544132987,
          -1.3439932523872173,
          1.0161176621283028,
          0.22568439926107195,
          -1.1476615070110796,
          -0.5878368352865394,
          -0.238454936681599,
          1.0488599753027485,
          0.41705065187638135,
          0.9591773903586256,
          -1.3963563115579891,
          -0.9471610783203869,
          -1.2809323825176724,
          -0.2623463889448773,
          1.922978320621508,
          -1.2514220434971128,
          -0.9332967715496242,
          -2.17546410153974,
          1.4213253674153281,
          -0.18306555321065304,
          -0.8127274181256211,
          0.6210277858396868,
          0.6663719720223892,
          -0.21981687046950085,
          0.5232043156578947,
          1.3438976175293194,
          -0.40577896676652975,
          0.15087073518784777,
          0.14556340277596694,
          -0.8543803927110263,
          0.3939560017804806,
          0.16697514102575836,
          1.4058840116843392,
          0.4617877536009876,
          -1.5496801935445506,
          0.40769711945908343,
          0.2013369438901281,
          -1.1290823498859064,
          -0.6274727732033917,
          -1.4116748082720443,
          2.028067036128927,
          -0.06951536570078315,
          -0.39563856362339256,
          0.36572962567951944,
          0.2535557564640945,
          -0.592701403714788,
          -1.016758229530463,
          -0.6718010025615362,
          0.4816143914592303,
          1.6521186064972615
         ]
        },
        {
         "line": {
          "color": "rgba(55, 128, 191, 1.0)",
          "dash": "solid",
          "shape": "linear",
          "width": 1.3
         },
         "mode": "lines",
         "name": "B",
         "text": "",
         "type": "scatter",
         "x": [
          0,
          1,
          2,
          3,
          4,
          5,
          6,
          7,
          8,
          9,
          10,
          11,
          12,
          13,
          14,
          15,
          16,
          17,
          18,
          19,
          20,
          21,
          22,
          23,
          24,
          25,
          26,
          27,
          28,
          29,
          30,
          31,
          32,
          33,
          34,
          35,
          36,
          37,
          38,
          39,
          40,
          41,
          42,
          43,
          44,
          45,
          46,
          47,
          48,
          49,
          50,
          51,
          52,
          53,
          54,
          55,
          56,
          57,
          58,
          59,
          60,
          61,
          62,
          63,
          64,
          65,
          66,
          67,
          68,
          69,
          70,
          71,
          72,
          73,
          74,
          75,
          76,
          77,
          78,
          79,
          80,
          81,
          82,
          83,
          84,
          85,
          86,
          87,
          88,
          89,
          90,
          91,
          92,
          93,
          94,
          95,
          96,
          97,
          98,
          99
         ],
         "y": [
          -0.7711170330140517,
          1.1659865501781457,
          -0.4300031411390618,
          -0.0064054452231869525,
          0.3255392094205599,
          -0.13685000730308322,
          1.3525025871928738,
          -1.1801377046110144,
          0.13310747475016435,
          -0.2033148557477379,
          0.3985858186894083,
          -0.49967174213299737,
          1.1913324955300733,
          -0.5409914050548899,
          0.2925317562459309,
          0.8360201107862251,
          0.18953428471715764,
          0.7221778303206465,
          0.09852772787929902,
          1.796009975727251,
          -0.200185351958104,
          0.8157193832619373,
          -0.1933400843887641,
          1.8520919325558922,
          0.48262763547424403,
          1.0115524814755976,
          -0.1837829419916532,
          1.6131287615767995,
          -0.1399290536378075,
          -0.7323092982310786,
          1.2581832153458332,
          2.004782199651357,
          0.11020269700287254,
          -0.2922774652953534,
          -0.610069945082351,
          0.376461914005928,
          0.16718587783128971,
          -1.7189573746226192,
          -0.14068140841214077,
          1.8445706571915623,
          0.42144086795796415,
          1.0771232268496644,
          -0.4574308043895199,
          0.3920164861931366,
          -0.7846303851339075,
          1.1358033661771454,
          0.21984185047724739,
          0.7358382398522556,
          -0.5056098661504937,
          0.3322425140657405,
          -1.0908272200843647,
          0.16993227135855776,
          -2.575072543504373,
          0.7463990525576297,
          -1.3276249331690786,
          -0.19130903148690143,
          0.8888511368645764,
          -1.082223619851152,
          -0.8516922366750175,
          -0.35766740349138537,
          -0.39775115576126774,
          1.2904308354025236,
          -0.4728009835926884,
          0.221724087821145,
          0.3966944648807889,
          -1.2672930011199954,
          0.7680169250563473,
          1.1846181946893646,
          0.2475782480255661,
          0.4485690766180793,
          0.014156941787666289,
          1.661426609144996,
          -1.1495974510451685,
          -0.7147854341662139,
          -0.7107841704939886,
          1.3951354540947525,
          0.20924908903456235,
          -1.220282703449926,
          0.02557457473320523,
          1.6272253233610467,
          -0.4129400171413861,
          -0.30186719992529765,
          1.5662620317015126,
          -0.9805920717199543,
          1.7788994781114258,
          -0.07627410648600412,
          0.06756344975294166,
          0.15733547861968317,
          1.4312231564245395,
          0.5067488088525609,
          -1.3860888399177342,
          -0.35267863923003084,
          -0.9060374943352678,
          -1.470559344699383,
          -0.19821908459674648,
          -1.9227544591977332,
          0.2082346343431905,
          -1.2583923667864534,
          -0.8897041886487653,
          1.228047110760627
         ]
        },
        {
         "connectgaps": false,
         "fill": "tozeroy",
         "line": {
          "color": "green",
          "dash": "solid",
          "shape": "linear",
          "width": 0.5
         },
         "mode": "lines",
         "name": "Spread",
         "showlegend": false,
         "type": "scatter",
         "x": [
          0,
          1,
          2,
          3,
          4,
          5,
          6,
          7,
          8,
          9,
          10,
          11,
          12,
          13,
          14,
          15,
          16,
          17,
          18,
          19,
          20,
          21,
          22,
          23,
          24,
          25,
          26,
          27,
          28,
          29,
          30,
          31,
          32,
          33,
          34,
          35,
          36,
          37,
          38,
          39,
          40,
          41,
          42,
          43,
          44,
          45,
          46,
          47,
          48,
          49,
          50,
          51,
          52,
          53,
          54,
          55,
          56,
          57,
          58,
          59,
          60,
          61,
          62,
          63,
          64,
          65,
          66,
          67,
          68,
          69,
          70,
          71,
          72,
          73,
          74,
          75,
          76,
          77,
          78,
          79,
          80,
          81,
          82,
          83,
          84,
          85,
          86,
          87,
          88,
          89,
          90,
          91,
          92,
          93,
          94,
          95,
          96,
          97,
          98,
          99
         ],
         "xaxis": "x2",
         "y": [
          0.5615217485173116,
          "",
          1.5994379587653795,
          1.2673354008618367,
          0.6736002939366365,
          "",
          "",
          0.984360173972175,
          "",
          0.5170646011937208,
          "",
          1.3486755385711469,
          "",
          "",
          "",
          "",
          "",
          "",
          "",
          "",
          1.0543648616426653,
          "",
          1.8459701436228324,
          "",
          0.07108795721591665,
          "",
          0.33021603083636547,
          "",
          1.979046055942902,
          1.592288281143207,
          "",
          "",
          "",
          0.1254460529194324,
          2.2289107636133902,
          0.2242685325300715,
          "",
          1.7980486485337435,
          "",
          "",
          "",
          "",
          0.7559060463229509,
          "",
          0.7694337121198715,
          "",
          "",
          1.339451758442447,
          "",
          "",
          0.9603174246430348,
          "",
          3.591190205632676,
          "",
          0.17996342615799898,
          "",
          "",
          2.1310835951539007,
          1.2687428885513987,
          1.316844793850011,
          "",
          "",
          "",
          "",
          1.5262838557407192,
          0.015870957622882598,
          "",
          "",
          1.173747119389762,
          "",
          "",
          "",
          1.8159694230675578,
          0.49496856369671305,
          1.2339884861518833,
          "",
          "",
          1.3711534386377737,
          0.1199888280427617,
          "",
          0.8068960189218668,
          0.46884234095105604,
          "",
          1.4423798253209419,
          "",
          0.48397122594508757,
          0.13377349413718642,
          "",
          "",
          "",
          3.414155876046661,
          0.2831632735292477,
          0.5103989307118753,
          1.8362889703789025,
          0.451774841060841,
          1.3300530554829453,
          "",
          0.5865913642249172,
          1.3713185801079957,
          0.4240714957366345
         ],
         "yaxis": "y2"
        },
        {
         "connectgaps": false,
         "fill": "tozeroy",
         "line": {
          "color": "red",
          "dash": "solid",
          "shape": "linear",
          "width": 0.5
         },
         "mode": "lines",
         "name": "Spread",
         "showlegend": false,
         "type": "scatter",
         "x": [
          0,
          1,
          2,
          3,
          4,
          5,
          6,
          7,
          8,
          9,
          10,
          11,
          12,
          13,
          14,
          15,
          16,
          17,
          18,
          19,
          20,
          21,
          22,
          23,
          24,
          25,
          26,
          27,
          28,
          29,
          30,
          31,
          32,
          33,
          34,
          35,
          36,
          37,
          38,
          39,
          40,
          41,
          42,
          43,
          44,
          45,
          46,
          47,
          48,
          49,
          50,
          51,
          52,
          53,
          54,
          55,
          56,
          57,
          58,
          59,
          60,
          61,
          62,
          63,
          64,
          65,
          66,
          67,
          68,
          69,
          70,
          71,
          72,
          73,
          74,
          75,
          76,
          77,
          78,
          79,
          80,
          81,
          82,
          83,
          84,
          85,
          86,
          87,
          88,
          89,
          90,
          91,
          92,
          93,
          94,
          95,
          96,
          97,
          98,
          99
         ],
         "xaxis": "x2",
         "y": [
          "",
          -0.13464702926378713,
          "",
          "",
          "",
          -2.4682464487423035,
          -0.930182530703904,
          "",
          -0.6912300477831514,
          "",
          -0.5080315726828047,
          "",
          -1.3837824027504713,
          -0.18318150484456652,
          -1.8301674359773499,
          -1.0153040115559402,
          -0.6549721932522004,
          -0.5768080778428795,
          -0.5092586135506596,
          -2.1129380549127585,
          "",
          -1.3568878966087423,
          "",
          -2.2491568936735695,
          "",
          -0.9162788924545825,
          "",
          -2.208407656982951,
          "",
          "",
          -1.113986261658184,
          -5.74903916295712,
          -0.42357504184022543,
          "",
          "",
          "",
          -0.015310157912577949,
          "",
          -0.05459389329187794,
          -3.6166301153592815,
          -0.4110057369951853,
          -1.7756129422591935,
          "",
          -1.424472149319849,
          "",
          -0.8864023624204063,
          -1.78080496216413,
          "",
          -1.0443128485617272,
          -0.3799392048387386,
          "",
          -1.5139255237457752,
          "",
          -0.5207146532965578,
          "",
          -0.396527803799638,
          -1.1273060735461753,
          "",
          "",
          "",
          -0.9986051557967214,
          -2.2375919137229103,
          -0.808131398924984,
          -0.4840704767660223,
          "",
          "",
          -1.7013136966059714,
          -3.3600822962291046,
          "",
          -0.6316346298287323,
          -0.8268843599132873,
          -1.0403988233053094,
          "",
          "",
          "",
          -0.051237836565433126,
          -0.6150280558010921,
          "",
          "",
          -2.481605716072073,
          "",
          "",
          -0.16037802001717338,
          "",
          -3.3285796716559766,
          "",
          "",
          -1.2864178285055896,
          -2.0586959296279312,
          -1.9184236171246052,
          "",
          "",
          "",
          "",
          "",
          "",
          -1.2249928638736534,
          "",
          "",
          ""
         ],
         "yaxis": "y2"
        }
       ],
       "layout": {
        "hovermode": "x",
        "legend": {
         "bgcolor": "#F5F6F9",
         "font": {
          "color": "#4D5663"
         }
        },
        "paper_bgcolor": "#F5F6F9",
        "plot_bgcolor": "#F5F6F9",
        "template": {
         "data": {
          "bar": [
           {
            "error_x": {
             "color": "#2a3f5f"
            },
            "error_y": {
             "color": "#2a3f5f"
            },
            "marker": {
             "line": {
              "color": "#E5ECF6",
              "width": 0.5
             }
            },
            "type": "bar"
           }
          ],
          "barpolar": [
           {
            "marker": {
             "line": {
              "color": "#E5ECF6",
              "width": 0.5
             }
            },
            "type": "barpolar"
           }
          ],
          "carpet": [
           {
            "aaxis": {
             "endlinecolor": "#2a3f5f",
             "gridcolor": "white",
             "linecolor": "white",
             "minorgridcolor": "white",
             "startlinecolor": "#2a3f5f"
            },
            "baxis": {
             "endlinecolor": "#2a3f5f",
             "gridcolor": "white",
             "linecolor": "white",
             "minorgridcolor": "white",
             "startlinecolor": "#2a3f5f"
            },
            "type": "carpet"
           }
          ],
          "choropleth": [
           {
            "colorbar": {
             "outlinewidth": 0,
             "ticks": ""
            },
            "type": "choropleth"
           }
          ],
          "contour": [
           {
            "colorbar": {
             "outlinewidth": 0,
             "ticks": ""
            },
            "colorscale": [
             [
              0,
              "#0d0887"
             ],
             [
              0.1111111111111111,
              "#46039f"
             ],
             [
              0.2222222222222222,
              "#7201a8"
             ],
             [
              0.3333333333333333,
              "#9c179e"
             ],
             [
              0.4444444444444444,
              "#bd3786"
             ],
             [
              0.5555555555555556,
              "#d8576b"
             ],
             [
              0.6666666666666666,
              "#ed7953"
             ],
             [
              0.7777777777777778,
              "#fb9f3a"
             ],
             [
              0.8888888888888888,
              "#fdca26"
             ],
             [
              1,
              "#f0f921"
             ]
            ],
            "type": "contour"
           }
          ],
          "contourcarpet": [
           {
            "colorbar": {
             "outlinewidth": 0,
             "ticks": ""
            },
            "type": "contourcarpet"
           }
          ],
          "heatmap": [
           {
            "colorbar": {
             "outlinewidth": 0,
             "ticks": ""
            },
            "colorscale": [
             [
              0,
              "#0d0887"
             ],
             [
              0.1111111111111111,
              "#46039f"
             ],
             [
              0.2222222222222222,
              "#7201a8"
             ],
             [
              0.3333333333333333,
              "#9c179e"
             ],
             [
              0.4444444444444444,
              "#bd3786"
             ],
             [
              0.5555555555555556,
              "#d8576b"
             ],
             [
              0.6666666666666666,
              "#ed7953"
             ],
             [
              0.7777777777777778,
              "#fb9f3a"
             ],
             [
              0.8888888888888888,
              "#fdca26"
             ],
             [
              1,
              "#f0f921"
             ]
            ],
            "type": "heatmap"
           }
          ],
          "heatmapgl": [
           {
            "colorbar": {
             "outlinewidth": 0,
             "ticks": ""
            },
            "colorscale": [
             [
              0,
              "#0d0887"
             ],
             [
              0.1111111111111111,
              "#46039f"
             ],
             [
              0.2222222222222222,
              "#7201a8"
             ],
             [
              0.3333333333333333,
              "#9c179e"
             ],
             [
              0.4444444444444444,
              "#bd3786"
             ],
             [
              0.5555555555555556,
              "#d8576b"
             ],
             [
              0.6666666666666666,
              "#ed7953"
             ],
             [
              0.7777777777777778,
              "#fb9f3a"
             ],
             [
              0.8888888888888888,
              "#fdca26"
             ],
             [
              1,
              "#f0f921"
             ]
            ],
            "type": "heatmapgl"
           }
          ],
          "histogram": [
           {
            "marker": {
             "colorbar": {
              "outlinewidth": 0,
              "ticks": ""
             }
            },
            "type": "histogram"
           }
          ],
          "histogram2d": [
           {
            "colorbar": {
             "outlinewidth": 0,
             "ticks": ""
            },
            "colorscale": [
             [
              0,
              "#0d0887"
             ],
             [
              0.1111111111111111,
              "#46039f"
             ],
             [
              0.2222222222222222,
              "#7201a8"
             ],
             [
              0.3333333333333333,
              "#9c179e"
             ],
             [
              0.4444444444444444,
              "#bd3786"
             ],
             [
              0.5555555555555556,
              "#d8576b"
             ],
             [
              0.6666666666666666,
              "#ed7953"
             ],
             [
              0.7777777777777778,
              "#fb9f3a"
             ],
             [
              0.8888888888888888,
              "#fdca26"
             ],
             [
              1,
              "#f0f921"
             ]
            ],
            "type": "histogram2d"
           }
          ],
          "histogram2dcontour": [
           {
            "colorbar": {
             "outlinewidth": 0,
             "ticks": ""
            },
            "colorscale": [
             [
              0,
              "#0d0887"
             ],
             [
              0.1111111111111111,
              "#46039f"
             ],
             [
              0.2222222222222222,
              "#7201a8"
             ],
             [
              0.3333333333333333,
              "#9c179e"
             ],
             [
              0.4444444444444444,
              "#bd3786"
             ],
             [
              0.5555555555555556,
              "#d8576b"
             ],
             [
              0.6666666666666666,
              "#ed7953"
             ],
             [
              0.7777777777777778,
              "#fb9f3a"
             ],
             [
              0.8888888888888888,
              "#fdca26"
             ],
             [
              1,
              "#f0f921"
             ]
            ],
            "type": "histogram2dcontour"
           }
          ],
          "mesh3d": [
           {
            "colorbar": {
             "outlinewidth": 0,
             "ticks": ""
            },
            "type": "mesh3d"
           }
          ],
          "parcoords": [
           {
            "line": {
             "colorbar": {
              "outlinewidth": 0,
              "ticks": ""
             }
            },
            "type": "parcoords"
           }
          ],
          "pie": [
           {
            "automargin": true,
            "type": "pie"
           }
          ],
          "scatter": [
           {
            "marker": {
             "colorbar": {
              "outlinewidth": 0,
              "ticks": ""
             }
            },
            "type": "scatter"
           }
          ],
          "scatter3d": [
           {
            "line": {
             "colorbar": {
              "outlinewidth": 0,
              "ticks": ""
             }
            },
            "marker": {
             "colorbar": {
              "outlinewidth": 0,
              "ticks": ""
             }
            },
            "type": "scatter3d"
           }
          ],
          "scattercarpet": [
           {
            "marker": {
             "colorbar": {
              "outlinewidth": 0,
              "ticks": ""
             }
            },
            "type": "scattercarpet"
           }
          ],
          "scattergeo": [
           {
            "marker": {
             "colorbar": {
              "outlinewidth": 0,
              "ticks": ""
             }
            },
            "type": "scattergeo"
           }
          ],
          "scattergl": [
           {
            "marker": {
             "colorbar": {
              "outlinewidth": 0,
              "ticks": ""
             }
            },
            "type": "scattergl"
           }
          ],
          "scattermapbox": [
           {
            "marker": {
             "colorbar": {
              "outlinewidth": 0,
              "ticks": ""
             }
            },
            "type": "scattermapbox"
           }
          ],
          "scatterpolar": [
           {
            "marker": {
             "colorbar": {
              "outlinewidth": 0,
              "ticks": ""
             }
            },
            "type": "scatterpolar"
           }
          ],
          "scatterpolargl": [
           {
            "marker": {
             "colorbar": {
              "outlinewidth": 0,
              "ticks": ""
             }
            },
            "type": "scatterpolargl"
           }
          ],
          "scatterternary": [
           {
            "marker": {
             "colorbar": {
              "outlinewidth": 0,
              "ticks": ""
             }
            },
            "type": "scatterternary"
           }
          ],
          "surface": [
           {
            "colorbar": {
             "outlinewidth": 0,
             "ticks": ""
            },
            "colorscale": [
             [
              0,
              "#0d0887"
             ],
             [
              0.1111111111111111,
              "#46039f"
             ],
             [
              0.2222222222222222,
              "#7201a8"
             ],
             [
              0.3333333333333333,
              "#9c179e"
             ],
             [
              0.4444444444444444,
              "#bd3786"
             ],
             [
              0.5555555555555556,
              "#d8576b"
             ],
             [
              0.6666666666666666,
              "#ed7953"
             ],
             [
              0.7777777777777778,
              "#fb9f3a"
             ],
             [
              0.8888888888888888,
              "#fdca26"
             ],
             [
              1,
              "#f0f921"
             ]
            ],
            "type": "surface"
           }
          ],
          "table": [
           {
            "cells": {
             "fill": {
              "color": "#EBF0F8"
             },
             "line": {
              "color": "white"
             }
            },
            "header": {
             "fill": {
              "color": "#C8D4E3"
             },
             "line": {
              "color": "white"
             }
            },
            "type": "table"
           }
          ]
         },
         "layout": {
          "annotationdefaults": {
           "arrowcolor": "#2a3f5f",
           "arrowhead": 0,
           "arrowwidth": 1
          },
          "coloraxis": {
           "colorbar": {
            "outlinewidth": 0,
            "ticks": ""
           }
          },
          "colorscale": {
           "diverging": [
            [
             0,
             "#8e0152"
            ],
            [
             0.1,
             "#c51b7d"
            ],
            [
             0.2,
             "#de77ae"
            ],
            [
             0.3,
             "#f1b6da"
            ],
            [
             0.4,
             "#fde0ef"
            ],
            [
             0.5,
             "#f7f7f7"
            ],
            [
             0.6,
             "#e6f5d0"
            ],
            [
             0.7,
             "#b8e186"
            ],
            [
             0.8,
             "#7fbc41"
            ],
            [
             0.9,
             "#4d9221"
            ],
            [
             1,
             "#276419"
            ]
           ],
           "sequential": [
            [
             0,
             "#0d0887"
            ],
            [
             0.1111111111111111,
             "#46039f"
            ],
            [
             0.2222222222222222,
             "#7201a8"
            ],
            [
             0.3333333333333333,
             "#9c179e"
            ],
            [
             0.4444444444444444,
             "#bd3786"
            ],
            [
             0.5555555555555556,
             "#d8576b"
            ],
            [
             0.6666666666666666,
             "#ed7953"
            ],
            [
             0.7777777777777778,
             "#fb9f3a"
            ],
            [
             0.8888888888888888,
             "#fdca26"
            ],
            [
             1,
             "#f0f921"
            ]
           ],
           "sequentialminus": [
            [
             0,
             "#0d0887"
            ],
            [
             0.1111111111111111,
             "#46039f"
            ],
            [
             0.2222222222222222,
             "#7201a8"
            ],
            [
             0.3333333333333333,
             "#9c179e"
            ],
            [
             0.4444444444444444,
             "#bd3786"
            ],
            [
             0.5555555555555556,
             "#d8576b"
            ],
            [
             0.6666666666666666,
             "#ed7953"
            ],
            [
             0.7777777777777778,
             "#fb9f3a"
            ],
            [
             0.8888888888888888,
             "#fdca26"
            ],
            [
             1,
             "#f0f921"
            ]
           ]
          },
          "colorway": [
           "#636efa",
           "#EF553B",
           "#00cc96",
           "#ab63fa",
           "#FFA15A",
           "#19d3f3",
           "#FF6692",
           "#B6E880",
           "#FF97FF",
           "#FECB52"
          ],
          "font": {
           "color": "#2a3f5f"
          },
          "geo": {
           "bgcolor": "white",
           "lakecolor": "white",
           "landcolor": "#E5ECF6",
           "showlakes": true,
           "showland": true,
           "subunitcolor": "white"
          },
          "hoverlabel": {
           "align": "left"
          },
          "hovermode": "closest",
          "mapbox": {
           "style": "light"
          },
          "paper_bgcolor": "white",
          "plot_bgcolor": "#E5ECF6",
          "polar": {
           "angularaxis": {
            "gridcolor": "white",
            "linecolor": "white",
            "ticks": ""
           },
           "bgcolor": "#E5ECF6",
           "radialaxis": {
            "gridcolor": "white",
            "linecolor": "white",
            "ticks": ""
           }
          },
          "scene": {
           "xaxis": {
            "backgroundcolor": "#E5ECF6",
            "gridcolor": "white",
            "gridwidth": 2,
            "linecolor": "white",
            "showbackground": true,
            "ticks": "",
            "zerolinecolor": "white"
           },
           "yaxis": {
            "backgroundcolor": "#E5ECF6",
            "gridcolor": "white",
            "gridwidth": 2,
            "linecolor": "white",
            "showbackground": true,
            "ticks": "",
            "zerolinecolor": "white"
           },
           "zaxis": {
            "backgroundcolor": "#E5ECF6",
            "gridcolor": "white",
            "gridwidth": 2,
            "linecolor": "white",
            "showbackground": true,
            "ticks": "",
            "zerolinecolor": "white"
           }
          },
          "shapedefaults": {
           "line": {
            "color": "#2a3f5f"
           }
          },
          "ternary": {
           "aaxis": {
            "gridcolor": "white",
            "linecolor": "white",
            "ticks": ""
           },
           "baxis": {
            "gridcolor": "white",
            "linecolor": "white",
            "ticks": ""
           },
           "bgcolor": "#E5ECF6",
           "caxis": {
            "gridcolor": "white",
            "linecolor": "white",
            "ticks": ""
           }
          },
          "title": {
           "x": 0.05
          },
          "xaxis": {
           "automargin": true,
           "gridcolor": "white",
           "linecolor": "white",
           "ticks": "",
           "title": {
            "standoff": 15
           },
           "zerolinecolor": "white",
           "zerolinewidth": 2
          },
          "yaxis": {
           "automargin": true,
           "gridcolor": "white",
           "linecolor": "white",
           "ticks": "",
           "title": {
            "standoff": 15
           },
           "zerolinecolor": "white",
           "zerolinewidth": 2
          }
         }
        },
        "title": {
         "font": {
          "color": "#4D5663"
         }
        },
        "xaxis": {
         "gridcolor": "#E1E5ED",
         "showgrid": true,
         "tickfont": {
          "color": "#4D5663"
         },
         "title": {
          "font": {
           "color": "#4D5663"
          },
          "text": ""
         },
         "zerolinecolor": "#E1E5ED"
        },
        "xaxis2": {
         "anchor": "y2",
         "gridcolor": "#E1E5ED",
         "showgrid": true,
         "showticklabels": false,
         "tickfont": {
          "color": "#4D5663"
         },
         "title": {
          "font": {
           "color": "#4D5663"
          },
          "text": ""
         },
         "zerolinecolor": "#E1E5ED"
        },
        "yaxis": {
         "domain": [
          0.3,
          1
         ],
         "gridcolor": "#E1E5ED",
         "showgrid": true,
         "tickfont": {
          "color": "#4D5663"
         },
         "title": {
          "font": {
           "color": "#4D5663"
          },
          "text": ""
         },
         "zerolinecolor": "#E1E5ED"
        },
        "yaxis2": {
         "domain": [
          0,
          0.25
         ],
         "gridcolor": "#E1E5ED",
         "showgrid": true,
         "tickfont": {
          "color": "#4D5663"
         },
         "title": {
          "font": {
           "color": "#4D5663"
          },
          "text": "Spread"
         },
         "zerolinecolor": "#E1E5ED"
        }
       }
      },
      "text/html": "<div>\n        \n        \n            <div id=\"776f12d8-46ea-4ac6-8eb7-85bd30063e3f\" class=\"plotly-graph-div\" style=\"height:525px; width:100%;\"></div>\n            <script type=\"text/javascript\">\n                require([\"plotly\"], function(Plotly) {\n                    window.PLOTLYENV=window.PLOTLYENV || {};\n                    window.PLOTLYENV.BASE_URL='https://plot.ly';\n                    \n                if (document.getElementById(\"776f12d8-46ea-4ac6-8eb7-85bd30063e3f\")) {\n                    Plotly.newPlot(\n                        '776f12d8-46ea-4ac6-8eb7-85bd30063e3f',\n                        [{\"line\": {\"color\": \"rgba(255, 153, 51, 1.0)\", \"dash\": \"solid\", \"shape\": \"linear\", \"width\": 1.3}, \"mode\": \"lines\", \"name\": \"A\", \"text\": \"\", \"type\": \"scatter\", \"x\": [0, 1, 2, 3, 4, 5, 6, 7, 8, 9, 10, 11, 12, 13, 14, 15, 16, 17, 18, 19, 20, 21, 22, 23, 24, 25, 26, 27, 28, 29, 30, 31, 32, 33, 34, 35, 36, 37, 38, 39, 40, 41, 42, 43, 44, 45, 46, 47, 48, 49, 50, 51, 52, 53, 54, 55, 56, 57, 58, 59, 60, 61, 62, 63, 64, 65, 66, 67, 68, 69, 70, 71, 72, 73, 74, 75, 76, 77, 78, 79, 80, 81, 82, 83, 84, 85, 86, 87, 88, 89, 90, 91, 92, 93, 94, 95, 96, 97, 98, 99], \"y\": [-0.20959528449674006, 1.0313395209143585, 1.1694348176263178, 1.2609299556386497, 0.9991395033571964, -2.605096456045387, 0.4223200564889698, -0.1957775306388394, -0.5581225730329871, 0.31374974544598283, -0.1094457539933965, 0.8490037964381496, -0.1924499072203981, -0.7241729098994564, -1.537635679731419, -0.17928390076971523, -0.4654379085350427, 0.14536975247776704, -0.4107308856713606, -0.31692807918550775, 0.8541795096845612, -0.5411685133468052, 1.6526300592340684, -0.3970649611176773, 0.5537155926901607, 0.09527358902101514, 0.14643308884471226, -0.5952788954061516, 1.8391170023050945, 0.8599789829121285, 0.14419695368764932, -3.7442569633057623, -0.3133723448373529, -0.16683141237592103, 1.6188408185310394, 0.6007304465359995, 0.15187571991871177, 0.07909127391112418, -0.19527530170401872, -1.7720594581677191, 0.010435130962778887, -0.6984897154095291, 0.298475241933431, -1.0324556631267123, -0.015196673014035973, 0.24940100375673913, -1.5609631116868825, 2.0752899982947026, -1.549922714712221, -0.04769669077299809, -0.13050979544132987, -1.3439932523872173, 1.0161176621283028, 0.22568439926107195, -1.1476615070110796, -0.5878368352865394, -0.238454936681599, 1.0488599753027485, 0.41705065187638135, 0.9591773903586256, -1.3963563115579891, -0.9471610783203869, -1.2809323825176724, -0.2623463889448773, 1.922978320621508, -1.2514220434971128, -0.9332967715496242, -2.17546410153974, 1.4213253674153281, -0.18306555321065304, -0.8127274181256211, 0.6210277858396868, 0.6663719720223892, -0.21981687046950085, 0.5232043156578947, 1.3438976175293194, -0.40577896676652975, 0.15087073518784777, 0.14556340277596694, -0.8543803927110263, 0.3939560017804806, 0.16697514102575836, 1.4058840116843392, 0.4617877536009876, -1.5496801935445506, 0.40769711945908343, 0.2013369438901281, -1.1290823498859064, -0.6274727732033917, -1.4116748082720443, 2.028067036128927, -0.06951536570078315, -0.39563856362339256, 0.36572962567951944, 0.2535557564640945, -0.592701403714788, -1.016758229530463, -0.6718010025615362, 0.4816143914592303, 1.6521186064972615]}, {\"line\": {\"color\": \"rgba(55, 128, 191, 1.0)\", \"dash\": \"solid\", \"shape\": \"linear\", \"width\": 1.3}, \"mode\": \"lines\", \"name\": \"B\", \"text\": \"\", \"type\": \"scatter\", \"x\": [0, 1, 2, 3, 4, 5, 6, 7, 8, 9, 10, 11, 12, 13, 14, 15, 16, 17, 18, 19, 20, 21, 22, 23, 24, 25, 26, 27, 28, 29, 30, 31, 32, 33, 34, 35, 36, 37, 38, 39, 40, 41, 42, 43, 44, 45, 46, 47, 48, 49, 50, 51, 52, 53, 54, 55, 56, 57, 58, 59, 60, 61, 62, 63, 64, 65, 66, 67, 68, 69, 70, 71, 72, 73, 74, 75, 76, 77, 78, 79, 80, 81, 82, 83, 84, 85, 86, 87, 88, 89, 90, 91, 92, 93, 94, 95, 96, 97, 98, 99], \"y\": [-0.7711170330140517, 1.1659865501781457, -0.4300031411390618, -0.0064054452231869525, 0.3255392094205599, -0.13685000730308322, 1.3525025871928738, -1.1801377046110144, 0.13310747475016435, -0.2033148557477379, 0.3985858186894083, -0.49967174213299737, 1.1913324955300733, -0.5409914050548899, 0.2925317562459309, 0.8360201107862251, 0.18953428471715764, 0.7221778303206465, 0.09852772787929902, 1.796009975727251, -0.200185351958104, 0.8157193832619373, -0.1933400843887641, 1.8520919325558922, 0.48262763547424403, 1.0115524814755976, -0.1837829419916532, 1.6131287615767995, -0.1399290536378075, -0.7323092982310786, 1.2581832153458332, 2.004782199651357, 0.11020269700287254, -0.2922774652953534, -0.610069945082351, 0.376461914005928, 0.16718587783128971, -1.7189573746226192, -0.14068140841214077, 1.8445706571915623, 0.42144086795796415, 1.0771232268496644, -0.4574308043895199, 0.3920164861931366, -0.7846303851339075, 1.1358033661771454, 0.21984185047724739, 0.7358382398522556, -0.5056098661504937, 0.3322425140657405, -1.0908272200843647, 0.16993227135855776, -2.575072543504373, 0.7463990525576297, -1.3276249331690786, -0.19130903148690143, 0.8888511368645764, -1.082223619851152, -0.8516922366750175, -0.35766740349138537, -0.39775115576126774, 1.2904308354025236, -0.4728009835926884, 0.221724087821145, 0.3966944648807889, -1.2672930011199954, 0.7680169250563473, 1.1846181946893646, 0.2475782480255661, 0.4485690766180793, 0.014156941787666289, 1.661426609144996, -1.1495974510451685, -0.7147854341662139, -0.7107841704939886, 1.3951354540947525, 0.20924908903456235, -1.220282703449926, 0.02557457473320523, 1.6272253233610467, -0.4129400171413861, -0.30186719992529765, 1.5662620317015126, -0.9805920717199543, 1.7788994781114258, -0.07627410648600412, 0.06756344975294166, 0.15733547861968317, 1.4312231564245395, 0.5067488088525609, -1.3860888399177342, -0.35267863923003084, -0.9060374943352678, -1.470559344699383, -0.19821908459674648, -1.9227544591977332, 0.2082346343431905, -1.2583923667864534, -0.8897041886487653, 1.228047110760627]}, {\"connectgaps\": false, \"fill\": \"tozeroy\", \"line\": {\"color\": \"green\", \"dash\": \"solid\", \"shape\": \"linear\", \"width\": 0.5}, \"mode\": \"lines\", \"name\": \"Spread\", \"showlegend\": false, \"type\": \"scatter\", \"x\": [0, 1, 2, 3, 4, 5, 6, 7, 8, 9, 10, 11, 12, 13, 14, 15, 16, 17, 18, 19, 20, 21, 22, 23, 24, 25, 26, 27, 28, 29, 30, 31, 32, 33, 34, 35, 36, 37, 38, 39, 40, 41, 42, 43, 44, 45, 46, 47, 48, 49, 50, 51, 52, 53, 54, 55, 56, 57, 58, 59, 60, 61, 62, 63, 64, 65, 66, 67, 68, 69, 70, 71, 72, 73, 74, 75, 76, 77, 78, 79, 80, 81, 82, 83, 84, 85, 86, 87, 88, 89, 90, 91, 92, 93, 94, 95, 96, 97, 98, 99], \"xaxis\": \"x2\", \"y\": [0.5615217485173116, \"\", 1.5994379587653795, 1.2673354008618367, 0.6736002939366365, \"\", \"\", 0.984360173972175, \"\", 0.5170646011937208, \"\", 1.3486755385711469, \"\", \"\", \"\", \"\", \"\", \"\", \"\", \"\", 1.0543648616426653, \"\", 1.8459701436228324, \"\", 0.07108795721591665, \"\", 0.33021603083636547, \"\", 1.979046055942902, 1.592288281143207, \"\", \"\", \"\", 0.1254460529194324, 2.2289107636133902, 0.2242685325300715, \"\", 1.7980486485337435, \"\", \"\", \"\", \"\", 0.7559060463229509, \"\", 0.7694337121198715, \"\", \"\", 1.339451758442447, \"\", \"\", 0.9603174246430348, \"\", 3.591190205632676, \"\", 0.17996342615799898, \"\", \"\", 2.1310835951539007, 1.2687428885513987, 1.316844793850011, \"\", \"\", \"\", \"\", 1.5262838557407192, 0.015870957622882598, \"\", \"\", 1.173747119389762, \"\", \"\", \"\", 1.8159694230675578, 0.49496856369671305, 1.2339884861518833, \"\", \"\", 1.3711534386377737, 0.1199888280427617, \"\", 0.8068960189218668, 0.46884234095105604, \"\", 1.4423798253209419, \"\", 0.48397122594508757, 0.13377349413718642, \"\", \"\", \"\", 3.414155876046661, 0.2831632735292477, 0.5103989307118753, 1.8362889703789025, 0.451774841060841, 1.3300530554829453, \"\", 0.5865913642249172, 1.3713185801079957, 0.4240714957366345], \"yaxis\": \"y2\"}, {\"connectgaps\": false, \"fill\": \"tozeroy\", \"line\": {\"color\": \"red\", \"dash\": \"solid\", \"shape\": \"linear\", \"width\": 0.5}, \"mode\": \"lines\", \"name\": \"Spread\", \"showlegend\": false, \"type\": \"scatter\", \"x\": [0, 1, 2, 3, 4, 5, 6, 7, 8, 9, 10, 11, 12, 13, 14, 15, 16, 17, 18, 19, 20, 21, 22, 23, 24, 25, 26, 27, 28, 29, 30, 31, 32, 33, 34, 35, 36, 37, 38, 39, 40, 41, 42, 43, 44, 45, 46, 47, 48, 49, 50, 51, 52, 53, 54, 55, 56, 57, 58, 59, 60, 61, 62, 63, 64, 65, 66, 67, 68, 69, 70, 71, 72, 73, 74, 75, 76, 77, 78, 79, 80, 81, 82, 83, 84, 85, 86, 87, 88, 89, 90, 91, 92, 93, 94, 95, 96, 97, 98, 99], \"xaxis\": \"x2\", \"y\": [\"\", -0.13464702926378713, \"\", \"\", \"\", -2.4682464487423035, -0.930182530703904, \"\", -0.6912300477831514, \"\", -0.5080315726828047, \"\", -1.3837824027504713, -0.18318150484456652, -1.8301674359773499, -1.0153040115559402, -0.6549721932522004, -0.5768080778428795, -0.5092586135506596, -2.1129380549127585, \"\", -1.3568878966087423, \"\", -2.2491568936735695, \"\", -0.9162788924545825, \"\", -2.208407656982951, \"\", \"\", -1.113986261658184, -5.74903916295712, -0.42357504184022543, \"\", \"\", \"\", -0.015310157912577949, \"\", -0.05459389329187794, -3.6166301153592815, -0.4110057369951853, -1.7756129422591935, \"\", -1.424472149319849, \"\", -0.8864023624204063, -1.78080496216413, \"\", -1.0443128485617272, -0.3799392048387386, \"\", -1.5139255237457752, \"\", -0.5207146532965578, \"\", -0.396527803799638, -1.1273060735461753, \"\", \"\", \"\", -0.9986051557967214, -2.2375919137229103, -0.808131398924984, -0.4840704767660223, \"\", \"\", -1.7013136966059714, -3.3600822962291046, \"\", -0.6316346298287323, -0.8268843599132873, -1.0403988233053094, \"\", \"\", \"\", -0.051237836565433126, -0.6150280558010921, \"\", \"\", -2.481605716072073, \"\", \"\", -0.16037802001717338, \"\", -3.3285796716559766, \"\", \"\", -1.2864178285055896, -2.0586959296279312, -1.9184236171246052, \"\", \"\", \"\", \"\", \"\", \"\", -1.2249928638736534, \"\", \"\", \"\"], \"yaxis\": \"y2\"}],\n                        {\"hovermode\": \"x\", \"legend\": {\"bgcolor\": \"#F5F6F9\", \"font\": {\"color\": \"#4D5663\"}}, \"paper_bgcolor\": \"#F5F6F9\", \"plot_bgcolor\": \"#F5F6F9\", \"template\": {\"data\": {\"bar\": [{\"error_x\": {\"color\": \"#2a3f5f\"}, \"error_y\": {\"color\": \"#2a3f5f\"}, \"marker\": {\"line\": {\"color\": \"#E5ECF6\", \"width\": 0.5}}, \"type\": \"bar\"}], \"barpolar\": [{\"marker\": {\"line\": {\"color\": \"#E5ECF6\", \"width\": 0.5}}, \"type\": \"barpolar\"}], \"carpet\": [{\"aaxis\": {\"endlinecolor\": \"#2a3f5f\", \"gridcolor\": \"white\", \"linecolor\": \"white\", \"minorgridcolor\": \"white\", \"startlinecolor\": \"#2a3f5f\"}, \"baxis\": {\"endlinecolor\": \"#2a3f5f\", \"gridcolor\": \"white\", \"linecolor\": \"white\", \"minorgridcolor\": \"white\", \"startlinecolor\": \"#2a3f5f\"}, \"type\": \"carpet\"}], \"choropleth\": [{\"colorbar\": {\"outlinewidth\": 0, \"ticks\": \"\"}, \"type\": \"choropleth\"}], \"contour\": [{\"colorbar\": {\"outlinewidth\": 0, \"ticks\": \"\"}, \"colorscale\": [[0.0, \"#0d0887\"], [0.1111111111111111, \"#46039f\"], [0.2222222222222222, \"#7201a8\"], [0.3333333333333333, \"#9c179e\"], [0.4444444444444444, \"#bd3786\"], [0.5555555555555556, \"#d8576b\"], [0.6666666666666666, \"#ed7953\"], [0.7777777777777778, \"#fb9f3a\"], [0.8888888888888888, \"#fdca26\"], [1.0, \"#f0f921\"]], \"type\": \"contour\"}], \"contourcarpet\": [{\"colorbar\": {\"outlinewidth\": 0, \"ticks\": \"\"}, \"type\": \"contourcarpet\"}], \"heatmap\": [{\"colorbar\": {\"outlinewidth\": 0, \"ticks\": \"\"}, \"colorscale\": [[0.0, \"#0d0887\"], [0.1111111111111111, \"#46039f\"], [0.2222222222222222, \"#7201a8\"], [0.3333333333333333, \"#9c179e\"], [0.4444444444444444, \"#bd3786\"], [0.5555555555555556, \"#d8576b\"], [0.6666666666666666, \"#ed7953\"], [0.7777777777777778, \"#fb9f3a\"], [0.8888888888888888, \"#fdca26\"], [1.0, \"#f0f921\"]], \"type\": \"heatmap\"}], \"heatmapgl\": [{\"colorbar\": {\"outlinewidth\": 0, \"ticks\": \"\"}, \"colorscale\": [[0.0, \"#0d0887\"], [0.1111111111111111, \"#46039f\"], [0.2222222222222222, \"#7201a8\"], [0.3333333333333333, \"#9c179e\"], [0.4444444444444444, \"#bd3786\"], [0.5555555555555556, \"#d8576b\"], [0.6666666666666666, \"#ed7953\"], [0.7777777777777778, \"#fb9f3a\"], [0.8888888888888888, \"#fdca26\"], [1.0, \"#f0f921\"]], \"type\": \"heatmapgl\"}], \"histogram\": [{\"marker\": {\"colorbar\": {\"outlinewidth\": 0, \"ticks\": \"\"}}, \"type\": \"histogram\"}], \"histogram2d\": [{\"colorbar\": {\"outlinewidth\": 0, \"ticks\": \"\"}, \"colorscale\": [[0.0, \"#0d0887\"], [0.1111111111111111, \"#46039f\"], [0.2222222222222222, \"#7201a8\"], [0.3333333333333333, \"#9c179e\"], [0.4444444444444444, \"#bd3786\"], [0.5555555555555556, \"#d8576b\"], [0.6666666666666666, \"#ed7953\"], [0.7777777777777778, \"#fb9f3a\"], [0.8888888888888888, \"#fdca26\"], [1.0, \"#f0f921\"]], \"type\": \"histogram2d\"}], \"histogram2dcontour\": [{\"colorbar\": {\"outlinewidth\": 0, \"ticks\": \"\"}, \"colorscale\": [[0.0, \"#0d0887\"], [0.1111111111111111, \"#46039f\"], [0.2222222222222222, \"#7201a8\"], [0.3333333333333333, \"#9c179e\"], [0.4444444444444444, \"#bd3786\"], [0.5555555555555556, \"#d8576b\"], [0.6666666666666666, \"#ed7953\"], [0.7777777777777778, \"#fb9f3a\"], [0.8888888888888888, \"#fdca26\"], [1.0, \"#f0f921\"]], \"type\": \"histogram2dcontour\"}], \"mesh3d\": [{\"colorbar\": {\"outlinewidth\": 0, \"ticks\": \"\"}, \"type\": \"mesh3d\"}], \"parcoords\": [{\"line\": {\"colorbar\": {\"outlinewidth\": 0, \"ticks\": \"\"}}, \"type\": \"parcoords\"}], \"pie\": [{\"automargin\": true, \"type\": \"pie\"}], \"scatter\": [{\"marker\": {\"colorbar\": {\"outlinewidth\": 0, \"ticks\": \"\"}}, \"type\": \"scatter\"}], \"scatter3d\": [{\"line\": {\"colorbar\": {\"outlinewidth\": 0, \"ticks\": \"\"}}, \"marker\": {\"colorbar\": {\"outlinewidth\": 0, \"ticks\": \"\"}}, \"type\": \"scatter3d\"}], \"scattercarpet\": [{\"marker\": {\"colorbar\": {\"outlinewidth\": 0, \"ticks\": \"\"}}, \"type\": \"scattercarpet\"}], \"scattergeo\": [{\"marker\": {\"colorbar\": {\"outlinewidth\": 0, \"ticks\": \"\"}}, \"type\": \"scattergeo\"}], \"scattergl\": [{\"marker\": {\"colorbar\": {\"outlinewidth\": 0, \"ticks\": \"\"}}, \"type\": \"scattergl\"}], \"scattermapbox\": [{\"marker\": {\"colorbar\": {\"outlinewidth\": 0, \"ticks\": \"\"}}, \"type\": \"scattermapbox\"}], \"scatterpolar\": [{\"marker\": {\"colorbar\": {\"outlinewidth\": 0, \"ticks\": \"\"}}, \"type\": \"scatterpolar\"}], \"scatterpolargl\": [{\"marker\": {\"colorbar\": {\"outlinewidth\": 0, \"ticks\": \"\"}}, \"type\": \"scatterpolargl\"}], \"scatterternary\": [{\"marker\": {\"colorbar\": {\"outlinewidth\": 0, \"ticks\": \"\"}}, \"type\": \"scatterternary\"}], \"surface\": [{\"colorbar\": {\"outlinewidth\": 0, \"ticks\": \"\"}, \"colorscale\": [[0.0, \"#0d0887\"], [0.1111111111111111, \"#46039f\"], [0.2222222222222222, \"#7201a8\"], [0.3333333333333333, \"#9c179e\"], [0.4444444444444444, \"#bd3786\"], [0.5555555555555556, \"#d8576b\"], [0.6666666666666666, \"#ed7953\"], [0.7777777777777778, \"#fb9f3a\"], [0.8888888888888888, \"#fdca26\"], [1.0, \"#f0f921\"]], \"type\": \"surface\"}], \"table\": [{\"cells\": {\"fill\": {\"color\": \"#EBF0F8\"}, \"line\": {\"color\": \"white\"}}, \"header\": {\"fill\": {\"color\": \"#C8D4E3\"}, \"line\": {\"color\": \"white\"}}, \"type\": \"table\"}]}, \"layout\": {\"annotationdefaults\": {\"arrowcolor\": \"#2a3f5f\", \"arrowhead\": 0, \"arrowwidth\": 1}, \"coloraxis\": {\"colorbar\": {\"outlinewidth\": 0, \"ticks\": \"\"}}, \"colorscale\": {\"diverging\": [[0, \"#8e0152\"], [0.1, \"#c51b7d\"], [0.2, \"#de77ae\"], [0.3, \"#f1b6da\"], [0.4, \"#fde0ef\"], [0.5, \"#f7f7f7\"], [0.6, \"#e6f5d0\"], [0.7, \"#b8e186\"], [0.8, \"#7fbc41\"], [0.9, \"#4d9221\"], [1, \"#276419\"]], \"sequential\": [[0.0, \"#0d0887\"], [0.1111111111111111, \"#46039f\"], [0.2222222222222222, \"#7201a8\"], [0.3333333333333333, \"#9c179e\"], [0.4444444444444444, \"#bd3786\"], [0.5555555555555556, \"#d8576b\"], [0.6666666666666666, \"#ed7953\"], [0.7777777777777778, \"#fb9f3a\"], [0.8888888888888888, \"#fdca26\"], [1.0, \"#f0f921\"]], \"sequentialminus\": [[0.0, \"#0d0887\"], [0.1111111111111111, \"#46039f\"], [0.2222222222222222, \"#7201a8\"], [0.3333333333333333, \"#9c179e\"], [0.4444444444444444, \"#bd3786\"], [0.5555555555555556, \"#d8576b\"], [0.6666666666666666, \"#ed7953\"], [0.7777777777777778, \"#fb9f3a\"], [0.8888888888888888, \"#fdca26\"], [1.0, \"#f0f921\"]]}, \"colorway\": [\"#636efa\", \"#EF553B\", \"#00cc96\", \"#ab63fa\", \"#FFA15A\", \"#19d3f3\", \"#FF6692\", \"#B6E880\", \"#FF97FF\", \"#FECB52\"], \"font\": {\"color\": \"#2a3f5f\"}, \"geo\": {\"bgcolor\": \"white\", \"lakecolor\": \"white\", \"landcolor\": \"#E5ECF6\", \"showlakes\": true, \"showland\": true, \"subunitcolor\": \"white\"}, \"hoverlabel\": {\"align\": \"left\"}, \"hovermode\": \"closest\", \"mapbox\": {\"style\": \"light\"}, \"paper_bgcolor\": \"white\", \"plot_bgcolor\": \"#E5ECF6\", \"polar\": {\"angularaxis\": {\"gridcolor\": \"white\", \"linecolor\": \"white\", \"ticks\": \"\"}, \"bgcolor\": \"#E5ECF6\", \"radialaxis\": {\"gridcolor\": \"white\", \"linecolor\": \"white\", \"ticks\": \"\"}}, \"scene\": {\"xaxis\": {\"backgroundcolor\": \"#E5ECF6\", \"gridcolor\": \"white\", \"gridwidth\": 2, \"linecolor\": \"white\", \"showbackground\": true, \"ticks\": \"\", \"zerolinecolor\": \"white\"}, \"yaxis\": {\"backgroundcolor\": \"#E5ECF6\", \"gridcolor\": \"white\", \"gridwidth\": 2, \"linecolor\": \"white\", \"showbackground\": true, \"ticks\": \"\", \"zerolinecolor\": \"white\"}, \"zaxis\": {\"backgroundcolor\": \"#E5ECF6\", \"gridcolor\": \"white\", \"gridwidth\": 2, \"linecolor\": \"white\", \"showbackground\": true, \"ticks\": \"\", \"zerolinecolor\": \"white\"}}, \"shapedefaults\": {\"line\": {\"color\": \"#2a3f5f\"}}, \"ternary\": {\"aaxis\": {\"gridcolor\": \"white\", \"linecolor\": \"white\", \"ticks\": \"\"}, \"baxis\": {\"gridcolor\": \"white\", \"linecolor\": \"white\", \"ticks\": \"\"}, \"bgcolor\": \"#E5ECF6\", \"caxis\": {\"gridcolor\": \"white\", \"linecolor\": \"white\", \"ticks\": \"\"}}, \"title\": {\"x\": 0.05}, \"xaxis\": {\"automargin\": true, \"gridcolor\": \"white\", \"linecolor\": \"white\", \"ticks\": \"\", \"title\": {\"standoff\": 15}, \"zerolinecolor\": \"white\", \"zerolinewidth\": 2}, \"yaxis\": {\"automargin\": true, \"gridcolor\": \"white\", \"linecolor\": \"white\", \"ticks\": \"\", \"title\": {\"standoff\": 15}, \"zerolinecolor\": \"white\", \"zerolinewidth\": 2}}}, \"title\": {\"font\": {\"color\": \"#4D5663\"}}, \"xaxis\": {\"gridcolor\": \"#E1E5ED\", \"showgrid\": true, \"tickfont\": {\"color\": \"#4D5663\"}, \"title\": {\"font\": {\"color\": \"#4D5663\"}, \"text\": \"\"}, \"zerolinecolor\": \"#E1E5ED\"}, \"xaxis2\": {\"anchor\": \"y2\", \"gridcolor\": \"#E1E5ED\", \"showgrid\": true, \"showticklabels\": false, \"tickfont\": {\"color\": \"#4D5663\"}, \"title\": {\"font\": {\"color\": \"#4D5663\"}, \"text\": \"\"}, \"zerolinecolor\": \"#E1E5ED\"}, \"yaxis\": {\"domain\": [0.3, 1], \"gridcolor\": \"#E1E5ED\", \"showgrid\": true, \"tickfont\": {\"color\": \"#4D5663\"}, \"title\": {\"font\": {\"color\": \"#4D5663\"}, \"text\": \"\"}, \"zerolinecolor\": \"#E1E5ED\"}, \"yaxis2\": {\"domain\": [0, 0.25], \"gridcolor\": \"#E1E5ED\", \"showgrid\": true, \"tickfont\": {\"color\": \"#4D5663\"}, \"title\": {\"font\": {\"color\": \"#4D5663\"}, \"text\": \"Spread\"}, \"zerolinecolor\": \"#E1E5ED\"}},\n                        {\"showLink\": true, \"linkText\": \"Export to plot.ly\", \"plotlyServerURL\": \"https://plot.ly\", \"responsive\": true}\n                    ).then(function(){\n                            \nvar gd = document.getElementById('776f12d8-46ea-4ac6-8eb7-85bd30063e3f');\nvar x = new MutationObserver(function (mutations, observer) {{\n        var display = window.getComputedStyle(gd).display;\n        if (!display || display === 'none') {{\n            console.log([gd, 'removed!']);\n            Plotly.purge(gd);\n            observer.disconnect();\n        }}\n}});\n\n// Listen for the removal of the full notebook cells\nvar notebookContainer = gd.closest('#notebook-container');\nif (notebookContainer) {{\n    x.observe(notebookContainer, {childList: true});\n}}\n\n// Listen for the clearing of the current output cell\nvar outputEl = gd.closest('.output');\nif (outputEl) {{\n    x.observe(outputEl, {childList: true});\n}}\n\n                        })\n                };\n                });\n            </script>\n        </div>"
     },
     "metadata": {}
    }
   ],
   "source": [
    "# spread for stock data type stuff\n",
    "df[['A','B']].iplot(kind='spread')"
   ]
  },
  {
   "cell_type": "code",
   "execution_count": 52,
   "metadata": {},
   "outputs": [
    {
     "output_type": "display_data",
     "data": {
      "application/vnd.plotly.v1+json": {
       "config": {
        "linkText": "Export to plot.ly",
        "plotlyServerURL": "https://plot.ly",
        "showLink": true
       },
       "data": [
        {
         "marker": {
          "color": [
           "rgb(255, 153, 51)",
           "rgb(55, 128, 191)",
           "rgb(50, 171, 96)",
           "rgb(128, 0, 128)",
           "rgb(219, 64, 82)",
           "rgb(0, 128, 128)",
           "rgb(255, 255, 51)",
           "rgb(128, 128, 0)",
           "rgb(251, 128, 114)",
           "rgb(128, 177, 211)"
          ],
          "line": {
           "width": 1.3
          },
          "size": [
           84,
           77,
           64,
           67,
           71,
           39,
           99,
           67,
           79,
           94,
           56,
           76,
           84,
           43,
           89,
           80,
           62,
           83,
           90,
           46,
           99,
           65,
           61,
           12,
           82,
           97,
           75,
           56,
           72,
           87,
           86,
           67,
           96,
           61,
           79,
           52,
           88,
           44,
           71,
           100,
           82,
           56,
           76,
           72,
           76,
           69,
           94,
           83,
           72,
           45,
           72,
           64,
           12,
           78,
           53,
           56,
           83,
           41,
           49,
           82,
           70,
           58,
           101,
           107,
           91,
           60,
           97,
           112,
           73,
           71,
           70,
           91,
           76,
           48,
           74,
           58,
           50,
           87,
           73,
           45,
           77,
           57,
           81,
           45,
           68,
           69,
           45,
           70,
           58,
           68,
           60,
           59,
           85,
           59,
           93,
           74,
           49,
           108,
           93,
           81
          ],
          "symbol": "circle"
         },
         "mode": "markers",
         "text": "",
         "type": "scatter",
         "x": [
          -0.20959528449674006,
          1.0313395209143585,
          1.1694348176263178,
          1.2609299556386497,
          0.9991395033571964,
          -2.605096456045387,
          0.4223200564889698,
          -0.1957775306388394,
          -0.5581225730329871,
          0.31374974544598283,
          -0.1094457539933965,
          0.8490037964381496,
          -0.1924499072203981,
          -0.7241729098994564,
          -1.537635679731419,
          -0.17928390076971523,
          -0.4654379085350427,
          0.14536975247776704,
          -0.4107308856713606,
          -0.31692807918550775,
          0.8541795096845612,
          -0.5411685133468052,
          1.6526300592340684,
          -0.3970649611176773,
          0.5537155926901607,
          0.09527358902101514,
          0.14643308884471226,
          -0.5952788954061516,
          1.8391170023050945,
          0.8599789829121285,
          0.14419695368764932,
          -3.7442569633057623,
          -0.3133723448373529,
          -0.16683141237592103,
          1.6188408185310394,
          0.6007304465359995,
          0.15187571991871177,
          0.07909127391112418,
          -0.19527530170401872,
          -1.7720594581677191,
          0.010435130962778887,
          -0.6984897154095291,
          0.298475241933431,
          -1.0324556631267123,
          -0.015196673014035973,
          0.24940100375673913,
          -1.5609631116868825,
          2.0752899982947026,
          -1.549922714712221,
          -0.04769669077299809,
          -0.13050979544132987,
          -1.3439932523872173,
          1.0161176621283028,
          0.22568439926107195,
          -1.1476615070110796,
          -0.5878368352865394,
          -0.238454936681599,
          1.0488599753027485,
          0.41705065187638135,
          0.9591773903586256,
          -1.3963563115579891,
          -0.9471610783203869,
          -1.2809323825176724,
          -0.2623463889448773,
          1.922978320621508,
          -1.2514220434971128,
          -0.9332967715496242,
          -2.17546410153974,
          1.4213253674153281,
          -0.18306555321065304,
          -0.8127274181256211,
          0.6210277858396868,
          0.6663719720223892,
          -0.21981687046950085,
          0.5232043156578947,
          1.3438976175293194,
          -0.40577896676652975,
          0.15087073518784777,
          0.14556340277596694,
          -0.8543803927110263,
          0.3939560017804806,
          0.16697514102575836,
          1.4058840116843392,
          0.4617877536009876,
          -1.5496801935445506,
          0.40769711945908343,
          0.2013369438901281,
          -1.1290823498859064,
          -0.6274727732033917,
          -1.4116748082720443,
          2.028067036128927,
          -0.06951536570078315,
          -0.39563856362339256,
          0.36572962567951944,
          0.2535557564640945,
          -0.592701403714788,
          -1.016758229530463,
          -0.6718010025615362,
          0.4816143914592303,
          1.6521186064972615
         ],
         "y": [
          -0.7711170330140517,
          1.1659865501781457,
          -0.4300031411390618,
          -0.0064054452231869525,
          0.3255392094205599,
          -0.13685000730308322,
          1.3525025871928738,
          -1.1801377046110144,
          0.13310747475016435,
          -0.2033148557477379,
          0.3985858186894083,
          -0.49967174213299737,
          1.1913324955300733,
          -0.5409914050548899,
          0.2925317562459309,
          0.8360201107862251,
          0.18953428471715764,
          0.7221778303206465,
          0.09852772787929902,
          1.796009975727251,
          -0.200185351958104,
          0.8157193832619373,
          -0.1933400843887641,
          1.8520919325558922,
          0.48262763547424403,
          1.0115524814755976,
          -0.1837829419916532,
          1.6131287615767995,
          -0.1399290536378075,
          -0.7323092982310786,
          1.2581832153458332,
          2.004782199651357,
          0.11020269700287254,
          -0.2922774652953534,
          -0.610069945082351,
          0.376461914005928,
          0.16718587783128971,
          -1.7189573746226192,
          -0.14068140841214077,
          1.8445706571915623,
          0.42144086795796415,
          1.0771232268496644,
          -0.4574308043895199,
          0.3920164861931366,
          -0.7846303851339075,
          1.1358033661771454,
          0.21984185047724739,
          0.7358382398522556,
          -0.5056098661504937,
          0.3322425140657405,
          -1.0908272200843647,
          0.16993227135855776,
          -2.575072543504373,
          0.7463990525576297,
          -1.3276249331690786,
          -0.19130903148690143,
          0.8888511368645764,
          -1.082223619851152,
          -0.8516922366750175,
          -0.35766740349138537,
          -0.39775115576126774,
          1.2904308354025236,
          -0.4728009835926884,
          0.221724087821145,
          0.3966944648807889,
          -1.2672930011199954,
          0.7680169250563473,
          1.1846181946893646,
          0.2475782480255661,
          0.4485690766180793,
          0.014156941787666289,
          1.661426609144996,
          -1.1495974510451685,
          -0.7147854341662139,
          -0.7107841704939886,
          1.3951354540947525,
          0.20924908903456235,
          -1.220282703449926,
          0.02557457473320523,
          1.6272253233610467,
          -0.4129400171413861,
          -0.30186719992529765,
          1.5662620317015126,
          -0.9805920717199543,
          1.7788994781114258,
          -0.07627410648600412,
          0.06756344975294166,
          0.15733547861968317,
          1.4312231564245395,
          0.5067488088525609,
          -1.3860888399177342,
          -0.35267863923003084,
          -0.9060374943352678,
          -1.470559344699383,
          -0.19821908459674648,
          -1.9227544591977332,
          0.2082346343431905,
          -1.2583923667864534,
          -0.8897041886487653,
          1.228047110760627
         ]
        }
       ],
       "layout": {
        "legend": {
         "bgcolor": "#F5F6F9",
         "font": {
          "color": "#4D5663"
         }
        },
        "paper_bgcolor": "#F5F6F9",
        "plot_bgcolor": "#F5F6F9",
        "template": {
         "data": {
          "bar": [
           {
            "error_x": {
             "color": "#2a3f5f"
            },
            "error_y": {
             "color": "#2a3f5f"
            },
            "marker": {
             "line": {
              "color": "#E5ECF6",
              "width": 0.5
             }
            },
            "type": "bar"
           }
          ],
          "barpolar": [
           {
            "marker": {
             "line": {
              "color": "#E5ECF6",
              "width": 0.5
             }
            },
            "type": "barpolar"
           }
          ],
          "carpet": [
           {
            "aaxis": {
             "endlinecolor": "#2a3f5f",
             "gridcolor": "white",
             "linecolor": "white",
             "minorgridcolor": "white",
             "startlinecolor": "#2a3f5f"
            },
            "baxis": {
             "endlinecolor": "#2a3f5f",
             "gridcolor": "white",
             "linecolor": "white",
             "minorgridcolor": "white",
             "startlinecolor": "#2a3f5f"
            },
            "type": "carpet"
           }
          ],
          "choropleth": [
           {
            "colorbar": {
             "outlinewidth": 0,
             "ticks": ""
            },
            "type": "choropleth"
           }
          ],
          "contour": [
           {
            "colorbar": {
             "outlinewidth": 0,
             "ticks": ""
            },
            "colorscale": [
             [
              0,
              "#0d0887"
             ],
             [
              0.1111111111111111,
              "#46039f"
             ],
             [
              0.2222222222222222,
              "#7201a8"
             ],
             [
              0.3333333333333333,
              "#9c179e"
             ],
             [
              0.4444444444444444,
              "#bd3786"
             ],
             [
              0.5555555555555556,
              "#d8576b"
             ],
             [
              0.6666666666666666,
              "#ed7953"
             ],
             [
              0.7777777777777778,
              "#fb9f3a"
             ],
             [
              0.8888888888888888,
              "#fdca26"
             ],
             [
              1,
              "#f0f921"
             ]
            ],
            "type": "contour"
           }
          ],
          "contourcarpet": [
           {
            "colorbar": {
             "outlinewidth": 0,
             "ticks": ""
            },
            "type": "contourcarpet"
           }
          ],
          "heatmap": [
           {
            "colorbar": {
             "outlinewidth": 0,
             "ticks": ""
            },
            "colorscale": [
             [
              0,
              "#0d0887"
             ],
             [
              0.1111111111111111,
              "#46039f"
             ],
             [
              0.2222222222222222,
              "#7201a8"
             ],
             [
              0.3333333333333333,
              "#9c179e"
             ],
             [
              0.4444444444444444,
              "#bd3786"
             ],
             [
              0.5555555555555556,
              "#d8576b"
             ],
             [
              0.6666666666666666,
              "#ed7953"
             ],
             [
              0.7777777777777778,
              "#fb9f3a"
             ],
             [
              0.8888888888888888,
              "#fdca26"
             ],
             [
              1,
              "#f0f921"
             ]
            ],
            "type": "heatmap"
           }
          ],
          "heatmapgl": [
           {
            "colorbar": {
             "outlinewidth": 0,
             "ticks": ""
            },
            "colorscale": [
             [
              0,
              "#0d0887"
             ],
             [
              0.1111111111111111,
              "#46039f"
             ],
             [
              0.2222222222222222,
              "#7201a8"
             ],
             [
              0.3333333333333333,
              "#9c179e"
             ],
             [
              0.4444444444444444,
              "#bd3786"
             ],
             [
              0.5555555555555556,
              "#d8576b"
             ],
             [
              0.6666666666666666,
              "#ed7953"
             ],
             [
              0.7777777777777778,
              "#fb9f3a"
             ],
             [
              0.8888888888888888,
              "#fdca26"
             ],
             [
              1,
              "#f0f921"
             ]
            ],
            "type": "heatmapgl"
           }
          ],
          "histogram": [
           {
            "marker": {
             "colorbar": {
              "outlinewidth": 0,
              "ticks": ""
             }
            },
            "type": "histogram"
           }
          ],
          "histogram2d": [
           {
            "colorbar": {
             "outlinewidth": 0,
             "ticks": ""
            },
            "colorscale": [
             [
              0,
              "#0d0887"
             ],
             [
              0.1111111111111111,
              "#46039f"
             ],
             [
              0.2222222222222222,
              "#7201a8"
             ],
             [
              0.3333333333333333,
              "#9c179e"
             ],
             [
              0.4444444444444444,
              "#bd3786"
             ],
             [
              0.5555555555555556,
              "#d8576b"
             ],
             [
              0.6666666666666666,
              "#ed7953"
             ],
             [
              0.7777777777777778,
              "#fb9f3a"
             ],
             [
              0.8888888888888888,
              "#fdca26"
             ],
             [
              1,
              "#f0f921"
             ]
            ],
            "type": "histogram2d"
           }
          ],
          "histogram2dcontour": [
           {
            "colorbar": {
             "outlinewidth": 0,
             "ticks": ""
            },
            "colorscale": [
             [
              0,
              "#0d0887"
             ],
             [
              0.1111111111111111,
              "#46039f"
             ],
             [
              0.2222222222222222,
              "#7201a8"
             ],
             [
              0.3333333333333333,
              "#9c179e"
             ],
             [
              0.4444444444444444,
              "#bd3786"
             ],
             [
              0.5555555555555556,
              "#d8576b"
             ],
             [
              0.6666666666666666,
              "#ed7953"
             ],
             [
              0.7777777777777778,
              "#fb9f3a"
             ],
             [
              0.8888888888888888,
              "#fdca26"
             ],
             [
              1,
              "#f0f921"
             ]
            ],
            "type": "histogram2dcontour"
           }
          ],
          "mesh3d": [
           {
            "colorbar": {
             "outlinewidth": 0,
             "ticks": ""
            },
            "type": "mesh3d"
           }
          ],
          "parcoords": [
           {
            "line": {
             "colorbar": {
              "outlinewidth": 0,
              "ticks": ""
             }
            },
            "type": "parcoords"
           }
          ],
          "pie": [
           {
            "automargin": true,
            "type": "pie"
           }
          ],
          "scatter": [
           {
            "marker": {
             "colorbar": {
              "outlinewidth": 0,
              "ticks": ""
             }
            },
            "type": "scatter"
           }
          ],
          "scatter3d": [
           {
            "line": {
             "colorbar": {
              "outlinewidth": 0,
              "ticks": ""
             }
            },
            "marker": {
             "colorbar": {
              "outlinewidth": 0,
              "ticks": ""
             }
            },
            "type": "scatter3d"
           }
          ],
          "scattercarpet": [
           {
            "marker": {
             "colorbar": {
              "outlinewidth": 0,
              "ticks": ""
             }
            },
            "type": "scattercarpet"
           }
          ],
          "scattergeo": [
           {
            "marker": {
             "colorbar": {
              "outlinewidth": 0,
              "ticks": ""
             }
            },
            "type": "scattergeo"
           }
          ],
          "scattergl": [
           {
            "marker": {
             "colorbar": {
              "outlinewidth": 0,
              "ticks": ""
             }
            },
            "type": "scattergl"
           }
          ],
          "scattermapbox": [
           {
            "marker": {
             "colorbar": {
              "outlinewidth": 0,
              "ticks": ""
             }
            },
            "type": "scattermapbox"
           }
          ],
          "scatterpolar": [
           {
            "marker": {
             "colorbar": {
              "outlinewidth": 0,
              "ticks": ""
             }
            },
            "type": "scatterpolar"
           }
          ],
          "scatterpolargl": [
           {
            "marker": {
             "colorbar": {
              "outlinewidth": 0,
              "ticks": ""
             }
            },
            "type": "scatterpolargl"
           }
          ],
          "scatterternary": [
           {
            "marker": {
             "colorbar": {
              "outlinewidth": 0,
              "ticks": ""
             }
            },
            "type": "scatterternary"
           }
          ],
          "surface": [
           {
            "colorbar": {
             "outlinewidth": 0,
             "ticks": ""
            },
            "colorscale": [
             [
              0,
              "#0d0887"
             ],
             [
              0.1111111111111111,
              "#46039f"
             ],
             [
              0.2222222222222222,
              "#7201a8"
             ],
             [
              0.3333333333333333,
              "#9c179e"
             ],
             [
              0.4444444444444444,
              "#bd3786"
             ],
             [
              0.5555555555555556,
              "#d8576b"
             ],
             [
              0.6666666666666666,
              "#ed7953"
             ],
             [
              0.7777777777777778,
              "#fb9f3a"
             ],
             [
              0.8888888888888888,
              "#fdca26"
             ],
             [
              1,
              "#f0f921"
             ]
            ],
            "type": "surface"
           }
          ],
          "table": [
           {
            "cells": {
             "fill": {
              "color": "#EBF0F8"
             },
             "line": {
              "color": "white"
             }
            },
            "header": {
             "fill": {
              "color": "#C8D4E3"
             },
             "line": {
              "color": "white"
             }
            },
            "type": "table"
           }
          ]
         },
         "layout": {
          "annotationdefaults": {
           "arrowcolor": "#2a3f5f",
           "arrowhead": 0,
           "arrowwidth": 1
          },
          "coloraxis": {
           "colorbar": {
            "outlinewidth": 0,
            "ticks": ""
           }
          },
          "colorscale": {
           "diverging": [
            [
             0,
             "#8e0152"
            ],
            [
             0.1,
             "#c51b7d"
            ],
            [
             0.2,
             "#de77ae"
            ],
            [
             0.3,
             "#f1b6da"
            ],
            [
             0.4,
             "#fde0ef"
            ],
            [
             0.5,
             "#f7f7f7"
            ],
            [
             0.6,
             "#e6f5d0"
            ],
            [
             0.7,
             "#b8e186"
            ],
            [
             0.8,
             "#7fbc41"
            ],
            [
             0.9,
             "#4d9221"
            ],
            [
             1,
             "#276419"
            ]
           ],
           "sequential": [
            [
             0,
             "#0d0887"
            ],
            [
             0.1111111111111111,
             "#46039f"
            ],
            [
             0.2222222222222222,
             "#7201a8"
            ],
            [
             0.3333333333333333,
             "#9c179e"
            ],
            [
             0.4444444444444444,
             "#bd3786"
            ],
            [
             0.5555555555555556,
             "#d8576b"
            ],
            [
             0.6666666666666666,
             "#ed7953"
            ],
            [
             0.7777777777777778,
             "#fb9f3a"
            ],
            [
             0.8888888888888888,
             "#fdca26"
            ],
            [
             1,
             "#f0f921"
            ]
           ],
           "sequentialminus": [
            [
             0,
             "#0d0887"
            ],
            [
             0.1111111111111111,
             "#46039f"
            ],
            [
             0.2222222222222222,
             "#7201a8"
            ],
            [
             0.3333333333333333,
             "#9c179e"
            ],
            [
             0.4444444444444444,
             "#bd3786"
            ],
            [
             0.5555555555555556,
             "#d8576b"
            ],
            [
             0.6666666666666666,
             "#ed7953"
            ],
            [
             0.7777777777777778,
             "#fb9f3a"
            ],
            [
             0.8888888888888888,
             "#fdca26"
            ],
            [
             1,
             "#f0f921"
            ]
           ]
          },
          "colorway": [
           "#636efa",
           "#EF553B",
           "#00cc96",
           "#ab63fa",
           "#FFA15A",
           "#19d3f3",
           "#FF6692",
           "#B6E880",
           "#FF97FF",
           "#FECB52"
          ],
          "font": {
           "color": "#2a3f5f"
          },
          "geo": {
           "bgcolor": "white",
           "lakecolor": "white",
           "landcolor": "#E5ECF6",
           "showlakes": true,
           "showland": true,
           "subunitcolor": "white"
          },
          "hoverlabel": {
           "align": "left"
          },
          "hovermode": "closest",
          "mapbox": {
           "style": "light"
          },
          "paper_bgcolor": "white",
          "plot_bgcolor": "#E5ECF6",
          "polar": {
           "angularaxis": {
            "gridcolor": "white",
            "linecolor": "white",
            "ticks": ""
           },
           "bgcolor": "#E5ECF6",
           "radialaxis": {
            "gridcolor": "white",
            "linecolor": "white",
            "ticks": ""
           }
          },
          "scene": {
           "xaxis": {
            "backgroundcolor": "#E5ECF6",
            "gridcolor": "white",
            "gridwidth": 2,
            "linecolor": "white",
            "showbackground": true,
            "ticks": "",
            "zerolinecolor": "white"
           },
           "yaxis": {
            "backgroundcolor": "#E5ECF6",
            "gridcolor": "white",
            "gridwidth": 2,
            "linecolor": "white",
            "showbackground": true,
            "ticks": "",
            "zerolinecolor": "white"
           },
           "zaxis": {
            "backgroundcolor": "#E5ECF6",
            "gridcolor": "white",
            "gridwidth": 2,
            "linecolor": "white",
            "showbackground": true,
            "ticks": "",
            "zerolinecolor": "white"
           }
          },
          "shapedefaults": {
           "line": {
            "color": "#2a3f5f"
           }
          },
          "ternary": {
           "aaxis": {
            "gridcolor": "white",
            "linecolor": "white",
            "ticks": ""
           },
           "baxis": {
            "gridcolor": "white",
            "linecolor": "white",
            "ticks": ""
           },
           "bgcolor": "#E5ECF6",
           "caxis": {
            "gridcolor": "white",
            "linecolor": "white",
            "ticks": ""
           }
          },
          "title": {
           "x": 0.05
          },
          "xaxis": {
           "automargin": true,
           "gridcolor": "white",
           "linecolor": "white",
           "ticks": "",
           "title": {
            "standoff": 15
           },
           "zerolinecolor": "white",
           "zerolinewidth": 2
          },
          "yaxis": {
           "automargin": true,
           "gridcolor": "white",
           "linecolor": "white",
           "ticks": "",
           "title": {
            "standoff": 15
           },
           "zerolinecolor": "white",
           "zerolinewidth": 2
          }
         }
        },
        "title": {
         "font": {
          "color": "#4D5663"
         }
        },
        "xaxis": {
         "gridcolor": "#E1E5ED",
         "showgrid": true,
         "tickfont": {
          "color": "#4D5663"
         },
         "title": {
          "font": {
           "color": "#4D5663"
          },
          "text": ""
         },
         "zerolinecolor": "#E1E5ED"
        },
        "yaxis": {
         "gridcolor": "#E1E5ED",
         "showgrid": true,
         "tickfont": {
          "color": "#4D5663"
         },
         "title": {
          "font": {
           "color": "#4D5663"
          },
          "text": ""
         },
         "zerolinecolor": "#E1E5ED"
        }
       }
      },
      "text/html": "<div>\n        \n        \n            <div id=\"6c53d03c-75be-47c2-88cc-4c6645bcad7c\" class=\"plotly-graph-div\" style=\"height:525px; width:100%;\"></div>\n            <script type=\"text/javascript\">\n                require([\"plotly\"], function(Plotly) {\n                    window.PLOTLYENV=window.PLOTLYENV || {};\n                    window.PLOTLYENV.BASE_URL='https://plot.ly';\n                    \n                if (document.getElementById(\"6c53d03c-75be-47c2-88cc-4c6645bcad7c\")) {\n                    Plotly.newPlot(\n                        '6c53d03c-75be-47c2-88cc-4c6645bcad7c',\n                        [{\"marker\": {\"color\": [\"rgb(255, 153, 51)\", \"rgb(55, 128, 191)\", \"rgb(50, 171, 96)\", \"rgb(128, 0, 128)\", \"rgb(219, 64, 82)\", \"rgb(0, 128, 128)\", \"rgb(255, 255, 51)\", \"rgb(128, 128, 0)\", \"rgb(251, 128, 114)\", \"rgb(128, 177, 211)\"], \"line\": {\"width\": 1.3}, \"size\": [84, 77, 64, 67, 71, 39, 99, 67, 79, 94, 56, 76, 84, 43, 89, 80, 62, 83, 90, 46, 99, 65, 61, 12, 82, 97, 75, 56, 72, 87, 86, 67, 96, 61, 79, 52, 88, 44, 71, 100, 82, 56, 76, 72, 76, 69, 94, 83, 72, 45, 72, 64, 12, 78, 53, 56, 83, 41, 49, 82, 70, 58, 101, 107, 91, 60, 97, 112, 73, 71, 70, 91, 76, 48, 74, 58, 50, 87, 73, 45, 77, 57, 81, 45, 68, 69, 45, 70, 58, 68, 60, 59, 85, 59, 93, 74, 49, 108, 93, 81], \"symbol\": \"circle\"}, \"mode\": \"markers\", \"text\": \"\", \"type\": \"scatter\", \"x\": [-0.20959528449674006, 1.0313395209143585, 1.1694348176263178, 1.2609299556386497, 0.9991395033571964, -2.605096456045387, 0.4223200564889698, -0.1957775306388394, -0.5581225730329871, 0.31374974544598283, -0.1094457539933965, 0.8490037964381496, -0.1924499072203981, -0.7241729098994564, -1.537635679731419, -0.17928390076971523, -0.4654379085350427, 0.14536975247776704, -0.4107308856713606, -0.31692807918550775, 0.8541795096845612, -0.5411685133468052, 1.6526300592340684, -0.3970649611176773, 0.5537155926901607, 0.09527358902101514, 0.14643308884471226, -0.5952788954061516, 1.8391170023050945, 0.8599789829121285, 0.14419695368764932, -3.7442569633057623, -0.3133723448373529, -0.16683141237592103, 1.6188408185310394, 0.6007304465359995, 0.15187571991871177, 0.07909127391112418, -0.19527530170401872, -1.7720594581677191, 0.010435130962778887, -0.6984897154095291, 0.298475241933431, -1.0324556631267123, -0.015196673014035973, 0.24940100375673913, -1.5609631116868825, 2.0752899982947026, -1.549922714712221, -0.04769669077299809, -0.13050979544132987, -1.3439932523872173, 1.0161176621283028, 0.22568439926107195, -1.1476615070110796, -0.5878368352865394, -0.238454936681599, 1.0488599753027485, 0.41705065187638135, 0.9591773903586256, -1.3963563115579891, -0.9471610783203869, -1.2809323825176724, -0.2623463889448773, 1.922978320621508, -1.2514220434971128, -0.9332967715496242, -2.17546410153974, 1.4213253674153281, -0.18306555321065304, -0.8127274181256211, 0.6210277858396868, 0.6663719720223892, -0.21981687046950085, 0.5232043156578947, 1.3438976175293194, -0.40577896676652975, 0.15087073518784777, 0.14556340277596694, -0.8543803927110263, 0.3939560017804806, 0.16697514102575836, 1.4058840116843392, 0.4617877536009876, -1.5496801935445506, 0.40769711945908343, 0.2013369438901281, -1.1290823498859064, -0.6274727732033917, -1.4116748082720443, 2.028067036128927, -0.06951536570078315, -0.39563856362339256, 0.36572962567951944, 0.2535557564640945, -0.592701403714788, -1.016758229530463, -0.6718010025615362, 0.4816143914592303, 1.6521186064972615], \"y\": [-0.7711170330140517, 1.1659865501781457, -0.4300031411390618, -0.0064054452231869525, 0.3255392094205599, -0.13685000730308322, 1.3525025871928738, -1.1801377046110144, 0.13310747475016435, -0.2033148557477379, 0.3985858186894083, -0.49967174213299737, 1.1913324955300733, -0.5409914050548899, 0.2925317562459309, 0.8360201107862251, 0.18953428471715764, 0.7221778303206465, 0.09852772787929902, 1.796009975727251, -0.200185351958104, 0.8157193832619373, -0.1933400843887641, 1.8520919325558922, 0.48262763547424403, 1.0115524814755976, -0.1837829419916532, 1.6131287615767995, -0.1399290536378075, -0.7323092982310786, 1.2581832153458332, 2.004782199651357, 0.11020269700287254, -0.2922774652953534, -0.610069945082351, 0.376461914005928, 0.16718587783128971, -1.7189573746226192, -0.14068140841214077, 1.8445706571915623, 0.42144086795796415, 1.0771232268496644, -0.4574308043895199, 0.3920164861931366, -0.7846303851339075, 1.1358033661771454, 0.21984185047724739, 0.7358382398522556, -0.5056098661504937, 0.3322425140657405, -1.0908272200843647, 0.16993227135855776, -2.575072543504373, 0.7463990525576297, -1.3276249331690786, -0.19130903148690143, 0.8888511368645764, -1.082223619851152, -0.8516922366750175, -0.35766740349138537, -0.39775115576126774, 1.2904308354025236, -0.4728009835926884, 0.221724087821145, 0.3966944648807889, -1.2672930011199954, 0.7680169250563473, 1.1846181946893646, 0.2475782480255661, 0.4485690766180793, 0.014156941787666289, 1.661426609144996, -1.1495974510451685, -0.7147854341662139, -0.7107841704939886, 1.3951354540947525, 0.20924908903456235, -1.220282703449926, 0.02557457473320523, 1.6272253233610467, -0.4129400171413861, -0.30186719992529765, 1.5662620317015126, -0.9805920717199543, 1.7788994781114258, -0.07627410648600412, 0.06756344975294166, 0.15733547861968317, 1.4312231564245395, 0.5067488088525609, -1.3860888399177342, -0.35267863923003084, -0.9060374943352678, -1.470559344699383, -0.19821908459674648, -1.9227544591977332, 0.2082346343431905, -1.2583923667864534, -0.8897041886487653, 1.228047110760627]}],\n                        {\"legend\": {\"bgcolor\": \"#F5F6F9\", \"font\": {\"color\": \"#4D5663\"}}, \"paper_bgcolor\": \"#F5F6F9\", \"plot_bgcolor\": \"#F5F6F9\", \"template\": {\"data\": {\"bar\": [{\"error_x\": {\"color\": \"#2a3f5f\"}, \"error_y\": {\"color\": \"#2a3f5f\"}, \"marker\": {\"line\": {\"color\": \"#E5ECF6\", \"width\": 0.5}}, \"type\": \"bar\"}], \"barpolar\": [{\"marker\": {\"line\": {\"color\": \"#E5ECF6\", \"width\": 0.5}}, \"type\": \"barpolar\"}], \"carpet\": [{\"aaxis\": {\"endlinecolor\": \"#2a3f5f\", \"gridcolor\": \"white\", \"linecolor\": \"white\", \"minorgridcolor\": \"white\", \"startlinecolor\": \"#2a3f5f\"}, \"baxis\": {\"endlinecolor\": \"#2a3f5f\", \"gridcolor\": \"white\", \"linecolor\": \"white\", \"minorgridcolor\": \"white\", \"startlinecolor\": \"#2a3f5f\"}, \"type\": \"carpet\"}], \"choropleth\": [{\"colorbar\": {\"outlinewidth\": 0, \"ticks\": \"\"}, \"type\": \"choropleth\"}], \"contour\": [{\"colorbar\": {\"outlinewidth\": 0, \"ticks\": \"\"}, \"colorscale\": [[0.0, \"#0d0887\"], [0.1111111111111111, \"#46039f\"], [0.2222222222222222, \"#7201a8\"], [0.3333333333333333, \"#9c179e\"], [0.4444444444444444, \"#bd3786\"], [0.5555555555555556, \"#d8576b\"], [0.6666666666666666, \"#ed7953\"], [0.7777777777777778, \"#fb9f3a\"], [0.8888888888888888, \"#fdca26\"], [1.0, \"#f0f921\"]], \"type\": \"contour\"}], \"contourcarpet\": [{\"colorbar\": {\"outlinewidth\": 0, \"ticks\": \"\"}, \"type\": \"contourcarpet\"}], \"heatmap\": [{\"colorbar\": {\"outlinewidth\": 0, \"ticks\": \"\"}, \"colorscale\": [[0.0, \"#0d0887\"], [0.1111111111111111, \"#46039f\"], [0.2222222222222222, \"#7201a8\"], [0.3333333333333333, \"#9c179e\"], [0.4444444444444444, \"#bd3786\"], [0.5555555555555556, \"#d8576b\"], [0.6666666666666666, \"#ed7953\"], [0.7777777777777778, \"#fb9f3a\"], [0.8888888888888888, \"#fdca26\"], [1.0, \"#f0f921\"]], \"type\": \"heatmap\"}], \"heatmapgl\": [{\"colorbar\": {\"outlinewidth\": 0, \"ticks\": \"\"}, \"colorscale\": [[0.0, \"#0d0887\"], [0.1111111111111111, \"#46039f\"], [0.2222222222222222, \"#7201a8\"], [0.3333333333333333, \"#9c179e\"], [0.4444444444444444, \"#bd3786\"], [0.5555555555555556, \"#d8576b\"], [0.6666666666666666, \"#ed7953\"], [0.7777777777777778, \"#fb9f3a\"], [0.8888888888888888, \"#fdca26\"], [1.0, \"#f0f921\"]], \"type\": \"heatmapgl\"}], \"histogram\": [{\"marker\": {\"colorbar\": {\"outlinewidth\": 0, \"ticks\": \"\"}}, \"type\": \"histogram\"}], \"histogram2d\": [{\"colorbar\": {\"outlinewidth\": 0, \"ticks\": \"\"}, \"colorscale\": [[0.0, \"#0d0887\"], [0.1111111111111111, \"#46039f\"], [0.2222222222222222, \"#7201a8\"], [0.3333333333333333, \"#9c179e\"], [0.4444444444444444, \"#bd3786\"], [0.5555555555555556, \"#d8576b\"], [0.6666666666666666, \"#ed7953\"], [0.7777777777777778, \"#fb9f3a\"], [0.8888888888888888, \"#fdca26\"], [1.0, \"#f0f921\"]], \"type\": \"histogram2d\"}], \"histogram2dcontour\": [{\"colorbar\": {\"outlinewidth\": 0, \"ticks\": \"\"}, \"colorscale\": [[0.0, \"#0d0887\"], [0.1111111111111111, \"#46039f\"], [0.2222222222222222, \"#7201a8\"], [0.3333333333333333, \"#9c179e\"], [0.4444444444444444, \"#bd3786\"], [0.5555555555555556, \"#d8576b\"], [0.6666666666666666, \"#ed7953\"], [0.7777777777777778, \"#fb9f3a\"], [0.8888888888888888, \"#fdca26\"], [1.0, \"#f0f921\"]], \"type\": \"histogram2dcontour\"}], \"mesh3d\": [{\"colorbar\": {\"outlinewidth\": 0, \"ticks\": \"\"}, \"type\": \"mesh3d\"}], \"parcoords\": [{\"line\": {\"colorbar\": {\"outlinewidth\": 0, \"ticks\": \"\"}}, \"type\": \"parcoords\"}], \"pie\": [{\"automargin\": true, \"type\": \"pie\"}], \"scatter\": [{\"marker\": {\"colorbar\": {\"outlinewidth\": 0, \"ticks\": \"\"}}, \"type\": \"scatter\"}], \"scatter3d\": [{\"line\": {\"colorbar\": {\"outlinewidth\": 0, \"ticks\": \"\"}}, \"marker\": {\"colorbar\": {\"outlinewidth\": 0, \"ticks\": \"\"}}, \"type\": \"scatter3d\"}], \"scattercarpet\": [{\"marker\": {\"colorbar\": {\"outlinewidth\": 0, \"ticks\": \"\"}}, \"type\": \"scattercarpet\"}], \"scattergeo\": [{\"marker\": {\"colorbar\": {\"outlinewidth\": 0, \"ticks\": \"\"}}, \"type\": \"scattergeo\"}], \"scattergl\": [{\"marker\": {\"colorbar\": {\"outlinewidth\": 0, \"ticks\": \"\"}}, \"type\": \"scattergl\"}], \"scattermapbox\": [{\"marker\": {\"colorbar\": {\"outlinewidth\": 0, \"ticks\": \"\"}}, \"type\": \"scattermapbox\"}], \"scatterpolar\": [{\"marker\": {\"colorbar\": {\"outlinewidth\": 0, \"ticks\": \"\"}}, \"type\": \"scatterpolar\"}], \"scatterpolargl\": [{\"marker\": {\"colorbar\": {\"outlinewidth\": 0, \"ticks\": \"\"}}, \"type\": \"scatterpolargl\"}], \"scatterternary\": [{\"marker\": {\"colorbar\": {\"outlinewidth\": 0, \"ticks\": \"\"}}, \"type\": \"scatterternary\"}], \"surface\": [{\"colorbar\": {\"outlinewidth\": 0, \"ticks\": \"\"}, \"colorscale\": [[0.0, \"#0d0887\"], [0.1111111111111111, \"#46039f\"], [0.2222222222222222, \"#7201a8\"], [0.3333333333333333, \"#9c179e\"], [0.4444444444444444, \"#bd3786\"], [0.5555555555555556, \"#d8576b\"], [0.6666666666666666, \"#ed7953\"], [0.7777777777777778, \"#fb9f3a\"], [0.8888888888888888, \"#fdca26\"], [1.0, \"#f0f921\"]], \"type\": \"surface\"}], \"table\": [{\"cells\": {\"fill\": {\"color\": \"#EBF0F8\"}, \"line\": {\"color\": \"white\"}}, \"header\": {\"fill\": {\"color\": \"#C8D4E3\"}, \"line\": {\"color\": \"white\"}}, \"type\": \"table\"}]}, \"layout\": {\"annotationdefaults\": {\"arrowcolor\": \"#2a3f5f\", \"arrowhead\": 0, \"arrowwidth\": 1}, \"coloraxis\": {\"colorbar\": {\"outlinewidth\": 0, \"ticks\": \"\"}}, \"colorscale\": {\"diverging\": [[0, \"#8e0152\"], [0.1, \"#c51b7d\"], [0.2, \"#de77ae\"], [0.3, \"#f1b6da\"], [0.4, \"#fde0ef\"], [0.5, \"#f7f7f7\"], [0.6, \"#e6f5d0\"], [0.7, \"#b8e186\"], [0.8, \"#7fbc41\"], [0.9, \"#4d9221\"], [1, \"#276419\"]], \"sequential\": [[0.0, \"#0d0887\"], [0.1111111111111111, \"#46039f\"], [0.2222222222222222, \"#7201a8\"], [0.3333333333333333, \"#9c179e\"], [0.4444444444444444, \"#bd3786\"], [0.5555555555555556, \"#d8576b\"], [0.6666666666666666, \"#ed7953\"], [0.7777777777777778, \"#fb9f3a\"], [0.8888888888888888, \"#fdca26\"], [1.0, \"#f0f921\"]], \"sequentialminus\": [[0.0, \"#0d0887\"], [0.1111111111111111, \"#46039f\"], [0.2222222222222222, \"#7201a8\"], [0.3333333333333333, \"#9c179e\"], [0.4444444444444444, \"#bd3786\"], [0.5555555555555556, \"#d8576b\"], [0.6666666666666666, \"#ed7953\"], [0.7777777777777778, \"#fb9f3a\"], [0.8888888888888888, \"#fdca26\"], [1.0, \"#f0f921\"]]}, \"colorway\": [\"#636efa\", \"#EF553B\", \"#00cc96\", \"#ab63fa\", \"#FFA15A\", \"#19d3f3\", \"#FF6692\", \"#B6E880\", \"#FF97FF\", \"#FECB52\"], \"font\": {\"color\": \"#2a3f5f\"}, \"geo\": {\"bgcolor\": \"white\", \"lakecolor\": \"white\", \"landcolor\": \"#E5ECF6\", \"showlakes\": true, \"showland\": true, \"subunitcolor\": \"white\"}, \"hoverlabel\": {\"align\": \"left\"}, \"hovermode\": \"closest\", \"mapbox\": {\"style\": \"light\"}, \"paper_bgcolor\": \"white\", \"plot_bgcolor\": \"#E5ECF6\", \"polar\": {\"angularaxis\": {\"gridcolor\": \"white\", \"linecolor\": \"white\", \"ticks\": \"\"}, \"bgcolor\": \"#E5ECF6\", \"radialaxis\": {\"gridcolor\": \"white\", \"linecolor\": \"white\", \"ticks\": \"\"}}, \"scene\": {\"xaxis\": {\"backgroundcolor\": \"#E5ECF6\", \"gridcolor\": \"white\", \"gridwidth\": 2, \"linecolor\": \"white\", \"showbackground\": true, \"ticks\": \"\", \"zerolinecolor\": \"white\"}, \"yaxis\": {\"backgroundcolor\": \"#E5ECF6\", \"gridcolor\": \"white\", \"gridwidth\": 2, \"linecolor\": \"white\", \"showbackground\": true, \"ticks\": \"\", \"zerolinecolor\": \"white\"}, \"zaxis\": {\"backgroundcolor\": \"#E5ECF6\", \"gridcolor\": \"white\", \"gridwidth\": 2, \"linecolor\": \"white\", \"showbackground\": true, \"ticks\": \"\", \"zerolinecolor\": \"white\"}}, \"shapedefaults\": {\"line\": {\"color\": \"#2a3f5f\"}}, \"ternary\": {\"aaxis\": {\"gridcolor\": \"white\", \"linecolor\": \"white\", \"ticks\": \"\"}, \"baxis\": {\"gridcolor\": \"white\", \"linecolor\": \"white\", \"ticks\": \"\"}, \"bgcolor\": \"#E5ECF6\", \"caxis\": {\"gridcolor\": \"white\", \"linecolor\": \"white\", \"ticks\": \"\"}}, \"title\": {\"x\": 0.05}, \"xaxis\": {\"automargin\": true, \"gridcolor\": \"white\", \"linecolor\": \"white\", \"ticks\": \"\", \"title\": {\"standoff\": 15}, \"zerolinecolor\": \"white\", \"zerolinewidth\": 2}, \"yaxis\": {\"automargin\": true, \"gridcolor\": \"white\", \"linecolor\": \"white\", \"ticks\": \"\", \"title\": {\"standoff\": 15}, \"zerolinecolor\": \"white\", \"zerolinewidth\": 2}}}, \"title\": {\"font\": {\"color\": \"#4D5663\"}}, \"xaxis\": {\"gridcolor\": \"#E1E5ED\", \"showgrid\": true, \"tickfont\": {\"color\": \"#4D5663\"}, \"title\": {\"font\": {\"color\": \"#4D5663\"}, \"text\": \"\"}, \"zerolinecolor\": \"#E1E5ED\"}, \"yaxis\": {\"gridcolor\": \"#E1E5ED\", \"showgrid\": true, \"tickfont\": {\"color\": \"#4D5663\"}, \"title\": {\"font\": {\"color\": \"#4D5663\"}, \"text\": \"\"}, \"zerolinecolor\": \"#E1E5ED\"}},\n                        {\"showLink\": true, \"linkText\": \"Export to plot.ly\", \"plotlyServerURL\": \"https://plot.ly\", \"responsive\": true}\n                    ).then(function(){\n                            \nvar gd = document.getElementById('6c53d03c-75be-47c2-88cc-4c6645bcad7c');\nvar x = new MutationObserver(function (mutations, observer) {{\n        var display = window.getComputedStyle(gd).display;\n        if (!display || display === 'none') {{\n            console.log([gd, 'removed!']);\n            Plotly.purge(gd);\n            observer.disconnect();\n        }}\n}});\n\n// Listen for the removal of the full notebook cells\nvar notebookContainer = gd.closest('#notebook-container');\nif (notebookContainer) {{\n    x.observe(notebookContainer, {childList: true});\n}}\n\n// Listen for the clearing of the current output cell\nvar outputEl = gd.closest('.output');\nif (outputEl) {{\n    x.observe(outputEl, {childList: true});\n}}\n\n                        })\n                };\n                });\n            </script>\n        </div>"
     },
     "metadata": {}
    }
   ],
   "source": [
    "# bubble plot\n",
    "df.iplot(kind='bubble',x='A',y='B',size='C')"
   ]
  },
  {
   "cell_type": "code",
   "execution_count": 53,
   "metadata": {},
   "outputs": [
    {
     "output_type": "display_data",
     "data": {
      "application/vnd.plotly.v1+json": {
       "config": {
        "linkText": "Export to plot.ly",
        "plotlyServerURL": "https://plot.ly",
        "showLink": true
       },
       "data": [
        {
         "histfunc": "count",
         "histnorm": "",
         "marker": {
          "color": "rgba(255, 153, 51, 1.0)",
          "line": {
           "color": "#4D5663",
           "width": 1.3
          }
         },
         "name": "A",
         "nbinsx": 10,
         "opacity": 0.8,
         "orientation": "v",
         "type": "histogram",
         "x": [
          -0.20959528449674006,
          1.0313395209143585,
          1.1694348176263178,
          1.2609299556386497,
          0.9991395033571964,
          -2.605096456045387,
          0.4223200564889698,
          -0.1957775306388394,
          -0.5581225730329871,
          0.31374974544598283,
          -0.1094457539933965,
          0.8490037964381496,
          -0.1924499072203981,
          -0.7241729098994564,
          -1.537635679731419,
          -0.17928390076971523,
          -0.4654379085350427,
          0.14536975247776704,
          -0.4107308856713606,
          -0.31692807918550775,
          0.8541795096845612,
          -0.5411685133468052,
          1.6526300592340684,
          -0.3970649611176773,
          0.5537155926901607,
          0.09527358902101514,
          0.14643308884471226,
          -0.5952788954061516,
          1.8391170023050945,
          0.8599789829121285,
          0.14419695368764932,
          -3.7442569633057623,
          -0.3133723448373529,
          -0.16683141237592103,
          1.6188408185310394,
          0.6007304465359995,
          0.15187571991871177,
          0.07909127391112418,
          -0.19527530170401872,
          -1.7720594581677191,
          0.010435130962778887,
          -0.6984897154095291,
          0.298475241933431,
          -1.0324556631267123,
          -0.015196673014035973,
          0.24940100375673913,
          -1.5609631116868825,
          2.0752899982947026,
          -1.549922714712221,
          -0.04769669077299809,
          -0.13050979544132987,
          -1.3439932523872173,
          1.0161176621283028,
          0.22568439926107195,
          -1.1476615070110796,
          -0.5878368352865394,
          -0.238454936681599,
          1.0488599753027485,
          0.41705065187638135,
          0.9591773903586256,
          -1.3963563115579891,
          -0.9471610783203869,
          -1.2809323825176724,
          -0.2623463889448773,
          1.922978320621508,
          -1.2514220434971128,
          -0.9332967715496242,
          -2.17546410153974,
          1.4213253674153281,
          -0.18306555321065304,
          -0.8127274181256211,
          0.6210277858396868,
          0.6663719720223892,
          -0.21981687046950085,
          0.5232043156578947,
          1.3438976175293194,
          -0.40577896676652975,
          0.15087073518784777,
          0.14556340277596694,
          -0.8543803927110263,
          0.3939560017804806,
          0.16697514102575836,
          1.4058840116843392,
          0.4617877536009876,
          -1.5496801935445506,
          0.40769711945908343,
          0.2013369438901281,
          -1.1290823498859064,
          -0.6274727732033917,
          -1.4116748082720443,
          2.028067036128927,
          -0.06951536570078315,
          -0.39563856362339256,
          0.36572962567951944,
          0.2535557564640945,
          -0.592701403714788,
          -1.016758229530463,
          -0.6718010025615362,
          0.4816143914592303,
          1.6521186064972615
         ],
         "xaxis": "x",
         "yaxis": "y"
        },
        {
         "line": {
          "color": "rgba(128, 128, 128, 1.0)",
          "dash": "solid",
          "shape": "linear",
          "width": 1.3
         },
         "marker": {
          "size": 2,
          "symbol": "circle"
         },
         "mode": "markers",
         "name": "A",
         "text": "",
         "type": "scatter",
         "x": [
          -0.7711170330140517,
          1.1659865501781457,
          -0.4300031411390618,
          -0.0064054452231869525,
          0.3255392094205599,
          -0.13685000730308322,
          1.3525025871928738,
          -1.1801377046110144,
          0.13310747475016435,
          -0.2033148557477379,
          0.3985858186894083,
          -0.49967174213299737,
          1.1913324955300733,
          -0.5409914050548899,
          0.2925317562459309,
          0.8360201107862251,
          0.18953428471715764,
          0.7221778303206465,
          0.09852772787929902,
          1.796009975727251,
          -0.200185351958104,
          0.8157193832619373,
          -0.1933400843887641,
          1.8520919325558922,
          0.48262763547424403,
          1.0115524814755976,
          -0.1837829419916532,
          1.6131287615767995,
          -0.1399290536378075,
          -0.7323092982310786,
          1.2581832153458332,
          2.004782199651357,
          0.11020269700287254,
          -0.2922774652953534,
          -0.610069945082351,
          0.376461914005928,
          0.16718587783128971,
          -1.7189573746226192,
          -0.14068140841214077,
          1.8445706571915623,
          0.42144086795796415,
          1.0771232268496644,
          -0.4574308043895199,
          0.3920164861931366,
          -0.7846303851339075,
          1.1358033661771454,
          0.21984185047724739,
          0.7358382398522556,
          -0.5056098661504937,
          0.3322425140657405,
          -1.0908272200843647,
          0.16993227135855776,
          -2.575072543504373,
          0.7463990525576297,
          -1.3276249331690786,
          -0.19130903148690143,
          0.8888511368645764,
          -1.082223619851152,
          -0.8516922366750175,
          -0.35766740349138537,
          -0.39775115576126774,
          1.2904308354025236,
          -0.4728009835926884,
          0.221724087821145,
          0.3966944648807889,
          -1.2672930011199954,
          0.7680169250563473,
          1.1846181946893646,
          0.2475782480255661,
          0.4485690766180793,
          0.014156941787666289,
          1.661426609144996,
          -1.1495974510451685,
          -0.7147854341662139,
          -0.7107841704939886,
          1.3951354540947525,
          0.20924908903456235,
          -1.220282703449926,
          0.02557457473320523,
          1.6272253233610467,
          -0.4129400171413861,
          -0.30186719992529765,
          1.5662620317015126,
          -0.9805920717199543,
          1.7788994781114258,
          -0.07627410648600412,
          0.06756344975294166,
          0.15733547861968317,
          1.4312231564245395,
          0.5067488088525609,
          -1.3860888399177342,
          -0.35267863923003084,
          -0.9060374943352678,
          -1.470559344699383,
          -0.19821908459674648,
          -1.9227544591977332,
          0.2082346343431905,
          -1.2583923667864534,
          -0.8897041886487653,
          1.228047110760627
         ],
         "xaxis": "x2",
         "y": [
          -0.20959528449674006,
          1.0313395209143585,
          1.1694348176263178,
          1.2609299556386497,
          0.9991395033571964,
          -2.605096456045387,
          0.4223200564889698,
          -0.1957775306388394,
          -0.5581225730329871,
          0.31374974544598283,
          -0.1094457539933965,
          0.8490037964381496,
          -0.1924499072203981,
          -0.7241729098994564,
          -1.537635679731419,
          -0.17928390076971523,
          -0.4654379085350427,
          0.14536975247776704,
          -0.4107308856713606,
          -0.31692807918550775,
          0.8541795096845612,
          -0.5411685133468052,
          1.6526300592340684,
          -0.3970649611176773,
          0.5537155926901607,
          0.09527358902101514,
          0.14643308884471226,
          -0.5952788954061516,
          1.8391170023050945,
          0.8599789829121285,
          0.14419695368764932,
          -3.7442569633057623,
          -0.3133723448373529,
          -0.16683141237592103,
          1.6188408185310394,
          0.6007304465359995,
          0.15187571991871177,
          0.07909127391112418,
          -0.19527530170401872,
          -1.7720594581677191,
          0.010435130962778887,
          -0.6984897154095291,
          0.298475241933431,
          -1.0324556631267123,
          -0.015196673014035973,
          0.24940100375673913,
          -1.5609631116868825,
          2.0752899982947026,
          -1.549922714712221,
          -0.04769669077299809,
          -0.13050979544132987,
          -1.3439932523872173,
          1.0161176621283028,
          0.22568439926107195,
          -1.1476615070110796,
          -0.5878368352865394,
          -0.238454936681599,
          1.0488599753027485,
          0.41705065187638135,
          0.9591773903586256,
          -1.3963563115579891,
          -0.9471610783203869,
          -1.2809323825176724,
          -0.2623463889448773,
          1.922978320621508,
          -1.2514220434971128,
          -0.9332967715496242,
          -2.17546410153974,
          1.4213253674153281,
          -0.18306555321065304,
          -0.8127274181256211,
          0.6210277858396868,
          0.6663719720223892,
          -0.21981687046950085,
          0.5232043156578947,
          1.3438976175293194,
          -0.40577896676652975,
          0.15087073518784777,
          0.14556340277596694,
          -0.8543803927110263,
          0.3939560017804806,
          0.16697514102575836,
          1.4058840116843392,
          0.4617877536009876,
          -1.5496801935445506,
          0.40769711945908343,
          0.2013369438901281,
          -1.1290823498859064,
          -0.6274727732033917,
          -1.4116748082720443,
          2.028067036128927,
          -0.06951536570078315,
          -0.39563856362339256,
          0.36572962567951944,
          0.2535557564640945,
          -0.592701403714788,
          -1.016758229530463,
          -0.6718010025615362,
          0.4816143914592303,
          1.6521186064972615
         ],
         "yaxis": "y2"
        },
        {
         "line": {
          "color": "rgba(128, 128, 128, 1.0)",
          "dash": "solid",
          "shape": "linear",
          "width": 1.3
         },
         "marker": {
          "size": 2,
          "symbol": "circle"
         },
         "mode": "markers",
         "name": "A",
         "text": "",
         "type": "scatter",
         "x": [
          0.7037872124040211,
          0.3615164419960923,
          -0.25796356732018233,
          -0.14649850149540966,
          0.06960711828656779,
          -1.4797956295623294,
          1.4093816343792605,
          -0.12292851084529191,
          0.4457087614037588,
          1.1492393267257108,
          -0.6607372423425167,
          0.3286133234450696,
          0.6844361201743363,
          -1.2821564245328332,
          0.9336034745372883,
          0.5170244180169414,
          -0.36322526788529785,
          0.6326928489564475,
          0.9778826032160992,
          -1.1196178565981039,
          1.4220243758680577,
          -0.2359625190926601,
          -0.3856235058789063,
          -2.7714681723669736,
          0.5993442710286011,
          1.313751851859977,
          0.23812170074033143,
          -0.65276402808905,
          0.11650216296705335,
          0.848740310341407,
          0.7721043520227766,
          -0.11964967401429785,
          1.2833545963721653,
          -0.39028489654013715,
          0.44929433604559843,
          -0.8500207432254455,
          0.8668240055266053,
          -1.2182376917418116,
          0.06141342404514145,
          1.4478502562191544,
          0.5737480413240534,
          -0.6552953362360905,
          0.2983589390319965,
          0.09373422462001138,
          0.326302217729746,
          -0.022651186551612242,
          1.1572903812795914,
          0.6572929704731219,
          0.11371203404668388,
          -1.1595505702679845,
          0.11454164413476907,
          -0.2621559996633682,
          -2.733659449977352,
          0.4255699111247708,
          -0.780290504106477,
          -0.6628857830638748,
          0.6275755736024996,
          -1.3753939740673904,
          -0.9957235259791135,
          0.5932914399458847,
          0.024589120124802747,
          -0.5449197929959385,
          1.506095501044284,
          1.7837889696517968,
          1.0008351607024597,
          -0.46168031979142726,
          1.3271782726734083,
          2.001032828511582,
          0.18104520740451863,
          0.07607278043933337,
          0.012150073505268375,
          1.0314888401570066,
          0.3244018691322532,
          -1.0437563740670959,
          0.22308120034793186,
          -0.5687628668009141,
          -0.9127930415704587,
          0.8458472877920619,
          0.14415454796481716,
          -1.1736709357560084,
          0.34313864995514465,
          -0.602634191959899,
          0.5563158524785552,
          -1.165343612807023,
          -0.08173268124689238,
          -0.036486809060192464,
          -1.1904778317362985,
          -0.0022018469953823823,
          -0.5694555209780752,
          -0.05308030079432449,
          -0.46007973236753213,
          -0.4986614954268612,
          0.7260189289588955,
          -0.4936196250824067,
          1.1019966482757366,
          0.23198945850229563,
          -1.0017726051335556,
          1.8466841646874763,
          1.1291136907334574,
          0.5682481935400014
         ],
         "xaxis": "x3",
         "y": [
          -0.20959528449674006,
          1.0313395209143585,
          1.1694348176263178,
          1.2609299556386497,
          0.9991395033571964,
          -2.605096456045387,
          0.4223200564889698,
          -0.1957775306388394,
          -0.5581225730329871,
          0.31374974544598283,
          -0.1094457539933965,
          0.8490037964381496,
          -0.1924499072203981,
          -0.7241729098994564,
          -1.537635679731419,
          -0.17928390076971523,
          -0.4654379085350427,
          0.14536975247776704,
          -0.4107308856713606,
          -0.31692807918550775,
          0.8541795096845612,
          -0.5411685133468052,
          1.6526300592340684,
          -0.3970649611176773,
          0.5537155926901607,
          0.09527358902101514,
          0.14643308884471226,
          -0.5952788954061516,
          1.8391170023050945,
          0.8599789829121285,
          0.14419695368764932,
          -3.7442569633057623,
          -0.3133723448373529,
          -0.16683141237592103,
          1.6188408185310394,
          0.6007304465359995,
          0.15187571991871177,
          0.07909127391112418,
          -0.19527530170401872,
          -1.7720594581677191,
          0.010435130962778887,
          -0.6984897154095291,
          0.298475241933431,
          -1.0324556631267123,
          -0.015196673014035973,
          0.24940100375673913,
          -1.5609631116868825,
          2.0752899982947026,
          -1.549922714712221,
          -0.04769669077299809,
          -0.13050979544132987,
          -1.3439932523872173,
          1.0161176621283028,
          0.22568439926107195,
          -1.1476615070110796,
          -0.5878368352865394,
          -0.238454936681599,
          1.0488599753027485,
          0.41705065187638135,
          0.9591773903586256,
          -1.3963563115579891,
          -0.9471610783203869,
          -1.2809323825176724,
          -0.2623463889448773,
          1.922978320621508,
          -1.2514220434971128,
          -0.9332967715496242,
          -2.17546410153974,
          1.4213253674153281,
          -0.18306555321065304,
          -0.8127274181256211,
          0.6210277858396868,
          0.6663719720223892,
          -0.21981687046950085,
          0.5232043156578947,
          1.3438976175293194,
          -0.40577896676652975,
          0.15087073518784777,
          0.14556340277596694,
          -0.8543803927110263,
          0.3939560017804806,
          0.16697514102575836,
          1.4058840116843392,
          0.4617877536009876,
          -1.5496801935445506,
          0.40769711945908343,
          0.2013369438901281,
          -1.1290823498859064,
          -0.6274727732033917,
          -1.4116748082720443,
          2.028067036128927,
          -0.06951536570078315,
          -0.39563856362339256,
          0.36572962567951944,
          0.2535557564640945,
          -0.592701403714788,
          -1.016758229530463,
          -0.6718010025615362,
          0.4816143914592303,
          1.6521186064972615
         ],
         "yaxis": "y3"
        },
        {
         "line": {
          "color": "rgba(128, 128, 128, 1.0)",
          "dash": "solid",
          "shape": "linear",
          "width": 1.3
         },
         "marker": {
          "size": 2,
          "symbol": "circle"
         },
         "mode": "markers",
         "name": "A",
         "text": "",
         "type": "scatter",
         "x": [
          -1.3079637980328176,
          0.22304179671406252,
          -1.6261857657059278,
          0.566633736372872,
          -0.7375295528108581,
          -0.011891636773831146,
          -0.5334663729786482,
          -0.8745242919479007,
          0.6601838725358815,
          -0.46117168118529,
          -1.091323363853244,
          0.058971366480316305,
          0.39663623918495505,
          -0.18846634909717566,
          -0.0009383025883428058,
          -0.9724822056607263,
          -0.5464925109530722,
          -1.4300209209976071,
          -2.110601196985954,
          -1.360140831455929,
          0.6156923193876411,
          2.952144430502897,
          0.35799135938249677,
          -1.3076649864823053,
          -0.24421516437156765,
          -0.4495674019298553,
          1.0883308746868876,
          0.22086598779162414,
          -0.06103902507281949,
          -1.9433420313160572,
          0.5320454554647426,
          1.3746252471198745,
          0.1305260543256214,
          -0.35948821874407155,
          2.5985690425949763,
          0.5281227862388681,
          -0.29379092552348296,
          -1.2078382264099154,
          -1.5423947096499546,
          0.030378907599932375,
          1.3872029083089668,
          0.3747549488569716,
          -0.2900210046765808,
          -0.14242653045860929,
          1.5503804524048688,
          -0.08392855934242163,
          -1.0690403826443478,
          -0.20834604239604584,
          -0.09818035454382804,
          0.3168105876871725,
          1.009833639624926,
          0.8587067451655745,
          -0.43934007517540874,
          0.7980055212707029,
          -1.689734238525958,
          0.48461811873357363,
          -1.572829926732365,
          -0.35922080469151785,
          1.2962907116808693,
          0.2736892788680549,
          3.1965962831799515,
          -0.2912210021565614,
          0.9585222615836765,
          -1.2697854325339617,
          0.7072656036562351,
          -0.23082594775710075,
          -0.22577058785054743,
          1.2459574919555987,
          -1.0519388128819473,
          -0.09165573316360198,
          -0.6909539481532403,
          -0.013276096848856419,
          0.6258963482059207,
          0.7335881536218917,
          0.28023350195795416,
          0.47135450155713254,
          0.6481523791535133,
          -1.1608341442253156,
          -0.09276120803432533,
          -1.2721575501285969,
          -0.61486417987658,
          1.6265152145697226,
          -0.8019205418967238,
          -0.11356554888258104,
          2.238142067136378,
          -0.06832978206592988,
          1.945118921953737,
          1.1022762120786647,
          -0.1427091716154867,
          -0.25541739714859335,
          -0.23461554130263676,
          0.0531409232553126,
          -0.6659059414090801,
          1.3984443801382258,
          -0.5536831919568412,
          0.08905645204001764,
          -0.3649672077103355,
          -0.19989719034607528,
          0.16132160822386446,
          0.6511501557245907
         ],
         "xaxis": "x4",
         "y": [
          -0.20959528449674006,
          1.0313395209143585,
          1.1694348176263178,
          1.2609299556386497,
          0.9991395033571964,
          -2.605096456045387,
          0.4223200564889698,
          -0.1957775306388394,
          -0.5581225730329871,
          0.31374974544598283,
          -0.1094457539933965,
          0.8490037964381496,
          -0.1924499072203981,
          -0.7241729098994564,
          -1.537635679731419,
          -0.17928390076971523,
          -0.4654379085350427,
          0.14536975247776704,
          -0.4107308856713606,
          -0.31692807918550775,
          0.8541795096845612,
          -0.5411685133468052,
          1.6526300592340684,
          -0.3970649611176773,
          0.5537155926901607,
          0.09527358902101514,
          0.14643308884471226,
          -0.5952788954061516,
          1.8391170023050945,
          0.8599789829121285,
          0.14419695368764932,
          -3.7442569633057623,
          -0.3133723448373529,
          -0.16683141237592103,
          1.6188408185310394,
          0.6007304465359995,
          0.15187571991871177,
          0.07909127391112418,
          -0.19527530170401872,
          -1.7720594581677191,
          0.010435130962778887,
          -0.6984897154095291,
          0.298475241933431,
          -1.0324556631267123,
          -0.015196673014035973,
          0.24940100375673913,
          -1.5609631116868825,
          2.0752899982947026,
          -1.549922714712221,
          -0.04769669077299809,
          -0.13050979544132987,
          -1.3439932523872173,
          1.0161176621283028,
          0.22568439926107195,
          -1.1476615070110796,
          -0.5878368352865394,
          -0.238454936681599,
          1.0488599753027485,
          0.41705065187638135,
          0.9591773903586256,
          -1.3963563115579891,
          -0.9471610783203869,
          -1.2809323825176724,
          -0.2623463889448773,
          1.922978320621508,
          -1.2514220434971128,
          -0.9332967715496242,
          -2.17546410153974,
          1.4213253674153281,
          -0.18306555321065304,
          -0.8127274181256211,
          0.6210277858396868,
          0.6663719720223892,
          -0.21981687046950085,
          0.5232043156578947,
          1.3438976175293194,
          -0.40577896676652975,
          0.15087073518784777,
          0.14556340277596694,
          -0.8543803927110263,
          0.3939560017804806,
          0.16697514102575836,
          1.4058840116843392,
          0.4617877536009876,
          -1.5496801935445506,
          0.40769711945908343,
          0.2013369438901281,
          -1.1290823498859064,
          -0.6274727732033917,
          -1.4116748082720443,
          2.028067036128927,
          -0.06951536570078315,
          -0.39563856362339256,
          0.36572962567951944,
          0.2535557564640945,
          -0.592701403714788,
          -1.016758229530463,
          -0.6718010025615362,
          0.4816143914592303,
          1.6521186064972615
         ],
         "yaxis": "y4"
        },
        {
         "line": {
          "color": "rgba(128, 128, 128, 1.0)",
          "dash": "solid",
          "shape": "linear",
          "width": 1.3
         },
         "marker": {
          "size": 2,
          "symbol": "circle"
         },
         "mode": "markers",
         "name": "B",
         "text": "",
         "type": "scatter",
         "x": [
          -0.20959528449674006,
          1.0313395209143585,
          1.1694348176263178,
          1.2609299556386497,
          0.9991395033571964,
          -2.605096456045387,
          0.4223200564889698,
          -0.1957775306388394,
          -0.5581225730329871,
          0.31374974544598283,
          -0.1094457539933965,
          0.8490037964381496,
          -0.1924499072203981,
          -0.7241729098994564,
          -1.537635679731419,
          -0.17928390076971523,
          -0.4654379085350427,
          0.14536975247776704,
          -0.4107308856713606,
          -0.31692807918550775,
          0.8541795096845612,
          -0.5411685133468052,
          1.6526300592340684,
          -0.3970649611176773,
          0.5537155926901607,
          0.09527358902101514,
          0.14643308884471226,
          -0.5952788954061516,
          1.8391170023050945,
          0.8599789829121285,
          0.14419695368764932,
          -3.7442569633057623,
          -0.3133723448373529,
          -0.16683141237592103,
          1.6188408185310394,
          0.6007304465359995,
          0.15187571991871177,
          0.07909127391112418,
          -0.19527530170401872,
          -1.7720594581677191,
          0.010435130962778887,
          -0.6984897154095291,
          0.298475241933431,
          -1.0324556631267123,
          -0.015196673014035973,
          0.24940100375673913,
          -1.5609631116868825,
          2.0752899982947026,
          -1.549922714712221,
          -0.04769669077299809,
          -0.13050979544132987,
          -1.3439932523872173,
          1.0161176621283028,
          0.22568439926107195,
          -1.1476615070110796,
          -0.5878368352865394,
          -0.238454936681599,
          1.0488599753027485,
          0.41705065187638135,
          0.9591773903586256,
          -1.3963563115579891,
          -0.9471610783203869,
          -1.2809323825176724,
          -0.2623463889448773,
          1.922978320621508,
          -1.2514220434971128,
          -0.9332967715496242,
          -2.17546410153974,
          1.4213253674153281,
          -0.18306555321065304,
          -0.8127274181256211,
          0.6210277858396868,
          0.6663719720223892,
          -0.21981687046950085,
          0.5232043156578947,
          1.3438976175293194,
          -0.40577896676652975,
          0.15087073518784777,
          0.14556340277596694,
          -0.8543803927110263,
          0.3939560017804806,
          0.16697514102575836,
          1.4058840116843392,
          0.4617877536009876,
          -1.5496801935445506,
          0.40769711945908343,
          0.2013369438901281,
          -1.1290823498859064,
          -0.6274727732033917,
          -1.4116748082720443,
          2.028067036128927,
          -0.06951536570078315,
          -0.39563856362339256,
          0.36572962567951944,
          0.2535557564640945,
          -0.592701403714788,
          -1.016758229530463,
          -0.6718010025615362,
          0.4816143914592303,
          1.6521186064972615
         ],
         "xaxis": "x5",
         "y": [
          -0.7711170330140517,
          1.1659865501781457,
          -0.4300031411390618,
          -0.0064054452231869525,
          0.3255392094205599,
          -0.13685000730308322,
          1.3525025871928738,
          -1.1801377046110144,
          0.13310747475016435,
          -0.2033148557477379,
          0.3985858186894083,
          -0.49967174213299737,
          1.1913324955300733,
          -0.5409914050548899,
          0.2925317562459309,
          0.8360201107862251,
          0.18953428471715764,
          0.7221778303206465,
          0.09852772787929902,
          1.796009975727251,
          -0.200185351958104,
          0.8157193832619373,
          -0.1933400843887641,
          1.8520919325558922,
          0.48262763547424403,
          1.0115524814755976,
          -0.1837829419916532,
          1.6131287615767995,
          -0.1399290536378075,
          -0.7323092982310786,
          1.2581832153458332,
          2.004782199651357,
          0.11020269700287254,
          -0.2922774652953534,
          -0.610069945082351,
          0.376461914005928,
          0.16718587783128971,
          -1.7189573746226192,
          -0.14068140841214077,
          1.8445706571915623,
          0.42144086795796415,
          1.0771232268496644,
          -0.4574308043895199,
          0.3920164861931366,
          -0.7846303851339075,
          1.1358033661771454,
          0.21984185047724739,
          0.7358382398522556,
          -0.5056098661504937,
          0.3322425140657405,
          -1.0908272200843647,
          0.16993227135855776,
          -2.575072543504373,
          0.7463990525576297,
          -1.3276249331690786,
          -0.19130903148690143,
          0.8888511368645764,
          -1.082223619851152,
          -0.8516922366750175,
          -0.35766740349138537,
          -0.39775115576126774,
          1.2904308354025236,
          -0.4728009835926884,
          0.221724087821145,
          0.3966944648807889,
          -1.2672930011199954,
          0.7680169250563473,
          1.1846181946893646,
          0.2475782480255661,
          0.4485690766180793,
          0.014156941787666289,
          1.661426609144996,
          -1.1495974510451685,
          -0.7147854341662139,
          -0.7107841704939886,
          1.3951354540947525,
          0.20924908903456235,
          -1.220282703449926,
          0.02557457473320523,
          1.6272253233610467,
          -0.4129400171413861,
          -0.30186719992529765,
          1.5662620317015126,
          -0.9805920717199543,
          1.7788994781114258,
          -0.07627410648600412,
          0.06756344975294166,
          0.15733547861968317,
          1.4312231564245395,
          0.5067488088525609,
          -1.3860888399177342,
          -0.35267863923003084,
          -0.9060374943352678,
          -1.470559344699383,
          -0.19821908459674648,
          -1.9227544591977332,
          0.2082346343431905,
          -1.2583923667864534,
          -0.8897041886487653,
          1.228047110760627
         ],
         "yaxis": "y5"
        },
        {
         "histfunc": "count",
         "histnorm": "",
         "marker": {
          "color": "rgba(55, 128, 191, 1.0)",
          "line": {
           "color": "#4D5663",
           "width": 1.3
          }
         },
         "name": "B",
         "nbinsx": 10,
         "opacity": 0.8,
         "orientation": "v",
         "type": "histogram",
         "x": [
          -0.7711170330140517,
          1.1659865501781457,
          -0.4300031411390618,
          -0.0064054452231869525,
          0.3255392094205599,
          -0.13685000730308322,
          1.3525025871928738,
          -1.1801377046110144,
          0.13310747475016435,
          -0.2033148557477379,
          0.3985858186894083,
          -0.49967174213299737,
          1.1913324955300733,
          -0.5409914050548899,
          0.2925317562459309,
          0.8360201107862251,
          0.18953428471715764,
          0.7221778303206465,
          0.09852772787929902,
          1.796009975727251,
          -0.200185351958104,
          0.8157193832619373,
          -0.1933400843887641,
          1.8520919325558922,
          0.48262763547424403,
          1.0115524814755976,
          -0.1837829419916532,
          1.6131287615767995,
          -0.1399290536378075,
          -0.7323092982310786,
          1.2581832153458332,
          2.004782199651357,
          0.11020269700287254,
          -0.2922774652953534,
          -0.610069945082351,
          0.376461914005928,
          0.16718587783128971,
          -1.7189573746226192,
          -0.14068140841214077,
          1.8445706571915623,
          0.42144086795796415,
          1.0771232268496644,
          -0.4574308043895199,
          0.3920164861931366,
          -0.7846303851339075,
          1.1358033661771454,
          0.21984185047724739,
          0.7358382398522556,
          -0.5056098661504937,
          0.3322425140657405,
          -1.0908272200843647,
          0.16993227135855776,
          -2.575072543504373,
          0.7463990525576297,
          -1.3276249331690786,
          -0.19130903148690143,
          0.8888511368645764,
          -1.082223619851152,
          -0.8516922366750175,
          -0.35766740349138537,
          -0.39775115576126774,
          1.2904308354025236,
          -0.4728009835926884,
          0.221724087821145,
          0.3966944648807889,
          -1.2672930011199954,
          0.7680169250563473,
          1.1846181946893646,
          0.2475782480255661,
          0.4485690766180793,
          0.014156941787666289,
          1.661426609144996,
          -1.1495974510451685,
          -0.7147854341662139,
          -0.7107841704939886,
          1.3951354540947525,
          0.20924908903456235,
          -1.220282703449926,
          0.02557457473320523,
          1.6272253233610467,
          -0.4129400171413861,
          -0.30186719992529765,
          1.5662620317015126,
          -0.9805920717199543,
          1.7788994781114258,
          -0.07627410648600412,
          0.06756344975294166,
          0.15733547861968317,
          1.4312231564245395,
          0.5067488088525609,
          -1.3860888399177342,
          -0.35267863923003084,
          -0.9060374943352678,
          -1.470559344699383,
          -0.19821908459674648,
          -1.9227544591977332,
          0.2082346343431905,
          -1.2583923667864534,
          -0.8897041886487653,
          1.228047110760627
         ],
         "xaxis": "x6",
         "yaxis": "y6"
        },
        {
         "line": {
          "color": "rgba(128, 128, 128, 1.0)",
          "dash": "solid",
          "shape": "linear",
          "width": 1.3
         },
         "marker": {
          "size": 2,
          "symbol": "circle"
         },
         "mode": "markers",
         "name": "B",
         "text": "",
         "type": "scatter",
         "x": [
          0.7037872124040211,
          0.3615164419960923,
          -0.25796356732018233,
          -0.14649850149540966,
          0.06960711828656779,
          -1.4797956295623294,
          1.4093816343792605,
          -0.12292851084529191,
          0.4457087614037588,
          1.1492393267257108,
          -0.6607372423425167,
          0.3286133234450696,
          0.6844361201743363,
          -1.2821564245328332,
          0.9336034745372883,
          0.5170244180169414,
          -0.36322526788529785,
          0.6326928489564475,
          0.9778826032160992,
          -1.1196178565981039,
          1.4220243758680577,
          -0.2359625190926601,
          -0.3856235058789063,
          -2.7714681723669736,
          0.5993442710286011,
          1.313751851859977,
          0.23812170074033143,
          -0.65276402808905,
          0.11650216296705335,
          0.848740310341407,
          0.7721043520227766,
          -0.11964967401429785,
          1.2833545963721653,
          -0.39028489654013715,
          0.44929433604559843,
          -0.8500207432254455,
          0.8668240055266053,
          -1.2182376917418116,
          0.06141342404514145,
          1.4478502562191544,
          0.5737480413240534,
          -0.6552953362360905,
          0.2983589390319965,
          0.09373422462001138,
          0.326302217729746,
          -0.022651186551612242,
          1.1572903812795914,
          0.6572929704731219,
          0.11371203404668388,
          -1.1595505702679845,
          0.11454164413476907,
          -0.2621559996633682,
          -2.733659449977352,
          0.4255699111247708,
          -0.780290504106477,
          -0.6628857830638748,
          0.6275755736024996,
          -1.3753939740673904,
          -0.9957235259791135,
          0.5932914399458847,
          0.024589120124802747,
          -0.5449197929959385,
          1.506095501044284,
          1.7837889696517968,
          1.0008351607024597,
          -0.46168031979142726,
          1.3271782726734083,
          2.001032828511582,
          0.18104520740451863,
          0.07607278043933337,
          0.012150073505268375,
          1.0314888401570066,
          0.3244018691322532,
          -1.0437563740670959,
          0.22308120034793186,
          -0.5687628668009141,
          -0.9127930415704587,
          0.8458472877920619,
          0.14415454796481716,
          -1.1736709357560084,
          0.34313864995514465,
          -0.602634191959899,
          0.5563158524785552,
          -1.165343612807023,
          -0.08173268124689238,
          -0.036486809060192464,
          -1.1904778317362985,
          -0.0022018469953823823,
          -0.5694555209780752,
          -0.05308030079432449,
          -0.46007973236753213,
          -0.4986614954268612,
          0.7260189289588955,
          -0.4936196250824067,
          1.1019966482757366,
          0.23198945850229563,
          -1.0017726051335556,
          1.8466841646874763,
          1.1291136907334574,
          0.5682481935400014
         ],
         "xaxis": "x7",
         "y": [
          -0.7711170330140517,
          1.1659865501781457,
          -0.4300031411390618,
          -0.0064054452231869525,
          0.3255392094205599,
          -0.13685000730308322,
          1.3525025871928738,
          -1.1801377046110144,
          0.13310747475016435,
          -0.2033148557477379,
          0.3985858186894083,
          -0.49967174213299737,
          1.1913324955300733,
          -0.5409914050548899,
          0.2925317562459309,
          0.8360201107862251,
          0.18953428471715764,
          0.7221778303206465,
          0.09852772787929902,
          1.796009975727251,
          -0.200185351958104,
          0.8157193832619373,
          -0.1933400843887641,
          1.8520919325558922,
          0.48262763547424403,
          1.0115524814755976,
          -0.1837829419916532,
          1.6131287615767995,
          -0.1399290536378075,
          -0.7323092982310786,
          1.2581832153458332,
          2.004782199651357,
          0.11020269700287254,
          -0.2922774652953534,
          -0.610069945082351,
          0.376461914005928,
          0.16718587783128971,
          -1.7189573746226192,
          -0.14068140841214077,
          1.8445706571915623,
          0.42144086795796415,
          1.0771232268496644,
          -0.4574308043895199,
          0.3920164861931366,
          -0.7846303851339075,
          1.1358033661771454,
          0.21984185047724739,
          0.7358382398522556,
          -0.5056098661504937,
          0.3322425140657405,
          -1.0908272200843647,
          0.16993227135855776,
          -2.575072543504373,
          0.7463990525576297,
          -1.3276249331690786,
          -0.19130903148690143,
          0.8888511368645764,
          -1.082223619851152,
          -0.8516922366750175,
          -0.35766740349138537,
          -0.39775115576126774,
          1.2904308354025236,
          -0.4728009835926884,
          0.221724087821145,
          0.3966944648807889,
          -1.2672930011199954,
          0.7680169250563473,
          1.1846181946893646,
          0.2475782480255661,
          0.4485690766180793,
          0.014156941787666289,
          1.661426609144996,
          -1.1495974510451685,
          -0.7147854341662139,
          -0.7107841704939886,
          1.3951354540947525,
          0.20924908903456235,
          -1.220282703449926,
          0.02557457473320523,
          1.6272253233610467,
          -0.4129400171413861,
          -0.30186719992529765,
          1.5662620317015126,
          -0.9805920717199543,
          1.7788994781114258,
          -0.07627410648600412,
          0.06756344975294166,
          0.15733547861968317,
          1.4312231564245395,
          0.5067488088525609,
          -1.3860888399177342,
          -0.35267863923003084,
          -0.9060374943352678,
          -1.470559344699383,
          -0.19821908459674648,
          -1.9227544591977332,
          0.2082346343431905,
          -1.2583923667864534,
          -0.8897041886487653,
          1.228047110760627
         ],
         "yaxis": "y7"
        },
        {
         "line": {
          "color": "rgba(128, 128, 128, 1.0)",
          "dash": "solid",
          "shape": "linear",
          "width": 1.3
         },
         "marker": {
          "size": 2,
          "symbol": "circle"
         },
         "mode": "markers",
         "name": "B",
         "text": "",
         "type": "scatter",
         "x": [
          -1.3079637980328176,
          0.22304179671406252,
          -1.6261857657059278,
          0.566633736372872,
          -0.7375295528108581,
          -0.011891636773831146,
          -0.5334663729786482,
          -0.8745242919479007,
          0.6601838725358815,
          -0.46117168118529,
          -1.091323363853244,
          0.058971366480316305,
          0.39663623918495505,
          -0.18846634909717566,
          -0.0009383025883428058,
          -0.9724822056607263,
          -0.5464925109530722,
          -1.4300209209976071,
          -2.110601196985954,
          -1.360140831455929,
          0.6156923193876411,
          2.952144430502897,
          0.35799135938249677,
          -1.3076649864823053,
          -0.24421516437156765,
          -0.4495674019298553,
          1.0883308746868876,
          0.22086598779162414,
          -0.06103902507281949,
          -1.9433420313160572,
          0.5320454554647426,
          1.3746252471198745,
          0.1305260543256214,
          -0.35948821874407155,
          2.5985690425949763,
          0.5281227862388681,
          -0.29379092552348296,
          -1.2078382264099154,
          -1.5423947096499546,
          0.030378907599932375,
          1.3872029083089668,
          0.3747549488569716,
          -0.2900210046765808,
          -0.14242653045860929,
          1.5503804524048688,
          -0.08392855934242163,
          -1.0690403826443478,
          -0.20834604239604584,
          -0.09818035454382804,
          0.3168105876871725,
          1.009833639624926,
          0.8587067451655745,
          -0.43934007517540874,
          0.7980055212707029,
          -1.689734238525958,
          0.48461811873357363,
          -1.572829926732365,
          -0.35922080469151785,
          1.2962907116808693,
          0.2736892788680549,
          3.1965962831799515,
          -0.2912210021565614,
          0.9585222615836765,
          -1.2697854325339617,
          0.7072656036562351,
          -0.23082594775710075,
          -0.22577058785054743,
          1.2459574919555987,
          -1.0519388128819473,
          -0.09165573316360198,
          -0.6909539481532403,
          -0.013276096848856419,
          0.6258963482059207,
          0.7335881536218917,
          0.28023350195795416,
          0.47135450155713254,
          0.6481523791535133,
          -1.1608341442253156,
          -0.09276120803432533,
          -1.2721575501285969,
          -0.61486417987658,
          1.6265152145697226,
          -0.8019205418967238,
          -0.11356554888258104,
          2.238142067136378,
          -0.06832978206592988,
          1.945118921953737,
          1.1022762120786647,
          -0.1427091716154867,
          -0.25541739714859335,
          -0.23461554130263676,
          0.0531409232553126,
          -0.6659059414090801,
          1.3984443801382258,
          -0.5536831919568412,
          0.08905645204001764,
          -0.3649672077103355,
          -0.19989719034607528,
          0.16132160822386446,
          0.6511501557245907
         ],
         "xaxis": "x8",
         "y": [
          -0.7711170330140517,
          1.1659865501781457,
          -0.4300031411390618,
          -0.0064054452231869525,
          0.3255392094205599,
          -0.13685000730308322,
          1.3525025871928738,
          -1.1801377046110144,
          0.13310747475016435,
          -0.2033148557477379,
          0.3985858186894083,
          -0.49967174213299737,
          1.1913324955300733,
          -0.5409914050548899,
          0.2925317562459309,
          0.8360201107862251,
          0.18953428471715764,
          0.7221778303206465,
          0.09852772787929902,
          1.796009975727251,
          -0.200185351958104,
          0.8157193832619373,
          -0.1933400843887641,
          1.8520919325558922,
          0.48262763547424403,
          1.0115524814755976,
          -0.1837829419916532,
          1.6131287615767995,
          -0.1399290536378075,
          -0.7323092982310786,
          1.2581832153458332,
          2.004782199651357,
          0.11020269700287254,
          -0.2922774652953534,
          -0.610069945082351,
          0.376461914005928,
          0.16718587783128971,
          -1.7189573746226192,
          -0.14068140841214077,
          1.8445706571915623,
          0.42144086795796415,
          1.0771232268496644,
          -0.4574308043895199,
          0.3920164861931366,
          -0.7846303851339075,
          1.1358033661771454,
          0.21984185047724739,
          0.7358382398522556,
          -0.5056098661504937,
          0.3322425140657405,
          -1.0908272200843647,
          0.16993227135855776,
          -2.575072543504373,
          0.7463990525576297,
          -1.3276249331690786,
          -0.19130903148690143,
          0.8888511368645764,
          -1.082223619851152,
          -0.8516922366750175,
          -0.35766740349138537,
          -0.39775115576126774,
          1.2904308354025236,
          -0.4728009835926884,
          0.221724087821145,
          0.3966944648807889,
          -1.2672930011199954,
          0.7680169250563473,
          1.1846181946893646,
          0.2475782480255661,
          0.4485690766180793,
          0.014156941787666289,
          1.661426609144996,
          -1.1495974510451685,
          -0.7147854341662139,
          -0.7107841704939886,
          1.3951354540947525,
          0.20924908903456235,
          -1.220282703449926,
          0.02557457473320523,
          1.6272253233610467,
          -0.4129400171413861,
          -0.30186719992529765,
          1.5662620317015126,
          -0.9805920717199543,
          1.7788994781114258,
          -0.07627410648600412,
          0.06756344975294166,
          0.15733547861968317,
          1.4312231564245395,
          0.5067488088525609,
          -1.3860888399177342,
          -0.35267863923003084,
          -0.9060374943352678,
          -1.470559344699383,
          -0.19821908459674648,
          -1.9227544591977332,
          0.2082346343431905,
          -1.2583923667864534,
          -0.8897041886487653,
          1.228047110760627
         ],
         "yaxis": "y8"
        },
        {
         "line": {
          "color": "rgba(128, 128, 128, 1.0)",
          "dash": "solid",
          "shape": "linear",
          "width": 1.3
         },
         "marker": {
          "size": 2,
          "symbol": "circle"
         },
         "mode": "markers",
         "name": "C",
         "text": "",
         "type": "scatter",
         "x": [
          -0.20959528449674006,
          1.0313395209143585,
          1.1694348176263178,
          1.2609299556386497,
          0.9991395033571964,
          -2.605096456045387,
          0.4223200564889698,
          -0.1957775306388394,
          -0.5581225730329871,
          0.31374974544598283,
          -0.1094457539933965,
          0.8490037964381496,
          -0.1924499072203981,
          -0.7241729098994564,
          -1.537635679731419,
          -0.17928390076971523,
          -0.4654379085350427,
          0.14536975247776704,
          -0.4107308856713606,
          -0.31692807918550775,
          0.8541795096845612,
          -0.5411685133468052,
          1.6526300592340684,
          -0.3970649611176773,
          0.5537155926901607,
          0.09527358902101514,
          0.14643308884471226,
          -0.5952788954061516,
          1.8391170023050945,
          0.8599789829121285,
          0.14419695368764932,
          -3.7442569633057623,
          -0.3133723448373529,
          -0.16683141237592103,
          1.6188408185310394,
          0.6007304465359995,
          0.15187571991871177,
          0.07909127391112418,
          -0.19527530170401872,
          -1.7720594581677191,
          0.010435130962778887,
          -0.6984897154095291,
          0.298475241933431,
          -1.0324556631267123,
          -0.015196673014035973,
          0.24940100375673913,
          -1.5609631116868825,
          2.0752899982947026,
          -1.549922714712221,
          -0.04769669077299809,
          -0.13050979544132987,
          -1.3439932523872173,
          1.0161176621283028,
          0.22568439926107195,
          -1.1476615070110796,
          -0.5878368352865394,
          -0.238454936681599,
          1.0488599753027485,
          0.41705065187638135,
          0.9591773903586256,
          -1.3963563115579891,
          -0.9471610783203869,
          -1.2809323825176724,
          -0.2623463889448773,
          1.922978320621508,
          -1.2514220434971128,
          -0.9332967715496242,
          -2.17546410153974,
          1.4213253674153281,
          -0.18306555321065304,
          -0.8127274181256211,
          0.6210277858396868,
          0.6663719720223892,
          -0.21981687046950085,
          0.5232043156578947,
          1.3438976175293194,
          -0.40577896676652975,
          0.15087073518784777,
          0.14556340277596694,
          -0.8543803927110263,
          0.3939560017804806,
          0.16697514102575836,
          1.4058840116843392,
          0.4617877536009876,
          -1.5496801935445506,
          0.40769711945908343,
          0.2013369438901281,
          -1.1290823498859064,
          -0.6274727732033917,
          -1.4116748082720443,
          2.028067036128927,
          -0.06951536570078315,
          -0.39563856362339256,
          0.36572962567951944,
          0.2535557564640945,
          -0.592701403714788,
          -1.016758229530463,
          -0.6718010025615362,
          0.4816143914592303,
          1.6521186064972615
         ],
         "xaxis": "x9",
         "y": [
          0.7037872124040211,
          0.3615164419960923,
          -0.25796356732018233,
          -0.14649850149540966,
          0.06960711828656779,
          -1.4797956295623294,
          1.4093816343792605,
          -0.12292851084529191,
          0.4457087614037588,
          1.1492393267257108,
          -0.6607372423425167,
          0.3286133234450696,
          0.6844361201743363,
          -1.2821564245328332,
          0.9336034745372883,
          0.5170244180169414,
          -0.36322526788529785,
          0.6326928489564475,
          0.9778826032160992,
          -1.1196178565981039,
          1.4220243758680577,
          -0.2359625190926601,
          -0.3856235058789063,
          -2.7714681723669736,
          0.5993442710286011,
          1.313751851859977,
          0.23812170074033143,
          -0.65276402808905,
          0.11650216296705335,
          0.848740310341407,
          0.7721043520227766,
          -0.11964967401429785,
          1.2833545963721653,
          -0.39028489654013715,
          0.44929433604559843,
          -0.8500207432254455,
          0.8668240055266053,
          -1.2182376917418116,
          0.06141342404514145,
          1.4478502562191544,
          0.5737480413240534,
          -0.6552953362360905,
          0.2983589390319965,
          0.09373422462001138,
          0.326302217729746,
          -0.022651186551612242,
          1.1572903812795914,
          0.6572929704731219,
          0.11371203404668388,
          -1.1595505702679845,
          0.11454164413476907,
          -0.2621559996633682,
          -2.733659449977352,
          0.4255699111247708,
          -0.780290504106477,
          -0.6628857830638748,
          0.6275755736024996,
          -1.3753939740673904,
          -0.9957235259791135,
          0.5932914399458847,
          0.024589120124802747,
          -0.5449197929959385,
          1.506095501044284,
          1.7837889696517968,
          1.0008351607024597,
          -0.46168031979142726,
          1.3271782726734083,
          2.001032828511582,
          0.18104520740451863,
          0.07607278043933337,
          0.012150073505268375,
          1.0314888401570066,
          0.3244018691322532,
          -1.0437563740670959,
          0.22308120034793186,
          -0.5687628668009141,
          -0.9127930415704587,
          0.8458472877920619,
          0.14415454796481716,
          -1.1736709357560084,
          0.34313864995514465,
          -0.602634191959899,
          0.5563158524785552,
          -1.165343612807023,
          -0.08173268124689238,
          -0.036486809060192464,
          -1.1904778317362985,
          -0.0022018469953823823,
          -0.5694555209780752,
          -0.05308030079432449,
          -0.46007973236753213,
          -0.4986614954268612,
          0.7260189289588955,
          -0.4936196250824067,
          1.1019966482757366,
          0.23198945850229563,
          -1.0017726051335556,
          1.8466841646874763,
          1.1291136907334574,
          0.5682481935400014
         ],
         "yaxis": "y9"
        },
        {
         "line": {
          "color": "rgba(128, 128, 128, 1.0)",
          "dash": "solid",
          "shape": "linear",
          "width": 1.3
         },
         "marker": {
          "size": 2,
          "symbol": "circle"
         },
         "mode": "markers",
         "name": "C",
         "text": "",
         "type": "scatter",
         "x": [
          -0.7711170330140517,
          1.1659865501781457,
          -0.4300031411390618,
          -0.0064054452231869525,
          0.3255392094205599,
          -0.13685000730308322,
          1.3525025871928738,
          -1.1801377046110144,
          0.13310747475016435,
          -0.2033148557477379,
          0.3985858186894083,
          -0.49967174213299737,
          1.1913324955300733,
          -0.5409914050548899,
          0.2925317562459309,
          0.8360201107862251,
          0.18953428471715764,
          0.7221778303206465,
          0.09852772787929902,
          1.796009975727251,
          -0.200185351958104,
          0.8157193832619373,
          -0.1933400843887641,
          1.8520919325558922,
          0.48262763547424403,
          1.0115524814755976,
          -0.1837829419916532,
          1.6131287615767995,
          -0.1399290536378075,
          -0.7323092982310786,
          1.2581832153458332,
          2.004782199651357,
          0.11020269700287254,
          -0.2922774652953534,
          -0.610069945082351,
          0.376461914005928,
          0.16718587783128971,
          -1.7189573746226192,
          -0.14068140841214077,
          1.8445706571915623,
          0.42144086795796415,
          1.0771232268496644,
          -0.4574308043895199,
          0.3920164861931366,
          -0.7846303851339075,
          1.1358033661771454,
          0.21984185047724739,
          0.7358382398522556,
          -0.5056098661504937,
          0.3322425140657405,
          -1.0908272200843647,
          0.16993227135855776,
          -2.575072543504373,
          0.7463990525576297,
          -1.3276249331690786,
          -0.19130903148690143,
          0.8888511368645764,
          -1.082223619851152,
          -0.8516922366750175,
          -0.35766740349138537,
          -0.39775115576126774,
          1.2904308354025236,
          -0.4728009835926884,
          0.221724087821145,
          0.3966944648807889,
          -1.2672930011199954,
          0.7680169250563473,
          1.1846181946893646,
          0.2475782480255661,
          0.4485690766180793,
          0.014156941787666289,
          1.661426609144996,
          -1.1495974510451685,
          -0.7147854341662139,
          -0.7107841704939886,
          1.3951354540947525,
          0.20924908903456235,
          -1.220282703449926,
          0.02557457473320523,
          1.6272253233610467,
          -0.4129400171413861,
          -0.30186719992529765,
          1.5662620317015126,
          -0.9805920717199543,
          1.7788994781114258,
          -0.07627410648600412,
          0.06756344975294166,
          0.15733547861968317,
          1.4312231564245395,
          0.5067488088525609,
          -1.3860888399177342,
          -0.35267863923003084,
          -0.9060374943352678,
          -1.470559344699383,
          -0.19821908459674648,
          -1.9227544591977332,
          0.2082346343431905,
          -1.2583923667864534,
          -0.8897041886487653,
          1.228047110760627
         ],
         "xaxis": "x10",
         "y": [
          0.7037872124040211,
          0.3615164419960923,
          -0.25796356732018233,
          -0.14649850149540966,
          0.06960711828656779,
          -1.4797956295623294,
          1.4093816343792605,
          -0.12292851084529191,
          0.4457087614037588,
          1.1492393267257108,
          -0.6607372423425167,
          0.3286133234450696,
          0.6844361201743363,
          -1.2821564245328332,
          0.9336034745372883,
          0.5170244180169414,
          -0.36322526788529785,
          0.6326928489564475,
          0.9778826032160992,
          -1.1196178565981039,
          1.4220243758680577,
          -0.2359625190926601,
          -0.3856235058789063,
          -2.7714681723669736,
          0.5993442710286011,
          1.313751851859977,
          0.23812170074033143,
          -0.65276402808905,
          0.11650216296705335,
          0.848740310341407,
          0.7721043520227766,
          -0.11964967401429785,
          1.2833545963721653,
          -0.39028489654013715,
          0.44929433604559843,
          -0.8500207432254455,
          0.8668240055266053,
          -1.2182376917418116,
          0.06141342404514145,
          1.4478502562191544,
          0.5737480413240534,
          -0.6552953362360905,
          0.2983589390319965,
          0.09373422462001138,
          0.326302217729746,
          -0.022651186551612242,
          1.1572903812795914,
          0.6572929704731219,
          0.11371203404668388,
          -1.1595505702679845,
          0.11454164413476907,
          -0.2621559996633682,
          -2.733659449977352,
          0.4255699111247708,
          -0.780290504106477,
          -0.6628857830638748,
          0.6275755736024996,
          -1.3753939740673904,
          -0.9957235259791135,
          0.5932914399458847,
          0.024589120124802747,
          -0.5449197929959385,
          1.506095501044284,
          1.7837889696517968,
          1.0008351607024597,
          -0.46168031979142726,
          1.3271782726734083,
          2.001032828511582,
          0.18104520740451863,
          0.07607278043933337,
          0.012150073505268375,
          1.0314888401570066,
          0.3244018691322532,
          -1.0437563740670959,
          0.22308120034793186,
          -0.5687628668009141,
          -0.9127930415704587,
          0.8458472877920619,
          0.14415454796481716,
          -1.1736709357560084,
          0.34313864995514465,
          -0.602634191959899,
          0.5563158524785552,
          -1.165343612807023,
          -0.08173268124689238,
          -0.036486809060192464,
          -1.1904778317362985,
          -0.0022018469953823823,
          -0.5694555209780752,
          -0.05308030079432449,
          -0.46007973236753213,
          -0.4986614954268612,
          0.7260189289588955,
          -0.4936196250824067,
          1.1019966482757366,
          0.23198945850229563,
          -1.0017726051335556,
          1.8466841646874763,
          1.1291136907334574,
          0.5682481935400014
         ],
         "yaxis": "y10"
        },
        {
         "histfunc": "count",
         "histnorm": "",
         "marker": {
          "color": "rgba(50, 171, 96, 1.0)",
          "line": {
           "color": "#4D5663",
           "width": 1.3
          }
         },
         "name": "C",
         "nbinsx": 10,
         "opacity": 0.8,
         "orientation": "v",
         "type": "histogram",
         "x": [
          0.7037872124040211,
          0.3615164419960923,
          -0.25796356732018233,
          -0.14649850149540966,
          0.06960711828656779,
          -1.4797956295623294,
          1.4093816343792605,
          -0.12292851084529191,
          0.4457087614037588,
          1.1492393267257108,
          -0.6607372423425167,
          0.3286133234450696,
          0.6844361201743363,
          -1.2821564245328332,
          0.9336034745372883,
          0.5170244180169414,
          -0.36322526788529785,
          0.6326928489564475,
          0.9778826032160992,
          -1.1196178565981039,
          1.4220243758680577,
          -0.2359625190926601,
          -0.3856235058789063,
          -2.7714681723669736,
          0.5993442710286011,
          1.313751851859977,
          0.23812170074033143,
          -0.65276402808905,
          0.11650216296705335,
          0.848740310341407,
          0.7721043520227766,
          -0.11964967401429785,
          1.2833545963721653,
          -0.39028489654013715,
          0.44929433604559843,
          -0.8500207432254455,
          0.8668240055266053,
          -1.2182376917418116,
          0.06141342404514145,
          1.4478502562191544,
          0.5737480413240534,
          -0.6552953362360905,
          0.2983589390319965,
          0.09373422462001138,
          0.326302217729746,
          -0.022651186551612242,
          1.1572903812795914,
          0.6572929704731219,
          0.11371203404668388,
          -1.1595505702679845,
          0.11454164413476907,
          -0.2621559996633682,
          -2.733659449977352,
          0.4255699111247708,
          -0.780290504106477,
          -0.6628857830638748,
          0.6275755736024996,
          -1.3753939740673904,
          -0.9957235259791135,
          0.5932914399458847,
          0.024589120124802747,
          -0.5449197929959385,
          1.506095501044284,
          1.7837889696517968,
          1.0008351607024597,
          -0.46168031979142726,
          1.3271782726734083,
          2.001032828511582,
          0.18104520740451863,
          0.07607278043933337,
          0.012150073505268375,
          1.0314888401570066,
          0.3244018691322532,
          -1.0437563740670959,
          0.22308120034793186,
          -0.5687628668009141,
          -0.9127930415704587,
          0.8458472877920619,
          0.14415454796481716,
          -1.1736709357560084,
          0.34313864995514465,
          -0.602634191959899,
          0.5563158524785552,
          -1.165343612807023,
          -0.08173268124689238,
          -0.036486809060192464,
          -1.1904778317362985,
          -0.0022018469953823823,
          -0.5694555209780752,
          -0.05308030079432449,
          -0.46007973236753213,
          -0.4986614954268612,
          0.7260189289588955,
          -0.4936196250824067,
          1.1019966482757366,
          0.23198945850229563,
          -1.0017726051335556,
          1.8466841646874763,
          1.1291136907334574,
          0.5682481935400014
         ],
         "xaxis": "x11",
         "yaxis": "y11"
        },
        {
         "line": {
          "color": "rgba(128, 128, 128, 1.0)",
          "dash": "solid",
          "shape": "linear",
          "width": 1.3
         },
         "marker": {
          "size": 2,
          "symbol": "circle"
         },
         "mode": "markers",
         "name": "C",
         "text": "",
         "type": "scatter",
         "x": [
          -1.3079637980328176,
          0.22304179671406252,
          -1.6261857657059278,
          0.566633736372872,
          -0.7375295528108581,
          -0.011891636773831146,
          -0.5334663729786482,
          -0.8745242919479007,
          0.6601838725358815,
          -0.46117168118529,
          -1.091323363853244,
          0.058971366480316305,
          0.39663623918495505,
          -0.18846634909717566,
          -0.0009383025883428058,
          -0.9724822056607263,
          -0.5464925109530722,
          -1.4300209209976071,
          -2.110601196985954,
          -1.360140831455929,
          0.6156923193876411,
          2.952144430502897,
          0.35799135938249677,
          -1.3076649864823053,
          -0.24421516437156765,
          -0.4495674019298553,
          1.0883308746868876,
          0.22086598779162414,
          -0.06103902507281949,
          -1.9433420313160572,
          0.5320454554647426,
          1.3746252471198745,
          0.1305260543256214,
          -0.35948821874407155,
          2.5985690425949763,
          0.5281227862388681,
          -0.29379092552348296,
          -1.2078382264099154,
          -1.5423947096499546,
          0.030378907599932375,
          1.3872029083089668,
          0.3747549488569716,
          -0.2900210046765808,
          -0.14242653045860929,
          1.5503804524048688,
          -0.08392855934242163,
          -1.0690403826443478,
          -0.20834604239604584,
          -0.09818035454382804,
          0.3168105876871725,
          1.009833639624926,
          0.8587067451655745,
          -0.43934007517540874,
          0.7980055212707029,
          -1.689734238525958,
          0.48461811873357363,
          -1.572829926732365,
          -0.35922080469151785,
          1.2962907116808693,
          0.2736892788680549,
          3.1965962831799515,
          -0.2912210021565614,
          0.9585222615836765,
          -1.2697854325339617,
          0.7072656036562351,
          -0.23082594775710075,
          -0.22577058785054743,
          1.2459574919555987,
          -1.0519388128819473,
          -0.09165573316360198,
          -0.6909539481532403,
          -0.013276096848856419,
          0.6258963482059207,
          0.7335881536218917,
          0.28023350195795416,
          0.47135450155713254,
          0.6481523791535133,
          -1.1608341442253156,
          -0.09276120803432533,
          -1.2721575501285969,
          -0.61486417987658,
          1.6265152145697226,
          -0.8019205418967238,
          -0.11356554888258104,
          2.238142067136378,
          -0.06832978206592988,
          1.945118921953737,
          1.1022762120786647,
          -0.1427091716154867,
          -0.25541739714859335,
          -0.23461554130263676,
          0.0531409232553126,
          -0.6659059414090801,
          1.3984443801382258,
          -0.5536831919568412,
          0.08905645204001764,
          -0.3649672077103355,
          -0.19989719034607528,
          0.16132160822386446,
          0.6511501557245907
         ],
         "xaxis": "x12",
         "y": [
          0.7037872124040211,
          0.3615164419960923,
          -0.25796356732018233,
          -0.14649850149540966,
          0.06960711828656779,
          -1.4797956295623294,
          1.4093816343792605,
          -0.12292851084529191,
          0.4457087614037588,
          1.1492393267257108,
          -0.6607372423425167,
          0.3286133234450696,
          0.6844361201743363,
          -1.2821564245328332,
          0.9336034745372883,
          0.5170244180169414,
          -0.36322526788529785,
          0.6326928489564475,
          0.9778826032160992,
          -1.1196178565981039,
          1.4220243758680577,
          -0.2359625190926601,
          -0.3856235058789063,
          -2.7714681723669736,
          0.5993442710286011,
          1.313751851859977,
          0.23812170074033143,
          -0.65276402808905,
          0.11650216296705335,
          0.848740310341407,
          0.7721043520227766,
          -0.11964967401429785,
          1.2833545963721653,
          -0.39028489654013715,
          0.44929433604559843,
          -0.8500207432254455,
          0.8668240055266053,
          -1.2182376917418116,
          0.06141342404514145,
          1.4478502562191544,
          0.5737480413240534,
          -0.6552953362360905,
          0.2983589390319965,
          0.09373422462001138,
          0.326302217729746,
          -0.022651186551612242,
          1.1572903812795914,
          0.6572929704731219,
          0.11371203404668388,
          -1.1595505702679845,
          0.11454164413476907,
          -0.2621559996633682,
          -2.733659449977352,
          0.4255699111247708,
          -0.780290504106477,
          -0.6628857830638748,
          0.6275755736024996,
          -1.3753939740673904,
          -0.9957235259791135,
          0.5932914399458847,
          0.024589120124802747,
          -0.5449197929959385,
          1.506095501044284,
          1.7837889696517968,
          1.0008351607024597,
          -0.46168031979142726,
          1.3271782726734083,
          2.001032828511582,
          0.18104520740451863,
          0.07607278043933337,
          0.012150073505268375,
          1.0314888401570066,
          0.3244018691322532,
          -1.0437563740670959,
          0.22308120034793186,
          -0.5687628668009141,
          -0.9127930415704587,
          0.8458472877920619,
          0.14415454796481716,
          -1.1736709357560084,
          0.34313864995514465,
          -0.602634191959899,
          0.5563158524785552,
          -1.165343612807023,
          -0.08173268124689238,
          -0.036486809060192464,
          -1.1904778317362985,
          -0.0022018469953823823,
          -0.5694555209780752,
          -0.05308030079432449,
          -0.46007973236753213,
          -0.4986614954268612,
          0.7260189289588955,
          -0.4936196250824067,
          1.1019966482757366,
          0.23198945850229563,
          -1.0017726051335556,
          1.8466841646874763,
          1.1291136907334574,
          0.5682481935400014
         ],
         "yaxis": "y12"
        },
        {
         "line": {
          "color": "rgba(128, 128, 128, 1.0)",
          "dash": "solid",
          "shape": "linear",
          "width": 1.3
         },
         "marker": {
          "size": 2,
          "symbol": "circle"
         },
         "mode": "markers",
         "name": "D",
         "text": "",
         "type": "scatter",
         "x": [
          -0.20959528449674006,
          1.0313395209143585,
          1.1694348176263178,
          1.2609299556386497,
          0.9991395033571964,
          -2.605096456045387,
          0.4223200564889698,
          -0.1957775306388394,
          -0.5581225730329871,
          0.31374974544598283,
          -0.1094457539933965,
          0.8490037964381496,
          -0.1924499072203981,
          -0.7241729098994564,
          -1.537635679731419,
          -0.17928390076971523,
          -0.4654379085350427,
          0.14536975247776704,
          -0.4107308856713606,
          -0.31692807918550775,
          0.8541795096845612,
          -0.5411685133468052,
          1.6526300592340684,
          -0.3970649611176773,
          0.5537155926901607,
          0.09527358902101514,
          0.14643308884471226,
          -0.5952788954061516,
          1.8391170023050945,
          0.8599789829121285,
          0.14419695368764932,
          -3.7442569633057623,
          -0.3133723448373529,
          -0.16683141237592103,
          1.6188408185310394,
          0.6007304465359995,
          0.15187571991871177,
          0.07909127391112418,
          -0.19527530170401872,
          -1.7720594581677191,
          0.010435130962778887,
          -0.6984897154095291,
          0.298475241933431,
          -1.0324556631267123,
          -0.015196673014035973,
          0.24940100375673913,
          -1.5609631116868825,
          2.0752899982947026,
          -1.549922714712221,
          -0.04769669077299809,
          -0.13050979544132987,
          -1.3439932523872173,
          1.0161176621283028,
          0.22568439926107195,
          -1.1476615070110796,
          -0.5878368352865394,
          -0.238454936681599,
          1.0488599753027485,
          0.41705065187638135,
          0.9591773903586256,
          -1.3963563115579891,
          -0.9471610783203869,
          -1.2809323825176724,
          -0.2623463889448773,
          1.922978320621508,
          -1.2514220434971128,
          -0.9332967715496242,
          -2.17546410153974,
          1.4213253674153281,
          -0.18306555321065304,
          -0.8127274181256211,
          0.6210277858396868,
          0.6663719720223892,
          -0.21981687046950085,
          0.5232043156578947,
          1.3438976175293194,
          -0.40577896676652975,
          0.15087073518784777,
          0.14556340277596694,
          -0.8543803927110263,
          0.3939560017804806,
          0.16697514102575836,
          1.4058840116843392,
          0.4617877536009876,
          -1.5496801935445506,
          0.40769711945908343,
          0.2013369438901281,
          -1.1290823498859064,
          -0.6274727732033917,
          -1.4116748082720443,
          2.028067036128927,
          -0.06951536570078315,
          -0.39563856362339256,
          0.36572962567951944,
          0.2535557564640945,
          -0.592701403714788,
          -1.016758229530463,
          -0.6718010025615362,
          0.4816143914592303,
          1.6521186064972615
         ],
         "xaxis": "x13",
         "y": [
          -1.3079637980328176,
          0.22304179671406252,
          -1.6261857657059278,
          0.566633736372872,
          -0.7375295528108581,
          -0.011891636773831146,
          -0.5334663729786482,
          -0.8745242919479007,
          0.6601838725358815,
          -0.46117168118529,
          -1.091323363853244,
          0.058971366480316305,
          0.39663623918495505,
          -0.18846634909717566,
          -0.0009383025883428058,
          -0.9724822056607263,
          -0.5464925109530722,
          -1.4300209209976071,
          -2.110601196985954,
          -1.360140831455929,
          0.6156923193876411,
          2.952144430502897,
          0.35799135938249677,
          -1.3076649864823053,
          -0.24421516437156765,
          -0.4495674019298553,
          1.0883308746868876,
          0.22086598779162414,
          -0.06103902507281949,
          -1.9433420313160572,
          0.5320454554647426,
          1.3746252471198745,
          0.1305260543256214,
          -0.35948821874407155,
          2.5985690425949763,
          0.5281227862388681,
          -0.29379092552348296,
          -1.2078382264099154,
          -1.5423947096499546,
          0.030378907599932375,
          1.3872029083089668,
          0.3747549488569716,
          -0.2900210046765808,
          -0.14242653045860929,
          1.5503804524048688,
          -0.08392855934242163,
          -1.0690403826443478,
          -0.20834604239604584,
          -0.09818035454382804,
          0.3168105876871725,
          1.009833639624926,
          0.8587067451655745,
          -0.43934007517540874,
          0.7980055212707029,
          -1.689734238525958,
          0.48461811873357363,
          -1.572829926732365,
          -0.35922080469151785,
          1.2962907116808693,
          0.2736892788680549,
          3.1965962831799515,
          -0.2912210021565614,
          0.9585222615836765,
          -1.2697854325339617,
          0.7072656036562351,
          -0.23082594775710075,
          -0.22577058785054743,
          1.2459574919555987,
          -1.0519388128819473,
          -0.09165573316360198,
          -0.6909539481532403,
          -0.013276096848856419,
          0.6258963482059207,
          0.7335881536218917,
          0.28023350195795416,
          0.47135450155713254,
          0.6481523791535133,
          -1.1608341442253156,
          -0.09276120803432533,
          -1.2721575501285969,
          -0.61486417987658,
          1.6265152145697226,
          -0.8019205418967238,
          -0.11356554888258104,
          2.238142067136378,
          -0.06832978206592988,
          1.945118921953737,
          1.1022762120786647,
          -0.1427091716154867,
          -0.25541739714859335,
          -0.23461554130263676,
          0.0531409232553126,
          -0.6659059414090801,
          1.3984443801382258,
          -0.5536831919568412,
          0.08905645204001764,
          -0.3649672077103355,
          -0.19989719034607528,
          0.16132160822386446,
          0.6511501557245907
         ],
         "yaxis": "y13"
        },
        {
         "line": {
          "color": "rgba(128, 128, 128, 1.0)",
          "dash": "solid",
          "shape": "linear",
          "width": 1.3
         },
         "marker": {
          "size": 2,
          "symbol": "circle"
         },
         "mode": "markers",
         "name": "D",
         "text": "",
         "type": "scatter",
         "x": [
          -0.7711170330140517,
          1.1659865501781457,
          -0.4300031411390618,
          -0.0064054452231869525,
          0.3255392094205599,
          -0.13685000730308322,
          1.3525025871928738,
          -1.1801377046110144,
          0.13310747475016435,
          -0.2033148557477379,
          0.3985858186894083,
          -0.49967174213299737,
          1.1913324955300733,
          -0.5409914050548899,
          0.2925317562459309,
          0.8360201107862251,
          0.18953428471715764,
          0.7221778303206465,
          0.09852772787929902,
          1.796009975727251,
          -0.200185351958104,
          0.8157193832619373,
          -0.1933400843887641,
          1.8520919325558922,
          0.48262763547424403,
          1.0115524814755976,
          -0.1837829419916532,
          1.6131287615767995,
          -0.1399290536378075,
          -0.7323092982310786,
          1.2581832153458332,
          2.004782199651357,
          0.11020269700287254,
          -0.2922774652953534,
          -0.610069945082351,
          0.376461914005928,
          0.16718587783128971,
          -1.7189573746226192,
          -0.14068140841214077,
          1.8445706571915623,
          0.42144086795796415,
          1.0771232268496644,
          -0.4574308043895199,
          0.3920164861931366,
          -0.7846303851339075,
          1.1358033661771454,
          0.21984185047724739,
          0.7358382398522556,
          -0.5056098661504937,
          0.3322425140657405,
          -1.0908272200843647,
          0.16993227135855776,
          -2.575072543504373,
          0.7463990525576297,
          -1.3276249331690786,
          -0.19130903148690143,
          0.8888511368645764,
          -1.082223619851152,
          -0.8516922366750175,
          -0.35766740349138537,
          -0.39775115576126774,
          1.2904308354025236,
          -0.4728009835926884,
          0.221724087821145,
          0.3966944648807889,
          -1.2672930011199954,
          0.7680169250563473,
          1.1846181946893646,
          0.2475782480255661,
          0.4485690766180793,
          0.014156941787666289,
          1.661426609144996,
          -1.1495974510451685,
          -0.7147854341662139,
          -0.7107841704939886,
          1.3951354540947525,
          0.20924908903456235,
          -1.220282703449926,
          0.02557457473320523,
          1.6272253233610467,
          -0.4129400171413861,
          -0.30186719992529765,
          1.5662620317015126,
          -0.9805920717199543,
          1.7788994781114258,
          -0.07627410648600412,
          0.06756344975294166,
          0.15733547861968317,
          1.4312231564245395,
          0.5067488088525609,
          -1.3860888399177342,
          -0.35267863923003084,
          -0.9060374943352678,
          -1.470559344699383,
          -0.19821908459674648,
          -1.9227544591977332,
          0.2082346343431905,
          -1.2583923667864534,
          -0.8897041886487653,
          1.228047110760627
         ],
         "xaxis": "x14",
         "y": [
          -1.3079637980328176,
          0.22304179671406252,
          -1.6261857657059278,
          0.566633736372872,
          -0.7375295528108581,
          -0.011891636773831146,
          -0.5334663729786482,
          -0.8745242919479007,
          0.6601838725358815,
          -0.46117168118529,
          -1.091323363853244,
          0.058971366480316305,
          0.39663623918495505,
          -0.18846634909717566,
          -0.0009383025883428058,
          -0.9724822056607263,
          -0.5464925109530722,
          -1.4300209209976071,
          -2.110601196985954,
          -1.360140831455929,
          0.6156923193876411,
          2.952144430502897,
          0.35799135938249677,
          -1.3076649864823053,
          -0.24421516437156765,
          -0.4495674019298553,
          1.0883308746868876,
          0.22086598779162414,
          -0.06103902507281949,
          -1.9433420313160572,
          0.5320454554647426,
          1.3746252471198745,
          0.1305260543256214,
          -0.35948821874407155,
          2.5985690425949763,
          0.5281227862388681,
          -0.29379092552348296,
          -1.2078382264099154,
          -1.5423947096499546,
          0.030378907599932375,
          1.3872029083089668,
          0.3747549488569716,
          -0.2900210046765808,
          -0.14242653045860929,
          1.5503804524048688,
          -0.08392855934242163,
          -1.0690403826443478,
          -0.20834604239604584,
          -0.09818035454382804,
          0.3168105876871725,
          1.009833639624926,
          0.8587067451655745,
          -0.43934007517540874,
          0.7980055212707029,
          -1.689734238525958,
          0.48461811873357363,
          -1.572829926732365,
          -0.35922080469151785,
          1.2962907116808693,
          0.2736892788680549,
          3.1965962831799515,
          -0.2912210021565614,
          0.9585222615836765,
          -1.2697854325339617,
          0.7072656036562351,
          -0.23082594775710075,
          -0.22577058785054743,
          1.2459574919555987,
          -1.0519388128819473,
          -0.09165573316360198,
          -0.6909539481532403,
          -0.013276096848856419,
          0.6258963482059207,
          0.7335881536218917,
          0.28023350195795416,
          0.47135450155713254,
          0.6481523791535133,
          -1.1608341442253156,
          -0.09276120803432533,
          -1.2721575501285969,
          -0.61486417987658,
          1.6265152145697226,
          -0.8019205418967238,
          -0.11356554888258104,
          2.238142067136378,
          -0.06832978206592988,
          1.945118921953737,
          1.1022762120786647,
          -0.1427091716154867,
          -0.25541739714859335,
          -0.23461554130263676,
          0.0531409232553126,
          -0.6659059414090801,
          1.3984443801382258,
          -0.5536831919568412,
          0.08905645204001764,
          -0.3649672077103355,
          -0.19989719034607528,
          0.16132160822386446,
          0.6511501557245907
         ],
         "yaxis": "y14"
        },
        {
         "line": {
          "color": "rgba(128, 128, 128, 1.0)",
          "dash": "solid",
          "shape": "linear",
          "width": 1.3
         },
         "marker": {
          "size": 2,
          "symbol": "circle"
         },
         "mode": "markers",
         "name": "D",
         "text": "",
         "type": "scatter",
         "x": [
          0.7037872124040211,
          0.3615164419960923,
          -0.25796356732018233,
          -0.14649850149540966,
          0.06960711828656779,
          -1.4797956295623294,
          1.4093816343792605,
          -0.12292851084529191,
          0.4457087614037588,
          1.1492393267257108,
          -0.6607372423425167,
          0.3286133234450696,
          0.6844361201743363,
          -1.2821564245328332,
          0.9336034745372883,
          0.5170244180169414,
          -0.36322526788529785,
          0.6326928489564475,
          0.9778826032160992,
          -1.1196178565981039,
          1.4220243758680577,
          -0.2359625190926601,
          -0.3856235058789063,
          -2.7714681723669736,
          0.5993442710286011,
          1.313751851859977,
          0.23812170074033143,
          -0.65276402808905,
          0.11650216296705335,
          0.848740310341407,
          0.7721043520227766,
          -0.11964967401429785,
          1.2833545963721653,
          -0.39028489654013715,
          0.44929433604559843,
          -0.8500207432254455,
          0.8668240055266053,
          -1.2182376917418116,
          0.06141342404514145,
          1.4478502562191544,
          0.5737480413240534,
          -0.6552953362360905,
          0.2983589390319965,
          0.09373422462001138,
          0.326302217729746,
          -0.022651186551612242,
          1.1572903812795914,
          0.6572929704731219,
          0.11371203404668388,
          -1.1595505702679845,
          0.11454164413476907,
          -0.2621559996633682,
          -2.733659449977352,
          0.4255699111247708,
          -0.780290504106477,
          -0.6628857830638748,
          0.6275755736024996,
          -1.3753939740673904,
          -0.9957235259791135,
          0.5932914399458847,
          0.024589120124802747,
          -0.5449197929959385,
          1.506095501044284,
          1.7837889696517968,
          1.0008351607024597,
          -0.46168031979142726,
          1.3271782726734083,
          2.001032828511582,
          0.18104520740451863,
          0.07607278043933337,
          0.012150073505268375,
          1.0314888401570066,
          0.3244018691322532,
          -1.0437563740670959,
          0.22308120034793186,
          -0.5687628668009141,
          -0.9127930415704587,
          0.8458472877920619,
          0.14415454796481716,
          -1.1736709357560084,
          0.34313864995514465,
          -0.602634191959899,
          0.5563158524785552,
          -1.165343612807023,
          -0.08173268124689238,
          -0.036486809060192464,
          -1.1904778317362985,
          -0.0022018469953823823,
          -0.5694555209780752,
          -0.05308030079432449,
          -0.46007973236753213,
          -0.4986614954268612,
          0.7260189289588955,
          -0.4936196250824067,
          1.1019966482757366,
          0.23198945850229563,
          -1.0017726051335556,
          1.8466841646874763,
          1.1291136907334574,
          0.5682481935400014
         ],
         "xaxis": "x15",
         "y": [
          -1.3079637980328176,
          0.22304179671406252,
          -1.6261857657059278,
          0.566633736372872,
          -0.7375295528108581,
          -0.011891636773831146,
          -0.5334663729786482,
          -0.8745242919479007,
          0.6601838725358815,
          -0.46117168118529,
          -1.091323363853244,
          0.058971366480316305,
          0.39663623918495505,
          -0.18846634909717566,
          -0.0009383025883428058,
          -0.9724822056607263,
          -0.5464925109530722,
          -1.4300209209976071,
          -2.110601196985954,
          -1.360140831455929,
          0.6156923193876411,
          2.952144430502897,
          0.35799135938249677,
          -1.3076649864823053,
          -0.24421516437156765,
          -0.4495674019298553,
          1.0883308746868876,
          0.22086598779162414,
          -0.06103902507281949,
          -1.9433420313160572,
          0.5320454554647426,
          1.3746252471198745,
          0.1305260543256214,
          -0.35948821874407155,
          2.5985690425949763,
          0.5281227862388681,
          -0.29379092552348296,
          -1.2078382264099154,
          -1.5423947096499546,
          0.030378907599932375,
          1.3872029083089668,
          0.3747549488569716,
          -0.2900210046765808,
          -0.14242653045860929,
          1.5503804524048688,
          -0.08392855934242163,
          -1.0690403826443478,
          -0.20834604239604584,
          -0.09818035454382804,
          0.3168105876871725,
          1.009833639624926,
          0.8587067451655745,
          -0.43934007517540874,
          0.7980055212707029,
          -1.689734238525958,
          0.48461811873357363,
          -1.572829926732365,
          -0.35922080469151785,
          1.2962907116808693,
          0.2736892788680549,
          3.1965962831799515,
          -0.2912210021565614,
          0.9585222615836765,
          -1.2697854325339617,
          0.7072656036562351,
          -0.23082594775710075,
          -0.22577058785054743,
          1.2459574919555987,
          -1.0519388128819473,
          -0.09165573316360198,
          -0.6909539481532403,
          -0.013276096848856419,
          0.6258963482059207,
          0.7335881536218917,
          0.28023350195795416,
          0.47135450155713254,
          0.6481523791535133,
          -1.1608341442253156,
          -0.09276120803432533,
          -1.2721575501285969,
          -0.61486417987658,
          1.6265152145697226,
          -0.8019205418967238,
          -0.11356554888258104,
          2.238142067136378,
          -0.06832978206592988,
          1.945118921953737,
          1.1022762120786647,
          -0.1427091716154867,
          -0.25541739714859335,
          -0.23461554130263676,
          0.0531409232553126,
          -0.6659059414090801,
          1.3984443801382258,
          -0.5536831919568412,
          0.08905645204001764,
          -0.3649672077103355,
          -0.19989719034607528,
          0.16132160822386446,
          0.6511501557245907
         ],
         "yaxis": "y15"
        },
        {
         "histfunc": "count",
         "histnorm": "",
         "marker": {
          "color": "rgba(128, 0, 128, 1.0)",
          "line": {
           "color": "#4D5663",
           "width": 1.3
          }
         },
         "name": "D",
         "nbinsx": 10,
         "opacity": 0.8,
         "orientation": "v",
         "type": "histogram",
         "x": [
          -1.3079637980328176,
          0.22304179671406252,
          -1.6261857657059278,
          0.566633736372872,
          -0.7375295528108581,
          -0.011891636773831146,
          -0.5334663729786482,
          -0.8745242919479007,
          0.6601838725358815,
          -0.46117168118529,
          -1.091323363853244,
          0.058971366480316305,
          0.39663623918495505,
          -0.18846634909717566,
          -0.0009383025883428058,
          -0.9724822056607263,
          -0.5464925109530722,
          -1.4300209209976071,
          -2.110601196985954,
          -1.360140831455929,
          0.6156923193876411,
          2.952144430502897,
          0.35799135938249677,
          -1.3076649864823053,
          -0.24421516437156765,
          -0.4495674019298553,
          1.0883308746868876,
          0.22086598779162414,
          -0.06103902507281949,
          -1.9433420313160572,
          0.5320454554647426,
          1.3746252471198745,
          0.1305260543256214,
          -0.35948821874407155,
          2.5985690425949763,
          0.5281227862388681,
          -0.29379092552348296,
          -1.2078382264099154,
          -1.5423947096499546,
          0.030378907599932375,
          1.3872029083089668,
          0.3747549488569716,
          -0.2900210046765808,
          -0.14242653045860929,
          1.5503804524048688,
          -0.08392855934242163,
          -1.0690403826443478,
          -0.20834604239604584,
          -0.09818035454382804,
          0.3168105876871725,
          1.009833639624926,
          0.8587067451655745,
          -0.43934007517540874,
          0.7980055212707029,
          -1.689734238525958,
          0.48461811873357363,
          -1.572829926732365,
          -0.35922080469151785,
          1.2962907116808693,
          0.2736892788680549,
          3.1965962831799515,
          -0.2912210021565614,
          0.9585222615836765,
          -1.2697854325339617,
          0.7072656036562351,
          -0.23082594775710075,
          -0.22577058785054743,
          1.2459574919555987,
          -1.0519388128819473,
          -0.09165573316360198,
          -0.6909539481532403,
          -0.013276096848856419,
          0.6258963482059207,
          0.7335881536218917,
          0.28023350195795416,
          0.47135450155713254,
          0.6481523791535133,
          -1.1608341442253156,
          -0.09276120803432533,
          -1.2721575501285969,
          -0.61486417987658,
          1.6265152145697226,
          -0.8019205418967238,
          -0.11356554888258104,
          2.238142067136378,
          -0.06832978206592988,
          1.945118921953737,
          1.1022762120786647,
          -0.1427091716154867,
          -0.25541739714859335,
          -0.23461554130263676,
          0.0531409232553126,
          -0.6659059414090801,
          1.3984443801382258,
          -0.5536831919568412,
          0.08905645204001764,
          -0.3649672077103355,
          -0.19989719034607528,
          0.16132160822386446,
          0.6511501557245907
         ],
         "xaxis": "x16",
         "yaxis": "y16"
        }
       ],
       "layout": {
        "bargap": 0.02,
        "legend": {
         "bgcolor": "#F5F6F9",
         "font": {
          "color": "#4D5663"
         }
        },
        "paper_bgcolor": "#F5F6F9",
        "plot_bgcolor": "#F5F6F9",
        "showlegend": false,
        "template": {
         "data": {
          "bar": [
           {
            "error_x": {
             "color": "#2a3f5f"
            },
            "error_y": {
             "color": "#2a3f5f"
            },
            "marker": {
             "line": {
              "color": "#E5ECF6",
              "width": 0.5
             }
            },
            "type": "bar"
           }
          ],
          "barpolar": [
           {
            "marker": {
             "line": {
              "color": "#E5ECF6",
              "width": 0.5
             }
            },
            "type": "barpolar"
           }
          ],
          "carpet": [
           {
            "aaxis": {
             "endlinecolor": "#2a3f5f",
             "gridcolor": "white",
             "linecolor": "white",
             "minorgridcolor": "white",
             "startlinecolor": "#2a3f5f"
            },
            "baxis": {
             "endlinecolor": "#2a3f5f",
             "gridcolor": "white",
             "linecolor": "white",
             "minorgridcolor": "white",
             "startlinecolor": "#2a3f5f"
            },
            "type": "carpet"
           }
          ],
          "choropleth": [
           {
            "colorbar": {
             "outlinewidth": 0,
             "ticks": ""
            },
            "type": "choropleth"
           }
          ],
          "contour": [
           {
            "colorbar": {
             "outlinewidth": 0,
             "ticks": ""
            },
            "colorscale": [
             [
              0,
              "#0d0887"
             ],
             [
              0.1111111111111111,
              "#46039f"
             ],
             [
              0.2222222222222222,
              "#7201a8"
             ],
             [
              0.3333333333333333,
              "#9c179e"
             ],
             [
              0.4444444444444444,
              "#bd3786"
             ],
             [
              0.5555555555555556,
              "#d8576b"
             ],
             [
              0.6666666666666666,
              "#ed7953"
             ],
             [
              0.7777777777777778,
              "#fb9f3a"
             ],
             [
              0.8888888888888888,
              "#fdca26"
             ],
             [
              1,
              "#f0f921"
             ]
            ],
            "type": "contour"
           }
          ],
          "contourcarpet": [
           {
            "colorbar": {
             "outlinewidth": 0,
             "ticks": ""
            },
            "type": "contourcarpet"
           }
          ],
          "heatmap": [
           {
            "colorbar": {
             "outlinewidth": 0,
             "ticks": ""
            },
            "colorscale": [
             [
              0,
              "#0d0887"
             ],
             [
              0.1111111111111111,
              "#46039f"
             ],
             [
              0.2222222222222222,
              "#7201a8"
             ],
             [
              0.3333333333333333,
              "#9c179e"
             ],
             [
              0.4444444444444444,
              "#bd3786"
             ],
             [
              0.5555555555555556,
              "#d8576b"
             ],
             [
              0.6666666666666666,
              "#ed7953"
             ],
             [
              0.7777777777777778,
              "#fb9f3a"
             ],
             [
              0.8888888888888888,
              "#fdca26"
             ],
             [
              1,
              "#f0f921"
             ]
            ],
            "type": "heatmap"
           }
          ],
          "heatmapgl": [
           {
            "colorbar": {
             "outlinewidth": 0,
             "ticks": ""
            },
            "colorscale": [
             [
              0,
              "#0d0887"
             ],
             [
              0.1111111111111111,
              "#46039f"
             ],
             [
              0.2222222222222222,
              "#7201a8"
             ],
             [
              0.3333333333333333,
              "#9c179e"
             ],
             [
              0.4444444444444444,
              "#bd3786"
             ],
             [
              0.5555555555555556,
              "#d8576b"
             ],
             [
              0.6666666666666666,
              "#ed7953"
             ],
             [
              0.7777777777777778,
              "#fb9f3a"
             ],
             [
              0.8888888888888888,
              "#fdca26"
             ],
             [
              1,
              "#f0f921"
             ]
            ],
            "type": "heatmapgl"
           }
          ],
          "histogram": [
           {
            "marker": {
             "colorbar": {
              "outlinewidth": 0,
              "ticks": ""
             }
            },
            "type": "histogram"
           }
          ],
          "histogram2d": [
           {
            "colorbar": {
             "outlinewidth": 0,
             "ticks": ""
            },
            "colorscale": [
             [
              0,
              "#0d0887"
             ],
             [
              0.1111111111111111,
              "#46039f"
             ],
             [
              0.2222222222222222,
              "#7201a8"
             ],
             [
              0.3333333333333333,
              "#9c179e"
             ],
             [
              0.4444444444444444,
              "#bd3786"
             ],
             [
              0.5555555555555556,
              "#d8576b"
             ],
             [
              0.6666666666666666,
              "#ed7953"
             ],
             [
              0.7777777777777778,
              "#fb9f3a"
             ],
             [
              0.8888888888888888,
              "#fdca26"
             ],
             [
              1,
              "#f0f921"
             ]
            ],
            "type": "histogram2d"
           }
          ],
          "histogram2dcontour": [
           {
            "colorbar": {
             "outlinewidth": 0,
             "ticks": ""
            },
            "colorscale": [
             [
              0,
              "#0d0887"
             ],
             [
              0.1111111111111111,
              "#46039f"
             ],
             [
              0.2222222222222222,
              "#7201a8"
             ],
             [
              0.3333333333333333,
              "#9c179e"
             ],
             [
              0.4444444444444444,
              "#bd3786"
             ],
             [
              0.5555555555555556,
              "#d8576b"
             ],
             [
              0.6666666666666666,
              "#ed7953"
             ],
             [
              0.7777777777777778,
              "#fb9f3a"
             ],
             [
              0.8888888888888888,
              "#fdca26"
             ],
             [
              1,
              "#f0f921"
             ]
            ],
            "type": "histogram2dcontour"
           }
          ],
          "mesh3d": [
           {
            "colorbar": {
             "outlinewidth": 0,
             "ticks": ""
            },
            "type": "mesh3d"
           }
          ],
          "parcoords": [
           {
            "line": {
             "colorbar": {
              "outlinewidth": 0,
              "ticks": ""
             }
            },
            "type": "parcoords"
           }
          ],
          "pie": [
           {
            "automargin": true,
            "type": "pie"
           }
          ],
          "scatter": [
           {
            "marker": {
             "colorbar": {
              "outlinewidth": 0,
              "ticks": ""
             }
            },
            "type": "scatter"
           }
          ],
          "scatter3d": [
           {
            "line": {
             "colorbar": {
              "outlinewidth": 0,
              "ticks": ""
             }
            },
            "marker": {
             "colorbar": {
              "outlinewidth": 0,
              "ticks": ""
             }
            },
            "type": "scatter3d"
           }
          ],
          "scattercarpet": [
           {
            "marker": {
             "colorbar": {
              "outlinewidth": 0,
              "ticks": ""
             }
            },
            "type": "scattercarpet"
           }
          ],
          "scattergeo": [
           {
            "marker": {
             "colorbar": {
              "outlinewidth": 0,
              "ticks": ""
             }
            },
            "type": "scattergeo"
           }
          ],
          "scattergl": [
           {
            "marker": {
             "colorbar": {
              "outlinewidth": 0,
              "ticks": ""
             }
            },
            "type": "scattergl"
           }
          ],
          "scattermapbox": [
           {
            "marker": {
             "colorbar": {
              "outlinewidth": 0,
              "ticks": ""
             }
            },
            "type": "scattermapbox"
           }
          ],
          "scatterpolar": [
           {
            "marker": {
             "colorbar": {
              "outlinewidth": 0,
              "ticks": ""
             }
            },
            "type": "scatterpolar"
           }
          ],
          "scatterpolargl": [
           {
            "marker": {
             "colorbar": {
              "outlinewidth": 0,
              "ticks": ""
             }
            },
            "type": "scatterpolargl"
           }
          ],
          "scatterternary": [
           {
            "marker": {
             "colorbar": {
              "outlinewidth": 0,
              "ticks": ""
             }
            },
            "type": "scatterternary"
           }
          ],
          "surface": [
           {
            "colorbar": {
             "outlinewidth": 0,
             "ticks": ""
            },
            "colorscale": [
             [
              0,
              "#0d0887"
             ],
             [
              0.1111111111111111,
              "#46039f"
             ],
             [
              0.2222222222222222,
              "#7201a8"
             ],
             [
              0.3333333333333333,
              "#9c179e"
             ],
             [
              0.4444444444444444,
              "#bd3786"
             ],
             [
              0.5555555555555556,
              "#d8576b"
             ],
             [
              0.6666666666666666,
              "#ed7953"
             ],
             [
              0.7777777777777778,
              "#fb9f3a"
             ],
             [
              0.8888888888888888,
              "#fdca26"
             ],
             [
              1,
              "#f0f921"
             ]
            ],
            "type": "surface"
           }
          ],
          "table": [
           {
            "cells": {
             "fill": {
              "color": "#EBF0F8"
             },
             "line": {
              "color": "white"
             }
            },
            "header": {
             "fill": {
              "color": "#C8D4E3"
             },
             "line": {
              "color": "white"
             }
            },
            "type": "table"
           }
          ]
         },
         "layout": {
          "annotationdefaults": {
           "arrowcolor": "#2a3f5f",
           "arrowhead": 0,
           "arrowwidth": 1
          },
          "coloraxis": {
           "colorbar": {
            "outlinewidth": 0,
            "ticks": ""
           }
          },
          "colorscale": {
           "diverging": [
            [
             0,
             "#8e0152"
            ],
            [
             0.1,
             "#c51b7d"
            ],
            [
             0.2,
             "#de77ae"
            ],
            [
             0.3,
             "#f1b6da"
            ],
            [
             0.4,
             "#fde0ef"
            ],
            [
             0.5,
             "#f7f7f7"
            ],
            [
             0.6,
             "#e6f5d0"
            ],
            [
             0.7,
             "#b8e186"
            ],
            [
             0.8,
             "#7fbc41"
            ],
            [
             0.9,
             "#4d9221"
            ],
            [
             1,
             "#276419"
            ]
           ],
           "sequential": [
            [
             0,
             "#0d0887"
            ],
            [
             0.1111111111111111,
             "#46039f"
            ],
            [
             0.2222222222222222,
             "#7201a8"
            ],
            [
             0.3333333333333333,
             "#9c179e"
            ],
            [
             0.4444444444444444,
             "#bd3786"
            ],
            [
             0.5555555555555556,
             "#d8576b"
            ],
            [
             0.6666666666666666,
             "#ed7953"
            ],
            [
             0.7777777777777778,
             "#fb9f3a"
            ],
            [
             0.8888888888888888,
             "#fdca26"
            ],
            [
             1,
             "#f0f921"
            ]
           ],
           "sequentialminus": [
            [
             0,
             "#0d0887"
            ],
            [
             0.1111111111111111,
             "#46039f"
            ],
            [
             0.2222222222222222,
             "#7201a8"
            ],
            [
             0.3333333333333333,
             "#9c179e"
            ],
            [
             0.4444444444444444,
             "#bd3786"
            ],
            [
             0.5555555555555556,
             "#d8576b"
            ],
            [
             0.6666666666666666,
             "#ed7953"
            ],
            [
             0.7777777777777778,
             "#fb9f3a"
            ],
            [
             0.8888888888888888,
             "#fdca26"
            ],
            [
             1,
             "#f0f921"
            ]
           ]
          },
          "colorway": [
           "#636efa",
           "#EF553B",
           "#00cc96",
           "#ab63fa",
           "#FFA15A",
           "#19d3f3",
           "#FF6692",
           "#B6E880",
           "#FF97FF",
           "#FECB52"
          ],
          "font": {
           "color": "#2a3f5f"
          },
          "geo": {
           "bgcolor": "white",
           "lakecolor": "white",
           "landcolor": "#E5ECF6",
           "showlakes": true,
           "showland": true,
           "subunitcolor": "white"
          },
          "hoverlabel": {
           "align": "left"
          },
          "hovermode": "closest",
          "mapbox": {
           "style": "light"
          },
          "paper_bgcolor": "white",
          "plot_bgcolor": "#E5ECF6",
          "polar": {
           "angularaxis": {
            "gridcolor": "white",
            "linecolor": "white",
            "ticks": ""
           },
           "bgcolor": "#E5ECF6",
           "radialaxis": {
            "gridcolor": "white",
            "linecolor": "white",
            "ticks": ""
           }
          },
          "scene": {
           "xaxis": {
            "backgroundcolor": "#E5ECF6",
            "gridcolor": "white",
            "gridwidth": 2,
            "linecolor": "white",
            "showbackground": true,
            "ticks": "",
            "zerolinecolor": "white"
           },
           "yaxis": {
            "backgroundcolor": "#E5ECF6",
            "gridcolor": "white",
            "gridwidth": 2,
            "linecolor": "white",
            "showbackground": true,
            "ticks": "",
            "zerolinecolor": "white"
           },
           "zaxis": {
            "backgroundcolor": "#E5ECF6",
            "gridcolor": "white",
            "gridwidth": 2,
            "linecolor": "white",
            "showbackground": true,
            "ticks": "",
            "zerolinecolor": "white"
           }
          },
          "shapedefaults": {
           "line": {
            "color": "#2a3f5f"
           }
          },
          "ternary": {
           "aaxis": {
            "gridcolor": "white",
            "linecolor": "white",
            "ticks": ""
           },
           "baxis": {
            "gridcolor": "white",
            "linecolor": "white",
            "ticks": ""
           },
           "bgcolor": "#E5ECF6",
           "caxis": {
            "gridcolor": "white",
            "linecolor": "white",
            "ticks": ""
           }
          },
          "title": {
           "x": 0.05
          },
          "xaxis": {
           "automargin": true,
           "gridcolor": "white",
           "linecolor": "white",
           "ticks": "",
           "title": {
            "standoff": 15
           },
           "zerolinecolor": "white",
           "zerolinewidth": 2
          },
          "yaxis": {
           "automargin": true,
           "gridcolor": "white",
           "linecolor": "white",
           "ticks": "",
           "title": {
            "standoff": 15
           },
           "zerolinecolor": "white",
           "zerolinewidth": 2
          }
         }
        },
        "title": {
         "font": {
          "color": "#4D5663"
         }
        },
        "xaxis": {
         "anchor": "y",
         "domain": [
          0,
          0.2125
         ],
         "gridcolor": "#E1E5ED",
         "showgrid": false,
         "tickfont": {
          "color": "#4D5663"
         },
         "title": {
          "font": {
           "color": "#4D5663"
          },
          "text": ""
         },
         "zerolinecolor": "#E1E5ED"
        },
        "xaxis10": {
         "anchor": "y10",
         "domain": [
          0.2625,
          0.475
         ],
         "gridcolor": "#E1E5ED",
         "showgrid": false,
         "tickfont": {
          "color": "#4D5663"
         },
         "title": {
          "font": {
           "color": "#4D5663"
          },
          "text": ""
         },
         "zerolinecolor": "#E1E5ED"
        },
        "xaxis11": {
         "anchor": "y11",
         "domain": [
          0.525,
          0.7375
         ],
         "gridcolor": "#E1E5ED",
         "showgrid": false,
         "tickfont": {
          "color": "#4D5663"
         },
         "title": {
          "font": {
           "color": "#4D5663"
          },
          "text": ""
         },
         "zerolinecolor": "#E1E5ED"
        },
        "xaxis12": {
         "anchor": "y12",
         "domain": [
          0.7875,
          1
         ],
         "gridcolor": "#E1E5ED",
         "showgrid": false,
         "tickfont": {
          "color": "#4D5663"
         },
         "title": {
          "font": {
           "color": "#4D5663"
          },
          "text": ""
         },
         "zerolinecolor": "#E1E5ED"
        },
        "xaxis13": {
         "anchor": "y13",
         "domain": [
          0,
          0.2125
         ],
         "gridcolor": "#E1E5ED",
         "showgrid": false,
         "tickfont": {
          "color": "#4D5663"
         },
         "title": {
          "font": {
           "color": "#4D5663"
          },
          "text": ""
         },
         "zerolinecolor": "#E1E5ED"
        },
        "xaxis14": {
         "anchor": "y14",
         "domain": [
          0.2625,
          0.475
         ],
         "gridcolor": "#E1E5ED",
         "showgrid": false,
         "tickfont": {
          "color": "#4D5663"
         },
         "title": {
          "font": {
           "color": "#4D5663"
          },
          "text": ""
         },
         "zerolinecolor": "#E1E5ED"
        },
        "xaxis15": {
         "anchor": "y15",
         "domain": [
          0.525,
          0.7375
         ],
         "gridcolor": "#E1E5ED",
         "showgrid": false,
         "tickfont": {
          "color": "#4D5663"
         },
         "title": {
          "font": {
           "color": "#4D5663"
          },
          "text": ""
         },
         "zerolinecolor": "#E1E5ED"
        },
        "xaxis16": {
         "anchor": "y16",
         "domain": [
          0.7875,
          1
         ],
         "gridcolor": "#E1E5ED",
         "showgrid": false,
         "tickfont": {
          "color": "#4D5663"
         },
         "title": {
          "font": {
           "color": "#4D5663"
          },
          "text": ""
         },
         "zerolinecolor": "#E1E5ED"
        },
        "xaxis2": {
         "anchor": "y2",
         "domain": [
          0.2625,
          0.475
         ],
         "gridcolor": "#E1E5ED",
         "showgrid": false,
         "tickfont": {
          "color": "#4D5663"
         },
         "title": {
          "font": {
           "color": "#4D5663"
          },
          "text": ""
         },
         "zerolinecolor": "#E1E5ED"
        },
        "xaxis3": {
         "anchor": "y3",
         "domain": [
          0.525,
          0.7375
         ],
         "gridcolor": "#E1E5ED",
         "showgrid": false,
         "tickfont": {
          "color": "#4D5663"
         },
         "title": {
          "font": {
           "color": "#4D5663"
          },
          "text": ""
         },
         "zerolinecolor": "#E1E5ED"
        },
        "xaxis4": {
         "anchor": "y4",
         "domain": [
          0.7875,
          1
         ],
         "gridcolor": "#E1E5ED",
         "showgrid": false,
         "tickfont": {
          "color": "#4D5663"
         },
         "title": {
          "font": {
           "color": "#4D5663"
          },
          "text": ""
         },
         "zerolinecolor": "#E1E5ED"
        },
        "xaxis5": {
         "anchor": "y5",
         "domain": [
          0,
          0.2125
         ],
         "gridcolor": "#E1E5ED",
         "showgrid": false,
         "tickfont": {
          "color": "#4D5663"
         },
         "title": {
          "font": {
           "color": "#4D5663"
          },
          "text": ""
         },
         "zerolinecolor": "#E1E5ED"
        },
        "xaxis6": {
         "anchor": "y6",
         "domain": [
          0.2625,
          0.475
         ],
         "gridcolor": "#E1E5ED",
         "showgrid": false,
         "tickfont": {
          "color": "#4D5663"
         },
         "title": {
          "font": {
           "color": "#4D5663"
          },
          "text": ""
         },
         "zerolinecolor": "#E1E5ED"
        },
        "xaxis7": {
         "anchor": "y7",
         "domain": [
          0.525,
          0.7375
         ],
         "gridcolor": "#E1E5ED",
         "showgrid": false,
         "tickfont": {
          "color": "#4D5663"
         },
         "title": {
          "font": {
           "color": "#4D5663"
          },
          "text": ""
         },
         "zerolinecolor": "#E1E5ED"
        },
        "xaxis8": {
         "anchor": "y8",
         "domain": [
          0.7875,
          1
         ],
         "gridcolor": "#E1E5ED",
         "showgrid": false,
         "tickfont": {
          "color": "#4D5663"
         },
         "title": {
          "font": {
           "color": "#4D5663"
          },
          "text": ""
         },
         "zerolinecolor": "#E1E5ED"
        },
        "xaxis9": {
         "anchor": "y9",
         "domain": [
          0,
          0.2125
         ],
         "gridcolor": "#E1E5ED",
         "showgrid": false,
         "tickfont": {
          "color": "#4D5663"
         },
         "title": {
          "font": {
           "color": "#4D5663"
          },
          "text": ""
         },
         "zerolinecolor": "#E1E5ED"
        },
        "yaxis": {
         "anchor": "x",
         "domain": [
          0.8025,
          1
         ],
         "gridcolor": "#E1E5ED",
         "showgrid": false,
         "tickfont": {
          "color": "#4D5663"
         },
         "title": {
          "font": {
           "color": "#4D5663"
          },
          "text": ""
         },
         "zerolinecolor": "#E1E5ED"
        },
        "yaxis10": {
         "anchor": "x10",
         "domain": [
          0.2675,
          0.465
         ],
         "gridcolor": "#E1E5ED",
         "showgrid": false,
         "tickfont": {
          "color": "#4D5663"
         },
         "title": {
          "font": {
           "color": "#4D5663"
          },
          "text": ""
         },
         "zerolinecolor": "#E1E5ED"
        },
        "yaxis11": {
         "anchor": "x11",
         "domain": [
          0.2675,
          0.465
         ],
         "gridcolor": "#E1E5ED",
         "showgrid": false,
         "tickfont": {
          "color": "#4D5663"
         },
         "title": {
          "font": {
           "color": "#4D5663"
          },
          "text": ""
         },
         "zerolinecolor": "#E1E5ED"
        },
        "yaxis12": {
         "anchor": "x12",
         "domain": [
          0.2675,
          0.465
         ],
         "gridcolor": "#E1E5ED",
         "showgrid": false,
         "tickfont": {
          "color": "#4D5663"
         },
         "title": {
          "font": {
           "color": "#4D5663"
          },
          "text": ""
         },
         "zerolinecolor": "#E1E5ED"
        },
        "yaxis13": {
         "anchor": "x13",
         "domain": [
          0,
          0.1975
         ],
         "gridcolor": "#E1E5ED",
         "showgrid": false,
         "tickfont": {
          "color": "#4D5663"
         },
         "title": {
          "font": {
           "color": "#4D5663"
          },
          "text": ""
         },
         "zerolinecolor": "#E1E5ED"
        },
        "yaxis14": {
         "anchor": "x14",
         "domain": [
          0,
          0.1975
         ],
         "gridcolor": "#E1E5ED",
         "showgrid": false,
         "tickfont": {
          "color": "#4D5663"
         },
         "title": {
          "font": {
           "color": "#4D5663"
          },
          "text": ""
         },
         "zerolinecolor": "#E1E5ED"
        },
        "yaxis15": {
         "anchor": "x15",
         "domain": [
          0,
          0.1975
         ],
         "gridcolor": "#E1E5ED",
         "showgrid": false,
         "tickfont": {
          "color": "#4D5663"
         },
         "title": {
          "font": {
           "color": "#4D5663"
          },
          "text": ""
         },
         "zerolinecolor": "#E1E5ED"
        },
        "yaxis16": {
         "anchor": "x16",
         "domain": [
          0,
          0.1975
         ],
         "gridcolor": "#E1E5ED",
         "showgrid": false,
         "tickfont": {
          "color": "#4D5663"
         },
         "title": {
          "font": {
           "color": "#4D5663"
          },
          "text": ""
         },
         "zerolinecolor": "#E1E5ED"
        },
        "yaxis2": {
         "anchor": "x2",
         "domain": [
          0.8025,
          1
         ],
         "gridcolor": "#E1E5ED",
         "showgrid": false,
         "tickfont": {
          "color": "#4D5663"
         },
         "title": {
          "font": {
           "color": "#4D5663"
          },
          "text": ""
         },
         "zerolinecolor": "#E1E5ED"
        },
        "yaxis3": {
         "anchor": "x3",
         "domain": [
          0.8025,
          1
         ],
         "gridcolor": "#E1E5ED",
         "showgrid": false,
         "tickfont": {
          "color": "#4D5663"
         },
         "title": {
          "font": {
           "color": "#4D5663"
          },
          "text": ""
         },
         "zerolinecolor": "#E1E5ED"
        },
        "yaxis4": {
         "anchor": "x4",
         "domain": [
          0.8025,
          1
         ],
         "gridcolor": "#E1E5ED",
         "showgrid": false,
         "tickfont": {
          "color": "#4D5663"
         },
         "title": {
          "font": {
           "color": "#4D5663"
          },
          "text": ""
         },
         "zerolinecolor": "#E1E5ED"
        },
        "yaxis5": {
         "anchor": "x5",
         "domain": [
          0.535,
          0.7325
         ],
         "gridcolor": "#E1E5ED",
         "showgrid": false,
         "tickfont": {
          "color": "#4D5663"
         },
         "title": {
          "font": {
           "color": "#4D5663"
          },
          "text": ""
         },
         "zerolinecolor": "#E1E5ED"
        },
        "yaxis6": {
         "anchor": "x6",
         "domain": [
          0.535,
          0.7325
         ],
         "gridcolor": "#E1E5ED",
         "showgrid": false,
         "tickfont": {
          "color": "#4D5663"
         },
         "title": {
          "font": {
           "color": "#4D5663"
          },
          "text": ""
         },
         "zerolinecolor": "#E1E5ED"
        },
        "yaxis7": {
         "anchor": "x7",
         "domain": [
          0.535,
          0.7325
         ],
         "gridcolor": "#E1E5ED",
         "showgrid": false,
         "tickfont": {
          "color": "#4D5663"
         },
         "title": {
          "font": {
           "color": "#4D5663"
          },
          "text": ""
         },
         "zerolinecolor": "#E1E5ED"
        },
        "yaxis8": {
         "anchor": "x8",
         "domain": [
          0.535,
          0.7325
         ],
         "gridcolor": "#E1E5ED",
         "showgrid": false,
         "tickfont": {
          "color": "#4D5663"
         },
         "title": {
          "font": {
           "color": "#4D5663"
          },
          "text": ""
         },
         "zerolinecolor": "#E1E5ED"
        },
        "yaxis9": {
         "anchor": "x9",
         "domain": [
          0.2675,
          0.465
         ],
         "gridcolor": "#E1E5ED",
         "showgrid": false,
         "tickfont": {
          "color": "#4D5663"
         },
         "title": {
          "font": {
           "color": "#4D5663"
          },
          "text": ""
         },
         "zerolinecolor": "#E1E5ED"
        }
       }
      },
      "text/html": "<div>\n        \n        \n            <div id=\"a8ae2757-44b5-480b-a745-cc3bede3ecf1\" class=\"plotly-graph-div\" style=\"height:525px; width:100%;\"></div>\n            <script type=\"text/javascript\">\n                require([\"plotly\"], function(Plotly) {\n                    window.PLOTLYENV=window.PLOTLYENV || {};\n                    window.PLOTLYENV.BASE_URL='https://plot.ly';\n                    \n                if (document.getElementById(\"a8ae2757-44b5-480b-a745-cc3bede3ecf1\")) {\n                    Plotly.newPlot(\n                        'a8ae2757-44b5-480b-a745-cc3bede3ecf1',\n                        [{\"histfunc\": \"count\", \"histnorm\": \"\", \"marker\": {\"color\": \"rgba(255, 153, 51, 1.0)\", \"line\": {\"color\": \"#4D5663\", \"width\": 1.3}}, \"name\": \"A\", \"nbinsx\": 10, \"opacity\": 0.8, \"orientation\": \"v\", \"type\": \"histogram\", \"x\": [-0.20959528449674006, 1.0313395209143585, 1.1694348176263178, 1.2609299556386497, 0.9991395033571964, -2.605096456045387, 0.4223200564889698, -0.1957775306388394, -0.5581225730329871, 0.31374974544598283, -0.1094457539933965, 0.8490037964381496, -0.1924499072203981, -0.7241729098994564, -1.537635679731419, -0.17928390076971523, -0.4654379085350427, 0.14536975247776704, -0.4107308856713606, -0.31692807918550775, 0.8541795096845612, -0.5411685133468052, 1.6526300592340684, -0.3970649611176773, 0.5537155926901607, 0.09527358902101514, 0.14643308884471226, -0.5952788954061516, 1.8391170023050945, 0.8599789829121285, 0.14419695368764932, -3.7442569633057623, -0.3133723448373529, -0.16683141237592103, 1.6188408185310394, 0.6007304465359995, 0.15187571991871177, 0.07909127391112418, -0.19527530170401872, -1.7720594581677191, 0.010435130962778887, -0.6984897154095291, 0.298475241933431, -1.0324556631267123, -0.015196673014035973, 0.24940100375673913, -1.5609631116868825, 2.0752899982947026, -1.549922714712221, -0.04769669077299809, -0.13050979544132987, -1.3439932523872173, 1.0161176621283028, 0.22568439926107195, -1.1476615070110796, -0.5878368352865394, -0.238454936681599, 1.0488599753027485, 0.41705065187638135, 0.9591773903586256, -1.3963563115579891, -0.9471610783203869, -1.2809323825176724, -0.2623463889448773, 1.922978320621508, -1.2514220434971128, -0.9332967715496242, -2.17546410153974, 1.4213253674153281, -0.18306555321065304, -0.8127274181256211, 0.6210277858396868, 0.6663719720223892, -0.21981687046950085, 0.5232043156578947, 1.3438976175293194, -0.40577896676652975, 0.15087073518784777, 0.14556340277596694, -0.8543803927110263, 0.3939560017804806, 0.16697514102575836, 1.4058840116843392, 0.4617877536009876, -1.5496801935445506, 0.40769711945908343, 0.2013369438901281, -1.1290823498859064, -0.6274727732033917, -1.4116748082720443, 2.028067036128927, -0.06951536570078315, -0.39563856362339256, 0.36572962567951944, 0.2535557564640945, -0.592701403714788, -1.016758229530463, -0.6718010025615362, 0.4816143914592303, 1.6521186064972615], \"xaxis\": \"x\", \"yaxis\": \"y\"}, {\"line\": {\"color\": \"rgba(128, 128, 128, 1.0)\", \"dash\": \"solid\", \"shape\": \"linear\", \"width\": 1.3}, \"marker\": {\"size\": 2, \"symbol\": \"circle\"}, \"mode\": \"markers\", \"name\": \"A\", \"text\": \"\", \"type\": \"scatter\", \"x\": [-0.7711170330140517, 1.1659865501781457, -0.4300031411390618, -0.0064054452231869525, 0.3255392094205599, -0.13685000730308322, 1.3525025871928738, -1.1801377046110144, 0.13310747475016435, -0.2033148557477379, 0.3985858186894083, -0.49967174213299737, 1.1913324955300733, -0.5409914050548899, 0.2925317562459309, 0.8360201107862251, 0.18953428471715764, 0.7221778303206465, 0.09852772787929902, 1.796009975727251, -0.200185351958104, 0.8157193832619373, -0.1933400843887641, 1.8520919325558922, 0.48262763547424403, 1.0115524814755976, -0.1837829419916532, 1.6131287615767995, -0.1399290536378075, -0.7323092982310786, 1.2581832153458332, 2.004782199651357, 0.11020269700287254, -0.2922774652953534, -0.610069945082351, 0.376461914005928, 0.16718587783128971, -1.7189573746226192, -0.14068140841214077, 1.8445706571915623, 0.42144086795796415, 1.0771232268496644, -0.4574308043895199, 0.3920164861931366, -0.7846303851339075, 1.1358033661771454, 0.21984185047724739, 0.7358382398522556, -0.5056098661504937, 0.3322425140657405, -1.0908272200843647, 0.16993227135855776, -2.575072543504373, 0.7463990525576297, -1.3276249331690786, -0.19130903148690143, 0.8888511368645764, -1.082223619851152, -0.8516922366750175, -0.35766740349138537, -0.39775115576126774, 1.2904308354025236, -0.4728009835926884, 0.221724087821145, 0.3966944648807889, -1.2672930011199954, 0.7680169250563473, 1.1846181946893646, 0.2475782480255661, 0.4485690766180793, 0.014156941787666289, 1.661426609144996, -1.1495974510451685, -0.7147854341662139, -0.7107841704939886, 1.3951354540947525, 0.20924908903456235, -1.220282703449926, 0.02557457473320523, 1.6272253233610467, -0.4129400171413861, -0.30186719992529765, 1.5662620317015126, -0.9805920717199543, 1.7788994781114258, -0.07627410648600412, 0.06756344975294166, 0.15733547861968317, 1.4312231564245395, 0.5067488088525609, -1.3860888399177342, -0.35267863923003084, -0.9060374943352678, -1.470559344699383, -0.19821908459674648, -1.9227544591977332, 0.2082346343431905, -1.2583923667864534, -0.8897041886487653, 1.228047110760627], \"xaxis\": \"x2\", \"y\": [-0.20959528449674006, 1.0313395209143585, 1.1694348176263178, 1.2609299556386497, 0.9991395033571964, -2.605096456045387, 0.4223200564889698, -0.1957775306388394, -0.5581225730329871, 0.31374974544598283, -0.1094457539933965, 0.8490037964381496, -0.1924499072203981, -0.7241729098994564, -1.537635679731419, -0.17928390076971523, -0.4654379085350427, 0.14536975247776704, -0.4107308856713606, -0.31692807918550775, 0.8541795096845612, -0.5411685133468052, 1.6526300592340684, -0.3970649611176773, 0.5537155926901607, 0.09527358902101514, 0.14643308884471226, -0.5952788954061516, 1.8391170023050945, 0.8599789829121285, 0.14419695368764932, -3.7442569633057623, -0.3133723448373529, -0.16683141237592103, 1.6188408185310394, 0.6007304465359995, 0.15187571991871177, 0.07909127391112418, -0.19527530170401872, -1.7720594581677191, 0.010435130962778887, -0.6984897154095291, 0.298475241933431, -1.0324556631267123, -0.015196673014035973, 0.24940100375673913, -1.5609631116868825, 2.0752899982947026, -1.549922714712221, -0.04769669077299809, -0.13050979544132987, -1.3439932523872173, 1.0161176621283028, 0.22568439926107195, -1.1476615070110796, -0.5878368352865394, -0.238454936681599, 1.0488599753027485, 0.41705065187638135, 0.9591773903586256, -1.3963563115579891, -0.9471610783203869, -1.2809323825176724, -0.2623463889448773, 1.922978320621508, -1.2514220434971128, -0.9332967715496242, -2.17546410153974, 1.4213253674153281, -0.18306555321065304, -0.8127274181256211, 0.6210277858396868, 0.6663719720223892, -0.21981687046950085, 0.5232043156578947, 1.3438976175293194, -0.40577896676652975, 0.15087073518784777, 0.14556340277596694, -0.8543803927110263, 0.3939560017804806, 0.16697514102575836, 1.4058840116843392, 0.4617877536009876, -1.5496801935445506, 0.40769711945908343, 0.2013369438901281, -1.1290823498859064, -0.6274727732033917, -1.4116748082720443, 2.028067036128927, -0.06951536570078315, -0.39563856362339256, 0.36572962567951944, 0.2535557564640945, -0.592701403714788, -1.016758229530463, -0.6718010025615362, 0.4816143914592303, 1.6521186064972615], \"yaxis\": \"y2\"}, {\"line\": {\"color\": \"rgba(128, 128, 128, 1.0)\", \"dash\": \"solid\", \"shape\": \"linear\", \"width\": 1.3}, \"marker\": {\"size\": 2, \"symbol\": \"circle\"}, \"mode\": \"markers\", \"name\": \"A\", \"text\": \"\", \"type\": \"scatter\", \"x\": [0.7037872124040211, 0.3615164419960923, -0.25796356732018233, -0.14649850149540966, 0.06960711828656779, -1.4797956295623294, 1.4093816343792605, -0.12292851084529191, 0.4457087614037588, 1.1492393267257108, -0.6607372423425167, 0.3286133234450696, 0.6844361201743363, -1.2821564245328332, 0.9336034745372883, 0.5170244180169414, -0.36322526788529785, 0.6326928489564475, 0.9778826032160992, -1.1196178565981039, 1.4220243758680577, -0.2359625190926601, -0.3856235058789063, -2.7714681723669736, 0.5993442710286011, 1.313751851859977, 0.23812170074033143, -0.65276402808905, 0.11650216296705335, 0.848740310341407, 0.7721043520227766, -0.11964967401429785, 1.2833545963721653, -0.39028489654013715, 0.44929433604559843, -0.8500207432254455, 0.8668240055266053, -1.2182376917418116, 0.06141342404514145, 1.4478502562191544, 0.5737480413240534, -0.6552953362360905, 0.2983589390319965, 0.09373422462001138, 0.326302217729746, -0.022651186551612242, 1.1572903812795914, 0.6572929704731219, 0.11371203404668388, -1.1595505702679845, 0.11454164413476907, -0.2621559996633682, -2.733659449977352, 0.4255699111247708, -0.780290504106477, -0.6628857830638748, 0.6275755736024996, -1.3753939740673904, -0.9957235259791135, 0.5932914399458847, 0.024589120124802747, -0.5449197929959385, 1.506095501044284, 1.7837889696517968, 1.0008351607024597, -0.46168031979142726, 1.3271782726734083, 2.001032828511582, 0.18104520740451863, 0.07607278043933337, 0.012150073505268375, 1.0314888401570066, 0.3244018691322532, -1.0437563740670959, 0.22308120034793186, -0.5687628668009141, -0.9127930415704587, 0.8458472877920619, 0.14415454796481716, -1.1736709357560084, 0.34313864995514465, -0.602634191959899, 0.5563158524785552, -1.165343612807023, -0.08173268124689238, -0.036486809060192464, -1.1904778317362985, -0.0022018469953823823, -0.5694555209780752, -0.05308030079432449, -0.46007973236753213, -0.4986614954268612, 0.7260189289588955, -0.4936196250824067, 1.1019966482757366, 0.23198945850229563, -1.0017726051335556, 1.8466841646874763, 1.1291136907334574, 0.5682481935400014], \"xaxis\": \"x3\", \"y\": [-0.20959528449674006, 1.0313395209143585, 1.1694348176263178, 1.2609299556386497, 0.9991395033571964, -2.605096456045387, 0.4223200564889698, -0.1957775306388394, -0.5581225730329871, 0.31374974544598283, -0.1094457539933965, 0.8490037964381496, -0.1924499072203981, -0.7241729098994564, -1.537635679731419, -0.17928390076971523, -0.4654379085350427, 0.14536975247776704, -0.4107308856713606, -0.31692807918550775, 0.8541795096845612, -0.5411685133468052, 1.6526300592340684, -0.3970649611176773, 0.5537155926901607, 0.09527358902101514, 0.14643308884471226, -0.5952788954061516, 1.8391170023050945, 0.8599789829121285, 0.14419695368764932, -3.7442569633057623, -0.3133723448373529, -0.16683141237592103, 1.6188408185310394, 0.6007304465359995, 0.15187571991871177, 0.07909127391112418, -0.19527530170401872, -1.7720594581677191, 0.010435130962778887, -0.6984897154095291, 0.298475241933431, -1.0324556631267123, -0.015196673014035973, 0.24940100375673913, -1.5609631116868825, 2.0752899982947026, -1.549922714712221, -0.04769669077299809, -0.13050979544132987, -1.3439932523872173, 1.0161176621283028, 0.22568439926107195, -1.1476615070110796, -0.5878368352865394, -0.238454936681599, 1.0488599753027485, 0.41705065187638135, 0.9591773903586256, -1.3963563115579891, -0.9471610783203869, -1.2809323825176724, -0.2623463889448773, 1.922978320621508, -1.2514220434971128, -0.9332967715496242, -2.17546410153974, 1.4213253674153281, -0.18306555321065304, -0.8127274181256211, 0.6210277858396868, 0.6663719720223892, -0.21981687046950085, 0.5232043156578947, 1.3438976175293194, -0.40577896676652975, 0.15087073518784777, 0.14556340277596694, -0.8543803927110263, 0.3939560017804806, 0.16697514102575836, 1.4058840116843392, 0.4617877536009876, -1.5496801935445506, 0.40769711945908343, 0.2013369438901281, -1.1290823498859064, -0.6274727732033917, -1.4116748082720443, 2.028067036128927, -0.06951536570078315, -0.39563856362339256, 0.36572962567951944, 0.2535557564640945, -0.592701403714788, -1.016758229530463, -0.6718010025615362, 0.4816143914592303, 1.6521186064972615], \"yaxis\": \"y3\"}, {\"line\": {\"color\": \"rgba(128, 128, 128, 1.0)\", \"dash\": \"solid\", \"shape\": \"linear\", \"width\": 1.3}, \"marker\": {\"size\": 2, \"symbol\": \"circle\"}, \"mode\": \"markers\", \"name\": \"A\", \"text\": \"\", \"type\": \"scatter\", \"x\": [-1.3079637980328176, 0.22304179671406252, -1.6261857657059278, 0.566633736372872, -0.7375295528108581, -0.011891636773831146, -0.5334663729786482, -0.8745242919479007, 0.6601838725358815, -0.46117168118529, -1.091323363853244, 0.058971366480316305, 0.39663623918495505, -0.18846634909717566, -0.0009383025883428058, -0.9724822056607263, -0.5464925109530722, -1.4300209209976071, -2.110601196985954, -1.360140831455929, 0.6156923193876411, 2.952144430502897, 0.35799135938249677, -1.3076649864823053, -0.24421516437156765, -0.4495674019298553, 1.0883308746868876, 0.22086598779162414, -0.06103902507281949, -1.9433420313160572, 0.5320454554647426, 1.3746252471198745, 0.1305260543256214, -0.35948821874407155, 2.5985690425949763, 0.5281227862388681, -0.29379092552348296, -1.2078382264099154, -1.5423947096499546, 0.030378907599932375, 1.3872029083089668, 0.3747549488569716, -0.2900210046765808, -0.14242653045860929, 1.5503804524048688, -0.08392855934242163, -1.0690403826443478, -0.20834604239604584, -0.09818035454382804, 0.3168105876871725, 1.009833639624926, 0.8587067451655745, -0.43934007517540874, 0.7980055212707029, -1.689734238525958, 0.48461811873357363, -1.572829926732365, -0.35922080469151785, 1.2962907116808693, 0.2736892788680549, 3.1965962831799515, -0.2912210021565614, 0.9585222615836765, -1.2697854325339617, 0.7072656036562351, -0.23082594775710075, -0.22577058785054743, 1.2459574919555987, -1.0519388128819473, -0.09165573316360198, -0.6909539481532403, -0.013276096848856419, 0.6258963482059207, 0.7335881536218917, 0.28023350195795416, 0.47135450155713254, 0.6481523791535133, -1.1608341442253156, -0.09276120803432533, -1.2721575501285969, -0.61486417987658, 1.6265152145697226, -0.8019205418967238, -0.11356554888258104, 2.238142067136378, -0.06832978206592988, 1.945118921953737, 1.1022762120786647, -0.1427091716154867, -0.25541739714859335, -0.23461554130263676, 0.0531409232553126, -0.6659059414090801, 1.3984443801382258, -0.5536831919568412, 0.08905645204001764, -0.3649672077103355, -0.19989719034607528, 0.16132160822386446, 0.6511501557245907], \"xaxis\": \"x4\", \"y\": [-0.20959528449674006, 1.0313395209143585, 1.1694348176263178, 1.2609299556386497, 0.9991395033571964, -2.605096456045387, 0.4223200564889698, -0.1957775306388394, -0.5581225730329871, 0.31374974544598283, -0.1094457539933965, 0.8490037964381496, -0.1924499072203981, -0.7241729098994564, -1.537635679731419, -0.17928390076971523, -0.4654379085350427, 0.14536975247776704, -0.4107308856713606, -0.31692807918550775, 0.8541795096845612, -0.5411685133468052, 1.6526300592340684, -0.3970649611176773, 0.5537155926901607, 0.09527358902101514, 0.14643308884471226, -0.5952788954061516, 1.8391170023050945, 0.8599789829121285, 0.14419695368764932, -3.7442569633057623, -0.3133723448373529, -0.16683141237592103, 1.6188408185310394, 0.6007304465359995, 0.15187571991871177, 0.07909127391112418, -0.19527530170401872, -1.7720594581677191, 0.010435130962778887, -0.6984897154095291, 0.298475241933431, -1.0324556631267123, -0.015196673014035973, 0.24940100375673913, -1.5609631116868825, 2.0752899982947026, -1.549922714712221, -0.04769669077299809, -0.13050979544132987, -1.3439932523872173, 1.0161176621283028, 0.22568439926107195, -1.1476615070110796, -0.5878368352865394, -0.238454936681599, 1.0488599753027485, 0.41705065187638135, 0.9591773903586256, -1.3963563115579891, -0.9471610783203869, -1.2809323825176724, -0.2623463889448773, 1.922978320621508, -1.2514220434971128, -0.9332967715496242, -2.17546410153974, 1.4213253674153281, -0.18306555321065304, -0.8127274181256211, 0.6210277858396868, 0.6663719720223892, -0.21981687046950085, 0.5232043156578947, 1.3438976175293194, -0.40577896676652975, 0.15087073518784777, 0.14556340277596694, -0.8543803927110263, 0.3939560017804806, 0.16697514102575836, 1.4058840116843392, 0.4617877536009876, -1.5496801935445506, 0.40769711945908343, 0.2013369438901281, -1.1290823498859064, -0.6274727732033917, -1.4116748082720443, 2.028067036128927, -0.06951536570078315, -0.39563856362339256, 0.36572962567951944, 0.2535557564640945, -0.592701403714788, -1.016758229530463, -0.6718010025615362, 0.4816143914592303, 1.6521186064972615], \"yaxis\": \"y4\"}, {\"line\": {\"color\": \"rgba(128, 128, 128, 1.0)\", \"dash\": \"solid\", \"shape\": \"linear\", \"width\": 1.3}, \"marker\": {\"size\": 2, \"symbol\": \"circle\"}, \"mode\": \"markers\", \"name\": \"B\", \"text\": \"\", \"type\": \"scatter\", \"x\": [-0.20959528449674006, 1.0313395209143585, 1.1694348176263178, 1.2609299556386497, 0.9991395033571964, -2.605096456045387, 0.4223200564889698, -0.1957775306388394, -0.5581225730329871, 0.31374974544598283, -0.1094457539933965, 0.8490037964381496, -0.1924499072203981, -0.7241729098994564, -1.537635679731419, -0.17928390076971523, -0.4654379085350427, 0.14536975247776704, -0.4107308856713606, -0.31692807918550775, 0.8541795096845612, -0.5411685133468052, 1.6526300592340684, -0.3970649611176773, 0.5537155926901607, 0.09527358902101514, 0.14643308884471226, -0.5952788954061516, 1.8391170023050945, 0.8599789829121285, 0.14419695368764932, -3.7442569633057623, -0.3133723448373529, -0.16683141237592103, 1.6188408185310394, 0.6007304465359995, 0.15187571991871177, 0.07909127391112418, -0.19527530170401872, -1.7720594581677191, 0.010435130962778887, -0.6984897154095291, 0.298475241933431, -1.0324556631267123, -0.015196673014035973, 0.24940100375673913, -1.5609631116868825, 2.0752899982947026, -1.549922714712221, -0.04769669077299809, -0.13050979544132987, -1.3439932523872173, 1.0161176621283028, 0.22568439926107195, -1.1476615070110796, -0.5878368352865394, -0.238454936681599, 1.0488599753027485, 0.41705065187638135, 0.9591773903586256, -1.3963563115579891, -0.9471610783203869, -1.2809323825176724, -0.2623463889448773, 1.922978320621508, -1.2514220434971128, -0.9332967715496242, -2.17546410153974, 1.4213253674153281, -0.18306555321065304, -0.8127274181256211, 0.6210277858396868, 0.6663719720223892, -0.21981687046950085, 0.5232043156578947, 1.3438976175293194, -0.40577896676652975, 0.15087073518784777, 0.14556340277596694, -0.8543803927110263, 0.3939560017804806, 0.16697514102575836, 1.4058840116843392, 0.4617877536009876, -1.5496801935445506, 0.40769711945908343, 0.2013369438901281, -1.1290823498859064, -0.6274727732033917, -1.4116748082720443, 2.028067036128927, -0.06951536570078315, -0.39563856362339256, 0.36572962567951944, 0.2535557564640945, -0.592701403714788, -1.016758229530463, -0.6718010025615362, 0.4816143914592303, 1.6521186064972615], \"xaxis\": \"x5\", \"y\": [-0.7711170330140517, 1.1659865501781457, -0.4300031411390618, -0.0064054452231869525, 0.3255392094205599, -0.13685000730308322, 1.3525025871928738, -1.1801377046110144, 0.13310747475016435, -0.2033148557477379, 0.3985858186894083, -0.49967174213299737, 1.1913324955300733, -0.5409914050548899, 0.2925317562459309, 0.8360201107862251, 0.18953428471715764, 0.7221778303206465, 0.09852772787929902, 1.796009975727251, -0.200185351958104, 0.8157193832619373, -0.1933400843887641, 1.8520919325558922, 0.48262763547424403, 1.0115524814755976, -0.1837829419916532, 1.6131287615767995, -0.1399290536378075, -0.7323092982310786, 1.2581832153458332, 2.004782199651357, 0.11020269700287254, -0.2922774652953534, -0.610069945082351, 0.376461914005928, 0.16718587783128971, -1.7189573746226192, -0.14068140841214077, 1.8445706571915623, 0.42144086795796415, 1.0771232268496644, -0.4574308043895199, 0.3920164861931366, -0.7846303851339075, 1.1358033661771454, 0.21984185047724739, 0.7358382398522556, -0.5056098661504937, 0.3322425140657405, -1.0908272200843647, 0.16993227135855776, -2.575072543504373, 0.7463990525576297, -1.3276249331690786, -0.19130903148690143, 0.8888511368645764, -1.082223619851152, -0.8516922366750175, -0.35766740349138537, -0.39775115576126774, 1.2904308354025236, -0.4728009835926884, 0.221724087821145, 0.3966944648807889, -1.2672930011199954, 0.7680169250563473, 1.1846181946893646, 0.2475782480255661, 0.4485690766180793, 0.014156941787666289, 1.661426609144996, -1.1495974510451685, -0.7147854341662139, -0.7107841704939886, 1.3951354540947525, 0.20924908903456235, -1.220282703449926, 0.02557457473320523, 1.6272253233610467, -0.4129400171413861, -0.30186719992529765, 1.5662620317015126, -0.9805920717199543, 1.7788994781114258, -0.07627410648600412, 0.06756344975294166, 0.15733547861968317, 1.4312231564245395, 0.5067488088525609, -1.3860888399177342, -0.35267863923003084, -0.9060374943352678, -1.470559344699383, -0.19821908459674648, -1.9227544591977332, 0.2082346343431905, -1.2583923667864534, -0.8897041886487653, 1.228047110760627], \"yaxis\": \"y5\"}, {\"histfunc\": \"count\", \"histnorm\": \"\", \"marker\": {\"color\": \"rgba(55, 128, 191, 1.0)\", \"line\": {\"color\": \"#4D5663\", \"width\": 1.3}}, \"name\": \"B\", \"nbinsx\": 10, \"opacity\": 0.8, \"orientation\": \"v\", \"type\": \"histogram\", \"x\": [-0.7711170330140517, 1.1659865501781457, -0.4300031411390618, -0.0064054452231869525, 0.3255392094205599, -0.13685000730308322, 1.3525025871928738, -1.1801377046110144, 0.13310747475016435, -0.2033148557477379, 0.3985858186894083, -0.49967174213299737, 1.1913324955300733, -0.5409914050548899, 0.2925317562459309, 0.8360201107862251, 0.18953428471715764, 0.7221778303206465, 0.09852772787929902, 1.796009975727251, -0.200185351958104, 0.8157193832619373, -0.1933400843887641, 1.8520919325558922, 0.48262763547424403, 1.0115524814755976, -0.1837829419916532, 1.6131287615767995, -0.1399290536378075, -0.7323092982310786, 1.2581832153458332, 2.004782199651357, 0.11020269700287254, -0.2922774652953534, -0.610069945082351, 0.376461914005928, 0.16718587783128971, -1.7189573746226192, -0.14068140841214077, 1.8445706571915623, 0.42144086795796415, 1.0771232268496644, -0.4574308043895199, 0.3920164861931366, -0.7846303851339075, 1.1358033661771454, 0.21984185047724739, 0.7358382398522556, -0.5056098661504937, 0.3322425140657405, -1.0908272200843647, 0.16993227135855776, -2.575072543504373, 0.7463990525576297, -1.3276249331690786, -0.19130903148690143, 0.8888511368645764, -1.082223619851152, -0.8516922366750175, -0.35766740349138537, -0.39775115576126774, 1.2904308354025236, -0.4728009835926884, 0.221724087821145, 0.3966944648807889, -1.2672930011199954, 0.7680169250563473, 1.1846181946893646, 0.2475782480255661, 0.4485690766180793, 0.014156941787666289, 1.661426609144996, -1.1495974510451685, -0.7147854341662139, -0.7107841704939886, 1.3951354540947525, 0.20924908903456235, -1.220282703449926, 0.02557457473320523, 1.6272253233610467, -0.4129400171413861, -0.30186719992529765, 1.5662620317015126, -0.9805920717199543, 1.7788994781114258, -0.07627410648600412, 0.06756344975294166, 0.15733547861968317, 1.4312231564245395, 0.5067488088525609, -1.3860888399177342, -0.35267863923003084, -0.9060374943352678, -1.470559344699383, -0.19821908459674648, -1.9227544591977332, 0.2082346343431905, -1.2583923667864534, -0.8897041886487653, 1.228047110760627], \"xaxis\": \"x6\", \"yaxis\": \"y6\"}, {\"line\": {\"color\": \"rgba(128, 128, 128, 1.0)\", \"dash\": \"solid\", \"shape\": \"linear\", \"width\": 1.3}, \"marker\": {\"size\": 2, \"symbol\": \"circle\"}, \"mode\": \"markers\", \"name\": \"B\", \"text\": \"\", \"type\": \"scatter\", \"x\": [0.7037872124040211, 0.3615164419960923, -0.25796356732018233, -0.14649850149540966, 0.06960711828656779, -1.4797956295623294, 1.4093816343792605, -0.12292851084529191, 0.4457087614037588, 1.1492393267257108, -0.6607372423425167, 0.3286133234450696, 0.6844361201743363, -1.2821564245328332, 0.9336034745372883, 0.5170244180169414, -0.36322526788529785, 0.6326928489564475, 0.9778826032160992, -1.1196178565981039, 1.4220243758680577, -0.2359625190926601, -0.3856235058789063, -2.7714681723669736, 0.5993442710286011, 1.313751851859977, 0.23812170074033143, -0.65276402808905, 0.11650216296705335, 0.848740310341407, 0.7721043520227766, -0.11964967401429785, 1.2833545963721653, -0.39028489654013715, 0.44929433604559843, -0.8500207432254455, 0.8668240055266053, -1.2182376917418116, 0.06141342404514145, 1.4478502562191544, 0.5737480413240534, -0.6552953362360905, 0.2983589390319965, 0.09373422462001138, 0.326302217729746, -0.022651186551612242, 1.1572903812795914, 0.6572929704731219, 0.11371203404668388, -1.1595505702679845, 0.11454164413476907, -0.2621559996633682, -2.733659449977352, 0.4255699111247708, -0.780290504106477, -0.6628857830638748, 0.6275755736024996, -1.3753939740673904, -0.9957235259791135, 0.5932914399458847, 0.024589120124802747, -0.5449197929959385, 1.506095501044284, 1.7837889696517968, 1.0008351607024597, -0.46168031979142726, 1.3271782726734083, 2.001032828511582, 0.18104520740451863, 0.07607278043933337, 0.012150073505268375, 1.0314888401570066, 0.3244018691322532, -1.0437563740670959, 0.22308120034793186, -0.5687628668009141, -0.9127930415704587, 0.8458472877920619, 0.14415454796481716, -1.1736709357560084, 0.34313864995514465, -0.602634191959899, 0.5563158524785552, -1.165343612807023, -0.08173268124689238, -0.036486809060192464, -1.1904778317362985, -0.0022018469953823823, -0.5694555209780752, -0.05308030079432449, -0.46007973236753213, -0.4986614954268612, 0.7260189289588955, -0.4936196250824067, 1.1019966482757366, 0.23198945850229563, -1.0017726051335556, 1.8466841646874763, 1.1291136907334574, 0.5682481935400014], \"xaxis\": \"x7\", \"y\": [-0.7711170330140517, 1.1659865501781457, -0.4300031411390618, -0.0064054452231869525, 0.3255392094205599, -0.13685000730308322, 1.3525025871928738, -1.1801377046110144, 0.13310747475016435, -0.2033148557477379, 0.3985858186894083, -0.49967174213299737, 1.1913324955300733, -0.5409914050548899, 0.2925317562459309, 0.8360201107862251, 0.18953428471715764, 0.7221778303206465, 0.09852772787929902, 1.796009975727251, -0.200185351958104, 0.8157193832619373, -0.1933400843887641, 1.8520919325558922, 0.48262763547424403, 1.0115524814755976, -0.1837829419916532, 1.6131287615767995, -0.1399290536378075, -0.7323092982310786, 1.2581832153458332, 2.004782199651357, 0.11020269700287254, -0.2922774652953534, -0.610069945082351, 0.376461914005928, 0.16718587783128971, -1.7189573746226192, -0.14068140841214077, 1.8445706571915623, 0.42144086795796415, 1.0771232268496644, -0.4574308043895199, 0.3920164861931366, -0.7846303851339075, 1.1358033661771454, 0.21984185047724739, 0.7358382398522556, -0.5056098661504937, 0.3322425140657405, -1.0908272200843647, 0.16993227135855776, -2.575072543504373, 0.7463990525576297, -1.3276249331690786, -0.19130903148690143, 0.8888511368645764, -1.082223619851152, -0.8516922366750175, -0.35766740349138537, -0.39775115576126774, 1.2904308354025236, -0.4728009835926884, 0.221724087821145, 0.3966944648807889, -1.2672930011199954, 0.7680169250563473, 1.1846181946893646, 0.2475782480255661, 0.4485690766180793, 0.014156941787666289, 1.661426609144996, -1.1495974510451685, -0.7147854341662139, -0.7107841704939886, 1.3951354540947525, 0.20924908903456235, -1.220282703449926, 0.02557457473320523, 1.6272253233610467, -0.4129400171413861, -0.30186719992529765, 1.5662620317015126, -0.9805920717199543, 1.7788994781114258, -0.07627410648600412, 0.06756344975294166, 0.15733547861968317, 1.4312231564245395, 0.5067488088525609, -1.3860888399177342, -0.35267863923003084, -0.9060374943352678, -1.470559344699383, -0.19821908459674648, -1.9227544591977332, 0.2082346343431905, -1.2583923667864534, -0.8897041886487653, 1.228047110760627], \"yaxis\": \"y7\"}, {\"line\": {\"color\": \"rgba(128, 128, 128, 1.0)\", \"dash\": \"solid\", \"shape\": \"linear\", \"width\": 1.3}, \"marker\": {\"size\": 2, \"symbol\": \"circle\"}, \"mode\": \"markers\", \"name\": \"B\", \"text\": \"\", \"type\": \"scatter\", \"x\": [-1.3079637980328176, 0.22304179671406252, -1.6261857657059278, 0.566633736372872, -0.7375295528108581, -0.011891636773831146, -0.5334663729786482, -0.8745242919479007, 0.6601838725358815, -0.46117168118529, -1.091323363853244, 0.058971366480316305, 0.39663623918495505, -0.18846634909717566, -0.0009383025883428058, -0.9724822056607263, -0.5464925109530722, -1.4300209209976071, -2.110601196985954, -1.360140831455929, 0.6156923193876411, 2.952144430502897, 0.35799135938249677, -1.3076649864823053, -0.24421516437156765, -0.4495674019298553, 1.0883308746868876, 0.22086598779162414, -0.06103902507281949, -1.9433420313160572, 0.5320454554647426, 1.3746252471198745, 0.1305260543256214, -0.35948821874407155, 2.5985690425949763, 0.5281227862388681, -0.29379092552348296, -1.2078382264099154, -1.5423947096499546, 0.030378907599932375, 1.3872029083089668, 0.3747549488569716, -0.2900210046765808, -0.14242653045860929, 1.5503804524048688, -0.08392855934242163, -1.0690403826443478, -0.20834604239604584, -0.09818035454382804, 0.3168105876871725, 1.009833639624926, 0.8587067451655745, -0.43934007517540874, 0.7980055212707029, -1.689734238525958, 0.48461811873357363, -1.572829926732365, -0.35922080469151785, 1.2962907116808693, 0.2736892788680549, 3.1965962831799515, -0.2912210021565614, 0.9585222615836765, -1.2697854325339617, 0.7072656036562351, -0.23082594775710075, -0.22577058785054743, 1.2459574919555987, -1.0519388128819473, -0.09165573316360198, -0.6909539481532403, -0.013276096848856419, 0.6258963482059207, 0.7335881536218917, 0.28023350195795416, 0.47135450155713254, 0.6481523791535133, -1.1608341442253156, -0.09276120803432533, -1.2721575501285969, -0.61486417987658, 1.6265152145697226, -0.8019205418967238, -0.11356554888258104, 2.238142067136378, -0.06832978206592988, 1.945118921953737, 1.1022762120786647, -0.1427091716154867, -0.25541739714859335, -0.23461554130263676, 0.0531409232553126, -0.6659059414090801, 1.3984443801382258, -0.5536831919568412, 0.08905645204001764, -0.3649672077103355, -0.19989719034607528, 0.16132160822386446, 0.6511501557245907], \"xaxis\": \"x8\", \"y\": [-0.7711170330140517, 1.1659865501781457, -0.4300031411390618, -0.0064054452231869525, 0.3255392094205599, -0.13685000730308322, 1.3525025871928738, -1.1801377046110144, 0.13310747475016435, -0.2033148557477379, 0.3985858186894083, -0.49967174213299737, 1.1913324955300733, -0.5409914050548899, 0.2925317562459309, 0.8360201107862251, 0.18953428471715764, 0.7221778303206465, 0.09852772787929902, 1.796009975727251, -0.200185351958104, 0.8157193832619373, -0.1933400843887641, 1.8520919325558922, 0.48262763547424403, 1.0115524814755976, -0.1837829419916532, 1.6131287615767995, -0.1399290536378075, -0.7323092982310786, 1.2581832153458332, 2.004782199651357, 0.11020269700287254, -0.2922774652953534, -0.610069945082351, 0.376461914005928, 0.16718587783128971, -1.7189573746226192, -0.14068140841214077, 1.8445706571915623, 0.42144086795796415, 1.0771232268496644, -0.4574308043895199, 0.3920164861931366, -0.7846303851339075, 1.1358033661771454, 0.21984185047724739, 0.7358382398522556, -0.5056098661504937, 0.3322425140657405, -1.0908272200843647, 0.16993227135855776, -2.575072543504373, 0.7463990525576297, -1.3276249331690786, -0.19130903148690143, 0.8888511368645764, -1.082223619851152, -0.8516922366750175, -0.35766740349138537, -0.39775115576126774, 1.2904308354025236, -0.4728009835926884, 0.221724087821145, 0.3966944648807889, -1.2672930011199954, 0.7680169250563473, 1.1846181946893646, 0.2475782480255661, 0.4485690766180793, 0.014156941787666289, 1.661426609144996, -1.1495974510451685, -0.7147854341662139, -0.7107841704939886, 1.3951354540947525, 0.20924908903456235, -1.220282703449926, 0.02557457473320523, 1.6272253233610467, -0.4129400171413861, -0.30186719992529765, 1.5662620317015126, -0.9805920717199543, 1.7788994781114258, -0.07627410648600412, 0.06756344975294166, 0.15733547861968317, 1.4312231564245395, 0.5067488088525609, -1.3860888399177342, -0.35267863923003084, -0.9060374943352678, -1.470559344699383, -0.19821908459674648, -1.9227544591977332, 0.2082346343431905, -1.2583923667864534, -0.8897041886487653, 1.228047110760627], \"yaxis\": \"y8\"}, {\"line\": {\"color\": \"rgba(128, 128, 128, 1.0)\", \"dash\": \"solid\", \"shape\": \"linear\", \"width\": 1.3}, \"marker\": {\"size\": 2, \"symbol\": \"circle\"}, \"mode\": \"markers\", \"name\": \"C\", \"text\": \"\", \"type\": \"scatter\", \"x\": [-0.20959528449674006, 1.0313395209143585, 1.1694348176263178, 1.2609299556386497, 0.9991395033571964, -2.605096456045387, 0.4223200564889698, -0.1957775306388394, -0.5581225730329871, 0.31374974544598283, -0.1094457539933965, 0.8490037964381496, -0.1924499072203981, -0.7241729098994564, -1.537635679731419, -0.17928390076971523, -0.4654379085350427, 0.14536975247776704, -0.4107308856713606, -0.31692807918550775, 0.8541795096845612, -0.5411685133468052, 1.6526300592340684, -0.3970649611176773, 0.5537155926901607, 0.09527358902101514, 0.14643308884471226, -0.5952788954061516, 1.8391170023050945, 0.8599789829121285, 0.14419695368764932, -3.7442569633057623, -0.3133723448373529, -0.16683141237592103, 1.6188408185310394, 0.6007304465359995, 0.15187571991871177, 0.07909127391112418, -0.19527530170401872, -1.7720594581677191, 0.010435130962778887, -0.6984897154095291, 0.298475241933431, -1.0324556631267123, -0.015196673014035973, 0.24940100375673913, -1.5609631116868825, 2.0752899982947026, -1.549922714712221, -0.04769669077299809, -0.13050979544132987, -1.3439932523872173, 1.0161176621283028, 0.22568439926107195, -1.1476615070110796, -0.5878368352865394, -0.238454936681599, 1.0488599753027485, 0.41705065187638135, 0.9591773903586256, -1.3963563115579891, -0.9471610783203869, -1.2809323825176724, -0.2623463889448773, 1.922978320621508, -1.2514220434971128, -0.9332967715496242, -2.17546410153974, 1.4213253674153281, -0.18306555321065304, -0.8127274181256211, 0.6210277858396868, 0.6663719720223892, -0.21981687046950085, 0.5232043156578947, 1.3438976175293194, -0.40577896676652975, 0.15087073518784777, 0.14556340277596694, -0.8543803927110263, 0.3939560017804806, 0.16697514102575836, 1.4058840116843392, 0.4617877536009876, -1.5496801935445506, 0.40769711945908343, 0.2013369438901281, -1.1290823498859064, -0.6274727732033917, -1.4116748082720443, 2.028067036128927, -0.06951536570078315, -0.39563856362339256, 0.36572962567951944, 0.2535557564640945, -0.592701403714788, -1.016758229530463, -0.6718010025615362, 0.4816143914592303, 1.6521186064972615], \"xaxis\": \"x9\", \"y\": [0.7037872124040211, 0.3615164419960923, -0.25796356732018233, -0.14649850149540966, 0.06960711828656779, -1.4797956295623294, 1.4093816343792605, -0.12292851084529191, 0.4457087614037588, 1.1492393267257108, -0.6607372423425167, 0.3286133234450696, 0.6844361201743363, -1.2821564245328332, 0.9336034745372883, 0.5170244180169414, -0.36322526788529785, 0.6326928489564475, 0.9778826032160992, -1.1196178565981039, 1.4220243758680577, -0.2359625190926601, -0.3856235058789063, -2.7714681723669736, 0.5993442710286011, 1.313751851859977, 0.23812170074033143, -0.65276402808905, 0.11650216296705335, 0.848740310341407, 0.7721043520227766, -0.11964967401429785, 1.2833545963721653, -0.39028489654013715, 0.44929433604559843, -0.8500207432254455, 0.8668240055266053, -1.2182376917418116, 0.06141342404514145, 1.4478502562191544, 0.5737480413240534, -0.6552953362360905, 0.2983589390319965, 0.09373422462001138, 0.326302217729746, -0.022651186551612242, 1.1572903812795914, 0.6572929704731219, 0.11371203404668388, -1.1595505702679845, 0.11454164413476907, -0.2621559996633682, -2.733659449977352, 0.4255699111247708, -0.780290504106477, -0.6628857830638748, 0.6275755736024996, -1.3753939740673904, -0.9957235259791135, 0.5932914399458847, 0.024589120124802747, -0.5449197929959385, 1.506095501044284, 1.7837889696517968, 1.0008351607024597, -0.46168031979142726, 1.3271782726734083, 2.001032828511582, 0.18104520740451863, 0.07607278043933337, 0.012150073505268375, 1.0314888401570066, 0.3244018691322532, -1.0437563740670959, 0.22308120034793186, -0.5687628668009141, -0.9127930415704587, 0.8458472877920619, 0.14415454796481716, -1.1736709357560084, 0.34313864995514465, -0.602634191959899, 0.5563158524785552, -1.165343612807023, -0.08173268124689238, -0.036486809060192464, -1.1904778317362985, -0.0022018469953823823, -0.5694555209780752, -0.05308030079432449, -0.46007973236753213, -0.4986614954268612, 0.7260189289588955, -0.4936196250824067, 1.1019966482757366, 0.23198945850229563, -1.0017726051335556, 1.8466841646874763, 1.1291136907334574, 0.5682481935400014], \"yaxis\": \"y9\"}, {\"line\": {\"color\": \"rgba(128, 128, 128, 1.0)\", \"dash\": \"solid\", \"shape\": \"linear\", \"width\": 1.3}, \"marker\": {\"size\": 2, \"symbol\": \"circle\"}, \"mode\": \"markers\", \"name\": \"C\", \"text\": \"\", \"type\": \"scatter\", \"x\": [-0.7711170330140517, 1.1659865501781457, -0.4300031411390618, -0.0064054452231869525, 0.3255392094205599, -0.13685000730308322, 1.3525025871928738, -1.1801377046110144, 0.13310747475016435, -0.2033148557477379, 0.3985858186894083, -0.49967174213299737, 1.1913324955300733, -0.5409914050548899, 0.2925317562459309, 0.8360201107862251, 0.18953428471715764, 0.7221778303206465, 0.09852772787929902, 1.796009975727251, -0.200185351958104, 0.8157193832619373, -0.1933400843887641, 1.8520919325558922, 0.48262763547424403, 1.0115524814755976, -0.1837829419916532, 1.6131287615767995, -0.1399290536378075, -0.7323092982310786, 1.2581832153458332, 2.004782199651357, 0.11020269700287254, -0.2922774652953534, -0.610069945082351, 0.376461914005928, 0.16718587783128971, -1.7189573746226192, -0.14068140841214077, 1.8445706571915623, 0.42144086795796415, 1.0771232268496644, -0.4574308043895199, 0.3920164861931366, -0.7846303851339075, 1.1358033661771454, 0.21984185047724739, 0.7358382398522556, -0.5056098661504937, 0.3322425140657405, -1.0908272200843647, 0.16993227135855776, -2.575072543504373, 0.7463990525576297, -1.3276249331690786, -0.19130903148690143, 0.8888511368645764, -1.082223619851152, -0.8516922366750175, -0.35766740349138537, -0.39775115576126774, 1.2904308354025236, -0.4728009835926884, 0.221724087821145, 0.3966944648807889, -1.2672930011199954, 0.7680169250563473, 1.1846181946893646, 0.2475782480255661, 0.4485690766180793, 0.014156941787666289, 1.661426609144996, -1.1495974510451685, -0.7147854341662139, -0.7107841704939886, 1.3951354540947525, 0.20924908903456235, -1.220282703449926, 0.02557457473320523, 1.6272253233610467, -0.4129400171413861, -0.30186719992529765, 1.5662620317015126, -0.9805920717199543, 1.7788994781114258, -0.07627410648600412, 0.06756344975294166, 0.15733547861968317, 1.4312231564245395, 0.5067488088525609, -1.3860888399177342, -0.35267863923003084, -0.9060374943352678, -1.470559344699383, -0.19821908459674648, -1.9227544591977332, 0.2082346343431905, -1.2583923667864534, -0.8897041886487653, 1.228047110760627], \"xaxis\": \"x10\", \"y\": [0.7037872124040211, 0.3615164419960923, -0.25796356732018233, -0.14649850149540966, 0.06960711828656779, -1.4797956295623294, 1.4093816343792605, -0.12292851084529191, 0.4457087614037588, 1.1492393267257108, -0.6607372423425167, 0.3286133234450696, 0.6844361201743363, -1.2821564245328332, 0.9336034745372883, 0.5170244180169414, -0.36322526788529785, 0.6326928489564475, 0.9778826032160992, -1.1196178565981039, 1.4220243758680577, -0.2359625190926601, -0.3856235058789063, -2.7714681723669736, 0.5993442710286011, 1.313751851859977, 0.23812170074033143, -0.65276402808905, 0.11650216296705335, 0.848740310341407, 0.7721043520227766, -0.11964967401429785, 1.2833545963721653, -0.39028489654013715, 0.44929433604559843, -0.8500207432254455, 0.8668240055266053, -1.2182376917418116, 0.06141342404514145, 1.4478502562191544, 0.5737480413240534, -0.6552953362360905, 0.2983589390319965, 0.09373422462001138, 0.326302217729746, -0.022651186551612242, 1.1572903812795914, 0.6572929704731219, 0.11371203404668388, -1.1595505702679845, 0.11454164413476907, -0.2621559996633682, -2.733659449977352, 0.4255699111247708, -0.780290504106477, -0.6628857830638748, 0.6275755736024996, -1.3753939740673904, -0.9957235259791135, 0.5932914399458847, 0.024589120124802747, -0.5449197929959385, 1.506095501044284, 1.7837889696517968, 1.0008351607024597, -0.46168031979142726, 1.3271782726734083, 2.001032828511582, 0.18104520740451863, 0.07607278043933337, 0.012150073505268375, 1.0314888401570066, 0.3244018691322532, -1.0437563740670959, 0.22308120034793186, -0.5687628668009141, -0.9127930415704587, 0.8458472877920619, 0.14415454796481716, -1.1736709357560084, 0.34313864995514465, -0.602634191959899, 0.5563158524785552, -1.165343612807023, -0.08173268124689238, -0.036486809060192464, -1.1904778317362985, -0.0022018469953823823, -0.5694555209780752, -0.05308030079432449, -0.46007973236753213, -0.4986614954268612, 0.7260189289588955, -0.4936196250824067, 1.1019966482757366, 0.23198945850229563, -1.0017726051335556, 1.8466841646874763, 1.1291136907334574, 0.5682481935400014], \"yaxis\": \"y10\"}, {\"histfunc\": \"count\", \"histnorm\": \"\", \"marker\": {\"color\": \"rgba(50, 171, 96, 1.0)\", \"line\": {\"color\": \"#4D5663\", \"width\": 1.3}}, \"name\": \"C\", \"nbinsx\": 10, \"opacity\": 0.8, \"orientation\": \"v\", \"type\": \"histogram\", \"x\": [0.7037872124040211, 0.3615164419960923, -0.25796356732018233, -0.14649850149540966, 0.06960711828656779, -1.4797956295623294, 1.4093816343792605, -0.12292851084529191, 0.4457087614037588, 1.1492393267257108, -0.6607372423425167, 0.3286133234450696, 0.6844361201743363, -1.2821564245328332, 0.9336034745372883, 0.5170244180169414, -0.36322526788529785, 0.6326928489564475, 0.9778826032160992, -1.1196178565981039, 1.4220243758680577, -0.2359625190926601, -0.3856235058789063, -2.7714681723669736, 0.5993442710286011, 1.313751851859977, 0.23812170074033143, -0.65276402808905, 0.11650216296705335, 0.848740310341407, 0.7721043520227766, -0.11964967401429785, 1.2833545963721653, -0.39028489654013715, 0.44929433604559843, -0.8500207432254455, 0.8668240055266053, -1.2182376917418116, 0.06141342404514145, 1.4478502562191544, 0.5737480413240534, -0.6552953362360905, 0.2983589390319965, 0.09373422462001138, 0.326302217729746, -0.022651186551612242, 1.1572903812795914, 0.6572929704731219, 0.11371203404668388, -1.1595505702679845, 0.11454164413476907, -0.2621559996633682, -2.733659449977352, 0.4255699111247708, -0.780290504106477, -0.6628857830638748, 0.6275755736024996, -1.3753939740673904, -0.9957235259791135, 0.5932914399458847, 0.024589120124802747, -0.5449197929959385, 1.506095501044284, 1.7837889696517968, 1.0008351607024597, -0.46168031979142726, 1.3271782726734083, 2.001032828511582, 0.18104520740451863, 0.07607278043933337, 0.012150073505268375, 1.0314888401570066, 0.3244018691322532, -1.0437563740670959, 0.22308120034793186, -0.5687628668009141, -0.9127930415704587, 0.8458472877920619, 0.14415454796481716, -1.1736709357560084, 0.34313864995514465, -0.602634191959899, 0.5563158524785552, -1.165343612807023, -0.08173268124689238, -0.036486809060192464, -1.1904778317362985, -0.0022018469953823823, -0.5694555209780752, -0.05308030079432449, -0.46007973236753213, -0.4986614954268612, 0.7260189289588955, -0.4936196250824067, 1.1019966482757366, 0.23198945850229563, -1.0017726051335556, 1.8466841646874763, 1.1291136907334574, 0.5682481935400014], \"xaxis\": \"x11\", \"yaxis\": \"y11\"}, {\"line\": {\"color\": \"rgba(128, 128, 128, 1.0)\", \"dash\": \"solid\", \"shape\": \"linear\", \"width\": 1.3}, \"marker\": {\"size\": 2, \"symbol\": \"circle\"}, \"mode\": \"markers\", \"name\": \"C\", \"text\": \"\", \"type\": \"scatter\", \"x\": [-1.3079637980328176, 0.22304179671406252, -1.6261857657059278, 0.566633736372872, -0.7375295528108581, -0.011891636773831146, -0.5334663729786482, -0.8745242919479007, 0.6601838725358815, -0.46117168118529, -1.091323363853244, 0.058971366480316305, 0.39663623918495505, -0.18846634909717566, -0.0009383025883428058, -0.9724822056607263, -0.5464925109530722, -1.4300209209976071, -2.110601196985954, -1.360140831455929, 0.6156923193876411, 2.952144430502897, 0.35799135938249677, -1.3076649864823053, -0.24421516437156765, -0.4495674019298553, 1.0883308746868876, 0.22086598779162414, -0.06103902507281949, -1.9433420313160572, 0.5320454554647426, 1.3746252471198745, 0.1305260543256214, -0.35948821874407155, 2.5985690425949763, 0.5281227862388681, -0.29379092552348296, -1.2078382264099154, -1.5423947096499546, 0.030378907599932375, 1.3872029083089668, 0.3747549488569716, -0.2900210046765808, -0.14242653045860929, 1.5503804524048688, -0.08392855934242163, -1.0690403826443478, -0.20834604239604584, -0.09818035454382804, 0.3168105876871725, 1.009833639624926, 0.8587067451655745, -0.43934007517540874, 0.7980055212707029, -1.689734238525958, 0.48461811873357363, -1.572829926732365, -0.35922080469151785, 1.2962907116808693, 0.2736892788680549, 3.1965962831799515, -0.2912210021565614, 0.9585222615836765, -1.2697854325339617, 0.7072656036562351, -0.23082594775710075, -0.22577058785054743, 1.2459574919555987, -1.0519388128819473, -0.09165573316360198, -0.6909539481532403, -0.013276096848856419, 0.6258963482059207, 0.7335881536218917, 0.28023350195795416, 0.47135450155713254, 0.6481523791535133, -1.1608341442253156, -0.09276120803432533, -1.2721575501285969, -0.61486417987658, 1.6265152145697226, -0.8019205418967238, -0.11356554888258104, 2.238142067136378, -0.06832978206592988, 1.945118921953737, 1.1022762120786647, -0.1427091716154867, -0.25541739714859335, -0.23461554130263676, 0.0531409232553126, -0.6659059414090801, 1.3984443801382258, -0.5536831919568412, 0.08905645204001764, -0.3649672077103355, -0.19989719034607528, 0.16132160822386446, 0.6511501557245907], \"xaxis\": \"x12\", \"y\": [0.7037872124040211, 0.3615164419960923, -0.25796356732018233, -0.14649850149540966, 0.06960711828656779, -1.4797956295623294, 1.4093816343792605, -0.12292851084529191, 0.4457087614037588, 1.1492393267257108, -0.6607372423425167, 0.3286133234450696, 0.6844361201743363, -1.2821564245328332, 0.9336034745372883, 0.5170244180169414, -0.36322526788529785, 0.6326928489564475, 0.9778826032160992, -1.1196178565981039, 1.4220243758680577, -0.2359625190926601, -0.3856235058789063, -2.7714681723669736, 0.5993442710286011, 1.313751851859977, 0.23812170074033143, -0.65276402808905, 0.11650216296705335, 0.848740310341407, 0.7721043520227766, -0.11964967401429785, 1.2833545963721653, -0.39028489654013715, 0.44929433604559843, -0.8500207432254455, 0.8668240055266053, -1.2182376917418116, 0.06141342404514145, 1.4478502562191544, 0.5737480413240534, -0.6552953362360905, 0.2983589390319965, 0.09373422462001138, 0.326302217729746, -0.022651186551612242, 1.1572903812795914, 0.6572929704731219, 0.11371203404668388, -1.1595505702679845, 0.11454164413476907, -0.2621559996633682, -2.733659449977352, 0.4255699111247708, -0.780290504106477, -0.6628857830638748, 0.6275755736024996, -1.3753939740673904, -0.9957235259791135, 0.5932914399458847, 0.024589120124802747, -0.5449197929959385, 1.506095501044284, 1.7837889696517968, 1.0008351607024597, -0.46168031979142726, 1.3271782726734083, 2.001032828511582, 0.18104520740451863, 0.07607278043933337, 0.012150073505268375, 1.0314888401570066, 0.3244018691322532, -1.0437563740670959, 0.22308120034793186, -0.5687628668009141, -0.9127930415704587, 0.8458472877920619, 0.14415454796481716, -1.1736709357560084, 0.34313864995514465, -0.602634191959899, 0.5563158524785552, -1.165343612807023, -0.08173268124689238, -0.036486809060192464, -1.1904778317362985, -0.0022018469953823823, -0.5694555209780752, -0.05308030079432449, -0.46007973236753213, -0.4986614954268612, 0.7260189289588955, -0.4936196250824067, 1.1019966482757366, 0.23198945850229563, -1.0017726051335556, 1.8466841646874763, 1.1291136907334574, 0.5682481935400014], \"yaxis\": \"y12\"}, {\"line\": {\"color\": \"rgba(128, 128, 128, 1.0)\", \"dash\": \"solid\", \"shape\": \"linear\", \"width\": 1.3}, \"marker\": {\"size\": 2, \"symbol\": \"circle\"}, \"mode\": \"markers\", \"name\": \"D\", \"text\": \"\", \"type\": \"scatter\", \"x\": [-0.20959528449674006, 1.0313395209143585, 1.1694348176263178, 1.2609299556386497, 0.9991395033571964, -2.605096456045387, 0.4223200564889698, -0.1957775306388394, -0.5581225730329871, 0.31374974544598283, -0.1094457539933965, 0.8490037964381496, -0.1924499072203981, -0.7241729098994564, -1.537635679731419, -0.17928390076971523, -0.4654379085350427, 0.14536975247776704, -0.4107308856713606, -0.31692807918550775, 0.8541795096845612, -0.5411685133468052, 1.6526300592340684, -0.3970649611176773, 0.5537155926901607, 0.09527358902101514, 0.14643308884471226, -0.5952788954061516, 1.8391170023050945, 0.8599789829121285, 0.14419695368764932, -3.7442569633057623, -0.3133723448373529, -0.16683141237592103, 1.6188408185310394, 0.6007304465359995, 0.15187571991871177, 0.07909127391112418, -0.19527530170401872, -1.7720594581677191, 0.010435130962778887, -0.6984897154095291, 0.298475241933431, -1.0324556631267123, -0.015196673014035973, 0.24940100375673913, -1.5609631116868825, 2.0752899982947026, -1.549922714712221, -0.04769669077299809, -0.13050979544132987, -1.3439932523872173, 1.0161176621283028, 0.22568439926107195, -1.1476615070110796, -0.5878368352865394, -0.238454936681599, 1.0488599753027485, 0.41705065187638135, 0.9591773903586256, -1.3963563115579891, -0.9471610783203869, -1.2809323825176724, -0.2623463889448773, 1.922978320621508, -1.2514220434971128, -0.9332967715496242, -2.17546410153974, 1.4213253674153281, -0.18306555321065304, -0.8127274181256211, 0.6210277858396868, 0.6663719720223892, -0.21981687046950085, 0.5232043156578947, 1.3438976175293194, -0.40577896676652975, 0.15087073518784777, 0.14556340277596694, -0.8543803927110263, 0.3939560017804806, 0.16697514102575836, 1.4058840116843392, 0.4617877536009876, -1.5496801935445506, 0.40769711945908343, 0.2013369438901281, -1.1290823498859064, -0.6274727732033917, -1.4116748082720443, 2.028067036128927, -0.06951536570078315, -0.39563856362339256, 0.36572962567951944, 0.2535557564640945, -0.592701403714788, -1.016758229530463, -0.6718010025615362, 0.4816143914592303, 1.6521186064972615], \"xaxis\": \"x13\", \"y\": [-1.3079637980328176, 0.22304179671406252, -1.6261857657059278, 0.566633736372872, -0.7375295528108581, -0.011891636773831146, -0.5334663729786482, -0.8745242919479007, 0.6601838725358815, -0.46117168118529, -1.091323363853244, 0.058971366480316305, 0.39663623918495505, -0.18846634909717566, -0.0009383025883428058, -0.9724822056607263, -0.5464925109530722, -1.4300209209976071, -2.110601196985954, -1.360140831455929, 0.6156923193876411, 2.952144430502897, 0.35799135938249677, -1.3076649864823053, -0.24421516437156765, -0.4495674019298553, 1.0883308746868876, 0.22086598779162414, -0.06103902507281949, -1.9433420313160572, 0.5320454554647426, 1.3746252471198745, 0.1305260543256214, -0.35948821874407155, 2.5985690425949763, 0.5281227862388681, -0.29379092552348296, -1.2078382264099154, -1.5423947096499546, 0.030378907599932375, 1.3872029083089668, 0.3747549488569716, -0.2900210046765808, -0.14242653045860929, 1.5503804524048688, -0.08392855934242163, -1.0690403826443478, -0.20834604239604584, -0.09818035454382804, 0.3168105876871725, 1.009833639624926, 0.8587067451655745, -0.43934007517540874, 0.7980055212707029, -1.689734238525958, 0.48461811873357363, -1.572829926732365, -0.35922080469151785, 1.2962907116808693, 0.2736892788680549, 3.1965962831799515, -0.2912210021565614, 0.9585222615836765, -1.2697854325339617, 0.7072656036562351, -0.23082594775710075, -0.22577058785054743, 1.2459574919555987, -1.0519388128819473, -0.09165573316360198, -0.6909539481532403, -0.013276096848856419, 0.6258963482059207, 0.7335881536218917, 0.28023350195795416, 0.47135450155713254, 0.6481523791535133, -1.1608341442253156, -0.09276120803432533, -1.2721575501285969, -0.61486417987658, 1.6265152145697226, -0.8019205418967238, -0.11356554888258104, 2.238142067136378, -0.06832978206592988, 1.945118921953737, 1.1022762120786647, -0.1427091716154867, -0.25541739714859335, -0.23461554130263676, 0.0531409232553126, -0.6659059414090801, 1.3984443801382258, -0.5536831919568412, 0.08905645204001764, -0.3649672077103355, -0.19989719034607528, 0.16132160822386446, 0.6511501557245907], \"yaxis\": \"y13\"}, {\"line\": {\"color\": \"rgba(128, 128, 128, 1.0)\", \"dash\": \"solid\", \"shape\": \"linear\", \"width\": 1.3}, \"marker\": {\"size\": 2, \"symbol\": \"circle\"}, \"mode\": \"markers\", \"name\": \"D\", \"text\": \"\", \"type\": \"scatter\", \"x\": [-0.7711170330140517, 1.1659865501781457, -0.4300031411390618, -0.0064054452231869525, 0.3255392094205599, -0.13685000730308322, 1.3525025871928738, -1.1801377046110144, 0.13310747475016435, -0.2033148557477379, 0.3985858186894083, -0.49967174213299737, 1.1913324955300733, -0.5409914050548899, 0.2925317562459309, 0.8360201107862251, 0.18953428471715764, 0.7221778303206465, 0.09852772787929902, 1.796009975727251, -0.200185351958104, 0.8157193832619373, -0.1933400843887641, 1.8520919325558922, 0.48262763547424403, 1.0115524814755976, -0.1837829419916532, 1.6131287615767995, -0.1399290536378075, -0.7323092982310786, 1.2581832153458332, 2.004782199651357, 0.11020269700287254, -0.2922774652953534, -0.610069945082351, 0.376461914005928, 0.16718587783128971, -1.7189573746226192, -0.14068140841214077, 1.8445706571915623, 0.42144086795796415, 1.0771232268496644, -0.4574308043895199, 0.3920164861931366, -0.7846303851339075, 1.1358033661771454, 0.21984185047724739, 0.7358382398522556, -0.5056098661504937, 0.3322425140657405, -1.0908272200843647, 0.16993227135855776, -2.575072543504373, 0.7463990525576297, -1.3276249331690786, -0.19130903148690143, 0.8888511368645764, -1.082223619851152, -0.8516922366750175, -0.35766740349138537, -0.39775115576126774, 1.2904308354025236, -0.4728009835926884, 0.221724087821145, 0.3966944648807889, -1.2672930011199954, 0.7680169250563473, 1.1846181946893646, 0.2475782480255661, 0.4485690766180793, 0.014156941787666289, 1.661426609144996, -1.1495974510451685, -0.7147854341662139, -0.7107841704939886, 1.3951354540947525, 0.20924908903456235, -1.220282703449926, 0.02557457473320523, 1.6272253233610467, -0.4129400171413861, -0.30186719992529765, 1.5662620317015126, -0.9805920717199543, 1.7788994781114258, -0.07627410648600412, 0.06756344975294166, 0.15733547861968317, 1.4312231564245395, 0.5067488088525609, -1.3860888399177342, -0.35267863923003084, -0.9060374943352678, -1.470559344699383, -0.19821908459674648, -1.9227544591977332, 0.2082346343431905, -1.2583923667864534, -0.8897041886487653, 1.228047110760627], \"xaxis\": \"x14\", \"y\": [-1.3079637980328176, 0.22304179671406252, -1.6261857657059278, 0.566633736372872, -0.7375295528108581, -0.011891636773831146, -0.5334663729786482, -0.8745242919479007, 0.6601838725358815, -0.46117168118529, -1.091323363853244, 0.058971366480316305, 0.39663623918495505, -0.18846634909717566, -0.0009383025883428058, -0.9724822056607263, -0.5464925109530722, -1.4300209209976071, -2.110601196985954, -1.360140831455929, 0.6156923193876411, 2.952144430502897, 0.35799135938249677, -1.3076649864823053, -0.24421516437156765, -0.4495674019298553, 1.0883308746868876, 0.22086598779162414, -0.06103902507281949, -1.9433420313160572, 0.5320454554647426, 1.3746252471198745, 0.1305260543256214, -0.35948821874407155, 2.5985690425949763, 0.5281227862388681, -0.29379092552348296, -1.2078382264099154, -1.5423947096499546, 0.030378907599932375, 1.3872029083089668, 0.3747549488569716, -0.2900210046765808, -0.14242653045860929, 1.5503804524048688, -0.08392855934242163, -1.0690403826443478, -0.20834604239604584, -0.09818035454382804, 0.3168105876871725, 1.009833639624926, 0.8587067451655745, -0.43934007517540874, 0.7980055212707029, -1.689734238525958, 0.48461811873357363, -1.572829926732365, -0.35922080469151785, 1.2962907116808693, 0.2736892788680549, 3.1965962831799515, -0.2912210021565614, 0.9585222615836765, -1.2697854325339617, 0.7072656036562351, -0.23082594775710075, -0.22577058785054743, 1.2459574919555987, -1.0519388128819473, -0.09165573316360198, -0.6909539481532403, -0.013276096848856419, 0.6258963482059207, 0.7335881536218917, 0.28023350195795416, 0.47135450155713254, 0.6481523791535133, -1.1608341442253156, -0.09276120803432533, -1.2721575501285969, -0.61486417987658, 1.6265152145697226, -0.8019205418967238, -0.11356554888258104, 2.238142067136378, -0.06832978206592988, 1.945118921953737, 1.1022762120786647, -0.1427091716154867, -0.25541739714859335, -0.23461554130263676, 0.0531409232553126, -0.6659059414090801, 1.3984443801382258, -0.5536831919568412, 0.08905645204001764, -0.3649672077103355, -0.19989719034607528, 0.16132160822386446, 0.6511501557245907], \"yaxis\": \"y14\"}, {\"line\": {\"color\": \"rgba(128, 128, 128, 1.0)\", \"dash\": \"solid\", \"shape\": \"linear\", \"width\": 1.3}, \"marker\": {\"size\": 2, \"symbol\": \"circle\"}, \"mode\": \"markers\", \"name\": \"D\", \"text\": \"\", \"type\": \"scatter\", \"x\": [0.7037872124040211, 0.3615164419960923, -0.25796356732018233, -0.14649850149540966, 0.06960711828656779, -1.4797956295623294, 1.4093816343792605, -0.12292851084529191, 0.4457087614037588, 1.1492393267257108, -0.6607372423425167, 0.3286133234450696, 0.6844361201743363, -1.2821564245328332, 0.9336034745372883, 0.5170244180169414, -0.36322526788529785, 0.6326928489564475, 0.9778826032160992, -1.1196178565981039, 1.4220243758680577, -0.2359625190926601, -0.3856235058789063, -2.7714681723669736, 0.5993442710286011, 1.313751851859977, 0.23812170074033143, -0.65276402808905, 0.11650216296705335, 0.848740310341407, 0.7721043520227766, -0.11964967401429785, 1.2833545963721653, -0.39028489654013715, 0.44929433604559843, -0.8500207432254455, 0.8668240055266053, -1.2182376917418116, 0.06141342404514145, 1.4478502562191544, 0.5737480413240534, -0.6552953362360905, 0.2983589390319965, 0.09373422462001138, 0.326302217729746, -0.022651186551612242, 1.1572903812795914, 0.6572929704731219, 0.11371203404668388, -1.1595505702679845, 0.11454164413476907, -0.2621559996633682, -2.733659449977352, 0.4255699111247708, -0.780290504106477, -0.6628857830638748, 0.6275755736024996, -1.3753939740673904, -0.9957235259791135, 0.5932914399458847, 0.024589120124802747, -0.5449197929959385, 1.506095501044284, 1.7837889696517968, 1.0008351607024597, -0.46168031979142726, 1.3271782726734083, 2.001032828511582, 0.18104520740451863, 0.07607278043933337, 0.012150073505268375, 1.0314888401570066, 0.3244018691322532, -1.0437563740670959, 0.22308120034793186, -0.5687628668009141, -0.9127930415704587, 0.8458472877920619, 0.14415454796481716, -1.1736709357560084, 0.34313864995514465, -0.602634191959899, 0.5563158524785552, -1.165343612807023, -0.08173268124689238, -0.036486809060192464, -1.1904778317362985, -0.0022018469953823823, -0.5694555209780752, -0.05308030079432449, -0.46007973236753213, -0.4986614954268612, 0.7260189289588955, -0.4936196250824067, 1.1019966482757366, 0.23198945850229563, -1.0017726051335556, 1.8466841646874763, 1.1291136907334574, 0.5682481935400014], \"xaxis\": \"x15\", \"y\": [-1.3079637980328176, 0.22304179671406252, -1.6261857657059278, 0.566633736372872, -0.7375295528108581, -0.011891636773831146, -0.5334663729786482, -0.8745242919479007, 0.6601838725358815, -0.46117168118529, -1.091323363853244, 0.058971366480316305, 0.39663623918495505, -0.18846634909717566, -0.0009383025883428058, -0.9724822056607263, -0.5464925109530722, -1.4300209209976071, -2.110601196985954, -1.360140831455929, 0.6156923193876411, 2.952144430502897, 0.35799135938249677, -1.3076649864823053, -0.24421516437156765, -0.4495674019298553, 1.0883308746868876, 0.22086598779162414, -0.06103902507281949, -1.9433420313160572, 0.5320454554647426, 1.3746252471198745, 0.1305260543256214, -0.35948821874407155, 2.5985690425949763, 0.5281227862388681, -0.29379092552348296, -1.2078382264099154, -1.5423947096499546, 0.030378907599932375, 1.3872029083089668, 0.3747549488569716, -0.2900210046765808, -0.14242653045860929, 1.5503804524048688, -0.08392855934242163, -1.0690403826443478, -0.20834604239604584, -0.09818035454382804, 0.3168105876871725, 1.009833639624926, 0.8587067451655745, -0.43934007517540874, 0.7980055212707029, -1.689734238525958, 0.48461811873357363, -1.572829926732365, -0.35922080469151785, 1.2962907116808693, 0.2736892788680549, 3.1965962831799515, -0.2912210021565614, 0.9585222615836765, -1.2697854325339617, 0.7072656036562351, -0.23082594775710075, -0.22577058785054743, 1.2459574919555987, -1.0519388128819473, -0.09165573316360198, -0.6909539481532403, -0.013276096848856419, 0.6258963482059207, 0.7335881536218917, 0.28023350195795416, 0.47135450155713254, 0.6481523791535133, -1.1608341442253156, -0.09276120803432533, -1.2721575501285969, -0.61486417987658, 1.6265152145697226, -0.8019205418967238, -0.11356554888258104, 2.238142067136378, -0.06832978206592988, 1.945118921953737, 1.1022762120786647, -0.1427091716154867, -0.25541739714859335, -0.23461554130263676, 0.0531409232553126, -0.6659059414090801, 1.3984443801382258, -0.5536831919568412, 0.08905645204001764, -0.3649672077103355, -0.19989719034607528, 0.16132160822386446, 0.6511501557245907], \"yaxis\": \"y15\"}, {\"histfunc\": \"count\", \"histnorm\": \"\", \"marker\": {\"color\": \"rgba(128, 0, 128, 1.0)\", \"line\": {\"color\": \"#4D5663\", \"width\": 1.3}}, \"name\": \"D\", \"nbinsx\": 10, \"opacity\": 0.8, \"orientation\": \"v\", \"type\": \"histogram\", \"x\": [-1.3079637980328176, 0.22304179671406252, -1.6261857657059278, 0.566633736372872, -0.7375295528108581, -0.011891636773831146, -0.5334663729786482, -0.8745242919479007, 0.6601838725358815, -0.46117168118529, -1.091323363853244, 0.058971366480316305, 0.39663623918495505, -0.18846634909717566, -0.0009383025883428058, -0.9724822056607263, -0.5464925109530722, -1.4300209209976071, -2.110601196985954, -1.360140831455929, 0.6156923193876411, 2.952144430502897, 0.35799135938249677, -1.3076649864823053, -0.24421516437156765, -0.4495674019298553, 1.0883308746868876, 0.22086598779162414, -0.06103902507281949, -1.9433420313160572, 0.5320454554647426, 1.3746252471198745, 0.1305260543256214, -0.35948821874407155, 2.5985690425949763, 0.5281227862388681, -0.29379092552348296, -1.2078382264099154, -1.5423947096499546, 0.030378907599932375, 1.3872029083089668, 0.3747549488569716, -0.2900210046765808, -0.14242653045860929, 1.5503804524048688, -0.08392855934242163, -1.0690403826443478, -0.20834604239604584, -0.09818035454382804, 0.3168105876871725, 1.009833639624926, 0.8587067451655745, -0.43934007517540874, 0.7980055212707029, -1.689734238525958, 0.48461811873357363, -1.572829926732365, -0.35922080469151785, 1.2962907116808693, 0.2736892788680549, 3.1965962831799515, -0.2912210021565614, 0.9585222615836765, -1.2697854325339617, 0.7072656036562351, -0.23082594775710075, -0.22577058785054743, 1.2459574919555987, -1.0519388128819473, -0.09165573316360198, -0.6909539481532403, -0.013276096848856419, 0.6258963482059207, 0.7335881536218917, 0.28023350195795416, 0.47135450155713254, 0.6481523791535133, -1.1608341442253156, -0.09276120803432533, -1.2721575501285969, -0.61486417987658, 1.6265152145697226, -0.8019205418967238, -0.11356554888258104, 2.238142067136378, -0.06832978206592988, 1.945118921953737, 1.1022762120786647, -0.1427091716154867, -0.25541739714859335, -0.23461554130263676, 0.0531409232553126, -0.6659059414090801, 1.3984443801382258, -0.5536831919568412, 0.08905645204001764, -0.3649672077103355, -0.19989719034607528, 0.16132160822386446, 0.6511501557245907], \"xaxis\": \"x16\", \"yaxis\": \"y16\"}],\n                        {\"bargap\": 0.02, \"legend\": {\"bgcolor\": \"#F5F6F9\", \"font\": {\"color\": \"#4D5663\"}}, \"paper_bgcolor\": \"#F5F6F9\", \"plot_bgcolor\": \"#F5F6F9\", \"showlegend\": false, \"template\": {\"data\": {\"bar\": [{\"error_x\": {\"color\": \"#2a3f5f\"}, \"error_y\": {\"color\": \"#2a3f5f\"}, \"marker\": {\"line\": {\"color\": \"#E5ECF6\", \"width\": 0.5}}, \"type\": \"bar\"}], \"barpolar\": [{\"marker\": {\"line\": {\"color\": \"#E5ECF6\", \"width\": 0.5}}, \"type\": \"barpolar\"}], \"carpet\": [{\"aaxis\": {\"endlinecolor\": \"#2a3f5f\", \"gridcolor\": \"white\", \"linecolor\": \"white\", \"minorgridcolor\": \"white\", \"startlinecolor\": \"#2a3f5f\"}, \"baxis\": {\"endlinecolor\": \"#2a3f5f\", \"gridcolor\": \"white\", \"linecolor\": \"white\", \"minorgridcolor\": \"white\", \"startlinecolor\": \"#2a3f5f\"}, \"type\": \"carpet\"}], \"choropleth\": [{\"colorbar\": {\"outlinewidth\": 0, \"ticks\": \"\"}, \"type\": \"choropleth\"}], \"contour\": [{\"colorbar\": {\"outlinewidth\": 0, \"ticks\": \"\"}, \"colorscale\": [[0.0, \"#0d0887\"], [0.1111111111111111, \"#46039f\"], [0.2222222222222222, \"#7201a8\"], [0.3333333333333333, \"#9c179e\"], [0.4444444444444444, \"#bd3786\"], [0.5555555555555556, \"#d8576b\"], [0.6666666666666666, \"#ed7953\"], [0.7777777777777778, \"#fb9f3a\"], [0.8888888888888888, \"#fdca26\"], [1.0, \"#f0f921\"]], \"type\": \"contour\"}], \"contourcarpet\": [{\"colorbar\": {\"outlinewidth\": 0, \"ticks\": \"\"}, \"type\": \"contourcarpet\"}], \"heatmap\": [{\"colorbar\": {\"outlinewidth\": 0, \"ticks\": \"\"}, \"colorscale\": [[0.0, \"#0d0887\"], [0.1111111111111111, \"#46039f\"], [0.2222222222222222, \"#7201a8\"], [0.3333333333333333, \"#9c179e\"], [0.4444444444444444, \"#bd3786\"], [0.5555555555555556, \"#d8576b\"], [0.6666666666666666, \"#ed7953\"], [0.7777777777777778, \"#fb9f3a\"], [0.8888888888888888, \"#fdca26\"], [1.0, \"#f0f921\"]], \"type\": \"heatmap\"}], \"heatmapgl\": [{\"colorbar\": {\"outlinewidth\": 0, \"ticks\": \"\"}, \"colorscale\": [[0.0, \"#0d0887\"], [0.1111111111111111, \"#46039f\"], [0.2222222222222222, \"#7201a8\"], [0.3333333333333333, \"#9c179e\"], [0.4444444444444444, \"#bd3786\"], [0.5555555555555556, \"#d8576b\"], [0.6666666666666666, \"#ed7953\"], [0.7777777777777778, \"#fb9f3a\"], [0.8888888888888888, \"#fdca26\"], [1.0, \"#f0f921\"]], \"type\": \"heatmapgl\"}], \"histogram\": [{\"marker\": {\"colorbar\": {\"outlinewidth\": 0, \"ticks\": \"\"}}, \"type\": \"histogram\"}], \"histogram2d\": [{\"colorbar\": {\"outlinewidth\": 0, \"ticks\": \"\"}, \"colorscale\": [[0.0, \"#0d0887\"], [0.1111111111111111, \"#46039f\"], [0.2222222222222222, \"#7201a8\"], [0.3333333333333333, \"#9c179e\"], [0.4444444444444444, \"#bd3786\"], [0.5555555555555556, \"#d8576b\"], [0.6666666666666666, \"#ed7953\"], [0.7777777777777778, \"#fb9f3a\"], [0.8888888888888888, \"#fdca26\"], [1.0, \"#f0f921\"]], \"type\": \"histogram2d\"}], \"histogram2dcontour\": [{\"colorbar\": {\"outlinewidth\": 0, \"ticks\": \"\"}, \"colorscale\": [[0.0, \"#0d0887\"], [0.1111111111111111, \"#46039f\"], [0.2222222222222222, \"#7201a8\"], [0.3333333333333333, \"#9c179e\"], [0.4444444444444444, \"#bd3786\"], [0.5555555555555556, \"#d8576b\"], [0.6666666666666666, \"#ed7953\"], [0.7777777777777778, \"#fb9f3a\"], [0.8888888888888888, \"#fdca26\"], [1.0, \"#f0f921\"]], \"type\": \"histogram2dcontour\"}], \"mesh3d\": [{\"colorbar\": {\"outlinewidth\": 0, \"ticks\": \"\"}, \"type\": \"mesh3d\"}], \"parcoords\": [{\"line\": {\"colorbar\": {\"outlinewidth\": 0, \"ticks\": \"\"}}, \"type\": \"parcoords\"}], \"pie\": [{\"automargin\": true, \"type\": \"pie\"}], \"scatter\": [{\"marker\": {\"colorbar\": {\"outlinewidth\": 0, \"ticks\": \"\"}}, \"type\": \"scatter\"}], \"scatter3d\": [{\"line\": {\"colorbar\": {\"outlinewidth\": 0, \"ticks\": \"\"}}, \"marker\": {\"colorbar\": {\"outlinewidth\": 0, \"ticks\": \"\"}}, \"type\": \"scatter3d\"}], \"scattercarpet\": [{\"marker\": {\"colorbar\": {\"outlinewidth\": 0, \"ticks\": \"\"}}, \"type\": \"scattercarpet\"}], \"scattergeo\": [{\"marker\": {\"colorbar\": {\"outlinewidth\": 0, \"ticks\": \"\"}}, \"type\": \"scattergeo\"}], \"scattergl\": [{\"marker\": {\"colorbar\": {\"outlinewidth\": 0, \"ticks\": \"\"}}, \"type\": \"scattergl\"}], \"scattermapbox\": [{\"marker\": {\"colorbar\": {\"outlinewidth\": 0, \"ticks\": \"\"}}, \"type\": \"scattermapbox\"}], \"scatterpolar\": [{\"marker\": {\"colorbar\": {\"outlinewidth\": 0, \"ticks\": \"\"}}, \"type\": \"scatterpolar\"}], \"scatterpolargl\": [{\"marker\": {\"colorbar\": {\"outlinewidth\": 0, \"ticks\": \"\"}}, \"type\": \"scatterpolargl\"}], \"scatterternary\": [{\"marker\": {\"colorbar\": {\"outlinewidth\": 0, \"ticks\": \"\"}}, \"type\": \"scatterternary\"}], \"surface\": [{\"colorbar\": {\"outlinewidth\": 0, \"ticks\": \"\"}, \"colorscale\": [[0.0, \"#0d0887\"], [0.1111111111111111, \"#46039f\"], [0.2222222222222222, \"#7201a8\"], [0.3333333333333333, \"#9c179e\"], [0.4444444444444444, \"#bd3786\"], [0.5555555555555556, \"#d8576b\"], [0.6666666666666666, \"#ed7953\"], [0.7777777777777778, \"#fb9f3a\"], [0.8888888888888888, \"#fdca26\"], [1.0, \"#f0f921\"]], \"type\": \"surface\"}], \"table\": [{\"cells\": {\"fill\": {\"color\": \"#EBF0F8\"}, \"line\": {\"color\": \"white\"}}, \"header\": {\"fill\": {\"color\": \"#C8D4E3\"}, \"line\": {\"color\": \"white\"}}, \"type\": \"table\"}]}, \"layout\": {\"annotationdefaults\": {\"arrowcolor\": \"#2a3f5f\", \"arrowhead\": 0, \"arrowwidth\": 1}, \"coloraxis\": {\"colorbar\": {\"outlinewidth\": 0, \"ticks\": \"\"}}, \"colorscale\": {\"diverging\": [[0, \"#8e0152\"], [0.1, \"#c51b7d\"], [0.2, \"#de77ae\"], [0.3, \"#f1b6da\"], [0.4, \"#fde0ef\"], [0.5, \"#f7f7f7\"], [0.6, \"#e6f5d0\"], [0.7, \"#b8e186\"], [0.8, \"#7fbc41\"], [0.9, \"#4d9221\"], [1, \"#276419\"]], \"sequential\": [[0.0, \"#0d0887\"], [0.1111111111111111, \"#46039f\"], [0.2222222222222222, \"#7201a8\"], [0.3333333333333333, \"#9c179e\"], [0.4444444444444444, \"#bd3786\"], [0.5555555555555556, \"#d8576b\"], [0.6666666666666666, \"#ed7953\"], [0.7777777777777778, \"#fb9f3a\"], [0.8888888888888888, \"#fdca26\"], [1.0, \"#f0f921\"]], \"sequentialminus\": [[0.0, \"#0d0887\"], [0.1111111111111111, \"#46039f\"], [0.2222222222222222, \"#7201a8\"], [0.3333333333333333, \"#9c179e\"], [0.4444444444444444, \"#bd3786\"], [0.5555555555555556, \"#d8576b\"], [0.6666666666666666, \"#ed7953\"], [0.7777777777777778, \"#fb9f3a\"], [0.8888888888888888, \"#fdca26\"], [1.0, \"#f0f921\"]]}, \"colorway\": [\"#636efa\", \"#EF553B\", \"#00cc96\", \"#ab63fa\", \"#FFA15A\", \"#19d3f3\", \"#FF6692\", \"#B6E880\", \"#FF97FF\", \"#FECB52\"], \"font\": {\"color\": \"#2a3f5f\"}, \"geo\": {\"bgcolor\": \"white\", \"lakecolor\": \"white\", \"landcolor\": \"#E5ECF6\", \"showlakes\": true, \"showland\": true, \"subunitcolor\": \"white\"}, \"hoverlabel\": {\"align\": \"left\"}, \"hovermode\": \"closest\", \"mapbox\": {\"style\": \"light\"}, \"paper_bgcolor\": \"white\", \"plot_bgcolor\": \"#E5ECF6\", \"polar\": {\"angularaxis\": {\"gridcolor\": \"white\", \"linecolor\": \"white\", \"ticks\": \"\"}, \"bgcolor\": \"#E5ECF6\", \"radialaxis\": {\"gridcolor\": \"white\", \"linecolor\": \"white\", \"ticks\": \"\"}}, \"scene\": {\"xaxis\": {\"backgroundcolor\": \"#E5ECF6\", \"gridcolor\": \"white\", \"gridwidth\": 2, \"linecolor\": \"white\", \"showbackground\": true, \"ticks\": \"\", \"zerolinecolor\": \"white\"}, \"yaxis\": {\"backgroundcolor\": \"#E5ECF6\", \"gridcolor\": \"white\", \"gridwidth\": 2, \"linecolor\": \"white\", \"showbackground\": true, \"ticks\": \"\", \"zerolinecolor\": \"white\"}, \"zaxis\": {\"backgroundcolor\": \"#E5ECF6\", \"gridcolor\": \"white\", \"gridwidth\": 2, \"linecolor\": \"white\", \"showbackground\": true, \"ticks\": \"\", \"zerolinecolor\": \"white\"}}, \"shapedefaults\": {\"line\": {\"color\": \"#2a3f5f\"}}, \"ternary\": {\"aaxis\": {\"gridcolor\": \"white\", \"linecolor\": \"white\", \"ticks\": \"\"}, \"baxis\": {\"gridcolor\": \"white\", \"linecolor\": \"white\", \"ticks\": \"\"}, \"bgcolor\": \"#E5ECF6\", \"caxis\": {\"gridcolor\": \"white\", \"linecolor\": \"white\", \"ticks\": \"\"}}, \"title\": {\"x\": 0.05}, \"xaxis\": {\"automargin\": true, \"gridcolor\": \"white\", \"linecolor\": \"white\", \"ticks\": \"\", \"title\": {\"standoff\": 15}, \"zerolinecolor\": \"white\", \"zerolinewidth\": 2}, \"yaxis\": {\"automargin\": true, \"gridcolor\": \"white\", \"linecolor\": \"white\", \"ticks\": \"\", \"title\": {\"standoff\": 15}, \"zerolinecolor\": \"white\", \"zerolinewidth\": 2}}}, \"title\": {\"font\": {\"color\": \"#4D5663\"}}, \"xaxis\": {\"anchor\": \"y\", \"domain\": [0.0, 0.2125], \"gridcolor\": \"#E1E5ED\", \"showgrid\": false, \"tickfont\": {\"color\": \"#4D5663\"}, \"title\": {\"font\": {\"color\": \"#4D5663\"}, \"text\": \"\"}, \"zerolinecolor\": \"#E1E5ED\"}, \"xaxis10\": {\"anchor\": \"y10\", \"domain\": [0.2625, 0.475], \"gridcolor\": \"#E1E5ED\", \"showgrid\": false, \"tickfont\": {\"color\": \"#4D5663\"}, \"title\": {\"font\": {\"color\": \"#4D5663\"}, \"text\": \"\"}, \"zerolinecolor\": \"#E1E5ED\"}, \"xaxis11\": {\"anchor\": \"y11\", \"domain\": [0.525, 0.7375], \"gridcolor\": \"#E1E5ED\", \"showgrid\": false, \"tickfont\": {\"color\": \"#4D5663\"}, \"title\": {\"font\": {\"color\": \"#4D5663\"}, \"text\": \"\"}, \"zerolinecolor\": \"#E1E5ED\"}, \"xaxis12\": {\"anchor\": \"y12\", \"domain\": [0.7875, 1.0], \"gridcolor\": \"#E1E5ED\", \"showgrid\": false, \"tickfont\": {\"color\": \"#4D5663\"}, \"title\": {\"font\": {\"color\": \"#4D5663\"}, \"text\": \"\"}, \"zerolinecolor\": \"#E1E5ED\"}, \"xaxis13\": {\"anchor\": \"y13\", \"domain\": [0.0, 0.2125], \"gridcolor\": \"#E1E5ED\", \"showgrid\": false, \"tickfont\": {\"color\": \"#4D5663\"}, \"title\": {\"font\": {\"color\": \"#4D5663\"}, \"text\": \"\"}, \"zerolinecolor\": \"#E1E5ED\"}, \"xaxis14\": {\"anchor\": \"y14\", \"domain\": [0.2625, 0.475], \"gridcolor\": \"#E1E5ED\", \"showgrid\": false, \"tickfont\": {\"color\": \"#4D5663\"}, \"title\": {\"font\": {\"color\": \"#4D5663\"}, \"text\": \"\"}, \"zerolinecolor\": \"#E1E5ED\"}, \"xaxis15\": {\"anchor\": \"y15\", \"domain\": [0.525, 0.7375], \"gridcolor\": \"#E1E5ED\", \"showgrid\": false, \"tickfont\": {\"color\": \"#4D5663\"}, \"title\": {\"font\": {\"color\": \"#4D5663\"}, \"text\": \"\"}, \"zerolinecolor\": \"#E1E5ED\"}, \"xaxis16\": {\"anchor\": \"y16\", \"domain\": [0.7875, 1.0], \"gridcolor\": \"#E1E5ED\", \"showgrid\": false, \"tickfont\": {\"color\": \"#4D5663\"}, \"title\": {\"font\": {\"color\": \"#4D5663\"}, \"text\": \"\"}, \"zerolinecolor\": \"#E1E5ED\"}, \"xaxis2\": {\"anchor\": \"y2\", \"domain\": [0.2625, 0.475], \"gridcolor\": \"#E1E5ED\", \"showgrid\": false, \"tickfont\": {\"color\": \"#4D5663\"}, \"title\": {\"font\": {\"color\": \"#4D5663\"}, \"text\": \"\"}, \"zerolinecolor\": \"#E1E5ED\"}, \"xaxis3\": {\"anchor\": \"y3\", \"domain\": [0.525, 0.7375], \"gridcolor\": \"#E1E5ED\", \"showgrid\": false, \"tickfont\": {\"color\": \"#4D5663\"}, \"title\": {\"font\": {\"color\": \"#4D5663\"}, \"text\": \"\"}, \"zerolinecolor\": \"#E1E5ED\"}, \"xaxis4\": {\"anchor\": \"y4\", \"domain\": [0.7875, 1.0], \"gridcolor\": \"#E1E5ED\", \"showgrid\": false, \"tickfont\": {\"color\": \"#4D5663\"}, \"title\": {\"font\": {\"color\": \"#4D5663\"}, \"text\": \"\"}, \"zerolinecolor\": \"#E1E5ED\"}, \"xaxis5\": {\"anchor\": \"y5\", \"domain\": [0.0, 0.2125], \"gridcolor\": \"#E1E5ED\", \"showgrid\": false, \"tickfont\": {\"color\": \"#4D5663\"}, \"title\": {\"font\": {\"color\": \"#4D5663\"}, \"text\": \"\"}, \"zerolinecolor\": \"#E1E5ED\"}, \"xaxis6\": {\"anchor\": \"y6\", \"domain\": [0.2625, 0.475], \"gridcolor\": \"#E1E5ED\", \"showgrid\": false, \"tickfont\": {\"color\": \"#4D5663\"}, \"title\": {\"font\": {\"color\": \"#4D5663\"}, \"text\": \"\"}, \"zerolinecolor\": \"#E1E5ED\"}, \"xaxis7\": {\"anchor\": \"y7\", \"domain\": [0.525, 0.7375], \"gridcolor\": \"#E1E5ED\", \"showgrid\": false, \"tickfont\": {\"color\": \"#4D5663\"}, \"title\": {\"font\": {\"color\": \"#4D5663\"}, \"text\": \"\"}, \"zerolinecolor\": \"#E1E5ED\"}, \"xaxis8\": {\"anchor\": \"y8\", \"domain\": [0.7875, 1.0], \"gridcolor\": \"#E1E5ED\", \"showgrid\": false, \"tickfont\": {\"color\": \"#4D5663\"}, \"title\": {\"font\": {\"color\": \"#4D5663\"}, \"text\": \"\"}, \"zerolinecolor\": \"#E1E5ED\"}, \"xaxis9\": {\"anchor\": \"y9\", \"domain\": [0.0, 0.2125], \"gridcolor\": \"#E1E5ED\", \"showgrid\": false, \"tickfont\": {\"color\": \"#4D5663\"}, \"title\": {\"font\": {\"color\": \"#4D5663\"}, \"text\": \"\"}, \"zerolinecolor\": \"#E1E5ED\"}, \"yaxis\": {\"anchor\": \"x\", \"domain\": [0.8025, 1.0], \"gridcolor\": \"#E1E5ED\", \"showgrid\": false, \"tickfont\": {\"color\": \"#4D5663\"}, \"title\": {\"font\": {\"color\": \"#4D5663\"}, \"text\": \"\"}, \"zerolinecolor\": \"#E1E5ED\"}, \"yaxis10\": {\"anchor\": \"x10\", \"domain\": [0.2675, 0.465], \"gridcolor\": \"#E1E5ED\", \"showgrid\": false, \"tickfont\": {\"color\": \"#4D5663\"}, \"title\": {\"font\": {\"color\": \"#4D5663\"}, \"text\": \"\"}, \"zerolinecolor\": \"#E1E5ED\"}, \"yaxis11\": {\"anchor\": \"x11\", \"domain\": [0.2675, 0.465], \"gridcolor\": \"#E1E5ED\", \"showgrid\": false, \"tickfont\": {\"color\": \"#4D5663\"}, \"title\": {\"font\": {\"color\": \"#4D5663\"}, \"text\": \"\"}, \"zerolinecolor\": \"#E1E5ED\"}, \"yaxis12\": {\"anchor\": \"x12\", \"domain\": [0.2675, 0.465], \"gridcolor\": \"#E1E5ED\", \"showgrid\": false, \"tickfont\": {\"color\": \"#4D5663\"}, \"title\": {\"font\": {\"color\": \"#4D5663\"}, \"text\": \"\"}, \"zerolinecolor\": \"#E1E5ED\"}, \"yaxis13\": {\"anchor\": \"x13\", \"domain\": [0.0, 0.1975], \"gridcolor\": \"#E1E5ED\", \"showgrid\": false, \"tickfont\": {\"color\": \"#4D5663\"}, \"title\": {\"font\": {\"color\": \"#4D5663\"}, \"text\": \"\"}, \"zerolinecolor\": \"#E1E5ED\"}, \"yaxis14\": {\"anchor\": \"x14\", \"domain\": [0.0, 0.1975], \"gridcolor\": \"#E1E5ED\", \"showgrid\": false, \"tickfont\": {\"color\": \"#4D5663\"}, \"title\": {\"font\": {\"color\": \"#4D5663\"}, \"text\": \"\"}, \"zerolinecolor\": \"#E1E5ED\"}, \"yaxis15\": {\"anchor\": \"x15\", \"domain\": [0.0, 0.1975], \"gridcolor\": \"#E1E5ED\", \"showgrid\": false, \"tickfont\": {\"color\": \"#4D5663\"}, \"title\": {\"font\": {\"color\": \"#4D5663\"}, \"text\": \"\"}, \"zerolinecolor\": \"#E1E5ED\"}, \"yaxis16\": {\"anchor\": \"x16\", \"domain\": [0.0, 0.1975], \"gridcolor\": \"#E1E5ED\", \"showgrid\": false, \"tickfont\": {\"color\": \"#4D5663\"}, \"title\": {\"font\": {\"color\": \"#4D5663\"}, \"text\": \"\"}, \"zerolinecolor\": \"#E1E5ED\"}, \"yaxis2\": {\"anchor\": \"x2\", \"domain\": [0.8025, 1.0], \"gridcolor\": \"#E1E5ED\", \"showgrid\": false, \"tickfont\": {\"color\": \"#4D5663\"}, \"title\": {\"font\": {\"color\": \"#4D5663\"}, \"text\": \"\"}, \"zerolinecolor\": \"#E1E5ED\"}, \"yaxis3\": {\"anchor\": \"x3\", \"domain\": [0.8025, 1.0], \"gridcolor\": \"#E1E5ED\", \"showgrid\": false, \"tickfont\": {\"color\": \"#4D5663\"}, \"title\": {\"font\": {\"color\": \"#4D5663\"}, \"text\": \"\"}, \"zerolinecolor\": \"#E1E5ED\"}, \"yaxis4\": {\"anchor\": \"x4\", \"domain\": [0.8025, 1.0], \"gridcolor\": \"#E1E5ED\", \"showgrid\": false, \"tickfont\": {\"color\": \"#4D5663\"}, \"title\": {\"font\": {\"color\": \"#4D5663\"}, \"text\": \"\"}, \"zerolinecolor\": \"#E1E5ED\"}, \"yaxis5\": {\"anchor\": \"x5\", \"domain\": [0.535, 0.7325], \"gridcolor\": \"#E1E5ED\", \"showgrid\": false, \"tickfont\": {\"color\": \"#4D5663\"}, \"title\": {\"font\": {\"color\": \"#4D5663\"}, \"text\": \"\"}, \"zerolinecolor\": \"#E1E5ED\"}, \"yaxis6\": {\"anchor\": \"x6\", \"domain\": [0.535, 0.7325], \"gridcolor\": \"#E1E5ED\", \"showgrid\": false, \"tickfont\": {\"color\": \"#4D5663\"}, \"title\": {\"font\": {\"color\": \"#4D5663\"}, \"text\": \"\"}, \"zerolinecolor\": \"#E1E5ED\"}, \"yaxis7\": {\"anchor\": \"x7\", \"domain\": [0.535, 0.7325], \"gridcolor\": \"#E1E5ED\", \"showgrid\": false, \"tickfont\": {\"color\": \"#4D5663\"}, \"title\": {\"font\": {\"color\": \"#4D5663\"}, \"text\": \"\"}, \"zerolinecolor\": \"#E1E5ED\"}, \"yaxis8\": {\"anchor\": \"x8\", \"domain\": [0.535, 0.7325], \"gridcolor\": \"#E1E5ED\", \"showgrid\": false, \"tickfont\": {\"color\": \"#4D5663\"}, \"title\": {\"font\": {\"color\": \"#4D5663\"}, \"text\": \"\"}, \"zerolinecolor\": \"#E1E5ED\"}, \"yaxis9\": {\"anchor\": \"x9\", \"domain\": [0.2675, 0.465], \"gridcolor\": \"#E1E5ED\", \"showgrid\": false, \"tickfont\": {\"color\": \"#4D5663\"}, \"title\": {\"font\": {\"color\": \"#4D5663\"}, \"text\": \"\"}, \"zerolinecolor\": \"#E1E5ED\"}},\n                        {\"showLink\": true, \"linkText\": \"Export to plot.ly\", \"plotlyServerURL\": \"https://plot.ly\", \"responsive\": true}\n                    ).then(function(){\n                            \nvar gd = document.getElementById('a8ae2757-44b5-480b-a745-cc3bede3ecf1');\nvar x = new MutationObserver(function (mutations, observer) {{\n        var display = window.getComputedStyle(gd).display;\n        if (!display || display === 'none') {{\n            console.log([gd, 'removed!']);\n            Plotly.purge(gd);\n            observer.disconnect();\n        }}\n}});\n\n// Listen for the removal of the full notebook cells\nvar notebookContainer = gd.closest('#notebook-container');\nif (notebookContainer) {{\n    x.observe(notebookContainer, {childList: true});\n}}\n\n// Listen for the clearing of the current output cell\nvar outputEl = gd.closest('.output');\nif (outputEl) {{\n    x.observe(outputEl, {childList: true});\n}}\n\n                        })\n                };\n                });\n            </script>\n        </div>"
     },
     "metadata": {}
    }
   ],
   "source": [
    "# scatter matrix plot\n",
    "# similar to pairplot in seaborn\n",
    "df.scatter_matrix()"
   ]
  },
  {
   "cell_type": "code",
   "execution_count": null,
   "metadata": {},
   "outputs": [],
   "source": []
  }
 ],
 "metadata": {
  "language_info": {
   "codemirror_mode": {
    "name": "ipython",
    "version": 3
   },
   "file_extension": ".py",
   "mimetype": "text/x-python",
   "name": "python",
   "nbconvert_exporter": "python",
   "pygments_lexer": "ipython3",
   "version": 3
  },
  "orig_nbformat": 2,
  "kernelspec": {
   "name": "python_defaultSpec_1594847378635",
   "display_name": "Python 3.7.3 64-bit"
  }
 },
 "nbformat": 4,
 "nbformat_minor": 2
}