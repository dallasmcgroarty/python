{
 "metadata": {
  "language_info": {
   "codemirror_mode": {
    "name": "ipython",
    "version": 3
   },
   "file_extension": ".py",
   "mimetype": "text/x-python",
   "name": "python",
   "nbconvert_exporter": "python",
   "pygments_lexer": "ipython3",
   "version": 3
  },
  "orig_nbformat": 2,
  "kernelspec": {
   "name": "python_defaultSpec_1597089452880",
   "display_name": "Python 3.7.3 64-bit"
  }
 },
 "nbformat": 4,
 "nbformat_minor": 2,
 "cells": [
  {
   "cell_type": "code",
   "execution_count": 1,
   "metadata": {},
   "outputs": [],
   "source": [
    "import pandas as pd\n",
    "import numpy as np\n",
    "import seaborn as sns\n",
    "import matplotlib.pyplot as plt"
   ]
  },
  {
   "cell_type": "code",
   "execution_count": 2,
   "metadata": {},
   "outputs": [],
   "source": [
    "from sklearn.datasets import load_breast_cancer"
   ]
  },
  {
   "cell_type": "code",
   "execution_count": 3,
   "metadata": {},
   "outputs": [],
   "source": [
    "cancer = load_breast_cancer()"
   ]
  },
  {
   "cell_type": "code",
   "execution_count": 4,
   "metadata": {},
   "outputs": [
    {
     "output_type": "execute_result",
     "data": {
      "text/plain": "dict_keys(['data', 'target', 'frame', 'target_names', 'DESCR', 'feature_names', 'filename'])"
     },
     "metadata": {},
     "execution_count": 4
    }
   ],
   "source": [
    "cancer.keys()"
   ]
  },
  {
   "cell_type": "code",
   "execution_count": 5,
   "metadata": {},
   "outputs": [],
   "source": [
    "# trying to determine if a tumor is malignant or benign, using svms\n",
    "# and this cancer data set"
   ]
  },
  {
   "cell_type": "code",
   "execution_count": 6,
   "metadata": {},
   "outputs": [
    {
     "output_type": "execute_result",
     "data": {
      "text/plain": "   mean radius  mean texture  mean perimeter  mean area  mean smoothness  \\\n0        17.99         10.38          122.80     1001.0          0.11840   \n1        20.57         17.77          132.90     1326.0          0.08474   \n2        19.69         21.25          130.00     1203.0          0.10960   \n3        11.42         20.38           77.58      386.1          0.14250   \n4        20.29         14.34          135.10     1297.0          0.10030   \n\n   mean compactness  mean concavity  mean concave points  mean symmetry  \\\n0           0.27760          0.3001              0.14710         0.2419   \n1           0.07864          0.0869              0.07017         0.1812   \n2           0.15990          0.1974              0.12790         0.2069   \n3           0.28390          0.2414              0.10520         0.2597   \n4           0.13280          0.1980              0.10430         0.1809   \n\n   mean fractal dimension  ...  worst radius  worst texture  worst perimeter  \\\n0                 0.07871  ...         25.38          17.33           184.60   \n1                 0.05667  ...         24.99          23.41           158.80   \n2                 0.05999  ...         23.57          25.53           152.50   \n3                 0.09744  ...         14.91          26.50            98.87   \n4                 0.05883  ...         22.54          16.67           152.20   \n\n   worst area  worst smoothness  worst compactness  worst concavity  \\\n0      2019.0            0.1622             0.6656           0.7119   \n1      1956.0            0.1238             0.1866           0.2416   \n2      1709.0            0.1444             0.4245           0.4504   \n3       567.7            0.2098             0.8663           0.6869   \n4      1575.0            0.1374             0.2050           0.4000   \n\n   worst concave points  worst symmetry  worst fractal dimension  \n0                0.2654          0.4601                  0.11890  \n1                0.1860          0.2750                  0.08902  \n2                0.2430          0.3613                  0.08758  \n3                0.2575          0.6638                  0.17300  \n4                0.1625          0.2364                  0.07678  \n\n[5 rows x 30 columns]",
      "text/html": "<div>\n<style scoped>\n    .dataframe tbody tr th:only-of-type {\n        vertical-align: middle;\n    }\n\n    .dataframe tbody tr th {\n        vertical-align: top;\n    }\n\n    .dataframe thead th {\n        text-align: right;\n    }\n</style>\n<table border=\"1\" class=\"dataframe\">\n  <thead>\n    <tr style=\"text-align: right;\">\n      <th></th>\n      <th>mean radius</th>\n      <th>mean texture</th>\n      <th>mean perimeter</th>\n      <th>mean area</th>\n      <th>mean smoothness</th>\n      <th>mean compactness</th>\n      <th>mean concavity</th>\n      <th>mean concave points</th>\n      <th>mean symmetry</th>\n      <th>mean fractal dimension</th>\n      <th>...</th>\n      <th>worst radius</th>\n      <th>worst texture</th>\n      <th>worst perimeter</th>\n      <th>worst area</th>\n      <th>worst smoothness</th>\n      <th>worst compactness</th>\n      <th>worst concavity</th>\n      <th>worst concave points</th>\n      <th>worst symmetry</th>\n      <th>worst fractal dimension</th>\n    </tr>\n  </thead>\n  <tbody>\n    <tr>\n      <th>0</th>\n      <td>17.99</td>\n      <td>10.38</td>\n      <td>122.80</td>\n      <td>1001.0</td>\n      <td>0.11840</td>\n      <td>0.27760</td>\n      <td>0.3001</td>\n      <td>0.14710</td>\n      <td>0.2419</td>\n      <td>0.07871</td>\n      <td>...</td>\n      <td>25.38</td>\n      <td>17.33</td>\n      <td>184.60</td>\n      <td>2019.0</td>\n      <td>0.1622</td>\n      <td>0.6656</td>\n      <td>0.7119</td>\n      <td>0.2654</td>\n      <td>0.4601</td>\n      <td>0.11890</td>\n    </tr>\n    <tr>\n      <th>1</th>\n      <td>20.57</td>\n      <td>17.77</td>\n      <td>132.90</td>\n      <td>1326.0</td>\n      <td>0.08474</td>\n      <td>0.07864</td>\n      <td>0.0869</td>\n      <td>0.07017</td>\n      <td>0.1812</td>\n      <td>0.05667</td>\n      <td>...</td>\n      <td>24.99</td>\n      <td>23.41</td>\n      <td>158.80</td>\n      <td>1956.0</td>\n      <td>0.1238</td>\n      <td>0.1866</td>\n      <td>0.2416</td>\n      <td>0.1860</td>\n      <td>0.2750</td>\n      <td>0.08902</td>\n    </tr>\n    <tr>\n      <th>2</th>\n      <td>19.69</td>\n      <td>21.25</td>\n      <td>130.00</td>\n      <td>1203.0</td>\n      <td>0.10960</td>\n      <td>0.15990</td>\n      <td>0.1974</td>\n      <td>0.12790</td>\n      <td>0.2069</td>\n      <td>0.05999</td>\n      <td>...</td>\n      <td>23.57</td>\n      <td>25.53</td>\n      <td>152.50</td>\n      <td>1709.0</td>\n      <td>0.1444</td>\n      <td>0.4245</td>\n      <td>0.4504</td>\n      <td>0.2430</td>\n      <td>0.3613</td>\n      <td>0.08758</td>\n    </tr>\n    <tr>\n      <th>3</th>\n      <td>11.42</td>\n      <td>20.38</td>\n      <td>77.58</td>\n      <td>386.1</td>\n      <td>0.14250</td>\n      <td>0.28390</td>\n      <td>0.2414</td>\n      <td>0.10520</td>\n      <td>0.2597</td>\n      <td>0.09744</td>\n      <td>...</td>\n      <td>14.91</td>\n      <td>26.50</td>\n      <td>98.87</td>\n      <td>567.7</td>\n      <td>0.2098</td>\n      <td>0.8663</td>\n      <td>0.6869</td>\n      <td>0.2575</td>\n      <td>0.6638</td>\n      <td>0.17300</td>\n    </tr>\n    <tr>\n      <th>4</th>\n      <td>20.29</td>\n      <td>14.34</td>\n      <td>135.10</td>\n      <td>1297.0</td>\n      <td>0.10030</td>\n      <td>0.13280</td>\n      <td>0.1980</td>\n      <td>0.10430</td>\n      <td>0.1809</td>\n      <td>0.05883</td>\n      <td>...</td>\n      <td>22.54</td>\n      <td>16.67</td>\n      <td>152.20</td>\n      <td>1575.0</td>\n      <td>0.1374</td>\n      <td>0.2050</td>\n      <td>0.4000</td>\n      <td>0.1625</td>\n      <td>0.2364</td>\n      <td>0.07678</td>\n    </tr>\n  </tbody>\n</table>\n<p>5 rows × 30 columns</p>\n</div>"
     },
     "metadata": {},
     "execution_count": 6
    }
   ],
   "source": [
    "df_feat = pd.DataFrame(cancer['data'], columns=cancer['feature_names'])\n",
    "df_feat.head()"
   ]
  },
  {
   "cell_type": "code",
   "execution_count": 8,
   "metadata": {
    "tags": []
   },
   "outputs": [
    {
     "output_type": "stream",
     "name": "stdout",
     "text": "<class 'pandas.core.frame.DataFrame'>\nRangeIndex: 569 entries, 0 to 568\nData columns (total 30 columns):\n #   Column                   Non-Null Count  Dtype  \n---  ------                   --------------  -----  \n 0   mean radius              569 non-null    float64\n 1   mean texture             569 non-null    float64\n 2   mean perimeter           569 non-null    float64\n 3   mean area                569 non-null    float64\n 4   mean smoothness          569 non-null    float64\n 5   mean compactness         569 non-null    float64\n 6   mean concavity           569 non-null    float64\n 7   mean concave points      569 non-null    float64\n 8   mean symmetry            569 non-null    float64\n 9   mean fractal dimension   569 non-null    float64\n 10  radius error             569 non-null    float64\n 11  texture error            569 non-null    float64\n 12  perimeter error          569 non-null    float64\n 13  area error               569 non-null    float64\n 14  smoothness error         569 non-null    float64\n 15  compactness error        569 non-null    float64\n 16  concavity error          569 non-null    float64\n 17  concave points error     569 non-null    float64\n 18  symmetry error           569 non-null    float64\n 19  fractal dimension error  569 non-null    float64\n 20  worst radius             569 non-null    float64\n 21  worst texture            569 non-null    float64\n 22  worst perimeter          569 non-null    float64\n 23  worst area               569 non-null    float64\n 24  worst smoothness         569 non-null    float64\n 25  worst compactness        569 non-null    float64\n 26  worst concavity          569 non-null    float64\n 27  worst concave points     569 non-null    float64\n 28  worst symmetry           569 non-null    float64\n 29  worst fractal dimension  569 non-null    float64\ndtypes: float64(30)\nmemory usage: 133.5 KB\n"
    }
   ],
   "source": [
    "df_feat.info()"
   ]
  },
  {
   "cell_type": "code",
   "execution_count": 9,
   "metadata": {},
   "outputs": [
    {
     "output_type": "execute_result",
     "data": {
      "text/plain": "array(['malignant', 'benign'], dtype='<U9')"
     },
     "metadata": {},
     "execution_count": 9
    }
   ],
   "source": [
    "cancer['target_names']"
   ]
  },
  {
   "cell_type": "code",
   "execution_count": 15,
   "metadata": {},
   "outputs": [],
   "source": [
    "# train and test splits"
   ]
  },
  {
   "cell_type": "code",
   "execution_count": 12,
   "metadata": {},
   "outputs": [],
   "source": [
    "from sklearn.model_selection import train_test_split"
   ]
  },
  {
   "cell_type": "code",
   "execution_count": 14,
   "metadata": {},
   "outputs": [],
   "source": [
    "X = df_feat\n",
    "y = cancer['target']\n",
    "\n",
    "X_train, X_test, y_train, y_test = train_test_split(X, y, test_size=0.3, random_state=101) "
   ]
  },
  {
   "cell_type": "code",
   "execution_count": 18,
   "metadata": {},
   "outputs": [],
   "source": [
    "# import svc from sklearn and fit the model"
   ]
  },
  {
   "cell_type": "code",
   "execution_count": 16,
   "metadata": {},
   "outputs": [],
   "source": [
    "from sklearn.svm import SVC"
   ]
  },
  {
   "cell_type": "code",
   "execution_count": 17,
   "metadata": {},
   "outputs": [],
   "source": [
    "model = SVC()"
   ]
  },
  {
   "cell_type": "code",
   "execution_count": 19,
   "metadata": {},
   "outputs": [
    {
     "output_type": "execute_result",
     "data": {
      "text/plain": "SVC()"
     },
     "metadata": {},
     "execution_count": 19
    }
   ],
   "source": [
    "model.fit(X_train,y_train)"
   ]
  },
  {
   "cell_type": "code",
   "execution_count": 21,
   "metadata": {},
   "outputs": [],
   "source": [
    "predictions = model.predict(X_test)"
   ]
  },
  {
   "cell_type": "code",
   "execution_count": 22,
   "metadata": {},
   "outputs": [],
   "source": [
    "from sklearn.metrics import classification_report, confusion_matrix"
   ]
  },
  {
   "cell_type": "code",
   "execution_count": 23,
   "metadata": {
    "tags": []
   },
   "outputs": [
    {
     "output_type": "stream",
     "name": "stdout",
     "text": "[[ 56  10]\n [  3 102]]\n\n\n              precision    recall  f1-score   support\n\n           0       0.95      0.85      0.90        66\n           1       0.91      0.97      0.94       105\n\n    accuracy                           0.92       171\n   macro avg       0.93      0.91      0.92       171\nweighted avg       0.93      0.92      0.92       171\n\n"
    }
   ],
   "source": [
    "print(confusion_matrix(y_test,predictions))\n",
    "print('\\n')\n",
    "print(classification_report(y_test,predictions))"
   ]
  },
  {
   "cell_type": "code",
   "execution_count": 24,
   "metadata": {},
   "outputs": [],
   "source": [
    "# using grid search to find right parameters"
   ]
  },
  {
   "cell_type": "code",
   "execution_count": 26,
   "metadata": {},
   "outputs": [],
   "source": [
    "from sklearn.model_selection import GridSearchCV"
   ]
  },
  {
   "cell_type": "code",
   "execution_count": 27,
   "metadata": {},
   "outputs": [],
   "source": [
    "param_grid = {'C':[0.1,1,10,100,1000],'gamma':[1,0.1,0.01,0.001,0.0001]}"
   ]
  },
  {
   "cell_type": "code",
   "execution_count": 28,
   "metadata": {},
   "outputs": [],
   "source": [
    "grid = GridSearchCV(SVC(),param_grid,verbose=3)"
   ]
  },
  {
   "cell_type": "code",
   "execution_count": 31,
   "metadata": {
    "tags": []
   },
   "outputs": [
    {
     "output_type": "stream",
     "name": "stdout",
     "text": "Fitting 5 folds for each of 25 candidates, totalling 125 fits\n[CV] C=0.1, gamma=1 ..................................................\n[CV] ...................... C=0.1, gamma=1, score=0.637, total=   0.0s\n[CV] C=0.1, gamma=1 ..................................................\n[CV] ...................... C=0.1, gamma=1, score=0.637, total=   0.0s\n[CV] C=0.1, gamma=1 ..................................................\n[CV] ...................... C=0.1, gamma=1, score=0.625, total=   0.0s\n[CV] C=0.1, gamma=1 ..................................................\n[CV] ...................... C=0.1, gamma=1, score=0.633, total=   0.0s\n[CV] C=0.1, gamma=1 ..................................................\n[CV] ...................... C=0.1, gamma=1, score=0.633, total=   0.0s\n[CV] C=0.1, gamma=0.1 ................................................\n[CV] .................... C=0.1, gamma=0.1, score=0.637, total=   0.0s\n[CV] C=0.1, gamma=0.1 ................................................\n[CV] .................... C=0.1, gamma=0.1, score=0.637, total=   0.0s\n[CV] C=0.1, gamma=0.1 ................................................\n[CV] .................... C=0.1, gamma=0.1, score=0.625, total=   0.0s\n[CV] C=0.1, gamma=0.1 ................................................\n[CV] .................... C=0.1, gamma=0.1, score=0.633, total=   0.0s\n[CV] C=0.1, gamma=0.1 ................................................\n[CV] .................... C=0.1, gamma=0.1, score=0.633, total=   0.0s\n[CV] C=0.1, gamma=0.01 ...............................................\n[CV] ................... C=0.1, gamma=0.01, score=0.637, total=   0.0s\n[CV] C=0.1, gamma=0.01 ...............................................\n[CV] ................... C=0.1, gamma=0.01, score=0.637, total=   0.0s\n[CV] C=0.1, gamma=0.01 ...............................................\n[CV] ................... C=0.1, gamma=0.01, score=0.625, total=   0.0s\n[CV] C=0.1, gamma=0.01 ...............................................\n[CV] ................... C=0.1, gamma=0.01, score=0.633, total=   0.0s[Parallel(n_jobs=1)]: Using backend SequentialBackend with 1 concurrent workers.\n[Parallel(n_jobs=1)]: Done   1 out of   1 | elapsed:    0.0s remaining:    0.0s\n[Parallel(n_jobs=1)]: Done   2 out of   2 | elapsed:    0.0s remaining:    0.0s\n\n[CV] C=0.1, gamma=0.01 ...............................................\n[CV] ................... C=0.1, gamma=0.01, score=0.633, total=   0.0s\n[CV] C=0.1, gamma=0.001 ..............................................\n[CV] .................. C=0.1, gamma=0.001, score=0.637, total=   0.0s\n[CV] C=0.1, gamma=0.001 ..............................................\n[CV] .................. C=0.1, gamma=0.001, score=0.637, total=   0.0s\n[CV] C=0.1, gamma=0.001 ..............................................\n[CV] .................. C=0.1, gamma=0.001, score=0.625, total=   0.0s\n[CV] C=0.1, gamma=0.001 ..............................................\n[CV] .................. C=0.1, gamma=0.001, score=0.633, total=   0.0s\n[CV] C=0.1, gamma=0.001 ..............................................\n[CV] .................. C=0.1, gamma=0.001, score=0.633, total=   0.0s\n[CV] C=0.1, gamma=0.0001 .............................................\n[CV] ................. C=0.1, gamma=0.0001, score=0.887, total=   0.0s\n[CV] C=0.1, gamma=0.0001 .............................................\n[CV] ................. C=0.1, gamma=0.0001, score=0.938, total=   0.0s\n[CV] C=0.1, gamma=0.0001 .............................................\n[CV] ................. C=0.1, gamma=0.0001, score=0.963, total=   0.0s\n[CV] C=0.1, gamma=0.0001 .............................................\n[CV] ................. C=0.1, gamma=0.0001, score=0.962, total=   0.0s\n[CV] C=0.1, gamma=0.0001 .............................................\n[CV] ................. C=0.1, gamma=0.0001, score=0.886, total=   0.0s\n[CV] C=1, gamma=1 ....................................................\n[CV] ........................ C=1, gamma=1, score=0.637, total=   0.0s\n[CV] C=1, gamma=1 ....................................................\n[CV] ........................ C=1, gamma=1, score=0.637, total=   0.0s\n[CV] C=1, gamma=1 ....................................................\n[CV] ........................ C=1, gamma=1, score=0.625, total=   0.0s\n[CV] C=1, gamma=1 ....................................................\n[CV] ........................ C=1, gamma=1, score=0.633, total=   0.0s\n[CV] C=1, gamma=1 ....................................................\n[CV] ........................ C=1, gamma=1, score=0.633, total=   0.0s\n[CV] C=1, gamma=0.1 ..................................................\n[CV] ...................... C=1, gamma=0.1, score=0.637, total=   0.0s\n[CV] C=1, gamma=0.1 ..................................................\n[CV] ...................... C=1, gamma=0.1, score=0.637, total=   0.0s\n[CV] C=1, gamma=0.1 ..................................................\n[CV] ...................... C=1, gamma=0.1, score=0.625, total=   0.0s\n[CV] C=1, gamma=0.1 ..................................................\n[CV] ...................... C=1, gamma=0.1, score=0.633, total=   0.0s\n[CV] C=1, gamma=0.1 ..................................................\n[CV] ...................... C=1, gamma=0.1, score=0.633, total=   0.0s\n[CV] C=1, gamma=0.01 .................................................\n[CV] ..................... C=1, gamma=0.01, score=0.637, total=   0.0s\n[CV] C=1, gamma=0.01 .................................................\n[CV] ..................... C=1, gamma=0.01, score=0.637, total=   0.0s\n[CV] C=1, gamma=0.01 .................................................\n[CV] ..................... C=1, gamma=0.01, score=0.625, total=   0.0s\n[CV] C=1, gamma=0.01 .................................................\n[CV] ..................... C=1, gamma=0.01, score=0.633, total=   0.0s\n[CV] C=1, gamma=0.01 .................................................\n[CV] ..................... C=1, gamma=0.01, score=0.633, total=   0.0s\n[CV] C=1, gamma=0.001 ................................................\n[CV] .................... C=1, gamma=0.001, score=0.900, total=   0.0s\n[CV] C=1, gamma=0.001 ................................................\n[CV] .................... C=1, gamma=0.001, score=0.912, total=   0.0s\n[CV] C=1, gamma=0.001 ................................................\n[CV] .................... C=1, gamma=0.001, score=0.925, total=   0.0s\n[CV] C=1, gamma=0.001 ................................................\n[CV] .................... C=1, gamma=0.001, score=0.962, total=   0.0s\n[CV] C=1, gamma=0.001 ................................................\n[CV] .................... C=1, gamma=0.001, score=0.937, total=   0.0s\n[CV] C=1, gamma=0.0001 ...............................................\n[CV] ................... C=1, gamma=0.0001, score=0.912, total=   0.0s\n[CV] C=1, gamma=0.0001 ...............................................\n[CV] ................... C=1, gamma=0.0001, score=0.950, total=   0.0s\n[CV] C=1, gamma=0.0001 ...............................................\n[CV] ................... C=1, gamma=0.0001, score=0.975, total=   0.0s\n[CV] C=1, gamma=0.0001 ...............................................\n[CV] ................... C=1, gamma=0.0001, score=0.962, total=   0.0s\n[CV] C=1, gamma=0.0001 ...............................................\n[CV] ................... C=1, gamma=0.0001, score=0.937, total=   0.0s\n[CV] C=10, gamma=1 ...................................................\n[CV] ....................... C=10, gamma=1, score=0.637, total=   0.0s\n[CV] C=10, gamma=1 ...................................................\n[CV] ....................... C=10, gamma=1, score=0.637, total=   0.0s\n[CV] C=10, gamma=1 ...................................................\n[CV] ....................... C=10, gamma=1, score=0.625, total=   0.0s\n[CV] C=10, gamma=1 ...................................................\n[CV] ....................... C=10, gamma=1, score=0.633, total=   0.0s\n[CV] C=10, gamma=1 ...................................................\n[CV] ....................... C=10, gamma=1, score=0.633, total=   0.0s\n[CV] C=10, gamma=0.1 .................................................\n[CV] ..................... C=10, gamma=0.1, score=0.637, total=   0.0s\n[CV] C=10, gamma=0.1 .................................................\n[CV] ..................... C=10, gamma=0.1, score=0.637, total=   0.0s\n[CV] C=10, gamma=0.1 .................................................\n[CV] ..................... C=10, gamma=0.1, score=0.625, total=   0.0s\n[CV] C=10, gamma=0.1 .................................................\n[CV] ..................... C=10, gamma=0.1, score=0.633, total=   0.0s\n[CV] C=10, gamma=0.1 .................................................\n[CV] ..................... C=10, gamma=0.1, score=0.633, total=   0.0s\n[CV] C=10, gamma=0.01 ................................................\n[CV] .................... C=10, gamma=0.01, score=0.637, total=   0.0s\n[CV] C=10, gamma=0.01 ................................................\n[CV] .................... C=10, gamma=0.01, score=0.637, total=   0.0s\n[CV] C=10, gamma=0.01 ................................................\n[CV] .................... C=10, gamma=0.01, score=0.613, total=   0.0s\n[CV] C=10, gamma=0.01 ................................................\n[CV] .................... C=10, gamma=0.01, score=0.633, total=   0.0s\n[CV] C=10, gamma=0.01 ................................................\n[CV] .................... C=10, gamma=0.01, score=0.633, total=   0.0s\n[CV] C=10, gamma=0.001 ...............................................\n[CV] ................... C=10, gamma=0.001, score=0.887, total=   0.0s\n[CV] C=10, gamma=0.001 ...............................................\n[CV] ................... C=10, gamma=0.001, score=0.912, total=   0.0s\n[CV] C=10, gamma=0.001 ...............................................\n[CV] ................... C=10, gamma=0.001, score=0.900, total=   0.0s\n[CV] C=10, gamma=0.001 ...............................................\n[CV] ................... C=10, gamma=0.001, score=0.937, total=   0.0s\n[CV] C=10, gamma=0.001 ...............................................\n[CV] ................... C=10, gamma=0.001, score=0.924, total=   0.0s\n[CV] C=10, gamma=0.0001 ..............................................\n[CV] .................. C=10, gamma=0.0001, score=0.950, total=   0.0s\n[CV] C=10, gamma=0.0001 ..............................................\n[CV] .................. C=10, gamma=0.0001, score=0.912, total=   0.0s\n[CV] C=10, gamma=0.0001 ..............................................\n[CV] .................. C=10, gamma=0.0001, score=0.975, total=   0.0s\n[CV] C=10, gamma=0.0001 ..............................................\n[CV] .................. C=10, gamma=0.0001, score=0.949, total=   0.0s\n[CV] C=10, gamma=0.0001 ..............................................\n[CV] .................. C=10, gamma=0.0001, score=0.949, total=   0.0s\n[CV] C=100, gamma=1 ..................................................\n[CV] ...................... C=100, gamma=1, score=0.637, total=   0.0s\n[CV] C=100, gamma=1 ..................................................\n[CV] ...................... C=100, gamma=1, score=0.637, total=   0.0s\n[CV] C=100, gamma=1 ..................................................\n[CV] ...................... C=100, gamma=1, score=0.625, total=   0.0s\n[CV] C=100, gamma=1 ..................................................\n[CV] ...................... C=100, gamma=1, score=0.633, total=   0.0s\n[CV] C=100, gamma=1 ..................................................\n[CV] ...................... C=100, gamma=1, score=0.633, total=   0.0s\n[CV] C=100, gamma=0.1 ................................................\n[CV] .................... C=100, gamma=0.1, score=0.637, total=   0.0s\n[CV] C=100, gamma=0.1 ................................................\n[CV] .................... C=100, gamma=0.1, score=0.637, total=   0.0s\n[CV] C=100, gamma=0.1 ................................................\n[CV] .................... C=100, gamma=0.1, score=0.625, total=   0.0s\n[CV] C=100, gamma=0.1 ................................................\n[CV] .................... C=100, gamma=0.1, score=0.633, total=   0.0s\n[CV] C=100, gamma=0.1 ................................................\n[CV] .................... C=100, gamma=0.1, score=0.633, total=   0.0s\n[CV] C=100, gamma=0.01 ...............................................\n[CV] ................... C=100, gamma=0.01, score=0.637, total=   0.0s\n[CV] C=100, gamma=0.01 ...............................................\n[CV] ................... C=100, gamma=0.01, score=0.637, total=   0.0s\n[CV] C=100, gamma=0.01 ...............................................\n[CV] ................... C=100, gamma=0.01, score=0.613, total=   0.0s\n[CV] C=100, gamma=0.01 ...............................................\n[CV] ................... C=100, gamma=0.01, score=0.633, total=   0.0s\n[CV] C=100, gamma=0.01 ...............................................\n[CV] ................... C=100, gamma=0.01, score=0.633, total=   0.0s\n[CV] C=100, gamma=0.001 ..............................................\n[CV] .................. C=100, gamma=0.001, score=0.887, total=   0.0s\n[CV] C=100, gamma=0.001 ..............................................\n[CV] .................. C=100, gamma=0.001, score=0.912, total=   0.0s\n[CV] C=100, gamma=0.001 ..............................................\n[CV] .................. C=100, gamma=0.001, score=0.900, total=   0.0s\n[CV] C=100, gamma=0.001 ..............................................\n[CV] .................. C=100, gamma=0.001, score=0.937, total=   0.0s\n[CV] C=100, gamma=0.001 ..............................................\n[CV] .................. C=100, gamma=0.001, score=0.924, total=   0.0s\n[CV] C=100, gamma=0.0001 .............................................\n[CV] ................. C=100, gamma=0.0001, score=0.925, total=   0.0s\n[CV] C=100, gamma=0.0001 .............................................\n[CV] ................. C=100, gamma=0.0001, score=0.912, total=   0.0s\n[CV] C=100, gamma=0.0001 .............................................\n[CV] ................. C=100, gamma=0.0001, score=0.975, total=   0.0s\n[CV] C=100, gamma=0.0001 .............................................\n[CV] ................. C=100, gamma=0.0001, score=0.937, total=   0.0s\n[CV] C=100, gamma=0.0001 .............................................\n[CV] ................. C=100, gamma=0.0001, score=0.949, total=   0.0s\n[CV] C=1000, gamma=1 .................................................\n[CV] ..................... C=1000, gamma=1, score=0.637, total=   0.0s\n[CV] C=1000, gamma=1 .................................................\n[CV] ..................... C=1000, gamma=1, score=0.637, total=   0.0s\n[CV] C=1000, gamma=1 .................................................\n[CV] ..................... C=1000, gamma=1, score=0.625, total=   0.0s\n[CV] C=1000, gamma=1 .................................................\n[CV] ..................... C=1000, gamma=1, score=0.633, total=   0.0s\n[CV] C=1000, gamma=1 .................................................\n[CV] ..................... C=1000, gamma=1, score=0.633, total=   0.0s\n[CV] C=1000, gamma=0.1 ...............................................\n[CV] ................... C=1000, gamma=0.1, score=0.637, total=   0.0s\n[CV] C=1000, gamma=0.1 ...............................................\n[CV] ................... C=1000, gamma=0.1, score=0.637, total=   0.0s\n[CV] C=1000, gamma=0.1 ...............................................\n[CV] ................... C=1000, gamma=0.1, score=0.625, total=   0.0s\n[CV] C=1000, gamma=0.1 ...............................................\n[CV] ................... C=1000, gamma=0.1, score=0.633, total=   0.0s\n[CV] C=1000, gamma=0.1 ...............................................\n[CV] ................... C=1000, gamma=0.1, score=0.633, total=   0.0s\n[CV] C=1000, gamma=0.01 ..............................................\n[CV] .................. C=1000, gamma=0.01, score=0.637, total=   0.0s\n[CV] C=1000, gamma=0.01 ..............................................\n[CV] .................. C=1000, gamma=0.01, score=0.637, total=   0.0s\n[CV] C=1000, gamma=0.01 ..............................................\n[CV] .................. C=1000, gamma=0.01, score=0.613, total=   0.0s\n[CV] C=1000, gamma=0.01 ..............................................\n[CV] .................. C=1000, gamma=0.01, score=0.633, total=   0.0s\n[CV] C=1000, gamma=0.01 ..............................................\n[CV] .................. C=1000, gamma=0.01, score=0.633, total=   0.0s\n[CV] C=1000, gamma=0.001 .............................................\n[CV] ................. C=1000, gamma=0.001, score=0.887, total=   0.0s\n[CV] C=1000, gamma=0.001 .............................................\n[CV] ................. C=1000, gamma=0.001, score=0.912, total=   0.0s\n[CV] C=1000, gamma=0.001 .............................................\n[CV] ................. C=1000, gamma=0.001, score=0.900, total=   0.0s\n[CV] C=1000, gamma=0.001 .............................................\n[CV] ................. C=1000, gamma=0.001, score=0.937, total=   0.0s\n[CV] C=1000, gamma=0.001 .............................................\n[CV] ................. C=1000, gamma=0.001, score=0.924, total=   0.0s\n[CV] C=1000, gamma=0.0001 ............................................\n[CV] ................ C=1000, gamma=0.0001, score=0.938, total=   0.0s\n[CV] C=1000, gamma=0.0001 ............................................\n[CV] ................ C=1000, gamma=0.0001, score=0.912, total=   0.0s\n[CV] C=1000, gamma=0.0001 ............................................\n[CV] ................ C=1000, gamma=0.0001, score=0.963, total=   0.0s\n[CV] C=1000, gamma=0.0001 ............................................\n[CV] ................ C=1000, gamma=0.0001, score=0.924, total=   0.0s\n[CV] C=1000, gamma=0.0001 ............................................\n[CV] ................ C=1000, gamma=0.0001, score=0.962, total=   0.0s\n[Parallel(n_jobs=1)]: Done 125 out of 125 | elapsed:    1.6s finished\n"
    },
    {
     "output_type": "execute_result",
     "data": {
      "text/plain": "GridSearchCV(estimator=SVC(),\n             param_grid={'C': [0.1, 1, 10, 100, 1000],\n                         'gamma': [1, 0.1, 0.01, 0.001, 0.0001]},\n             verbose=3)"
     },
     "metadata": {},
     "execution_count": 31
    }
   ],
   "source": [
    "grid.fit(X_train,y_train)"
   ]
  },
  {
   "cell_type": "code",
   "execution_count": 32,
   "metadata": {},
   "outputs": [
    {
     "output_type": "execute_result",
     "data": {
      "text/plain": "{'C': 1, 'gamma': 0.0001}"
     },
     "metadata": {},
     "execution_count": 32
    }
   ],
   "source": [
    "grid.best_params_"
   ]
  },
  {
   "cell_type": "code",
   "execution_count": 33,
   "metadata": {},
   "outputs": [
    {
     "output_type": "execute_result",
     "data": {
      "text/plain": "SVC(C=1, gamma=0.0001)"
     },
     "metadata": {},
     "execution_count": 33
    }
   ],
   "source": [
    "grid.best_estimator_"
   ]
  },
  {
   "cell_type": "code",
   "execution_count": 34,
   "metadata": {},
   "outputs": [],
   "source": [
    "grid_predictions = grid.predict(X_test)"
   ]
  },
  {
   "cell_type": "code",
   "execution_count": 35,
   "metadata": {
    "tags": []
   },
   "outputs": [
    {
     "output_type": "stream",
     "name": "stdout",
     "text": "[[ 59   7]\n [  4 101]]\n\n\n              precision    recall  f1-score   support\n\n           0       0.94      0.89      0.91        66\n           1       0.94      0.96      0.95       105\n\n    accuracy                           0.94       171\n   macro avg       0.94      0.93      0.93       171\nweighted avg       0.94      0.94      0.94       171\n\n"
    }
   ],
   "source": [
    "print(confusion_matrix(y_test,grid_predictions))\n",
    "print('\\n')\n",
    "print(classification_report(y_test,grid_predictions))"
   ]
  },
  {
   "cell_type": "code",
   "execution_count": null,
   "metadata": {},
   "outputs": [],
   "source": []
  }
 ]
}